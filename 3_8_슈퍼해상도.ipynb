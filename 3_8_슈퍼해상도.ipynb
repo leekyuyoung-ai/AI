{
  "nbformat": 4,
  "nbformat_minor": 0,
  "metadata": {
    "colab": {
      "provenance": []
    },
    "kernelspec": {
      "name": "python3",
      "display_name": "Python 3"
    },
    "language_info": {
      "name": "python"
    }
  },
  "cells": [
    {
      "cell_type": "code",
      "execution_count": null,
      "metadata": {
        "id": "n4G8S8TO3fgA"
      },
      "outputs": [],
      "source": []
    },
    {
      "cell_type": "markdown",
      "source": [
        "- SRCNN - Super Resolution Convolutional Neural netrwork\n",
        "  - 최초의 cnn 기반 초해상도 모델\n",
        "  - 입력 이미지를 업샘플링 후 cnn을 적용해서 고해상도 이미지를 생성\n",
        "  - 학습과정이 단순하지만 성능이 비교적 제한\n",
        "- GAN 기반 모델(SRGANm ESRGAN)\n",
        "  - 생성적 적대 신경망(GAN)을 사용해서 초해상도를 학습\n",
        "  - 생성자와 판별자를 경쟁적으로 학습시켜 더 세밀하고 사실적인 결과를 얻음\n",
        "  - 최근의 초해상도 연구에서 가장 많이 사용  \n"
      ],
      "metadata": {
        "id": "fFl1ViZr5N2y"
      }
    },
    {
      "cell_type": "markdown",
      "source": [
        "- SRCNN VS GAN 기반 모델 비교\n",
        "  - 비교항목   |       SRCNN                   |           GAN\n",
        "  -  구조      |     단순한 CNN                |          생성자 + 판별자\n",
        "  -  속도      |     빠름                      |          느림\n",
        "  - 해상도 개선|     비교적 단순한 업스케일링  |        디데일까지 세밀한 초해상도\n",
        "  - 학습방식   |      L2 손실(MSE) 기반        |        GAN + Peceptual Loss"
      ],
      "metadata": {
        "id": "4WIkHl-352c6"
      }
    },
    {
      "cell_type": "markdown",
      "source": [
        "SRCNN 수퍼 해상도 코드"
      ],
      "metadata": {
        "id": "Ugejq9o96tPq"
      }
    },
    {
      "cell_type": "code",
      "source": [
        "# 필요 라이브러리 설치\n",
        "import tensorflow as tf\n",
        "from tensorflow import keras\n",
        "from tensorflow.keras import layers\n",
        "import cv2\n",
        "import matplotlib.pyplot as plt\n",
        "import numpy as np"
      ],
      "metadata": {
        "id": "wMFPMoq17ABb"
      },
      "execution_count": 1,
      "outputs": []
    },
    {
      "cell_type": "code",
      "source": [
        "def build_srcnn():\n",
        "  model = keras.Sequential([\n",
        "    layers.Conv2D(64, (9,9),  padding='same', activation='relu', input_shape=(None,None,3)),\n",
        "    layers.Conv2D(32, (5,5),  padding='same', activation='relu'),\n",
        "    layers.Conv2D(3, (5,5),  padding='same', activation='linear'),\n",
        "  ])\n",
        "  return model"
      ],
      "metadata": {
        "id": "Ut49u8p77BNS"
      },
      "execution_count": 2,
      "outputs": []
    },
    {
      "cell_type": "code",
      "source": [
        "# 데이터 전처리 및 이미지 로딩\n",
        "def load_and_preprocess_image(img_path):\n",
        "  img = cv2.imread(img_path)\n",
        "  img = cv2.cvtColor(img, cv2.COLOR_BGR2RGB)\n",
        "  img = cv2.resize(img, (img.shape[1]//2,img.shape[0]//2), interpolation=cv2.INTER_CUBIC) # 저해상도 변환\n",
        "  img = cv2.resize(img, (img.shape[1]*2,img.shape[0]*2), interpolation=cv2.INTER_CUBIC) # 원래 크기로 복원\n",
        "  img = img.astype(np.float32) / 255.0 # 정규화\n",
        "  return np.expand_dims(img, axis=0)  # 배치 차원 추가"
      ],
      "metadata": {
        "id": "mXKNNskH7mL6"
      },
      "execution_count": 3,
      "outputs": []
    },
    {
      "cell_type": "code",
      "source": [
        "# 이미지 가져오기\n",
        "import requests\n",
        "from PIL import Image\n",
        "from io import BytesIO\n",
        "image_url = 'https://upload.wikimedia.org/wikipedia/commons/thumb/3/3a/Cat03.jpg/800px-Cat03.jpg'"
      ],
      "metadata": {
        "id": "2JjCDOKV9wOj"
      },
      "execution_count": null,
      "outputs": []
    },
    {
      "cell_type": "code",
      "source": [
        "# 모델 학습 및 이미지 변환\n",
        "# 모델 생성\n",
        "srcnn = build_srcnn()\n",
        "srcnn.compile(optimizer='adam', loss='mean_squared_error')\n",
        "\n",
        "# 저해상도 이미지 로딩\n",
        "low_res_image_path=''\n",
        "low_res_img = load_and_preprocess_image(low_res_image_path)\n",
        "\n",
        "# srcnn으로 고해상도 이미지  생성\n",
        "hight_res_img = srcnn.predict(low_res_img)[0]\n",
        "\n",
        "# 결과 시각화\n",
        "plt.figure(figsize=(10,5))\n",
        "plt.subplot(1,2,1)\n",
        "plt.title(\"low Resolution\")\n",
        "plt.imshow(low_res_img[0])\n",
        "plt.subplot(1,2,2)\n",
        "plt.title('hight resolution')\n",
        "plt.imshow(np.clip(hight_res_img,0,1))\n",
        "plt.show()\n",
        "\n"
      ],
      "metadata": {
        "id": "0rYptLc18WHK"
      },
      "execution_count": null,
      "outputs": []
    }
  ]
}