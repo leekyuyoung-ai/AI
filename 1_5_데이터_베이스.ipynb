{
  "nbformat": 4,
  "nbformat_minor": 0,
  "metadata": {
    "colab": {
      "provenance": []
    },
    "kernelspec": {
      "name": "python3",
      "display_name": "Python 3"
    },
    "language_info": {
      "name": "python"
    }
  },
  "cells": [
    {
      "cell_type": "markdown",
      "source": [
        "- 관계형 데이터베이스\n",
        "  - 형식이 정해진 데이터 즉 테이블 구조\n",
        "  - 판다스와 거의 비슷한 구조\n",
        "- No SQL\n",
        "  - json형태로 되어 있는구조\n",
        "- SQLite\n",
        "  - 코렙에서 로컬파일로 작동하는 간단한 데이터 베이스  "
      ],
      "metadata": {
        "id": "_Uf1rVdxxySv"
      }
    },
    {
      "cell_type": "code",
      "source": [
        "import sqlite3"
      ],
      "metadata": {
        "id": "qls5WYAvx6tB"
      },
      "execution_count": 1,
      "outputs": []
    },
    {
      "cell_type": "code",
      "source": [
        "# 데이터 베이스 시스템에 접속\n",
        "conn = sqlite3.connect('example.db')"
      ],
      "metadata": {
        "id": "SlWhGqq_y-HY"
      },
      "execution_count": 2,
      "outputs": []
    },
    {
      "cell_type": "code",
      "source": [
        "# CRUD(Create Read Update Delete)\n",
        "cursor = conn.cursor()"
      ],
      "metadata": {
        "id": "02x5nu6YzJuQ"
      },
      "execution_count": 3,
      "outputs": []
    },
    {
      "cell_type": "code",
      "source": [
        "# 테이블 생성 쿼리\n",
        "sql = '''create table if not exists users(\n",
        "  id integer primary key autoincrement,\n",
        "  name text,\n",
        "  age integer\n",
        ")'''\n",
        "\n",
        "cursor.execute(sql)"
      ],
      "metadata": {
        "colab": {
          "base_uri": "https://localhost:8080/"
        },
        "id": "rfryyN8KziWw",
        "outputId": "4540bc4f-8630-4756-8d78-3910bb2b3df5"
      },
      "execution_count": 4,
      "outputs": [
        {
          "output_type": "execute_result",
          "data": {
            "text/plain": [
              "<sqlite3.Cursor at 0x7b1b9c70a640>"
            ]
          },
          "metadata": {},
          "execution_count": 4
        }
      ]
    },
    {
      "cell_type": "code",
      "source": [
        "# 데이터를 테이블에 넣는다(생성)  - insert\n",
        "sql = 'insert into users(name, age) values(?, ?)'\n",
        "cursor.execute(sql, ('홍길동', 20))"
      ],
      "metadata": {
        "colab": {
          "base_uri": "https://localhost:8080/"
        },
        "id": "ItNFy22x0axY",
        "outputId": "07a55416-e483-4c11-aede-f98bc3102fe6"
      },
      "execution_count": 5,
      "outputs": [
        {
          "output_type": "execute_result",
          "data": {
            "text/plain": [
              "<sqlite3.Cursor at 0x7b1b9c70a640>"
            ]
          },
          "metadata": {},
          "execution_count": 5
        }
      ]
    },
    {
      "cell_type": "code",
      "source": [
        "# 데이터 조회\n",
        "sql = 'select * from users'\n",
        "cursor.execute(sql)\n",
        "rows = cursor.fetchall()\n",
        "for row in rows:\n",
        "  print(row)"
      ],
      "metadata": {
        "colab": {
          "base_uri": "https://localhost:8080/"
        },
        "id": "XiWsYKxT1OlH",
        "outputId": "e6bb2344-cd0c-4f23-997a-349eb6d90d4a"
      },
      "execution_count": 6,
      "outputs": [
        {
          "output_type": "stream",
          "name": "stdout",
          "text": [
            "('홍길동', 20)\n"
          ]
        }
      ]
    },
    {
      "cell_type": "code",
      "source": [
        "# 연결 닫는다..\n",
        "# 데이터추가한것은 실제 반영된게 아니라 임시로 반영되었음\n",
        "# 실제 반영하려면. commit  커밋을 해야..\n",
        "conn.commit()\n",
        "conn.close()"
      ],
      "metadata": {
        "id": "9SRxa6tS1fII"
      },
      "execution_count": 7,
      "outputs": []
    },
    {
      "cell_type": "code",
      "source": [],
      "metadata": {
        "id": "gE6t9R-T1s0g"
      },
      "execution_count": null,
      "outputs": []
    }
  ]
}