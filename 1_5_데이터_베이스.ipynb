{
  "nbformat": 4,
  "nbformat_minor": 0,
  "metadata": {
    "colab": {
      "provenance": []
    },
    "kernelspec": {
      "name": "python3",
      "display_name": "Python 3"
    },
    "language_info": {
      "name": "python"
    }
  },
  "cells": [
    {
      "cell_type": "markdown",
      "source": [
        "- 관계형 데이터베이스\n",
        "  - 형식이 정해진 데이터 즉 테이블 구조\n",
        "  - 판다스와 거의 비슷한 구조\n",
        "- No SQL\n",
        "  - json형태로 되어 있는구조\n",
        "- SQLite\n",
        "  - 코렙에서 로컬파일로 작동하는 간단한 데이터 베이스  "
      ],
      "metadata": {
        "id": "_Uf1rVdxxySv"
      }
    },
    {
      "cell_type": "code",
      "source": [
        "import sqlite3  # 서버 설치라고 보면 됩니다"
      ],
      "metadata": {
        "id": "qls5WYAvx6tB"
      },
      "execution_count": 1,
      "outputs": []
    },
    {
      "cell_type": "code",
      "source": [
        "# 데이터 베이스 시스템에 접속\n",
        "conn = sqlite3.connect('/content/drive/MyDrive/DB/example.db')  # 스키마.. 데이터베이파일 생성"
      ],
      "metadata": {
        "id": "SlWhGqq_y-HY"
      },
      "execution_count": 2,
      "outputs": []
    },
    {
      "cell_type": "code",
      "source": [
        "# 시스템 접속후에 사용가능한 상태로 만들기\n",
        "# CRUD(Create Read Update Delete)\n",
        "cursor = conn.cursor()"
      ],
      "metadata": {
        "id": "02x5nu6YzJuQ"
      },
      "execution_count": 3,
      "outputs": []
    },
    {
      "cell_type": "code",
      "source": [
        "# 테이블 생성 쿼리\n",
        "sql = '''create table if not exists users(\n",
        "  id integer primary key autoincrement,\n",
        "  name text,\n",
        "  age integer\n",
        ")'''\n",
        "\n",
        "cursor.execute(sql)"
      ],
      "metadata": {
        "colab": {
          "base_uri": "https://localhost:8080/"
        },
        "id": "rfryyN8KziWw",
        "outputId": "bc2bf97d-d4d8-4ac6-b6bc-1f56982f9019"
      },
      "execution_count": 12,
      "outputs": [
        {
          "output_type": "execute_result",
          "data": {
            "text/plain": [
              "<sqlite3.Cursor at 0x7b1b882f18c0>"
            ]
          },
          "metadata": {},
          "execution_count": 12
        }
      ]
    },
    {
      "cell_type": "code",
      "source": [
        "# 데이터를 테이블에 넣는다(생성)  - insert\n",
        "sql = 'insert into users(name, age) values(?, ?)'\n",
        "cursor.execute(sql, ('홍길동', 20))"
      ],
      "metadata": {
        "colab": {
          "base_uri": "https://localhost:8080/"
        },
        "id": "ItNFy22x0axY",
        "outputId": "67d7fa01-4bf1-412b-e5cb-1a44a2a37365"
      },
      "execution_count": 13,
      "outputs": [
        {
          "output_type": "execute_result",
          "data": {
            "text/plain": [
              "<sqlite3.Cursor at 0x7b1b882f18c0>"
            ]
          },
          "metadata": {},
          "execution_count": 13
        }
      ]
    },
    {
      "cell_type": "code",
      "source": [
        "# 데이터 조회\n",
        "sql = 'select * from users'\n",
        "cursor.execute(sql)\n",
        "rows = cursor.fetchall()\n",
        "for row in rows:\n",
        "  print(row)"
      ],
      "metadata": {
        "colab": {
          "base_uri": "https://localhost:8080/"
        },
        "id": "XiWsYKxT1OlH",
        "outputId": "f2fc93fa-0aa9-4740-c860-cac655603360"
      },
      "execution_count": 4,
      "outputs": [
        {
          "output_type": "stream",
          "name": "stdout",
          "text": [
            "(1, '홍길동', 20)\n"
          ]
        }
      ]
    },
    {
      "cell_type": "code",
      "source": [
        "# 연결 닫는다..\n",
        "# 데이터추가한것은 실제 반영된게 아니라 임시로 반영되었음\n",
        "# 실제 반영하려면. commit  커밋을 해야..\n",
        "conn.commit()\n",
        "conn.close()"
      ],
      "metadata": {
        "id": "9SRxa6tS1fII"
      },
      "execution_count": 5,
      "outputs": []
    },
    {
      "cell_type": "markdown",
      "source": [
        "데이터베이스접속-커서오픈 - 작업(insert,update,delete,select) -  커밋/접속종료"
      ],
      "metadata": {
        "id": "GVunLblI32nn"
      }
    },
    {
      "cell_type": "markdown",
      "source": [
        "기존 테이블에 데이터를 더 추가하려면?"
      ],
      "metadata": {
        "id": "APs7S4Vf3xjv"
      }
    },
    {
      "cell_type": "code",
      "source": [
        "conn = sqlite3.connect('/content/drive/MyDrive/DB/example.db')\n",
        "cursor = conn.cursor()\n",
        "sql = 'insert into users(name, age) values(?, ?)'\n",
        "cursor.execute(sql, ('김길동', 25))  # 메모리에 임시로 저장\n",
        "conn.commit()  # 실제 저장\n",
        "conn.close()"
      ],
      "metadata": {
        "id": "01uXbq403Myu"
      },
      "execution_count": 6,
      "outputs": []
    },
    {
      "cell_type": "code",
      "source": [
        "# 한번 더 저장\n",
        "conn = sqlite3.connect('/content/drive/MyDrive/DB/example.db')\n",
        "cursor = conn.cursor()\n",
        "sql = 'insert into users(name, age) values(?, ?)'\n",
        "cursor.execute(sql, ('규영', 15))  # 메모리에 임시로 저장\n",
        "conn.commit()  # 실제 저장\n",
        "conn.close()"
      ],
      "metadata": {
        "id": "PGvC232k4f9e"
      },
      "execution_count": 7,
      "outputs": []
    },
    {
      "cell_type": "code",
      "source": [
        "# 데이터베이스중에 users 테이블에 저장된 모든 데이터 조회\n",
        "conn = sqlite3.connect('/content/drive/MyDrive/DB/example.db')\n",
        "cursor = conn.cursor()\n",
        "sql = 'select * from users'\n",
        "cursor.execute(sql)  # sql 명령어를 실행( 추가 삭제 업데이트)만 하면되지만 조회는 데이터를 가져와야 하기때문에\n",
        "rows = cursor.fetchall() # 데이터 를 집합형태로 가져오는 명령어가 필요\n",
        "for row in rows:\n",
        "  print(row)\n"
      ],
      "metadata": {
        "colab": {
          "base_uri": "https://localhost:8080/"
        },
        "id": "f_P1-PaG44m_",
        "outputId": "4a127892-896f-400c-c370-9cd43cc5da34"
      },
      "execution_count": 8,
      "outputs": [
        {
          "output_type": "stream",
          "name": "stdout",
          "text": [
            "(1, '홍길동', 20)\n",
            "(2, '김길동', 25)\n",
            "(3, '규영', 15)\n"
          ]
        }
      ]
    },
    {
      "cell_type": "code",
      "source": [
        "# 학사관리 데이터 베이스\n",
        "# 1. 전용 데이터베이스 생성\n",
        "conn = sqlite3.connect('/content/drive/MyDrive/DB/studentsMng.db')\n",
        "cursor = conn.cursor()\n",
        "# 2. students 테이블 생성( id, name, addr, score)  아이디 이름 주소 점수(0~100)\n",
        "sql = '''create table if not exists students(\n",
        "  id integer primary key autoincrement,\n",
        "  name text,\n",
        "  addr text,\n",
        "  score integer\n",
        ")'''\n",
        "cursor.execute(sql)\n",
        "# 3. 5명 학생데이터를 넣고\n",
        "cursor.execute('insert into students(name, addr, score) values(?, ?, ?)', ('홍길동1', '서울', 90))\n",
        "cursor.execute('insert into students(name, addr, score) values(?, ?, ?)', ('홍길동2', '서울', 91))\n",
        "cursor.execute('insert into students(name, addr, score) values(?, ?, ?)', ('홍길동3', '서울', 92))\n",
        "cursor.execute('insert into students(name, addr, score) values(?, ?, ?)', ('홍길동4', '서울', 93))\n",
        "cursor.execute('insert into students(name, addr, score) values(?, ?, ?)', ('홍길동5', '서울', 94))\n",
        "# 4. 조회하기\n",
        "cursor.execute('select * from students')\n",
        "rows = cursor.fetchall()\n",
        "for row in rows:\n",
        "  print(row)\n",
        "# 5. 커밋\n",
        "conn.commit()\n",
        "# 6. 접속종료\n",
        "conn.close()"
      ],
      "metadata": {
        "colab": {
          "base_uri": "https://localhost:8080/"
        },
        "id": "Y5f90G2z5dNd",
        "outputId": "5bde7c95-4c18-4add-af93-fda701621e5c"
      },
      "execution_count": 2,
      "outputs": [
        {
          "output_type": "stream",
          "name": "stdout",
          "text": [
            "(1, '홍길동1', '서울', 90)\n",
            "(2, '홍길동2', '서울', 91)\n",
            "(3, '홍길동3', '서울', 92)\n",
            "(4, '홍길동4', '서울', 93)\n",
            "(5, '홍길동5', '서울', 94)\n"
          ]
        }
      ]
    },
    {
      "cell_type": "code",
      "source": [
        "#접속\n",
        "conn = sqlite3.connect('/content/drive/MyDrive/DB/studentsMng.db')\n",
        "cursor = conn.cursor()\n",
        "\n",
        "# 업데이트  '홍길동4', '서울', 93  -> 이순신, 부산, 100\n",
        "sql = '''update students set name=?, addr=?, score=? where id=?'''\n",
        "cursor.execute(sql, ('이순신', '부산', 100, 4))\n",
        "# 조회\n",
        "cursor.execute('select * from students')\n",
        "rows = cursor.fetchall()\n",
        "for row in rows:\n",
        "  print(row)\n",
        "\n",
        "# 접속 종료\n",
        "conn.commit()\n",
        "conn.close()"
      ],
      "metadata": {
        "colab": {
          "base_uri": "https://localhost:8080/"
        },
        "id": "TuZBIF2nAEpU",
        "outputId": "4ef04ca1-6d74-4531-a283-2f9ced775f31"
      },
      "execution_count": 4,
      "outputs": [
        {
          "output_type": "stream",
          "name": "stdout",
          "text": [
            "(1, '홍길동1', '서울', 90)\n",
            "(2, '홍길동2', '서울', 91)\n",
            "(3, '홍길동3', '서울', 92)\n",
            "(4, '이순신', '부산', 100)\n",
            "(5, '홍길동5', '서울', 94)\n"
          ]
        }
      ]
    },
    {
      "cell_type": "code",
      "source": [
        "# 접속\n",
        "conn = sqlite3.connect('/content/drive/MyDrive/DB/studentsMng.db')\n",
        "cursor = conn.cursor()\n",
        "\n",
        "sql = '''delete from students where id=?'''\n",
        "cursor.execute(sql, (5,))\n",
        "# 조회\n",
        "cursor.execute('select * from students')\n",
        "rows = cursor.fetchall()\n",
        "for row in rows:\n",
        "  print(row)\n",
        "\n",
        "# 적용/접속해제\n",
        "conn.commit()\n",
        "conn.close()"
      ],
      "metadata": {
        "colab": {
          "base_uri": "https://localhost:8080/"
        },
        "id": "0fJeoe4qB_-0",
        "outputId": "a28e5108-f6d7-4d76-b603-fe8fcdc62ca0"
      },
      "execution_count": 8,
      "outputs": [
        {
          "output_type": "stream",
          "name": "stdout",
          "text": [
            "(1, '홍길동1', '서울', 90)\n",
            "(2, '홍길동2', '서울', 91)\n",
            "(3, '홍길동3', '서울', 92)\n",
            "(4, '이순신', '부산', 100)\n"
          ]
        }
      ]
    },
    {
      "cell_type": "code",
      "source": [
        "# Create\n",
        "def create_student(name, addr, score):\n",
        "  conn = sqlite3.connect('/content/drive/MyDrive/DB/studentsMng.db')\n",
        "  cursor = conn.cursor()\n",
        "\n",
        "  sql = '''insert into students(name, addr, score) values(?, ?, ?)'''\n",
        "  cursor.execute(sql, (name, addr, score))\n",
        "\n",
        "  conn.commit()\n",
        "  conn.close()\n",
        "# Read\n",
        "import numpy as np\n",
        "def read_students():\n",
        "  conn = sqlite3.connect('/content/drive/MyDrive/DB/studentsMng.db')\n",
        "  cursor = conn.cursor()\n",
        "\n",
        "  sql = '''select * from students'''\n",
        "  cursor.execute(sql)\n",
        "  rows = cursor.fetchall()\n",
        "\n",
        "  conn.commit()\n",
        "  conn.close()\n",
        "  return[row for row in rows]\n",
        "\n",
        "\n",
        "# Update\n",
        "def update_student(name, addr, score, id):\n",
        "  conn = sqlite3.connect('/content/drive/MyDrive/DB/studentsMng.db')\n",
        "  cursor = conn.cursor()\n",
        "\n",
        "  sql = '''update students set name=?, addr=?, score=? where id=?'''\n",
        "  cursor.execute(sql, (name, addr, score, id))\n",
        "\n",
        "  conn.commit()\n",
        "  conn.close()\n",
        "# Delete\n",
        "def delete_student(id):\n",
        "  conn = sqlite3.connect('/content/drive/MyDrive/DB/studentsMng.db')\n",
        "  cursor = conn.cursor()\n",
        "\n",
        "  sql = '''delete from students where id=?'''\n",
        "  cursor.execute(sql, (id,))\n",
        "\n",
        "  conn.commit()\n",
        "  conn.close()"
      ],
      "metadata": {
        "id": "G8YX665BDFLW"
      },
      "execution_count": 22,
      "outputs": []
    },
    {
      "cell_type": "code",
      "source": [
        "# 사용\n",
        "read_students()"
      ],
      "metadata": {
        "colab": {
          "base_uri": "https://localhost:8080/"
        },
        "collapsed": true,
        "id": "RcfPTL9iEYo1",
        "outputId": "f13ff4db-e6f0-49eb-9ab2-fc020b2b92bf"
      },
      "execution_count": 23,
      "outputs": [
        {
          "output_type": "execute_result",
          "data": {
            "text/plain": [
              "[(1, '홍길동1', '서울', 90),\n",
              " (2, '홍길동2', '서울', 91),\n",
              " (3, '홍길동3', '서울', 92),\n",
              " (4, '이순신', '부산', 100)]"
            ]
          },
          "metadata": {},
          "execution_count": 23
        }
      ]
    },
    {
      "cell_type": "code",
      "source": [
        "# 홍길동2--> 임꺽정  91-->100\n",
        "update_student('임꺽정', '서울', 100, 2)\n",
        "read_students()"
      ],
      "metadata": {
        "colab": {
          "base_uri": "https://localhost:8080/"
        },
        "id": "p_rKYpoEEbn7",
        "outputId": "78fbadc5-0392-4fc5-db2f-e96cb65aabf0"
      },
      "execution_count": 25,
      "outputs": [
        {
          "output_type": "execute_result",
          "data": {
            "text/plain": [
              "[(1, '홍길동1', '서울', 90),\n",
              " (2, '임꺽정', '서울', 100),\n",
              " (3, '홍길동3', '서울', 92),\n",
              " (4, '이순신', '부산', 100)]"
            ]
          },
          "metadata": {},
          "execution_count": 25
        }
      ]
    },
    {
      "cell_type": "code",
      "source": [
        "# 3번 홍길동3 삭제\n",
        "delete_student(3)\n",
        "read_students()"
      ],
      "metadata": {
        "colab": {
          "base_uri": "https://localhost:8080/"
        },
        "id": "bo1sYJLDF9aL",
        "outputId": "39f9a273-2a3f-4bf9-e267-4fb927ae0fca"
      },
      "execution_count": 26,
      "outputs": [
        {
          "output_type": "execute_result",
          "data": {
            "text/plain": [
              "[(1, '홍길동1', '서울', 90), (2, '임꺽정', '서울', 100), (4, '이순신', '부산', 100)]"
            ]
          },
          "metadata": {},
          "execution_count": 26
        }
      ]
    },
    {
      "cell_type": "code",
      "source": [
        "# 조회\n",
        "result = read_students()\n",
        "print(result[0])\n",
        "print(result[0][1])"
      ],
      "metadata": {
        "colab": {
          "base_uri": "https://localhost:8080/"
        },
        "id": "mu1H9KviGCKj",
        "outputId": "3787d9ce-ea13-4506-e18d-f7cc4f8ff845"
      },
      "execution_count": 28,
      "outputs": [
        {
          "output_type": "stream",
          "name": "stdout",
          "text": [
            "(1, '홍길동1', '서울', 90)\n",
            "홍길동1\n"
          ]
        }
      ]
    },
    {
      "cell_type": "code",
      "source": [
        "# 추가\n",
        "create_student('둘리', '대전', 19)\n",
        "read_students()"
      ],
      "metadata": {
        "colab": {
          "base_uri": "https://localhost:8080/"
        },
        "id": "1_Ju2E_fG7Us",
        "outputId": "bc77f56a-6c80-4ab5-cb15-2c78da2e8794"
      },
      "execution_count": 29,
      "outputs": [
        {
          "output_type": "execute_result",
          "data": {
            "text/plain": [
              "[(1, '홍길동1', '서울', 90),\n",
              " (2, '임꺽정', '서울', 100),\n",
              " (4, '이순신', '부산', 100),\n",
              " (6, '둘리', '대전', 19)]"
            ]
          },
          "metadata": {},
          "execution_count": 29
        }
      ]
    },
    {
      "cell_type": "markdown",
      "source": [
        "판다스와 데이터 베이스"
      ],
      "metadata": {
        "id": "6vBOvcU8Hbgk"
      }
    },
    {
      "cell_type": "code",
      "source": [
        "import pandas as pd\n",
        "df = pd.read_csv('/content/drive/MyDrive/DB/소상공인시장진흥공단_서울 개업 현황_20171016.csv',encoding='cp949')\n",
        "df.head()"
      ],
      "metadata": {
        "colab": {
          "base_uri": "https://localhost:8080/",
          "height": 206
        },
        "id": "qNFC-hA-HCq6",
        "outputId": "124979e1-3b76-4233-e6e0-d2e616d5a642"
      },
      "execution_count": 30,
      "outputs": [
        {
          "output_type": "execute_result",
          "data": {
            "text/plain": [
              "         상호명                    주소 업종대분류    업종중분류      업종소분류\n",
              "0       허술한집   서울특별시 강서구 공항동 45-89    음식       분식     라면김밥분식\n",
              "1       신풍유통    서울특별시 중구 봉래동2가 122    제조  식품가공/제조     종합식품제조\n",
              "2       옛날한과  서울특별시 양천구 신월동 115-15    음식  제과제빵떡케익      떡/한과집\n",
              "3  서울연인단팥빵본점   서울특별시 강남구 역삼동 707-9    제조  식품가공/제조  빵/과자제조-종합\n",
              "4         엔젤    서울특별시 중구 황학동 706-2    음식     유흥주점      호프/맥주"
            ],
            "text/html": [
              "\n",
              "  <div id=\"df-70df634b-e54b-416c-b76b-46a8797f7f4c\" class=\"colab-df-container\">\n",
              "    <div>\n",
              "<style scoped>\n",
              "    .dataframe tbody tr th:only-of-type {\n",
              "        vertical-align: middle;\n",
              "    }\n",
              "\n",
              "    .dataframe tbody tr th {\n",
              "        vertical-align: top;\n",
              "    }\n",
              "\n",
              "    .dataframe thead th {\n",
              "        text-align: right;\n",
              "    }\n",
              "</style>\n",
              "<table border=\"1\" class=\"dataframe\">\n",
              "  <thead>\n",
              "    <tr style=\"text-align: right;\">\n",
              "      <th></th>\n",
              "      <th>상호명</th>\n",
              "      <th>주소</th>\n",
              "      <th>업종대분류</th>\n",
              "      <th>업종중분류</th>\n",
              "      <th>업종소분류</th>\n",
              "    </tr>\n",
              "  </thead>\n",
              "  <tbody>\n",
              "    <tr>\n",
              "      <th>0</th>\n",
              "      <td>허술한집</td>\n",
              "      <td>서울특별시 강서구 공항동 45-89</td>\n",
              "      <td>음식</td>\n",
              "      <td>분식</td>\n",
              "      <td>라면김밥분식</td>\n",
              "    </tr>\n",
              "    <tr>\n",
              "      <th>1</th>\n",
              "      <td>신풍유통</td>\n",
              "      <td>서울특별시 중구 봉래동2가 122</td>\n",
              "      <td>제조</td>\n",
              "      <td>식품가공/제조</td>\n",
              "      <td>종합식품제조</td>\n",
              "    </tr>\n",
              "    <tr>\n",
              "      <th>2</th>\n",
              "      <td>옛날한과</td>\n",
              "      <td>서울특별시 양천구 신월동 115-15</td>\n",
              "      <td>음식</td>\n",
              "      <td>제과제빵떡케익</td>\n",
              "      <td>떡/한과집</td>\n",
              "    </tr>\n",
              "    <tr>\n",
              "      <th>3</th>\n",
              "      <td>서울연인단팥빵본점</td>\n",
              "      <td>서울특별시 강남구 역삼동 707-9</td>\n",
              "      <td>제조</td>\n",
              "      <td>식품가공/제조</td>\n",
              "      <td>빵/과자제조-종합</td>\n",
              "    </tr>\n",
              "    <tr>\n",
              "      <th>4</th>\n",
              "      <td>엔젤</td>\n",
              "      <td>서울특별시 중구 황학동 706-2</td>\n",
              "      <td>음식</td>\n",
              "      <td>유흥주점</td>\n",
              "      <td>호프/맥주</td>\n",
              "    </tr>\n",
              "  </tbody>\n",
              "</table>\n",
              "</div>\n",
              "    <div class=\"colab-df-buttons\">\n",
              "\n",
              "  <div class=\"colab-df-container\">\n",
              "    <button class=\"colab-df-convert\" onclick=\"convertToInteractive('df-70df634b-e54b-416c-b76b-46a8797f7f4c')\"\n",
              "            title=\"Convert this dataframe to an interactive table.\"\n",
              "            style=\"display:none;\">\n",
              "\n",
              "  <svg xmlns=\"http://www.w3.org/2000/svg\" height=\"24px\" viewBox=\"0 -960 960 960\">\n",
              "    <path d=\"M120-120v-720h720v720H120Zm60-500h600v-160H180v160Zm220 220h160v-160H400v160Zm0 220h160v-160H400v160ZM180-400h160v-160H180v160Zm440 0h160v-160H620v160ZM180-180h160v-160H180v160Zm440 0h160v-160H620v160Z\"/>\n",
              "  </svg>\n",
              "    </button>\n",
              "\n",
              "  <style>\n",
              "    .colab-df-container {\n",
              "      display:flex;\n",
              "      gap: 12px;\n",
              "    }\n",
              "\n",
              "    .colab-df-convert {\n",
              "      background-color: #E8F0FE;\n",
              "      border: none;\n",
              "      border-radius: 50%;\n",
              "      cursor: pointer;\n",
              "      display: none;\n",
              "      fill: #1967D2;\n",
              "      height: 32px;\n",
              "      padding: 0 0 0 0;\n",
              "      width: 32px;\n",
              "    }\n",
              "\n",
              "    .colab-df-convert:hover {\n",
              "      background-color: #E2EBFA;\n",
              "      box-shadow: 0px 1px 2px rgba(60, 64, 67, 0.3), 0px 1px 3px 1px rgba(60, 64, 67, 0.15);\n",
              "      fill: #174EA6;\n",
              "    }\n",
              "\n",
              "    .colab-df-buttons div {\n",
              "      margin-bottom: 4px;\n",
              "    }\n",
              "\n",
              "    [theme=dark] .colab-df-convert {\n",
              "      background-color: #3B4455;\n",
              "      fill: #D2E3FC;\n",
              "    }\n",
              "\n",
              "    [theme=dark] .colab-df-convert:hover {\n",
              "      background-color: #434B5C;\n",
              "      box-shadow: 0px 1px 3px 1px rgba(0, 0, 0, 0.15);\n",
              "      filter: drop-shadow(0px 1px 2px rgba(0, 0, 0, 0.3));\n",
              "      fill: #FFFFFF;\n",
              "    }\n",
              "  </style>\n",
              "\n",
              "    <script>\n",
              "      const buttonEl =\n",
              "        document.querySelector('#df-70df634b-e54b-416c-b76b-46a8797f7f4c button.colab-df-convert');\n",
              "      buttonEl.style.display =\n",
              "        google.colab.kernel.accessAllowed ? 'block' : 'none';\n",
              "\n",
              "      async function convertToInteractive(key) {\n",
              "        const element = document.querySelector('#df-70df634b-e54b-416c-b76b-46a8797f7f4c');\n",
              "        const dataTable =\n",
              "          await google.colab.kernel.invokeFunction('convertToInteractive',\n",
              "                                                    [key], {});\n",
              "        if (!dataTable) return;\n",
              "\n",
              "        const docLinkHtml = 'Like what you see? Visit the ' +\n",
              "          '<a target=\"_blank\" href=https://colab.research.google.com/notebooks/data_table.ipynb>data table notebook</a>'\n",
              "          + ' to learn more about interactive tables.';\n",
              "        element.innerHTML = '';\n",
              "        dataTable['output_type'] = 'display_data';\n",
              "        await google.colab.output.renderOutput(dataTable, element);\n",
              "        const docLink = document.createElement('div');\n",
              "        docLink.innerHTML = docLinkHtml;\n",
              "        element.appendChild(docLink);\n",
              "      }\n",
              "    </script>\n",
              "  </div>\n",
              "\n",
              "\n",
              "<div id=\"df-5e8ff599-96cd-400a-acd0-ff37a073a152\">\n",
              "  <button class=\"colab-df-quickchart\" onclick=\"quickchart('df-5e8ff599-96cd-400a-acd0-ff37a073a152')\"\n",
              "            title=\"Suggest charts\"\n",
              "            style=\"display:none;\">\n",
              "\n",
              "<svg xmlns=\"http://www.w3.org/2000/svg\" height=\"24px\"viewBox=\"0 0 24 24\"\n",
              "     width=\"24px\">\n",
              "    <g>\n",
              "        <path d=\"M19 3H5c-1.1 0-2 .9-2 2v14c0 1.1.9 2 2 2h14c1.1 0 2-.9 2-2V5c0-1.1-.9-2-2-2zM9 17H7v-7h2v7zm4 0h-2V7h2v10zm4 0h-2v-4h2v4z\"/>\n",
              "    </g>\n",
              "</svg>\n",
              "  </button>\n",
              "\n",
              "<style>\n",
              "  .colab-df-quickchart {\n",
              "      --bg-color: #E8F0FE;\n",
              "      --fill-color: #1967D2;\n",
              "      --hover-bg-color: #E2EBFA;\n",
              "      --hover-fill-color: #174EA6;\n",
              "      --disabled-fill-color: #AAA;\n",
              "      --disabled-bg-color: #DDD;\n",
              "  }\n",
              "\n",
              "  [theme=dark] .colab-df-quickchart {\n",
              "      --bg-color: #3B4455;\n",
              "      --fill-color: #D2E3FC;\n",
              "      --hover-bg-color: #434B5C;\n",
              "      --hover-fill-color: #FFFFFF;\n",
              "      --disabled-bg-color: #3B4455;\n",
              "      --disabled-fill-color: #666;\n",
              "  }\n",
              "\n",
              "  .colab-df-quickchart {\n",
              "    background-color: var(--bg-color);\n",
              "    border: none;\n",
              "    border-radius: 50%;\n",
              "    cursor: pointer;\n",
              "    display: none;\n",
              "    fill: var(--fill-color);\n",
              "    height: 32px;\n",
              "    padding: 0;\n",
              "    width: 32px;\n",
              "  }\n",
              "\n",
              "  .colab-df-quickchart:hover {\n",
              "    background-color: var(--hover-bg-color);\n",
              "    box-shadow: 0 1px 2px rgba(60, 64, 67, 0.3), 0 1px 3px 1px rgba(60, 64, 67, 0.15);\n",
              "    fill: var(--button-hover-fill-color);\n",
              "  }\n",
              "\n",
              "  .colab-df-quickchart-complete:disabled,\n",
              "  .colab-df-quickchart-complete:disabled:hover {\n",
              "    background-color: var(--disabled-bg-color);\n",
              "    fill: var(--disabled-fill-color);\n",
              "    box-shadow: none;\n",
              "  }\n",
              "\n",
              "  .colab-df-spinner {\n",
              "    border: 2px solid var(--fill-color);\n",
              "    border-color: transparent;\n",
              "    border-bottom-color: var(--fill-color);\n",
              "    animation:\n",
              "      spin 1s steps(1) infinite;\n",
              "  }\n",
              "\n",
              "  @keyframes spin {\n",
              "    0% {\n",
              "      border-color: transparent;\n",
              "      border-bottom-color: var(--fill-color);\n",
              "      border-left-color: var(--fill-color);\n",
              "    }\n",
              "    20% {\n",
              "      border-color: transparent;\n",
              "      border-left-color: var(--fill-color);\n",
              "      border-top-color: var(--fill-color);\n",
              "    }\n",
              "    30% {\n",
              "      border-color: transparent;\n",
              "      border-left-color: var(--fill-color);\n",
              "      border-top-color: var(--fill-color);\n",
              "      border-right-color: var(--fill-color);\n",
              "    }\n",
              "    40% {\n",
              "      border-color: transparent;\n",
              "      border-right-color: var(--fill-color);\n",
              "      border-top-color: var(--fill-color);\n",
              "    }\n",
              "    60% {\n",
              "      border-color: transparent;\n",
              "      border-right-color: var(--fill-color);\n",
              "    }\n",
              "    80% {\n",
              "      border-color: transparent;\n",
              "      border-right-color: var(--fill-color);\n",
              "      border-bottom-color: var(--fill-color);\n",
              "    }\n",
              "    90% {\n",
              "      border-color: transparent;\n",
              "      border-bottom-color: var(--fill-color);\n",
              "    }\n",
              "  }\n",
              "</style>\n",
              "\n",
              "  <script>\n",
              "    async function quickchart(key) {\n",
              "      const quickchartButtonEl =\n",
              "        document.querySelector('#' + key + ' button');\n",
              "      quickchartButtonEl.disabled = true;  // To prevent multiple clicks.\n",
              "      quickchartButtonEl.classList.add('colab-df-spinner');\n",
              "      try {\n",
              "        const charts = await google.colab.kernel.invokeFunction(\n",
              "            'suggestCharts', [key], {});\n",
              "      } catch (error) {\n",
              "        console.error('Error during call to suggestCharts:', error);\n",
              "      }\n",
              "      quickchartButtonEl.classList.remove('colab-df-spinner');\n",
              "      quickchartButtonEl.classList.add('colab-df-quickchart-complete');\n",
              "    }\n",
              "    (() => {\n",
              "      let quickchartButtonEl =\n",
              "        document.querySelector('#df-5e8ff599-96cd-400a-acd0-ff37a073a152 button');\n",
              "      quickchartButtonEl.style.display =\n",
              "        google.colab.kernel.accessAllowed ? 'block' : 'none';\n",
              "    })();\n",
              "  </script>\n",
              "</div>\n",
              "\n",
              "    </div>\n",
              "  </div>\n"
            ],
            "application/vnd.google.colaboratory.intrinsic+json": {
              "type": "dataframe",
              "variable_name": "df",
              "summary": "{\n  \"name\": \"df\",\n  \"rows\": 21391,\n  \"fields\": [\n    {\n      \"column\": \"\\uc0c1\\ud638\\uba85\",\n      \"properties\": {\n        \"dtype\": \"string\",\n        \"num_unique_values\": 18964,\n        \"samples\": [\n          \"\\uacbd\\ubd81\\uc0c1\\uc0ac\",\n          \"\\ub3d9\\uc18c\\ubb38\\ud53c\\uc2a4\\ucee4\\ud53c\",\n          \"\\ud0d1\\ud074\\ub798\\uc2a4\\ucee4\\ud53c\"\n        ],\n        \"semantic_type\": \"\",\n        \"description\": \"\"\n      }\n    },\n    {\n      \"column\": \"\\uc8fc\\uc18c\",\n      \"properties\": {\n        \"dtype\": \"string\",\n        \"num_unique_values\": 15279,\n        \"samples\": [\n          \"\\uc11c\\uc6b8\\ud2b9\\ubcc4\\uc2dc \\ub9c8\\ud3ec\\uad6c \\uc11c\\uad50\\ub3d9 374-6\",\n          \"\\uc11c\\uc6b8\\ud2b9\\ubcc4\\uc2dc \\uac15\\ub0a8\\uad6c \\ub17c\\ud604\\ub3d9 263\",\n          \"\\uc11c\\uc6b8\\ud2b9\\ubcc4\\uc2dc \\uac15\\ub0a8\\uad6c \\ub17c\\ud604\\ub3d9 165-5\"\n        ],\n        \"semantic_type\": \"\",\n        \"description\": \"\"\n      }\n    },\n    {\n      \"column\": \"\\uc5c5\\uc885\\ub300\\ubd84\\ub958\",\n      \"properties\": {\n        \"dtype\": \"category\",\n        \"num_unique_values\": 20,\n        \"samples\": [\n          \"\\uc74c\\uc2dd\",\n          \"\\ubd80\\ub3d9\\uc0b0\",\n          \"\\uc5b8\\ub860/\\ubbf8\\ub514\\uc5b4\"\n        ],\n        \"semantic_type\": \"\",\n        \"description\": \"\"\n      }\n    },\n    {\n      \"column\": \"\\uc5c5\\uc885\\uc911\\ubd84\\ub958\",\n      \"properties\": {\n        \"dtype\": \"category\",\n        \"num_unique_values\": 160,\n        \"samples\": [\n          \"\\ud3c9\\uac00/\\uac1c\\ubc1c/\\uad00\\ub9ac\",\n          \"\\uc2dc\\uacc4/\\uadc0\\uae08\\uc18d\\uc18c\\ub9e4\",\n          \"\\ub180\\uc774/\\uc5ec\\uac00/\\ucde8\\ubbf8\"\n        ],\n        \"semantic_type\": \"\",\n        \"description\": \"\"\n      }\n    },\n    {\n      \"column\": \"\\uc5c5\\uc885\\uc18c\\ubd84\\ub958\",\n      \"properties\": {\n        \"dtype\": \"category\",\n        \"num_unique_values\": 572,\n        \"samples\": [\n          \"\\ud1b5\\uc2e0\\uc7a5\\ube44\\uc81c\\uc870-\\uc720\\uc120\",\n          \"\\uac74\\uc5b4\\ubb3c\\uc0c1\",\n          \"\\ud55c\\ubc29\\ubcd1\\uc6d0\"\n        ],\n        \"semantic_type\": \"\",\n        \"description\": \"\"\n      }\n    }\n  ]\n}"
            }
          },
          "metadata": {},
          "execution_count": 30
        }
      ]
    },
    {
      "cell_type": "code",
      "source": [
        "# 데이터베이스 만들기(접속)\n",
        "conn = sqlite3.connect('/content/drive/MyDrive/DB/seoul_shop.db')\n",
        "# replace 테이블이 존재하면 삭제하고 새로 생성\n",
        "# index =False 인덱스를 데이터베이스에 저장하지 않음\n",
        "df.to_sql('seoul_shop', conn, if_exists='replace',index=False)"
      ],
      "metadata": {
        "colab": {
          "base_uri": "https://localhost:8080/"
        },
        "id": "lIXPp4voH8VD",
        "outputId": "135dd261-d042-4850-8ba8-fdc66ada0c6b"
      },
      "execution_count": 31,
      "outputs": [
        {
          "output_type": "execute_result",
          "data": {
            "text/plain": [
              "21391"
            ]
          },
          "metadata": {},
          "execution_count": 31
        }
      ]
    },
    {
      "cell_type": "code",
      "source": [
        "conn = sqlite3.connect('/content/drive/MyDrive/DB/seoul_shop.db')\n",
        "cursor = conn.cursor()\n",
        "sql = 'select * from seoul_shop'\n",
        "cursor.execute(sql)\n",
        "rows = cursor.fetchall()\n",
        "count = 0\n",
        "for row in rows:\n",
        "  if count == 10:\n",
        "    break\n",
        "  print(row)\n",
        "  count += 1\n",
        "conn.close()"
      ],
      "metadata": {
        "colab": {
          "base_uri": "https://localhost:8080/"
        },
        "id": "snAiVSh3I656",
        "outputId": "df781bb2-e2f6-41a7-903a-81f78cbc207f"
      },
      "execution_count": 32,
      "outputs": [
        {
          "output_type": "stream",
          "name": "stdout",
          "text": [
            "('허술한집', '서울특별시 강서구 공항동 45-89', '음식', '분식', '라면김밥분식')\n",
            "('신풍유통', '서울특별시 중구 봉래동2가 122', '제조', '식품가공/제조', '종합식품제조')\n",
            "('옛날한과', '서울특별시 양천구 신월동 115-15', '음식', '제과제빵떡케익', '떡/한과집')\n",
            "('서울연인단팥빵본점', '서울특별시 강남구 역삼동 707-9', '제조', '식품가공/제조', '빵/과자제조-종합')\n",
            "('엔젤', '서울특별시 중구 황학동 706-2', '음식', '유흥주점', '호프/맥주')\n",
            "('하루식품', '서울특별시 중구 충무로1가 52-5', '소매', '음/식료품소매', '식료품점')\n",
            "('시드니', '서울특별시 양천구 신정동 117-36', '음식', '유흥주점', '룸살롱/단란주점')\n",
            "('신창농산구내식당', '서울특별시 송파구 가락동 600', '음식', '기타음식업', '구내식당/자급식음식점')\n",
            "('도쿄다이야키', '서울특별시 강남구 대치동 937', '음식', '제과제빵떡케익', '제과점')\n",
            "('선일이비즈니스고등학교', '서울특별시 은평구 갈현동 240-1', '학문/교육', '학교', '고등학교')\n"
          ]
        }
      ]
    }
  ]
}