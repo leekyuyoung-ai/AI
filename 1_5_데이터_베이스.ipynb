{
  "nbformat": 4,
  "nbformat_minor": 0,
  "metadata": {
    "colab": {
      "provenance": []
    },
    "kernelspec": {
      "name": "python3",
      "display_name": "Python 3"
    },
    "language_info": {
      "name": "python"
    }
  },
  "cells": [
    {
      "cell_type": "markdown",
      "source": [
        "- 관계형 데이터베이스\n",
        "  - 형식이 정해진 데이터 즉 테이블 구조\n",
        "  - 판다스와 거의 비슷한 구조\n",
        "- No SQL\n",
        "  - json형태로 되어 있는구조\n",
        "- SQLite\n",
        "  - 코렙에서 로컬파일로 작동하는 간단한 데이터 베이스  "
      ],
      "metadata": {
        "id": "_Uf1rVdxxySv"
      }
    },
    {
      "cell_type": "code",
      "source": [
        "import sqlite3  # 서버 설치라고 보면 됩니다"
      ],
      "metadata": {
        "id": "qls5WYAvx6tB"
      },
      "execution_count": 1,
      "outputs": []
    },
    {
      "cell_type": "code",
      "source": [
        "# 데이터 베이스 시스템에 접속\n",
        "conn = sqlite3.connect('/content/drive/MyDrive/DB/example.db')  # 스키마.. 데이터베이파일 생성"
      ],
      "metadata": {
        "id": "SlWhGqq_y-HY"
      },
      "execution_count": 2,
      "outputs": []
    },
    {
      "cell_type": "code",
      "source": [
        "# 시스템 접속후에 사용가능한 상태로 만들기\n",
        "# CRUD(Create Read Update Delete)\n",
        "cursor = conn.cursor()"
      ],
      "metadata": {
        "id": "02x5nu6YzJuQ"
      },
      "execution_count": 3,
      "outputs": []
    },
    {
      "cell_type": "code",
      "source": [
        "# 테이블 생성 쿼리\n",
        "sql = '''create table if not exists users(\n",
        "  id integer primary key autoincrement,\n",
        "  name text,\n",
        "  age integer\n",
        ")'''\n",
        "\n",
        "cursor.execute(sql)"
      ],
      "metadata": {
        "colab": {
          "base_uri": "https://localhost:8080/"
        },
        "id": "rfryyN8KziWw",
        "outputId": "bc2bf97d-d4d8-4ac6-b6bc-1f56982f9019"
      },
      "execution_count": 12,
      "outputs": [
        {
          "output_type": "execute_result",
          "data": {
            "text/plain": [
              "<sqlite3.Cursor at 0x7b1b882f18c0>"
            ]
          },
          "metadata": {},
          "execution_count": 12
        }
      ]
    },
    {
      "cell_type": "code",
      "source": [
        "# 데이터를 테이블에 넣는다(생성)  - insert\n",
        "sql = 'insert into users(name, age) values(?, ?)'\n",
        "cursor.execute(sql, ('홍길동', 20))"
      ],
      "metadata": {
        "colab": {
          "base_uri": "https://localhost:8080/"
        },
        "id": "ItNFy22x0axY",
        "outputId": "67d7fa01-4bf1-412b-e5cb-1a44a2a37365"
      },
      "execution_count": 13,
      "outputs": [
        {
          "output_type": "execute_result",
          "data": {
            "text/plain": [
              "<sqlite3.Cursor at 0x7b1b882f18c0>"
            ]
          },
          "metadata": {},
          "execution_count": 13
        }
      ]
    },
    {
      "cell_type": "code",
      "source": [
        "# 데이터 조회\n",
        "sql = 'select * from users'\n",
        "cursor.execute(sql)\n",
        "rows = cursor.fetchall()\n",
        "for row in rows:\n",
        "  print(row)"
      ],
      "metadata": {
        "colab": {
          "base_uri": "https://localhost:8080/"
        },
        "id": "XiWsYKxT1OlH",
        "outputId": "f2fc93fa-0aa9-4740-c860-cac655603360"
      },
      "execution_count": 4,
      "outputs": [
        {
          "output_type": "stream",
          "name": "stdout",
          "text": [
            "(1, '홍길동', 20)\n"
          ]
        }
      ]
    },
    {
      "cell_type": "code",
      "source": [
        "# 연결 닫는다..\n",
        "# 데이터추가한것은 실제 반영된게 아니라 임시로 반영되었음\n",
        "# 실제 반영하려면. commit  커밋을 해야..\n",
        "conn.commit()\n",
        "conn.close()"
      ],
      "metadata": {
        "id": "9SRxa6tS1fII"
      },
      "execution_count": 5,
      "outputs": []
    },
    {
      "cell_type": "markdown",
      "source": [
        "데이터베이스접속-커서오픈 - 작업(insert,update,delete,select) -  커밋/접속종료"
      ],
      "metadata": {
        "id": "GVunLblI32nn"
      }
    },
    {
      "cell_type": "markdown",
      "source": [
        "기존 테이블에 데이터를 더 추가하려면?"
      ],
      "metadata": {
        "id": "APs7S4Vf3xjv"
      }
    },
    {
      "cell_type": "code",
      "source": [
        "conn = sqlite3.connect('/content/drive/MyDrive/DB/example.db')\n",
        "cursor = conn.cursor()\n",
        "sql = 'insert into users(name, age) values(?, ?)'\n",
        "cursor.execute(sql, ('김길동', 25))  # 메모리에 임시로 저장\n",
        "conn.commit()  # 실제 저장\n",
        "conn.close()"
      ],
      "metadata": {
        "id": "01uXbq403Myu"
      },
      "execution_count": 6,
      "outputs": []
    },
    {
      "cell_type": "code",
      "source": [
        "# 한번 더 저장\n",
        "conn = sqlite3.connect('/content/drive/MyDrive/DB/example.db')\n",
        "cursor = conn.cursor()\n",
        "sql = 'insert into users(name, age) values(?, ?)'\n",
        "cursor.execute(sql, ('규영', 15))  # 메모리에 임시로 저장\n",
        "conn.commit()  # 실제 저장\n",
        "conn.close()"
      ],
      "metadata": {
        "id": "PGvC232k4f9e"
      },
      "execution_count": 7,
      "outputs": []
    },
    {
      "cell_type": "code",
      "source": [
        "# 데이터베이스중에 users 테이블에 저장된 모든 데이터 조회\n",
        "conn = sqlite3.connect('/content/drive/MyDrive/DB/example.db')\n",
        "cursor = conn.cursor()\n",
        "sql = 'select * from users'\n",
        "cursor.execute(sql)  # sql 명령어를 실행( 추가 삭제 업데이트)만 하면되지만 조회는 데이터를 가져와야 하기때문에\n",
        "rows = cursor.fetchall() # 데이터 를 집합형태로 가져오는 명령어가 필요\n",
        "for row in rows:\n",
        "  print(row)\n"
      ],
      "metadata": {
        "colab": {
          "base_uri": "https://localhost:8080/"
        },
        "id": "f_P1-PaG44m_",
        "outputId": "4a127892-896f-400c-c370-9cd43cc5da34"
      },
      "execution_count": 8,
      "outputs": [
        {
          "output_type": "stream",
          "name": "stdout",
          "text": [
            "(1, '홍길동', 20)\n",
            "(2, '김길동', 25)\n",
            "(3, '규영', 15)\n"
          ]
        }
      ]
    },
    {
      "cell_type": "code",
      "source": [
        "# 학사관리 데이터 베이스\n",
        "# 1. 전용 데이터베이스 생성\n",
        "conn = sqlite3.connect('/content/drive/MyDrive/DB/studentsMng.db')\n",
        "cursor = conn.cursor()\n",
        "# 2. students 테이블 생성( id, name, addr, score)  아이디 이름 주소 점수(0~100)\n",
        "sql = '''create table if not exists students(\n",
        "  id integer primary key autoincrement,\n",
        "  name text,\n",
        "  addr text,\n",
        "  score integer\n",
        ")'''\n",
        "cursor.execute(sql)\n",
        "# 3. 5명 학생데이터를 넣고\n",
        "cursor.execute('insert into students(name, addr, score) values(?, ?, ?)', ('홍길동1', '서울', 90))\n",
        "cursor.execute('insert into students(name, addr, score) values(?, ?, ?)', ('홍길동2', '서울', 91))\n",
        "cursor.execute('insert into students(name, addr, score) values(?, ?, ?)', ('홍길동3', '서울', 92))\n",
        "cursor.execute('insert into students(name, addr, score) values(?, ?, ?)', ('홍길동4', '서울', 93))\n",
        "cursor.execute('insert into students(name, addr, score) values(?, ?, ?)', ('홍길동5', '서울', 94))\n",
        "# 4. 조회하기\n",
        "cursor.execute('select * from students')\n",
        "rows = cursor.fetchall()\n",
        "for row in rows:\n",
        "  print(row)\n",
        "# 5. 커밋\n",
        "conn.commit()\n",
        "# 6. 접속종료\n",
        "conn.close()"
      ],
      "metadata": {
        "colab": {
          "base_uri": "https://localhost:8080/"
        },
        "id": "Y5f90G2z5dNd",
        "outputId": "5bde7c95-4c18-4add-af93-fda701621e5c"
      },
      "execution_count": 2,
      "outputs": [
        {
          "output_type": "stream",
          "name": "stdout",
          "text": [
            "(1, '홍길동1', '서울', 90)\n",
            "(2, '홍길동2', '서울', 91)\n",
            "(3, '홍길동3', '서울', 92)\n",
            "(4, '홍길동4', '서울', 93)\n",
            "(5, '홍길동5', '서울', 94)\n"
          ]
        }
      ]
    },
    {
      "cell_type": "code",
      "source": [
        "#접속\n",
        "conn = sqlite3.connect('/content/drive/MyDrive/DB/studentsMng.db')\n",
        "cursor = conn.cursor()\n",
        "\n",
        "# 업데이트  '홍길동4', '서울', 93  -> 이순신, 부산, 100\n",
        "sql = '''update students set name=?, addr=?, score=? where id=?'''\n",
        "cursor.execute(sql, ('이순신', '부산', 100, 4))\n",
        "# 조회\n",
        "cursor.execute('select * from students')\n",
        "rows = cursor.fetchall()\n",
        "for row in rows:\n",
        "  print(row)\n",
        "\n",
        "# 접속 종료\n",
        "conn.commit()\n",
        "conn.close()"
      ],
      "metadata": {
        "colab": {
          "base_uri": "https://localhost:8080/"
        },
        "id": "TuZBIF2nAEpU",
        "outputId": "4ef04ca1-6d74-4531-a283-2f9ced775f31"
      },
      "execution_count": 4,
      "outputs": [
        {
          "output_type": "stream",
          "name": "stdout",
          "text": [
            "(1, '홍길동1', '서울', 90)\n",
            "(2, '홍길동2', '서울', 91)\n",
            "(3, '홍길동3', '서울', 92)\n",
            "(4, '이순신', '부산', 100)\n",
            "(5, '홍길동5', '서울', 94)\n"
          ]
        }
      ]
    },
    {
      "cell_type": "code",
      "source": [
        "# 접속\n",
        "conn = sqlite3.connect('/content/drive/MyDrive/DB/studentsMng.db')\n",
        "cursor = conn.cursor()\n",
        "\n",
        "sql = '''delete from students where id=?'''\n",
        "cursor.execute(sql, (5,))\n",
        "# 조회\n",
        "cursor.execute('select * from students')\n",
        "rows = cursor.fetchall()\n",
        "for row in rows:\n",
        "  print(row)\n",
        "\n",
        "# 적용/접속해제\n",
        "conn.commit()\n",
        "conn.close()"
      ],
      "metadata": {
        "colab": {
          "base_uri": "https://localhost:8080/"
        },
        "id": "0fJeoe4qB_-0",
        "outputId": "a28e5108-f6d7-4d76-b603-fe8fcdc62ca0"
      },
      "execution_count": 8,
      "outputs": [
        {
          "output_type": "stream",
          "name": "stdout",
          "text": [
            "(1, '홍길동1', '서울', 90)\n",
            "(2, '홍길동2', '서울', 91)\n",
            "(3, '홍길동3', '서울', 92)\n",
            "(4, '이순신', '부산', 100)\n"
          ]
        }
      ]
    },
    {
      "cell_type": "code",
      "source": [
        "# Create\n",
        "def create_student(name, addr, score):\n",
        "  conn = sqlite3.connect('/content/drive/MyDrive/DB/studentsMng.db')\n",
        "  cursor = conn.cursor()\n",
        "\n",
        "  sql = '''insert into students(name, addr, score) values(?, ?, ?)'''\n",
        "  cursor.execute(sql, (name, addr, score))\n",
        "\n",
        "  conn.commit()\n",
        "  conn.close()\n",
        "# Read\n",
        "import numpy as np\n",
        "def read_students():\n",
        "  conn = sqlite3.connect('/content/drive/MyDrive/DB/studentsMng.db')\n",
        "  cursor = conn.cursor()\n",
        "\n",
        "  sql = '''select * from students'''\n",
        "  cursor.execute(sql)\n",
        "  rows = cursor.fetchall()\n",
        "\n",
        "  conn.commit()\n",
        "  conn.close()\n",
        "  return[row for row in rows]\n",
        "\n",
        "\n",
        "# Update\n",
        "def update_student(name, addr, score, id):\n",
        "  conn = sqlite3.connect('/content/drive/MyDrive/DB/studentsMng.db')\n",
        "  cursor = conn.cursor()\n",
        "\n",
        "  sql = '''update students set name=?, addr=?, score=? where id=?'''\n",
        "  cursor.execute(sql, (name, addr, score, id))\n",
        "\n",
        "  conn.commit()\n",
        "  conn.close()\n",
        "# Delete\n",
        "def delete_student(id):\n",
        "  conn = sqlite3.connect('/content/drive/MyDrive/DB/studentsMng.db')\n",
        "  cursor = conn.cursor()\n",
        "\n",
        "  sql = '''delete from students where id=?'''\n",
        "  cursor.execute(sql, (id,))\n",
        "\n",
        "  conn.commit()\n",
        "  conn.close()"
      ],
      "metadata": {
        "id": "G8YX665BDFLW"
      },
      "execution_count": 22,
      "outputs": []
    },
    {
      "cell_type": "code",
      "source": [
        "# 사용\n",
        "read_students()"
      ],
      "metadata": {
        "colab": {
          "base_uri": "https://localhost:8080/"
        },
        "collapsed": true,
        "id": "RcfPTL9iEYo1",
        "outputId": "f13ff4db-e6f0-49eb-9ab2-fc020b2b92bf"
      },
      "execution_count": 23,
      "outputs": [
        {
          "output_type": "execute_result",
          "data": {
            "text/plain": [
              "[(1, '홍길동1', '서울', 90),\n",
              " (2, '홍길동2', '서울', 91),\n",
              " (3, '홍길동3', '서울', 92),\n",
              " (4, '이순신', '부산', 100)]"
            ]
          },
          "metadata": {},
          "execution_count": 23
        }
      ]
    },
    {
      "cell_type": "code",
      "source": [
        "# 홍길동2--> 임꺽정  91-->100\n",
        "update_student('임꺽정', '서울', 100, 2)\n",
        "read_students()"
      ],
      "metadata": {
        "colab": {
          "base_uri": "https://localhost:8080/"
        },
        "id": "p_rKYpoEEbn7",
        "outputId": "78fbadc5-0392-4fc5-db2f-e96cb65aabf0"
      },
      "execution_count": 25,
      "outputs": [
        {
          "output_type": "execute_result",
          "data": {
            "text/plain": [
              "[(1, '홍길동1', '서울', 90),\n",
              " (2, '임꺽정', '서울', 100),\n",
              " (3, '홍길동3', '서울', 92),\n",
              " (4, '이순신', '부산', 100)]"
            ]
          },
          "metadata": {},
          "execution_count": 25
        }
      ]
    },
    {
      "cell_type": "code",
      "source": [
        "# 3번 홍길동3 삭제\n",
        "delete_student(3)\n",
        "read_students()"
      ],
      "metadata": {
        "colab": {
          "base_uri": "https://localhost:8080/"
        },
        "id": "bo1sYJLDF9aL",
        "outputId": "39f9a273-2a3f-4bf9-e267-4fb927ae0fca"
      },
      "execution_count": 26,
      "outputs": [
        {
          "output_type": "execute_result",
          "data": {
            "text/plain": [
              "[(1, '홍길동1', '서울', 90), (2, '임꺽정', '서울', 100), (4, '이순신', '부산', 100)]"
            ]
          },
          "metadata": {},
          "execution_count": 26
        }
      ]
    },
    {
      "cell_type": "code",
      "source": [],
      "metadata": {
        "id": "mu1H9KviGCKj"
      },
      "execution_count": null,
      "outputs": []
    }
  ]
}