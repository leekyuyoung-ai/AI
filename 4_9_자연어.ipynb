{
  "cells": [
    {
      "cell_type": "markdown",
      "metadata": {
        "id": "soTYPOxEzym3"
      },
      "source": [
        "# 자연어를 이용한 감성분류\n",
        "  - IMDB 데이터 셋"
      ]
    },
    {
      "cell_type": "code",
      "execution_count": null,
      "metadata": {
        "id": "12Es3FsLz1C_"
      },
      "outputs": [],
      "source": [
        "# 데이터를로드  훈련용 테스트용 데이터셋 나누기, 텍스트 데이터의 길이를 시각화해서 데이터에 대한 이해\n",
        "# vocab_size = 10000 설정  , 빈도수가 높은 10000개의 단어만 사용\n",
        "# 최대 길이는 500으로 제한"
      ]
    },
    {
      "cell_type": "markdown",
      "metadata": {
        "id": "ay-X-dAf0ise"
      },
      "source": [
        "GRU 기반 모델 구축\n",
        "  - Gate Recurent Unit  LSTM모델과 유사하나 좀도 시계열 데이터와 자연어 처리에 효과적\n",
        "  - Embedding 레이어 : 단어를 임베딩 벡터로 변환\n",
        "  - GRU 레이어 : 입련된 단어 시퀀스에 대해 순차적인 처리를 수행\n",
        "  - Dense 레이어 : 마지막 출력은 시그모이드 함수로 0 과 1의 확률 을 출력"
      ]
    },
    {
      "cell_type": "code",
      "execution_count": null,
      "metadata": {
        "id": "xrOloAaP1pj-"
      },
      "outputs": [],
      "source": [
        "# 필요한 라이브러리\n",
        "import re\n",
        "from tensorflow.keras.datasets import imdb\n",
        "from tensorflow.keras.preprocessing.sequence import pad_sequences\n",
        "from tensorflow.keras.models import Sequential\n",
        "from tensorflow.keras.layers import Embedding, GRU, Dense\n",
        "from tensorflow.keras.callbacks import EarlyStopping, ModelCheckpoint\n",
        "from tensorflow.keras.models import load_model"
      ]
    },
    {
      "cell_type": "code",
      "execution_count": null,
      "metadata": {
        "colab": {
          "base_uri": "https://localhost:8080/"
        },
        "id": "GJn_knpDI0vz",
        "outputId": "ef86c6e1-16c1-49a3-ac78-b9345714196e"
      },
      "outputs": [
        {
          "name": "stdout",
          "output_type": "stream",
          "text": [
            "훈련용 리뷰 개수 : 25000\n",
            "테스트용 리뷰 개수 : 25000\n",
            "카테고리 : 2\n"
          ]
        }
      ],
      "source": [
        "(X_train, y_train), (X_test, y_test) = imdb.load_data()\n",
        "\n",
        "print('훈련용 리뷰 개수 : {}'.format(len(X_train)))\n",
        "print('테스트용 리뷰 개수 : {}'.format(len(X_test)))\n",
        "num_classes = len(set(y_train))\n",
        "print('카테고리 : {}'.format(num_classes))"
      ]
    },
    {
      "cell_type": "code",
      "execution_count": null,
      "metadata": {
        "colab": {
          "base_uri": "https://localhost:8080/"
        },
        "id": "pMyF6pWWI5ci",
        "outputId": "0b3ed1ea-7ce9-447b-cc82-5652b4517abc"
      },
      "outputs": [
        {
          "name": "stdout",
          "output_type": "stream",
          "text": [
            "첫번째 훈련용 리뷰 : [1, 14, 22, 16, 43, 530, 973, 1622, 1385, 65, 458, 4468, 66, 3941, 4, 173, 36, 256, 5, 25, 100, 43, 838, 112, 50, 670, 22665, 9, 35, 480, 284, 5, 150, 4, 172, 112, 167, 21631, 336, 385, 39, 4, 172, 4536, 1111, 17, 546, 38, 13, 447, 4, 192, 50, 16, 6, 147, 2025, 19, 14, 22, 4, 1920, 4613, 469, 4, 22, 71, 87, 12, 16, 43, 530, 38, 76, 15, 13, 1247, 4, 22, 17, 515, 17, 12, 16, 626, 18, 19193, 5, 62, 386, 12, 8, 316, 8, 106, 5, 4, 2223, 5244, 16, 480, 66, 3785, 33, 4, 130, 12, 16, 38, 619, 5, 25, 124, 51, 36, 135, 48, 25, 1415, 33, 6, 22, 12, 215, 28, 77, 52, 5, 14, 407, 16, 82, 10311, 8, 4, 107, 117, 5952, 15, 256, 4, 31050, 7, 3766, 5, 723, 36, 71, 43, 530, 476, 26, 400, 317, 46, 7, 4, 12118, 1029, 13, 104, 88, 4, 381, 15, 297, 98, 32, 2071, 56, 26, 141, 6, 194, 7486, 18, 4, 226, 22, 21, 134, 476, 26, 480, 5, 144, 30, 5535, 18, 51, 36, 28, 224, 92, 25, 104, 4, 226, 65, 16, 38, 1334, 88, 12, 16, 283, 5, 16, 4472, 113, 103, 32, 15, 16, 5345, 19, 178, 32]\n",
            "첫번째 훈련용 리뷰의 레이블 : 1\n"
          ]
        }
      ],
      "source": [
        "print('첫번째 훈련용 리뷰 :',X_train[0])\n",
        "print('첫번째 훈련용 리뷰의 레이블 :',y_train[0])"
      ]
    },
    {
      "cell_type": "code",
      "execution_count": null,
      "metadata": {
        "id": "5qlRTqE_JBEy"
      },
      "outputs": [],
      "source": [
        "# 실제매핑은 +3\n",
        "word_to_index = imdb.get_word_index()\n",
        "index_to_word = {}\n",
        "for key, value in word_to_index.items():\n",
        "    index_to_word[value+3] = key"
      ]
    },
    {
      "cell_type": "code",
      "execution_count": null,
      "metadata": {
        "colab": {
          "base_uri": "https://localhost:8080/"
        },
        "id": "P88evy00JFB6",
        "outputId": "f0daa534-c885-48d8-e629-1b0be20c14cd"
      },
      "outputs": [
        {
          "name": "stdout",
          "output_type": "stream",
          "text": [
            "<pad> <pad> <pad> <pad> <pad> <pad> <pad> <pad> <pad> <pad> <pad> <pad> <pad> <pad> <pad> <pad> <pad> <pad> <pad> <pad> <pad> <pad> <pad> <pad> <pad> <pad> <pad> <pad> <pad> <pad> <pad> <pad> <pad> <pad> <pad> <pad> <pad> <pad> <pad> <pad> <pad> <pad> <pad> <pad> <pad> <pad> <pad> <pad> <pad> <pad> <pad> <pad> <pad> <pad> <pad> <pad> <pad> <pad> <pad> <pad> <pad> <pad> <pad> <pad> <pad> <pad> <pad> <pad> <pad> <pad> <pad> <pad> <pad> <pad> <pad> <pad> <pad> <pad> <pad> <pad> <pad> <pad> <pad> <pad> <pad> <pad> <pad> <pad> <pad> <pad> <pad> <pad> <pad> <pad> <pad> <pad> <pad> <pad> <pad> <pad> <pad> <pad> <pad> <pad> <pad> <pad> <pad> <pad> <pad> <pad> <pad> <pad> <pad> <pad> <pad> <pad> <pad> <pad> <pad> <pad> <pad> <pad> <pad> <pad> <pad> <pad> <pad> <pad> <pad> <pad> <pad> <pad> <pad> <pad> <pad> <pad> <pad> <pad> <pad> <pad> <pad> <pad> <pad> <pad> <pad> <pad> <pad> <pad> <pad> <pad> <pad> <pad> <pad> <pad> <pad> <pad> <pad> <pad> <pad> <pad> <pad> <pad> <pad> <pad> <pad> <pad> <pad> <pad> <pad> <pad> <pad> <pad> <pad> <pad> <pad> <pad> <pad> <pad> <pad> <pad> <pad> <pad> <pad> <pad> <pad> <pad> <pad> <pad> <pad> <pad> <pad> <pad> <pad> <pad> <pad> <pad> <pad> <pad> <pad> <pad> <pad> <pad> <pad> <pad> <pad> <pad> <pad> <pad> <pad> <pad> <pad> <pad> <pad> <pad> <pad> <pad> <pad> <pad> <pad> <pad> <pad> <pad> <pad> <pad> <pad> <pad> <pad> <pad> <pad> <pad> <pad> <pad> <pad> <pad> <pad> <pad> <pad> <pad> <pad> <pad> <pad> <pad> <pad> <pad> <pad> <pad> <pad> <pad> <pad> <pad> <pad> <pad> <pad> <pad> <pad> <pad> <pad> <pad> <pad> <pad> <pad> <pad> <pad> <pad> <pad> <pad> <pad> <pad> <pad> <pad> <pad> <pad> <pad> <pad> <pad> <pad> <pad> <pad> <pad> <pad> <pad> <pad> <pad> <pad> <pad> <pad> <pad> <pad> <pad> <pad> <pad> <pad> <pad> <pad> <pad> <pad> <pad> <pad> <pad> <pad> <pad> <pad> <pad> <pad> <pad> <pad> <pad> <pad> <pad> <pad> <pad> <sos> big hair big boobs bad music and a giant safety pin these are the words to best describe this terrible movie i love cheesy horror movies and i've seen hundreds but this had got to be on of the worst ever made the plot is paper thin and ridiculous the acting is an abomination the script is completely laughable the best is the end showdown with the cop and how he worked out who the killer is it's just so damn terribly written the clothes are sickening and funny in equal <unk> the hair is big lots of boobs <unk> men wear those cut <unk> shirts that show off their <unk> sickening that men actually wore them and the music is just <unk> trash that plays over and over again in almost every scene there is trashy music boobs and <unk> taking away bodies and the gym still doesn't close for <unk> all joking aside this is a truly bad film whose only charm is to look back on the disaster that was the 80's and have a good old laugh at how bad everything was back then\n",
            "0\n"
          ]
        }
      ],
      "source": [
        "for index, token in enumerate((\"<pad>\", \"<sos>\", \"<unk>\")):\n",
        "  index_to_word[index] = token\n",
        "\n",
        "print(' '.join([index_to_word[index] for index in X_train[1]]))\n",
        "print(y_train[1])"
      ]
    },
    {
      "cell_type": "code",
      "execution_count": null,
      "metadata": {
        "colab": {
          "base_uri": "https://localhost:8080/"
        },
        "collapsed": true,
        "id": "rvsY_p1G3H62",
        "outputId": "b25e781d-d04b-4383-f06f-71e6cfd1c815"
      },
      "outputs": [
        {
          "name": "stdout",
          "output_type": "stream",
          "text": [
            "Epoch 1/15\n",
            "\u001b[1m312/313\u001b[0m \u001b[32m━━━━━━━━━━━━━━━━━━━\u001b[0m\u001b[37m━\u001b[0m \u001b[1m0s\u001b[0m 24ms/step - acc: 0.6644 - loss: 0.5941\n",
            "Epoch 1: val_acc improved from -inf to 0.82460, saving model to best_model.keras\n",
            "\u001b[1m313/313\u001b[0m \u001b[32m━━━━━━━━━━━━━━━━━━━━\u001b[0m\u001b[37m\u001b[0m \u001b[1m11s\u001b[0m 29ms/step - acc: 0.6650 - loss: 0.5934 - val_acc: 0.8246 - val_loss: 0.4009\n",
            "Epoch 2/15\n",
            "\u001b[1m312/313\u001b[0m \u001b[32m━━━━━━━━━━━━━━━━━━━\u001b[0m\u001b[37m━\u001b[0m \u001b[1m0s\u001b[0m 24ms/step - acc: 0.8740 - loss: 0.3098\n",
            "Epoch 2: val_acc improved from 0.82460 to 0.87840, saving model to best_model.keras\n",
            "\u001b[1m313/313\u001b[0m \u001b[32m━━━━━━━━━━━━━━━━━━━━\u001b[0m\u001b[37m\u001b[0m \u001b[1m10s\u001b[0m 28ms/step - acc: 0.8740 - loss: 0.3096 - val_acc: 0.8784 - val_loss: 0.3068\n",
            "Epoch 3/15\n",
            "\u001b[1m312/313\u001b[0m \u001b[32m━━━━━━━━━━━━━━━━━━━\u001b[0m\u001b[37m━\u001b[0m \u001b[1m0s\u001b[0m 24ms/step - acc: 0.9280 - loss: 0.1876\n",
            "Epoch 3: val_acc did not improve from 0.87840\n",
            "\u001b[1m313/313\u001b[0m \u001b[32m━━━━━━━━━━━━━━━━━━━━\u001b[0m\u001b[37m\u001b[0m \u001b[1m10s\u001b[0m 27ms/step - acc: 0.9279 - loss: 0.1877 - val_acc: 0.8720 - val_loss: 0.3316\n",
            "Epoch 4/15\n",
            "\u001b[1m312/313\u001b[0m \u001b[32m━━━━━━━━━━━━━━━━━━━\u001b[0m\u001b[37m━\u001b[0m \u001b[1m0s\u001b[0m 23ms/step - acc: 0.9553 - loss: 0.1219\n",
            "Epoch 4: val_acc improved from 0.87840 to 0.88320, saving model to best_model.keras\n",
            "\u001b[1m313/313\u001b[0m \u001b[32m━━━━━━━━━━━━━━━━━━━━\u001b[0m\u001b[37m\u001b[0m \u001b[1m9s\u001b[0m 28ms/step - acc: 0.9553 - loss: 0.1220 - val_acc: 0.8832 - val_loss: 0.3137\n",
            "Epoch 5/15\n",
            "\u001b[1m311/313\u001b[0m \u001b[32m━━━━━━━━━━━━━━━━━━━\u001b[0m\u001b[37m━\u001b[0m \u001b[1m0s\u001b[0m 23ms/step - acc: 0.9764 - loss: 0.0727\n",
            "Epoch 5: val_acc did not improve from 0.88320\n",
            "\u001b[1m313/313\u001b[0m \u001b[32m━━━━━━━━━━━━━━━━━━━━\u001b[0m\u001b[37m\u001b[0m \u001b[1m8s\u001b[0m 27ms/step - acc: 0.9763 - loss: 0.0728 - val_acc: 0.8768 - val_loss: 0.4116\n",
            "Epoch 6/15\n",
            "\u001b[1m313/313\u001b[0m \u001b[32m━━━━━━━━━━━━━━━━━━━━\u001b[0m\u001b[37m\u001b[0m \u001b[1m0s\u001b[0m 24ms/step - acc: 0.9872 - loss: 0.0407\n",
            "Epoch 6: val_acc did not improve from 0.88320\n",
            "\u001b[1m313/313\u001b[0m \u001b[32m━━━━━━━━━━━━━━━━━━━━\u001b[0m\u001b[37m\u001b[0m \u001b[1m10s\u001b[0m 26ms/step - acc: 0.9872 - loss: 0.0407 - val_acc: 0.8634 - val_loss: 0.4881\n",
            "Epoch 6: early stopping\n"
          ]
        }
      ],
      "source": [
        "# 모델 설정\n",
        "embedding_dim = 100  # 임베딩 벡터의 차원\n",
        "hidden_units = 128 # GRU의 은닉 상태 크기\n",
        "vocab_size = 10000\n",
        "\n",
        "model = Sequential()\n",
        "model.add(Embedding(vocab_size, embedding_dim))\n",
        "model.add(GRU(hidden_units))\n",
        "model.add(Dense(1, activation='sigmoid'))\n",
        "\n",
        "# 모델 컴파일\n",
        "model.compile(optimizer='adam', loss='binary_crossentropy', metrics=['acc'])\n",
        "\n",
        "# 훈련 설정\n",
        "es = EarlyStopping(monitor='val_loss', mode='min', verbose=1, patience=4)\n",
        "mc = ModelCheckpoint('best_model.keras', monitor='val_acc', mode='max', verbose=1, save_best_only=True)\n",
        "\n",
        "# 데이터 불러오기\n",
        "max_len = 500\n",
        "(X_train, y_train), (X_test, y_test) = imdb.load_data(num_words=vocab_size)\n",
        "X_train = pad_sequences(X_train, maxlen=max_len)\n",
        "X_test = pad_sequences(X_test, maxlen=max_len)\n",
        "\n",
        "\n",
        "# 훈련 실행\n",
        "history = model.fit(X_train, y_train, epochs=15, callbacks=[es, mc], batch_size=64, validation_split=0.2)"
      ]
    },
    {
      "cell_type": "code",
      "execution_count": null,
      "metadata": {
        "colab": {
          "base_uri": "https://localhost:8080/"
        },
        "id": "ra3q42nS4VDW",
        "outputId": "67414a3f-4f0f-4b29-8373-3a6961531d28"
      },
      "outputs": [
        {
          "name": "stdout",
          "output_type": "stream",
          "text": [
            "\u001b[1m782/782\u001b[0m \u001b[32m━━━━━━━━━━━━━━━━━━━━\u001b[0m\u001b[37m\u001b[0m \u001b[1m8s\u001b[0m 9ms/step - acc: 0.8744 - loss: 0.3449\n",
            "테스트 정확도: loss:0.3352  accuracy : 0.8757\n"
          ]
        }
      ],
      "source": [
        "# 저장된 모델을 load\n",
        "loaded_model = load_model('best_model.keras')\n",
        "test_accuracy = loaded_model.evaluate(X_test, y_test)\n",
        "print(f'테스트 정확도: loss:{test_accuracy[0]:.4f}  accuracy : {test_accuracy[1]:.4f}'  )"
      ]
    },
    {
      "cell_type": "markdown",
      "metadata": {
        "id": "1YDbH9WU7VQu"
      },
      "source": [
        "문장예측"
      ]
    },
    {
      "cell_type": "code",
      "execution_count": null,
      "metadata": {
        "id": "maxGAQy17XhF"
      },
      "outputs": [],
      "source": [
        "def sentiment_predict(new_sentence):\n",
        "  # 알파벳과 숫자를 제외하고 모두 제거 및 알파벳 소문자화\n",
        "  new_sentence = re.sub('[^0-9a-zA-Z ]', '', new_sentence).lower()\n",
        "  encoded = []\n",
        "\n",
        "  # 띄어쓰기 단위 토큰화 후 정수 인코딩\n",
        "  for word in new_sentence.split():\n",
        "    try :\n",
        "      # 단어 집합의 크기를 10,000으로 제한.\n",
        "      if word_to_index[word] <= 10000:\n",
        "        encoded.append(word_to_index[word]+3)\n",
        "      else:\n",
        "      # 10,000 이상의 숫자는 <unk> 토큰으로 변환.\n",
        "        encoded.append(2)\n",
        "    # 단어 집합에 없는 단어는 <unk> 토큰으로 변환.\n",
        "    except KeyError:\n",
        "      encoded.append(2)\n",
        "\n",
        "  pad_sequence = pad_sequences([encoded], maxlen=max_len)\n",
        "  score = float(loaded_model.predict(pad_sequence)[0]) # 예측\n",
        "\n",
        "  if(score > 0.5):\n",
        "    print(\"{:.2f}% 확률로 긍정 리뷰입니다.\".format(score * 100))\n",
        "  else:\n",
        "    print(\"{:.2f}% 확률로 부정 리뷰입니다.\".format((1 - score) * 100))\n"
      ]
    },
    {
      "cell_type": "code",
      "execution_count": null,
      "metadata": {
        "colab": {
          "base_uri": "https://localhost:8080/"
        },
        "collapsed": true,
        "id": "bIvqxVyH5XAF",
        "outputId": "1aeb637c-1b30-4eae-c39f-7f5e9cea65d8"
      },
      "outputs": [
        {
          "name": "stdout",
          "output_type": "stream",
          "text": [
            "\u001b[1m1/1\u001b[0m \u001b[32m━━━━━━━━━━━━━━━━━━━━\u001b[0m\u001b[37m\u001b[0m \u001b[1m0s\u001b[0m 42ms/step\n",
            "96.14% 확률로 긍정 리뷰입니다.\n"
          ]
        },
        {
          "name": "stderr",
          "output_type": "stream",
          "text": [
            "<ipython-input-162-31c6a723762c>:20: DeprecationWarning: Conversion of an array with ndim > 0 to a scalar is deprecated, and will error in future. Ensure you extract a single element from your array before performing this operation. (Deprecated NumPy 1.25.)\n",
            "  score = float(loaded_model.predict(pad_sequence)[0]) # 예측\n"
          ]
        }
      ],
      "source": [
        "test_input = \"This movie was so unfocused and uninteresting\"\n",
        "sentiment_predict(test_input)"
      ]
    },
    {
      "cell_type": "markdown",
      "metadata": {
        "id": "ZDn8GDNtMt15"
      },
      "source": [
        "# 나이브 베이즈 분류기\n",
        "  - 1. 베이즈 정리를 기반으로 한 확률적 분류 모델\n",
        "      - 스펨메일 필터링, 감성분석, 뉴스 분류\n",
        "      - 베이즈 정리\n",
        "\n",
        "      ![image.png](data:image/png;base64,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)"
      ]
    },
    {
      "cell_type": "markdown",
      "metadata": {
        "id": "LEn41DxSNbJx"
      },
      "source": [
        "- 나이브 베이즈 분류 가정\n",
        "  - 각 단어는 서로 독립적이라고 가정 (\"Naive\" 가정)\n",
        "  - 문서안에서 단어 순서는 무시, 단어의 등장 빈도만 고려( Bag of Words ,Bow)\n",
        "- 나이브 베이즈를 이용한 스펨 필터링\n",
        "  - 'me free lottery'  스펨\n",
        "  - 'you free scholarship'   정상\n"
      ]
    },
    {
      "cell_type": "code",
      "execution_count": 1,
      "metadata": {
        "colab": {
          "base_uri": "https://localhost:8080/"
        },
        "id": "_8BcW_0VGf-S",
        "outputId": "d5ba7796-0634-40ff-cf10-0088fa09a2f8"
      },
      "outputs": [
        {
          "output_type": "stream",
          "name": "stdout",
          "text": [
            "dict_keys(['data', 'filenames', 'target_names', 'target', 'DESCR'])\n"
          ]
        }
      ],
      "source": [
        "# 데이터 로딩\n",
        "from sklearn.datasets import fetch_20newsgroups\n",
        "newsdata = fetch_20newsgroups(subset='train')\n",
        "print(newsdata.keys())"
      ]
    },
    {
      "cell_type": "code",
      "execution_count": 7,
      "metadata": {
        "id": "tHTBdw2WPRSp",
        "colab": {
          "base_uri": "https://localhost:8080/",
          "height": 80
        },
        "outputId": "369bd35e-06c6-49c3-ce1e-73b8cb79c0fa"
      },
      "outputs": [
        {
          "output_type": "execute_result",
          "data": {
            "text/plain": [
              "MultinomialNB()"
            ],
            "text/html": [
              "<style>#sk-container-id-1 {\n",
              "  /* Definition of color scheme common for light and dark mode */\n",
              "  --sklearn-color-text: #000;\n",
              "  --sklearn-color-text-muted: #666;\n",
              "  --sklearn-color-line: gray;\n",
              "  /* Definition of color scheme for unfitted estimators */\n",
              "  --sklearn-color-unfitted-level-0: #fff5e6;\n",
              "  --sklearn-color-unfitted-level-1: #f6e4d2;\n",
              "  --sklearn-color-unfitted-level-2: #ffe0b3;\n",
              "  --sklearn-color-unfitted-level-3: chocolate;\n",
              "  /* Definition of color scheme for fitted estimators */\n",
              "  --sklearn-color-fitted-level-0: #f0f8ff;\n",
              "  --sklearn-color-fitted-level-1: #d4ebff;\n",
              "  --sklearn-color-fitted-level-2: #b3dbfd;\n",
              "  --sklearn-color-fitted-level-3: cornflowerblue;\n",
              "\n",
              "  /* Specific color for light theme */\n",
              "  --sklearn-color-text-on-default-background: var(--sg-text-color, var(--theme-code-foreground, var(--jp-content-font-color1, black)));\n",
              "  --sklearn-color-background: var(--sg-background-color, var(--theme-background, var(--jp-layout-color0, white)));\n",
              "  --sklearn-color-border-box: var(--sg-text-color, var(--theme-code-foreground, var(--jp-content-font-color1, black)));\n",
              "  --sklearn-color-icon: #696969;\n",
              "\n",
              "  @media (prefers-color-scheme: dark) {\n",
              "    /* Redefinition of color scheme for dark theme */\n",
              "    --sklearn-color-text-on-default-background: var(--sg-text-color, var(--theme-code-foreground, var(--jp-content-font-color1, white)));\n",
              "    --sklearn-color-background: var(--sg-background-color, var(--theme-background, var(--jp-layout-color0, #111)));\n",
              "    --sklearn-color-border-box: var(--sg-text-color, var(--theme-code-foreground, var(--jp-content-font-color1, white)));\n",
              "    --sklearn-color-icon: #878787;\n",
              "  }\n",
              "}\n",
              "\n",
              "#sk-container-id-1 {\n",
              "  color: var(--sklearn-color-text);\n",
              "}\n",
              "\n",
              "#sk-container-id-1 pre {\n",
              "  padding: 0;\n",
              "}\n",
              "\n",
              "#sk-container-id-1 input.sk-hidden--visually {\n",
              "  border: 0;\n",
              "  clip: rect(1px 1px 1px 1px);\n",
              "  clip: rect(1px, 1px, 1px, 1px);\n",
              "  height: 1px;\n",
              "  margin: -1px;\n",
              "  overflow: hidden;\n",
              "  padding: 0;\n",
              "  position: absolute;\n",
              "  width: 1px;\n",
              "}\n",
              "\n",
              "#sk-container-id-1 div.sk-dashed-wrapped {\n",
              "  border: 1px dashed var(--sklearn-color-line);\n",
              "  margin: 0 0.4em 0.5em 0.4em;\n",
              "  box-sizing: border-box;\n",
              "  padding-bottom: 0.4em;\n",
              "  background-color: var(--sklearn-color-background);\n",
              "}\n",
              "\n",
              "#sk-container-id-1 div.sk-container {\n",
              "  /* jupyter's `normalize.less` sets `[hidden] { display: none; }`\n",
              "     but bootstrap.min.css set `[hidden] { display: none !important; }`\n",
              "     so we also need the `!important` here to be able to override the\n",
              "     default hidden behavior on the sphinx rendered scikit-learn.org.\n",
              "     See: https://github.com/scikit-learn/scikit-learn/issues/21755 */\n",
              "  display: inline-block !important;\n",
              "  position: relative;\n",
              "}\n",
              "\n",
              "#sk-container-id-1 div.sk-text-repr-fallback {\n",
              "  display: none;\n",
              "}\n",
              "\n",
              "div.sk-parallel-item,\n",
              "div.sk-serial,\n",
              "div.sk-item {\n",
              "  /* draw centered vertical line to link estimators */\n",
              "  background-image: linear-gradient(var(--sklearn-color-text-on-default-background), var(--sklearn-color-text-on-default-background));\n",
              "  background-size: 2px 100%;\n",
              "  background-repeat: no-repeat;\n",
              "  background-position: center center;\n",
              "}\n",
              "\n",
              "/* Parallel-specific style estimator block */\n",
              "\n",
              "#sk-container-id-1 div.sk-parallel-item::after {\n",
              "  content: \"\";\n",
              "  width: 100%;\n",
              "  border-bottom: 2px solid var(--sklearn-color-text-on-default-background);\n",
              "  flex-grow: 1;\n",
              "}\n",
              "\n",
              "#sk-container-id-1 div.sk-parallel {\n",
              "  display: flex;\n",
              "  align-items: stretch;\n",
              "  justify-content: center;\n",
              "  background-color: var(--sklearn-color-background);\n",
              "  position: relative;\n",
              "}\n",
              "\n",
              "#sk-container-id-1 div.sk-parallel-item {\n",
              "  display: flex;\n",
              "  flex-direction: column;\n",
              "}\n",
              "\n",
              "#sk-container-id-1 div.sk-parallel-item:first-child::after {\n",
              "  align-self: flex-end;\n",
              "  width: 50%;\n",
              "}\n",
              "\n",
              "#sk-container-id-1 div.sk-parallel-item:last-child::after {\n",
              "  align-self: flex-start;\n",
              "  width: 50%;\n",
              "}\n",
              "\n",
              "#sk-container-id-1 div.sk-parallel-item:only-child::after {\n",
              "  width: 0;\n",
              "}\n",
              "\n",
              "/* Serial-specific style estimator block */\n",
              "\n",
              "#sk-container-id-1 div.sk-serial {\n",
              "  display: flex;\n",
              "  flex-direction: column;\n",
              "  align-items: center;\n",
              "  background-color: var(--sklearn-color-background);\n",
              "  padding-right: 1em;\n",
              "  padding-left: 1em;\n",
              "}\n",
              "\n",
              "\n",
              "/* Toggleable style: style used for estimator/Pipeline/ColumnTransformer box that is\n",
              "clickable and can be expanded/collapsed.\n",
              "- Pipeline and ColumnTransformer use this feature and define the default style\n",
              "- Estimators will overwrite some part of the style using the `sk-estimator` class\n",
              "*/\n",
              "\n",
              "/* Pipeline and ColumnTransformer style (default) */\n",
              "\n",
              "#sk-container-id-1 div.sk-toggleable {\n",
              "  /* Default theme specific background. It is overwritten whether we have a\n",
              "  specific estimator or a Pipeline/ColumnTransformer */\n",
              "  background-color: var(--sklearn-color-background);\n",
              "}\n",
              "\n",
              "/* Toggleable label */\n",
              "#sk-container-id-1 label.sk-toggleable__label {\n",
              "  cursor: pointer;\n",
              "  display: flex;\n",
              "  width: 100%;\n",
              "  margin-bottom: 0;\n",
              "  padding: 0.5em;\n",
              "  box-sizing: border-box;\n",
              "  text-align: center;\n",
              "  align-items: start;\n",
              "  justify-content: space-between;\n",
              "  gap: 0.5em;\n",
              "}\n",
              "\n",
              "#sk-container-id-1 label.sk-toggleable__label .caption {\n",
              "  font-size: 0.6rem;\n",
              "  font-weight: lighter;\n",
              "  color: var(--sklearn-color-text-muted);\n",
              "}\n",
              "\n",
              "#sk-container-id-1 label.sk-toggleable__label-arrow:before {\n",
              "  /* Arrow on the left of the label */\n",
              "  content: \"▸\";\n",
              "  float: left;\n",
              "  margin-right: 0.25em;\n",
              "  color: var(--sklearn-color-icon);\n",
              "}\n",
              "\n",
              "#sk-container-id-1 label.sk-toggleable__label-arrow:hover:before {\n",
              "  color: var(--sklearn-color-text);\n",
              "}\n",
              "\n",
              "/* Toggleable content - dropdown */\n",
              "\n",
              "#sk-container-id-1 div.sk-toggleable__content {\n",
              "  max-height: 0;\n",
              "  max-width: 0;\n",
              "  overflow: hidden;\n",
              "  text-align: left;\n",
              "  /* unfitted */\n",
              "  background-color: var(--sklearn-color-unfitted-level-0);\n",
              "}\n",
              "\n",
              "#sk-container-id-1 div.sk-toggleable__content.fitted {\n",
              "  /* fitted */\n",
              "  background-color: var(--sklearn-color-fitted-level-0);\n",
              "}\n",
              "\n",
              "#sk-container-id-1 div.sk-toggleable__content pre {\n",
              "  margin: 0.2em;\n",
              "  border-radius: 0.25em;\n",
              "  color: var(--sklearn-color-text);\n",
              "  /* unfitted */\n",
              "  background-color: var(--sklearn-color-unfitted-level-0);\n",
              "}\n",
              "\n",
              "#sk-container-id-1 div.sk-toggleable__content.fitted pre {\n",
              "  /* unfitted */\n",
              "  background-color: var(--sklearn-color-fitted-level-0);\n",
              "}\n",
              "\n",
              "#sk-container-id-1 input.sk-toggleable__control:checked~div.sk-toggleable__content {\n",
              "  /* Expand drop-down */\n",
              "  max-height: 200px;\n",
              "  max-width: 100%;\n",
              "  overflow: auto;\n",
              "}\n",
              "\n",
              "#sk-container-id-1 input.sk-toggleable__control:checked~label.sk-toggleable__label-arrow:before {\n",
              "  content: \"▾\";\n",
              "}\n",
              "\n",
              "/* Pipeline/ColumnTransformer-specific style */\n",
              "\n",
              "#sk-container-id-1 div.sk-label input.sk-toggleable__control:checked~label.sk-toggleable__label {\n",
              "  color: var(--sklearn-color-text);\n",
              "  background-color: var(--sklearn-color-unfitted-level-2);\n",
              "}\n",
              "\n",
              "#sk-container-id-1 div.sk-label.fitted input.sk-toggleable__control:checked~label.sk-toggleable__label {\n",
              "  background-color: var(--sklearn-color-fitted-level-2);\n",
              "}\n",
              "\n",
              "/* Estimator-specific style */\n",
              "\n",
              "/* Colorize estimator box */\n",
              "#sk-container-id-1 div.sk-estimator input.sk-toggleable__control:checked~label.sk-toggleable__label {\n",
              "  /* unfitted */\n",
              "  background-color: var(--sklearn-color-unfitted-level-2);\n",
              "}\n",
              "\n",
              "#sk-container-id-1 div.sk-estimator.fitted input.sk-toggleable__control:checked~label.sk-toggleable__label {\n",
              "  /* fitted */\n",
              "  background-color: var(--sklearn-color-fitted-level-2);\n",
              "}\n",
              "\n",
              "#sk-container-id-1 div.sk-label label.sk-toggleable__label,\n",
              "#sk-container-id-1 div.sk-label label {\n",
              "  /* The background is the default theme color */\n",
              "  color: var(--sklearn-color-text-on-default-background);\n",
              "}\n",
              "\n",
              "/* On hover, darken the color of the background */\n",
              "#sk-container-id-1 div.sk-label:hover label.sk-toggleable__label {\n",
              "  color: var(--sklearn-color-text);\n",
              "  background-color: var(--sklearn-color-unfitted-level-2);\n",
              "}\n",
              "\n",
              "/* Label box, darken color on hover, fitted */\n",
              "#sk-container-id-1 div.sk-label.fitted:hover label.sk-toggleable__label.fitted {\n",
              "  color: var(--sklearn-color-text);\n",
              "  background-color: var(--sklearn-color-fitted-level-2);\n",
              "}\n",
              "\n",
              "/* Estimator label */\n",
              "\n",
              "#sk-container-id-1 div.sk-label label {\n",
              "  font-family: monospace;\n",
              "  font-weight: bold;\n",
              "  display: inline-block;\n",
              "  line-height: 1.2em;\n",
              "}\n",
              "\n",
              "#sk-container-id-1 div.sk-label-container {\n",
              "  text-align: center;\n",
              "}\n",
              "\n",
              "/* Estimator-specific */\n",
              "#sk-container-id-1 div.sk-estimator {\n",
              "  font-family: monospace;\n",
              "  border: 1px dotted var(--sklearn-color-border-box);\n",
              "  border-radius: 0.25em;\n",
              "  box-sizing: border-box;\n",
              "  margin-bottom: 0.5em;\n",
              "  /* unfitted */\n",
              "  background-color: var(--sklearn-color-unfitted-level-0);\n",
              "}\n",
              "\n",
              "#sk-container-id-1 div.sk-estimator.fitted {\n",
              "  /* fitted */\n",
              "  background-color: var(--sklearn-color-fitted-level-0);\n",
              "}\n",
              "\n",
              "/* on hover */\n",
              "#sk-container-id-1 div.sk-estimator:hover {\n",
              "  /* unfitted */\n",
              "  background-color: var(--sklearn-color-unfitted-level-2);\n",
              "}\n",
              "\n",
              "#sk-container-id-1 div.sk-estimator.fitted:hover {\n",
              "  /* fitted */\n",
              "  background-color: var(--sklearn-color-fitted-level-2);\n",
              "}\n",
              "\n",
              "/* Specification for estimator info (e.g. \"i\" and \"?\") */\n",
              "\n",
              "/* Common style for \"i\" and \"?\" */\n",
              "\n",
              ".sk-estimator-doc-link,\n",
              "a:link.sk-estimator-doc-link,\n",
              "a:visited.sk-estimator-doc-link {\n",
              "  float: right;\n",
              "  font-size: smaller;\n",
              "  line-height: 1em;\n",
              "  font-family: monospace;\n",
              "  background-color: var(--sklearn-color-background);\n",
              "  border-radius: 1em;\n",
              "  height: 1em;\n",
              "  width: 1em;\n",
              "  text-decoration: none !important;\n",
              "  margin-left: 0.5em;\n",
              "  text-align: center;\n",
              "  /* unfitted */\n",
              "  border: var(--sklearn-color-unfitted-level-1) 1pt solid;\n",
              "  color: var(--sklearn-color-unfitted-level-1);\n",
              "}\n",
              "\n",
              ".sk-estimator-doc-link.fitted,\n",
              "a:link.sk-estimator-doc-link.fitted,\n",
              "a:visited.sk-estimator-doc-link.fitted {\n",
              "  /* fitted */\n",
              "  border: var(--sklearn-color-fitted-level-1) 1pt solid;\n",
              "  color: var(--sklearn-color-fitted-level-1);\n",
              "}\n",
              "\n",
              "/* On hover */\n",
              "div.sk-estimator:hover .sk-estimator-doc-link:hover,\n",
              ".sk-estimator-doc-link:hover,\n",
              "div.sk-label-container:hover .sk-estimator-doc-link:hover,\n",
              ".sk-estimator-doc-link:hover {\n",
              "  /* unfitted */\n",
              "  background-color: var(--sklearn-color-unfitted-level-3);\n",
              "  color: var(--sklearn-color-background);\n",
              "  text-decoration: none;\n",
              "}\n",
              "\n",
              "div.sk-estimator.fitted:hover .sk-estimator-doc-link.fitted:hover,\n",
              ".sk-estimator-doc-link.fitted:hover,\n",
              "div.sk-label-container:hover .sk-estimator-doc-link.fitted:hover,\n",
              ".sk-estimator-doc-link.fitted:hover {\n",
              "  /* fitted */\n",
              "  background-color: var(--sklearn-color-fitted-level-3);\n",
              "  color: var(--sklearn-color-background);\n",
              "  text-decoration: none;\n",
              "}\n",
              "\n",
              "/* Span, style for the box shown on hovering the info icon */\n",
              ".sk-estimator-doc-link span {\n",
              "  display: none;\n",
              "  z-index: 9999;\n",
              "  position: relative;\n",
              "  font-weight: normal;\n",
              "  right: .2ex;\n",
              "  padding: .5ex;\n",
              "  margin: .5ex;\n",
              "  width: min-content;\n",
              "  min-width: 20ex;\n",
              "  max-width: 50ex;\n",
              "  color: var(--sklearn-color-text);\n",
              "  box-shadow: 2pt 2pt 4pt #999;\n",
              "  /* unfitted */\n",
              "  background: var(--sklearn-color-unfitted-level-0);\n",
              "  border: .5pt solid var(--sklearn-color-unfitted-level-3);\n",
              "}\n",
              "\n",
              ".sk-estimator-doc-link.fitted span {\n",
              "  /* fitted */\n",
              "  background: var(--sklearn-color-fitted-level-0);\n",
              "  border: var(--sklearn-color-fitted-level-3);\n",
              "}\n",
              "\n",
              ".sk-estimator-doc-link:hover span {\n",
              "  display: block;\n",
              "}\n",
              "\n",
              "/* \"?\"-specific style due to the `<a>` HTML tag */\n",
              "\n",
              "#sk-container-id-1 a.estimator_doc_link {\n",
              "  float: right;\n",
              "  font-size: 1rem;\n",
              "  line-height: 1em;\n",
              "  font-family: monospace;\n",
              "  background-color: var(--sklearn-color-background);\n",
              "  border-radius: 1rem;\n",
              "  height: 1rem;\n",
              "  width: 1rem;\n",
              "  text-decoration: none;\n",
              "  /* unfitted */\n",
              "  color: var(--sklearn-color-unfitted-level-1);\n",
              "  border: var(--sklearn-color-unfitted-level-1) 1pt solid;\n",
              "}\n",
              "\n",
              "#sk-container-id-1 a.estimator_doc_link.fitted {\n",
              "  /* fitted */\n",
              "  border: var(--sklearn-color-fitted-level-1) 1pt solid;\n",
              "  color: var(--sklearn-color-fitted-level-1);\n",
              "}\n",
              "\n",
              "/* On hover */\n",
              "#sk-container-id-1 a.estimator_doc_link:hover {\n",
              "  /* unfitted */\n",
              "  background-color: var(--sklearn-color-unfitted-level-3);\n",
              "  color: var(--sklearn-color-background);\n",
              "  text-decoration: none;\n",
              "}\n",
              "\n",
              "#sk-container-id-1 a.estimator_doc_link.fitted:hover {\n",
              "  /* fitted */\n",
              "  background-color: var(--sklearn-color-fitted-level-3);\n",
              "}\n",
              "</style><div id=\"sk-container-id-1\" class=\"sk-top-container\"><div class=\"sk-text-repr-fallback\"><pre>MultinomialNB()</pre><b>In a Jupyter environment, please rerun this cell to show the HTML representation or trust the notebook. <br />On GitHub, the HTML representation is unable to render, please try loading this page with nbviewer.org.</b></div><div class=\"sk-container\" hidden><div class=\"sk-item\"><div class=\"sk-estimator fitted sk-toggleable\"><input class=\"sk-toggleable__control sk-hidden--visually\" id=\"sk-estimator-id-1\" type=\"checkbox\" checked><label for=\"sk-estimator-id-1\" class=\"sk-toggleable__label fitted sk-toggleable__label-arrow\"><div><div>MultinomialNB</div></div><div><a class=\"sk-estimator-doc-link fitted\" rel=\"noreferrer\" target=\"_blank\" href=\"https://scikit-learn.org/1.6/modules/generated/sklearn.naive_bayes.MultinomialNB.html\">?<span>Documentation for MultinomialNB</span></a><span class=\"sk-estimator-doc-link fitted\">i<span>Fitted</span></span></div></label><div class=\"sk-toggleable__content fitted\"><pre>MultinomialNB()</pre></div> </div></div></div></div>"
            ]
          },
          "metadata": {},
          "execution_count": 7
        }
      ],
      "source": [
        "# 텍스트 전처리 및 벡터화\n",
        "from sklearn.feature_extraction.text import CountVectorizer, TfidfTransformer\n",
        "from sklearn.naive_bayes import MultinomialNB\n",
        "from sklearn.metrics import accuracy_score\n",
        "\n",
        "# BoW 생성\n",
        "vectorizer = CountVectorizer()\n",
        "X_train_counts =  vectorizer.fit_transform(newsdata.data)\n",
        "\n",
        "# TF-IDF 변환\n",
        "tfidf_transformer = TfidfTransformer()\n",
        "X_train_tfidf = tfidf_transformer.fit_transform(X_train_counts)\n",
        "\n",
        "# 다항 나이브 베이즈 모델  생성 학습\n",
        "clf = MultinomialNB()\n",
        "clf.fit(X_train_tfidf, newsdata.target)"
      ]
    },
    {
      "cell_type": "code",
      "source": [],
      "metadata": {
        "colab": {
          "base_uri": "https://localhost:8080/"
        },
        "id": "M_16MvSRUbVo",
        "outputId": "92ad7419-5190-4f34-f597-5b55c73a9a6d"
      },
      "execution_count": 13,
      "outputs": [
        {
          "output_type": "execute_result",
          "data": {
            "text/plain": [
              "list"
            ]
          },
          "metadata": {},
          "execution_count": 13
        }
      ]
    },
    {
      "cell_type": "code",
      "source": [
        "#  테스트  데이터 평가\n",
        "newsdata_test = fetch_20newsgroups(subset='test', shuffle=True)\n",
        "X_test_counts = vectorizer.transform(newsdata_test.data)\n",
        "X_test_tfidf = tfidf_transformer.transform(X_test_counts)\n",
        "\n",
        "predicted = clf.predict(X_test_tfidf)\n",
        "print(f\"정확도: {accuracy_score(newsdata_test.target, predicted):.4f}\")"
      ],
      "metadata": {
        "colab": {
          "base_uri": "https://localhost:8080/"
        },
        "id": "nFCmWYSPSMUw",
        "outputId": "3117bf29-b18c-4635-b6d9-ec6005fd5286"
      },
      "execution_count": 10,
      "outputs": [
        {
          "output_type": "stream",
          "name": "stdout",
          "text": [
            "정확도: 0.7739\n"
          ]
        }
      ]
    },
    {
      "cell_type": "code",
      "execution_count": 16,
      "metadata": {
        "id": "b2oM2veqOxk_",
        "colab": {
          "base_uri": "https://localhost:8080/",
          "height": 35
        },
        "outputId": "3ae30bd1-4ed1-4927-cdb1-1901bf37c2bb"
      },
      "outputs": [
        {
          "output_type": "execute_result",
          "data": {
            "text/plain": [
              "'sci.crypt'"
            ],
            "application/vnd.google.colaboratory.intrinsic+json": {
              "type": "string"
            }
          },
          "metadata": {},
          "execution_count": 16
        }
      ],
      "source": [
        "# 이메일 셈플을 적용해서 스펨여부 확인\n",
        "text = '''\n",
        "We just received your resume and would like to thank you for your interest in\n",
        "working at Google. This email confirms that your application has been submitted\n",
        "for an open position.\n",
        "\n",
        "Our staffing team will carefully assess your qualifications for the role(s) you\n",
        "selected and others that may be a fit. Should there be a suitable match, we\n",
        "will be sure to get in touch with you.\n",
        "\n",
        "Click on the attached file to review your submitted application.\n",
        "\n",
        "Have fun and thanks again for applying to Google!\n",
        "\n",
        "Google Staffing\n",
        "'''\n",
        "\n",
        "# 벡터로 변환\n",
        "X_sample_counts =  vectorizer.transform([text])\n",
        "X_sample_tfidf = tfidf_transformer.transform(X_sample_counts)\n",
        "\n",
        "# 스팸 여부 예측\n",
        "predicted = clf.predict(X_sample_tfidf)\n",
        "newsdata.target_names[predicted[0]]\n"
      ]
    },
    {
      "cell_type": "code",
      "source": [
        "newsdata.target_names"
      ],
      "metadata": {
        "colab": {
          "base_uri": "https://localhost:8080/"
        },
        "id": "A72GAB3wUP_I",
        "outputId": "5958a552-a86f-4b87-9f51-a1dfc0138695"
      },
      "execution_count": 17,
      "outputs": [
        {
          "output_type": "execute_result",
          "data": {
            "text/plain": [
              "['alt.atheism',\n",
              " 'comp.graphics',\n",
              " 'comp.os.ms-windows.misc',\n",
              " 'comp.sys.ibm.pc.hardware',\n",
              " 'comp.sys.mac.hardware',\n",
              " 'comp.windows.x',\n",
              " 'misc.forsale',\n",
              " 'rec.autos',\n",
              " 'rec.motorcycles',\n",
              " 'rec.sport.baseball',\n",
              " 'rec.sport.hockey',\n",
              " 'sci.crypt',\n",
              " 'sci.electronics',\n",
              " 'sci.med',\n",
              " 'sci.space',\n",
              " 'soc.religion.christian',\n",
              " 'talk.politics.guns',\n",
              " 'talk.politics.mideast',\n",
              " 'talk.politics.misc',\n",
              " 'talk.religion.misc']"
            ]
          },
          "metadata": {},
          "execution_count": 17
        }
      ]
    },
    {
      "cell_type": "code",
      "source": [],
      "metadata": {
        "id": "oJItHIGUVBjn"
      },
      "execution_count": null,
      "outputs": []
    }
  ],
  "metadata": {
    "colab": {
      "provenance": []
    },
    "kernelspec": {
      "display_name": "Python 3",
      "name": "python3"
    },
    "language_info": {
      "name": "python"
    }
  },
  "nbformat": 4,
  "nbformat_minor": 0
}