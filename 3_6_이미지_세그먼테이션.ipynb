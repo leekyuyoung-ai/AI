{
  "nbformat": 4,
  "nbformat_minor": 0,
  "metadata": {
    "colab": {
      "provenance": [],
      "gpuType": "T4"
    },
    "kernelspec": {
      "name": "python3",
      "display_name": "Python 3"
    },
    "language_info": {
      "name": "python"
    },
    "accelerator": "GPU"
  },
  "cells": [
    {
      "cell_type": "markdown",
      "source": [
        "- 세그먼트 : 이미지를 여러개의 영역으로 나누는 작업으로 컴퓨터의 비전 및 이미지 처리에 사용\n",
        "  - 이진 세그먼트\n",
        "  - 다중 클래스 세그먼트\n",
        "  - 인스턴스 세그먼트\n",
        "    - 같은 클래스의 객체를 개별적으로 구분\n",
        "  - 파노라믹 세그먼트\n",
        "    - 인스턴스 세그먼트와 픽셀 분류의 조합, 모든 픽셀을 객체로 할당하거나 배경으로 분류"
      ],
      "metadata": {
        "id": "s7PoyvfMh0z6"
      }
    },
    {
      "cell_type": "markdown",
      "source": [
        "참고 자료 : https://www.tensorflow.org/tutorials/images/segmentation?hl=ko"
      ],
      "metadata": {
        "id": "MXRQ_5oRjSvT"
      }
    },
    {
      "cell_type": "code",
      "source": [
        "!curl -O http://www.robots.ox.ac.uk/~vgg/data/pets/data/images.tar.gz\n",
        "!curl -O http://www.robots.ox.ac.uk/~vgg/data/pets/data/annotations.tar.gz\n",
        "!tar -xf images.tar.gz\n",
        "!tar -xf annotations.tar.gz"
      ],
      "metadata": {
        "colab": {
          "base_uri": "https://localhost:8080/"
        },
        "collapsed": true,
        "id": "0EE_xvc0pVfg",
        "outputId": "8ef61f4f-a01e-4ea4-b24e-465f3ffa6915"
      },
      "execution_count": 47,
      "outputs": [
        {
          "output_type": "stream",
          "name": "stdout",
          "text": [
            "  % Total    % Received % Xferd  Average Speed   Time    Time     Time  Current\n",
            "                                 Dload  Upload   Total   Spent    Left  Speed\n",
            "100   269  100   269    0     0    284      0 --:--:-- --:--:-- --:--:--   284\n",
            "  % Total    % Received % Xferd  Average Speed   Time    Time     Time  Current\n",
            "                                 Dload  Upload   Total   Spent    Left  Speed\n",
            "100   274  100   274    0     0    772      0 --:--:-- --:--:-- --:--:--   774\n",
            "tar: This does not look like a tar archive\n",
            "\n",
            "gzip: stdin: not in gzip format\n",
            "tar: Child returned status 1\n",
            "tar: Error is not recoverable: exiting now\n",
            "tar: This does not look like a tar archive\n",
            "\n",
            "gzip: stdin: not in gzip format\n",
            "tar: Child returned status 1\n",
            "tar: Error is not recoverable: exiting now\n"
          ]
        }
      ]
    },
    {
      "cell_type": "code",
      "source": [],
      "metadata": {
        "id": "H3bUbhVwwqbz"
      },
      "execution_count": null,
      "outputs": []
    }
  ]
}