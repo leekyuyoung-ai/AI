{
  "nbformat": 4,
  "nbformat_minor": 0,
  "metadata": {
    "colab": {
      "provenance": []
    },
    "kernelspec": {
      "name": "python3",
      "display_name": "Python 3"
    },
    "language_info": {
      "name": "python"
    }
  },
  "cells": [
    {
      "cell_type": "code",
      "execution_count": null,
      "metadata": {
        "id": "HyP_s4XCf5Ne"
      },
      "outputs": [],
      "source": []
    },
    {
      "cell_type": "markdown",
      "source": [
        "- 데이터 시각화 및 분석\n",
        "  - 이상치\n",
        "    - 통계적관점\n",
        "      - 데이터가 평균에서 벗어난 정도를 나타내는 표준편차를 기준으로 정의 예들을어서 평균에 3표준 편차 이상 벗어난 값\n",
        "      - IQR(Interquartile Range) 사용해서 Q1 - 1.5xIQR and Q3 + 1.5xIQR\n",
        "    - 도메인 기반 정의\n",
        "      - 도메인 지식에 따라서 특정 임계값을 초과하거나 미만인 값을 이상치로 간주"
      ],
      "metadata": {
        "id": "k4ByHz7XgElp"
      }
    },
    {
      "cell_type": "code",
      "source": [
        "import numpy as np\n",
        "import pandas as pd\n",
        "import matplotlib.pyplot as plt\n",
        "import seaborn as sns\n",
        "\n",
        "# 임의의 데이터 생성\n",
        "np.random.seed(42)\n",
        "data = np.random.normal(50,10,100)  # 평균 50, 표준편차 10인 정규분포 데이터\n",
        "print(data)\n",
        "data = np.append(data, [10,100])  # 이상치를 추가\n",
        "print(data)"
      ],
      "metadata": {
        "colab": {
          "base_uri": "https://localhost:8080/"
        },
        "id": "SxiqC7GjgQDx",
        "outputId": "405a9076-f427-464b-81f0-76164c2499c3"
      },
      "execution_count": null,
      "outputs": [
        {
          "output_type": "stream",
          "name": "stdout",
          "text": [
            "[54.96714153 48.61735699 56.47688538 65.23029856 47.65846625 47.65863043\n",
            " 65.79212816 57.67434729 45.30525614 55.42560044 45.36582307 45.34270246\n",
            " 52.41962272 30.86719755 32.75082167 44.37712471 39.8716888  53.14247333\n",
            " 40.91975924 35.87696299 64.65648769 47.742237   50.67528205 35.75251814\n",
            " 44.55617275 51.1092259  38.49006423 53.75698018 43.9936131  47.0830625\n",
            " 43.98293388 68.52278185 49.86502775 39.42289071 58.22544912 37.7915635\n",
            " 52.08863595 30.40329876 36.71813951 51.96861236 57.3846658  51.71368281\n",
            " 48.84351718 46.98896304 35.2147801  42.80155792 45.39361229 60.57122226\n",
            " 53.4361829  32.36959845 53.24083969 46.1491772  43.23078    56.11676289\n",
            " 60.30999522 59.31280119 41.60782477 46.90787624 53.31263431 59.75545127\n",
            " 45.20825762 48.14341023 38.93665026 38.03793376 58.12525822 63.56240029\n",
            " 49.27989878 60.03532898 53.61636025 43.54880245 53.61395606 65.38036566\n",
            " 49.64173961 65.64643656 23.80254896 58.21902504 50.87047068 47.0099265\n",
            " 50.91760777 30.12431085 47.80328112 53.57112572 64.77894045 44.81729782\n",
            " 41.91506397 44.98242956 59.15402118 53.2875111  44.70239796 55.13267433\n",
            " 50.97077549 59.68644991 42.97946906 46.72337853 46.07891847 35.36485052\n",
            " 52.96120277 52.61055272 50.05113457 47.65412867]\n",
            "[ 54.96714153  48.61735699  56.47688538  65.23029856  47.65846625\n",
            "  47.65863043  65.79212816  57.67434729  45.30525614  55.42560044\n",
            "  45.36582307  45.34270246  52.41962272  30.86719755  32.75082167\n",
            "  44.37712471  39.8716888   53.14247333  40.91975924  35.87696299\n",
            "  64.65648769  47.742237    50.67528205  35.75251814  44.55617275\n",
            "  51.1092259   38.49006423  53.75698018  43.9936131   47.0830625\n",
            "  43.98293388  68.52278185  49.86502775  39.42289071  58.22544912\n",
            "  37.7915635   52.08863595  30.40329876  36.71813951  51.96861236\n",
            "  57.3846658   51.71368281  48.84351718  46.98896304  35.2147801\n",
            "  42.80155792  45.39361229  60.57122226  53.4361829   32.36959845\n",
            "  53.24083969  46.1491772   43.23078     56.11676289  60.30999522\n",
            "  59.31280119  41.60782477  46.90787624  53.31263431  59.75545127\n",
            "  45.20825762  48.14341023  38.93665026  38.03793376  58.12525822\n",
            "  63.56240029  49.27989878  60.03532898  53.61636025  43.54880245\n",
            "  53.61395606  65.38036566  49.64173961  65.64643656  23.80254896\n",
            "  58.21902504  50.87047068  47.0099265   50.91760777  30.12431085\n",
            "  47.80328112  53.57112572  64.77894045  44.81729782  41.91506397\n",
            "  44.98242956  59.15402118  53.2875111   44.70239796  55.13267433\n",
            "  50.97077549  59.68644991  42.97946906  46.72337853  46.07891847\n",
            "  35.36485052  52.96120277  52.61055272  50.05113457  47.65412867\n",
            "  10.         100.        ]\n"
          ]
        }
      ]
    },
    {
      "cell_type": "code",
      "source": [
        "# 데이터 프레임 생성\n",
        "df = pd.DataFrame(data, columns=['value'])\n",
        "df.head()"
      ],
      "metadata": {
        "colab": {
          "base_uri": "https://localhost:8080/",
          "height": 206
        },
        "id": "x1d2ytpuioFY",
        "outputId": "e7f38b41-6f68-44d5-caaa-f9c20388cc6f"
      },
      "execution_count": null,
      "outputs": [
        {
          "output_type": "execute_result",
          "data": {
            "text/plain": [
              "       value\n",
              "0  54.967142\n",
              "1  48.617357\n",
              "2  56.476885\n",
              "3  65.230299\n",
              "4  47.658466"
            ],
            "text/html": [
              "\n",
              "  <div id=\"df-521b683e-e2f7-4822-937e-e2280c5f9767\" class=\"colab-df-container\">\n",
              "    <div>\n",
              "<style scoped>\n",
              "    .dataframe tbody tr th:only-of-type {\n",
              "        vertical-align: middle;\n",
              "    }\n",
              "\n",
              "    .dataframe tbody tr th {\n",
              "        vertical-align: top;\n",
              "    }\n",
              "\n",
              "    .dataframe thead th {\n",
              "        text-align: right;\n",
              "    }\n",
              "</style>\n",
              "<table border=\"1\" class=\"dataframe\">\n",
              "  <thead>\n",
              "    <tr style=\"text-align: right;\">\n",
              "      <th></th>\n",
              "      <th>value</th>\n",
              "    </tr>\n",
              "  </thead>\n",
              "  <tbody>\n",
              "    <tr>\n",
              "      <th>0</th>\n",
              "      <td>54.967142</td>\n",
              "    </tr>\n",
              "    <tr>\n",
              "      <th>1</th>\n",
              "      <td>48.617357</td>\n",
              "    </tr>\n",
              "    <tr>\n",
              "      <th>2</th>\n",
              "      <td>56.476885</td>\n",
              "    </tr>\n",
              "    <tr>\n",
              "      <th>3</th>\n",
              "      <td>65.230299</td>\n",
              "    </tr>\n",
              "    <tr>\n",
              "      <th>4</th>\n",
              "      <td>47.658466</td>\n",
              "    </tr>\n",
              "  </tbody>\n",
              "</table>\n",
              "</div>\n",
              "    <div class=\"colab-df-buttons\">\n",
              "\n",
              "  <div class=\"colab-df-container\">\n",
              "    <button class=\"colab-df-convert\" onclick=\"convertToInteractive('df-521b683e-e2f7-4822-937e-e2280c5f9767')\"\n",
              "            title=\"Convert this dataframe to an interactive table.\"\n",
              "            style=\"display:none;\">\n",
              "\n",
              "  <svg xmlns=\"http://www.w3.org/2000/svg\" height=\"24px\" viewBox=\"0 -960 960 960\">\n",
              "    <path d=\"M120-120v-720h720v720H120Zm60-500h600v-160H180v160Zm220 220h160v-160H400v160Zm0 220h160v-160H400v160ZM180-400h160v-160H180v160Zm440 0h160v-160H620v160ZM180-180h160v-160H180v160Zm440 0h160v-160H620v160Z\"/>\n",
              "  </svg>\n",
              "    </button>\n",
              "\n",
              "  <style>\n",
              "    .colab-df-container {\n",
              "      display:flex;\n",
              "      gap: 12px;\n",
              "    }\n",
              "\n",
              "    .colab-df-convert {\n",
              "      background-color: #E8F0FE;\n",
              "      border: none;\n",
              "      border-radius: 50%;\n",
              "      cursor: pointer;\n",
              "      display: none;\n",
              "      fill: #1967D2;\n",
              "      height: 32px;\n",
              "      padding: 0 0 0 0;\n",
              "      width: 32px;\n",
              "    }\n",
              "\n",
              "    .colab-df-convert:hover {\n",
              "      background-color: #E2EBFA;\n",
              "      box-shadow: 0px 1px 2px rgba(60, 64, 67, 0.3), 0px 1px 3px 1px rgba(60, 64, 67, 0.15);\n",
              "      fill: #174EA6;\n",
              "    }\n",
              "\n",
              "    .colab-df-buttons div {\n",
              "      margin-bottom: 4px;\n",
              "    }\n",
              "\n",
              "    [theme=dark] .colab-df-convert {\n",
              "      background-color: #3B4455;\n",
              "      fill: #D2E3FC;\n",
              "    }\n",
              "\n",
              "    [theme=dark] .colab-df-convert:hover {\n",
              "      background-color: #434B5C;\n",
              "      box-shadow: 0px 1px 3px 1px rgba(0, 0, 0, 0.15);\n",
              "      filter: drop-shadow(0px 1px 2px rgba(0, 0, 0, 0.3));\n",
              "      fill: #FFFFFF;\n",
              "    }\n",
              "  </style>\n",
              "\n",
              "    <script>\n",
              "      const buttonEl =\n",
              "        document.querySelector('#df-521b683e-e2f7-4822-937e-e2280c5f9767 button.colab-df-convert');\n",
              "      buttonEl.style.display =\n",
              "        google.colab.kernel.accessAllowed ? 'block' : 'none';\n",
              "\n",
              "      async function convertToInteractive(key) {\n",
              "        const element = document.querySelector('#df-521b683e-e2f7-4822-937e-e2280c5f9767');\n",
              "        const dataTable =\n",
              "          await google.colab.kernel.invokeFunction('convertToInteractive',\n",
              "                                                    [key], {});\n",
              "        if (!dataTable) return;\n",
              "\n",
              "        const docLinkHtml = 'Like what you see? Visit the ' +\n",
              "          '<a target=\"_blank\" href=https://colab.research.google.com/notebooks/data_table.ipynb>data table notebook</a>'\n",
              "          + ' to learn more about interactive tables.';\n",
              "        element.innerHTML = '';\n",
              "        dataTable['output_type'] = 'display_data';\n",
              "        await google.colab.output.renderOutput(dataTable, element);\n",
              "        const docLink = document.createElement('div');\n",
              "        docLink.innerHTML = docLinkHtml;\n",
              "        element.appendChild(docLink);\n",
              "      }\n",
              "    </script>\n",
              "  </div>\n",
              "\n",
              "\n",
              "<div id=\"df-6b8b9c4d-b9f9-42a2-80ff-072a150bec63\">\n",
              "  <button class=\"colab-df-quickchart\" onclick=\"quickchart('df-6b8b9c4d-b9f9-42a2-80ff-072a150bec63')\"\n",
              "            title=\"Suggest charts\"\n",
              "            style=\"display:none;\">\n",
              "\n",
              "<svg xmlns=\"http://www.w3.org/2000/svg\" height=\"24px\"viewBox=\"0 0 24 24\"\n",
              "     width=\"24px\">\n",
              "    <g>\n",
              "        <path d=\"M19 3H5c-1.1 0-2 .9-2 2v14c0 1.1.9 2 2 2h14c1.1 0 2-.9 2-2V5c0-1.1-.9-2-2-2zM9 17H7v-7h2v7zm4 0h-2V7h2v10zm4 0h-2v-4h2v4z\"/>\n",
              "    </g>\n",
              "</svg>\n",
              "  </button>\n",
              "\n",
              "<style>\n",
              "  .colab-df-quickchart {\n",
              "      --bg-color: #E8F0FE;\n",
              "      --fill-color: #1967D2;\n",
              "      --hover-bg-color: #E2EBFA;\n",
              "      --hover-fill-color: #174EA6;\n",
              "      --disabled-fill-color: #AAA;\n",
              "      --disabled-bg-color: #DDD;\n",
              "  }\n",
              "\n",
              "  [theme=dark] .colab-df-quickchart {\n",
              "      --bg-color: #3B4455;\n",
              "      --fill-color: #D2E3FC;\n",
              "      --hover-bg-color: #434B5C;\n",
              "      --hover-fill-color: #FFFFFF;\n",
              "      --disabled-bg-color: #3B4455;\n",
              "      --disabled-fill-color: #666;\n",
              "  }\n",
              "\n",
              "  .colab-df-quickchart {\n",
              "    background-color: var(--bg-color);\n",
              "    border: none;\n",
              "    border-radius: 50%;\n",
              "    cursor: pointer;\n",
              "    display: none;\n",
              "    fill: var(--fill-color);\n",
              "    height: 32px;\n",
              "    padding: 0;\n",
              "    width: 32px;\n",
              "  }\n",
              "\n",
              "  .colab-df-quickchart:hover {\n",
              "    background-color: var(--hover-bg-color);\n",
              "    box-shadow: 0 1px 2px rgba(60, 64, 67, 0.3), 0 1px 3px 1px rgba(60, 64, 67, 0.15);\n",
              "    fill: var(--button-hover-fill-color);\n",
              "  }\n",
              "\n",
              "  .colab-df-quickchart-complete:disabled,\n",
              "  .colab-df-quickchart-complete:disabled:hover {\n",
              "    background-color: var(--disabled-bg-color);\n",
              "    fill: var(--disabled-fill-color);\n",
              "    box-shadow: none;\n",
              "  }\n",
              "\n",
              "  .colab-df-spinner {\n",
              "    border: 2px solid var(--fill-color);\n",
              "    border-color: transparent;\n",
              "    border-bottom-color: var(--fill-color);\n",
              "    animation:\n",
              "      spin 1s steps(1) infinite;\n",
              "  }\n",
              "\n",
              "  @keyframes spin {\n",
              "    0% {\n",
              "      border-color: transparent;\n",
              "      border-bottom-color: var(--fill-color);\n",
              "      border-left-color: var(--fill-color);\n",
              "    }\n",
              "    20% {\n",
              "      border-color: transparent;\n",
              "      border-left-color: var(--fill-color);\n",
              "      border-top-color: var(--fill-color);\n",
              "    }\n",
              "    30% {\n",
              "      border-color: transparent;\n",
              "      border-left-color: var(--fill-color);\n",
              "      border-top-color: var(--fill-color);\n",
              "      border-right-color: var(--fill-color);\n",
              "    }\n",
              "    40% {\n",
              "      border-color: transparent;\n",
              "      border-right-color: var(--fill-color);\n",
              "      border-top-color: var(--fill-color);\n",
              "    }\n",
              "    60% {\n",
              "      border-color: transparent;\n",
              "      border-right-color: var(--fill-color);\n",
              "    }\n",
              "    80% {\n",
              "      border-color: transparent;\n",
              "      border-right-color: var(--fill-color);\n",
              "      border-bottom-color: var(--fill-color);\n",
              "    }\n",
              "    90% {\n",
              "      border-color: transparent;\n",
              "      border-bottom-color: var(--fill-color);\n",
              "    }\n",
              "  }\n",
              "</style>\n",
              "\n",
              "  <script>\n",
              "    async function quickchart(key) {\n",
              "      const quickchartButtonEl =\n",
              "        document.querySelector('#' + key + ' button');\n",
              "      quickchartButtonEl.disabled = true;  // To prevent multiple clicks.\n",
              "      quickchartButtonEl.classList.add('colab-df-spinner');\n",
              "      try {\n",
              "        const charts = await google.colab.kernel.invokeFunction(\n",
              "            'suggestCharts', [key], {});\n",
              "      } catch (error) {\n",
              "        console.error('Error during call to suggestCharts:', error);\n",
              "      }\n",
              "      quickchartButtonEl.classList.remove('colab-df-spinner');\n",
              "      quickchartButtonEl.classList.add('colab-df-quickchart-complete');\n",
              "    }\n",
              "    (() => {\n",
              "      let quickchartButtonEl =\n",
              "        document.querySelector('#df-6b8b9c4d-b9f9-42a2-80ff-072a150bec63 button');\n",
              "      quickchartButtonEl.style.display =\n",
              "        google.colab.kernel.accessAllowed ? 'block' : 'none';\n",
              "    })();\n",
              "  </script>\n",
              "</div>\n",
              "\n",
              "    </div>\n",
              "  </div>\n"
            ],
            "application/vnd.google.colaboratory.intrinsic+json": {
              "type": "dataframe",
              "variable_name": "df",
              "summary": "{\n  \"name\": \"df\",\n  \"rows\": 102,\n  \"fields\": [\n    {\n      \"column\": \"value\",\n      \"properties\": {\n        \"dtype\": \"number\",\n        \"std\": 11.029536468750774,\n        \"min\": 10.0,\n        \"max\": 100.0,\n        \"num_unique_values\": 102,\n        \"samples\": [\n          43.98293387770603,\n          60.03532897892024,\n          38.93665025993972\n        ],\n        \"semantic_type\": \"\",\n        \"description\": \"\"\n      }\n    }\n  ]\n}"
            }
          },
          "metadata": {},
          "execution_count": 3
        }
      ]
    },
    {
      "cell_type": "code",
      "source": [
        "# IQR 기반 이상치 탐지\n",
        "Q1 = df.value.quantile(0.25)\n",
        "Q3 = df.value.quantile(0.75)\n",
        "IQR = Q3 - Q1\n",
        "print(Q1, Q3, IQR)"
      ],
      "metadata": {
        "colab": {
          "base_uri": "https://localhost:8080/"
        },
        "id": "04bUq0J9ioJo",
        "outputId": "add46a05-51a2-489d-a10d-6897b0441edb"
      },
      "execution_count": null,
      "outputs": [
        {
          "output_type": "stream",
          "name": "stdout",
          "text": [
            "43.98560368348251 54.664601193448426 10.678997509965917\n"
          ]
        }
      ]
    },
    {
      "cell_type": "code",
      "source": [
        "lower_bound = Q1 - 1.5 * IQR\n",
        "upper_bound = Q3 + 1.5 * IQR\n",
        "print(lower_bound, upper_bound)"
      ],
      "metadata": {
        "id": "29-xezI1im7Z",
        "colab": {
          "base_uri": "https://localhost:8080/"
        },
        "outputId": "4289a892-edbd-414f-afd3-f68195fb0963"
      },
      "execution_count": 5,
      "outputs": [
        {
          "output_type": "stream",
          "name": "stdout",
          "text": [
            "27.967107418533633 70.6830974583973\n"
          ]
        }
      ]
    },
    {
      "cell_type": "code",
      "source": [
        "# 이상치 표시\n",
        "df['is_outlier'] = (df.value < lower_bound) | (df.value > upper_bound)\n",
        "\n",
        "# 결과출력\n",
        "print('IQR:', IQR)\n",
        "print(\"lower bound : \", lower_bound)\n",
        "print(\"upper bound : \", upper_bound)\n",
        "print(\"Detected outliers:\\n\", df[df['is_outlier']])"
      ],
      "metadata": {
        "id": "TxXctB61im-g",
        "colab": {
          "base_uri": "https://localhost:8080/"
        },
        "outputId": "79a54e93-00a4-4863-e948-d594d4230a90"
      },
      "execution_count": 10,
      "outputs": [
        {
          "output_type": "stream",
          "name": "stdout",
          "text": [
            "IQR: 10.678997509965917\n",
            "lower bound :  27.967107418533633\n",
            "upper bound :  70.6830974583973\n",
            "Detected outliers:\n",
            "           value  is_outlier\n",
            "74    23.802549        True\n",
            "100   10.000000        True\n",
            "101  100.000000        True\n"
          ]
        }
      ]
    },
    {
      "cell_type": "markdown",
      "source": [
        "- 실제 사례\n",
        "  - 금융\n",
        "    - 신용카드 사기 탐지에서 비정상적으로 높은 거래 금액\n",
        "  - 의료\n",
        "    - 환자의 생체 데이터를 분석할 때 비정상적으로 높은 혈압이나 체온\n",
        "  - 제조\n",
        "    - 센서 데이터에서 비정상적인 값으로 기계 결함을 감지"
      ],
      "metadata": {
        "id": "xwR8HLYVk6Ko"
      }
    },
    {
      "cell_type": "code",
      "source": [
        "\n"
      ],
      "metadata": {
        "id": "Ye7o9NdVk5Mg"
      },
      "execution_count": null,
      "outputs": []
    },
    {
      "cell_type": "code",
      "source": [],
      "metadata": {
        "id": "oGxQRr01kUGp"
      },
      "execution_count": null,
      "outputs": []
    },
    {
      "cell_type": "code",
      "source": [],
      "metadata": {
        "id": "lhZSw-2PkUJI"
      },
      "execution_count": null,
      "outputs": []
    },
    {
      "cell_type": "code",
      "source": [],
      "metadata": {
        "id": "j_UvpSNGkULa"
      },
      "execution_count": null,
      "outputs": []
    },
    {
      "cell_type": "code",
      "source": [],
      "metadata": {
        "id": "02P8Z3j2kUOQ"
      },
      "execution_count": null,
      "outputs": []
    },
    {
      "cell_type": "markdown",
      "source": [
        "  - 상관관계\n",
        "  - matplotlib, seaboarn"
      ],
      "metadata": {
        "id": "74mBhbIvinG4"
      }
    },
    {
      "cell_type": "code",
      "source": [],
      "metadata": {
        "id": "MZxUZWszingY"
      },
      "execution_count": null,
      "outputs": []
    }
  ]
}