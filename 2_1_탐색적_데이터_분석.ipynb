{
  "nbformat": 4,
  "nbformat_minor": 0,
  "metadata": {
    "colab": {
      "provenance": []
    },
    "kernelspec": {
      "name": "python3",
      "display_name": "Python 3"
    },
    "language_info": {
      "name": "python"
    }
  },
  "cells": [
    {
      "cell_type": "markdown",
      "source": [
        "- 데이터 시각화 및 분석\n",
        "  - 이상치\n",
        "    - 통계적관점\n",
        "      - 데이터가 평균에서 벗어난 정도를 나타내는 표준편차를 기준으로 정의 예들을어서 평균에 3표준 편차 이상 벗어난 값\n",
        "      - IQR(Interquartile Range) 사용해서 Q1 - 1.5xIQR and Q3 + 1.5xIQR\n",
        "    - 도메인 기반 정의\n",
        "      - 도메인 지식에 따라서 특정 임계값을 초과하거나 미만인 값을 이상치로 간주"
      ],
      "metadata": {
        "id": "k4ByHz7XgElp"
      }
    },
    {
      "cell_type": "code",
      "source": [
        "import numpy as np\n",
        "import pandas as pd\n",
        "import matplotlib.pyplot as plt\n",
        "import seaborn as sns\n",
        "\n",
        "# 임의의 데이터 생성\n",
        "np.random.seed(42)\n",
        "data = np.random.normal(50,10,100)  # 평균 50, 표준편차 10인 정규분포 데이터\n",
        "print(data)\n",
        "data = np.append(data, [10,100])  # 이상치를 추가\n",
        "print(data)"
      ],
      "metadata": {
        "colab": {
          "base_uri": "https://localhost:8080/"
        },
        "id": "SxiqC7GjgQDx",
        "outputId": "405a9076-f427-464b-81f0-76164c2499c3"
      },
      "execution_count": null,
      "outputs": [
        {
          "output_type": "stream",
          "name": "stdout",
          "text": [
            "[54.96714153 48.61735699 56.47688538 65.23029856 47.65846625 47.65863043\n",
            " 65.79212816 57.67434729 45.30525614 55.42560044 45.36582307 45.34270246\n",
            " 52.41962272 30.86719755 32.75082167 44.37712471 39.8716888  53.14247333\n",
            " 40.91975924 35.87696299 64.65648769 47.742237   50.67528205 35.75251814\n",
            " 44.55617275 51.1092259  38.49006423 53.75698018 43.9936131  47.0830625\n",
            " 43.98293388 68.52278185 49.86502775 39.42289071 58.22544912 37.7915635\n",
            " 52.08863595 30.40329876 36.71813951 51.96861236 57.3846658  51.71368281\n",
            " 48.84351718 46.98896304 35.2147801  42.80155792 45.39361229 60.57122226\n",
            " 53.4361829  32.36959845 53.24083969 46.1491772  43.23078    56.11676289\n",
            " 60.30999522 59.31280119 41.60782477 46.90787624 53.31263431 59.75545127\n",
            " 45.20825762 48.14341023 38.93665026 38.03793376 58.12525822 63.56240029\n",
            " 49.27989878 60.03532898 53.61636025 43.54880245 53.61395606 65.38036566\n",
            " 49.64173961 65.64643656 23.80254896 58.21902504 50.87047068 47.0099265\n",
            " 50.91760777 30.12431085 47.80328112 53.57112572 64.77894045 44.81729782\n",
            " 41.91506397 44.98242956 59.15402118 53.2875111  44.70239796 55.13267433\n",
            " 50.97077549 59.68644991 42.97946906 46.72337853 46.07891847 35.36485052\n",
            " 52.96120277 52.61055272 50.05113457 47.65412867]\n",
            "[ 54.96714153  48.61735699  56.47688538  65.23029856  47.65846625\n",
            "  47.65863043  65.79212816  57.67434729  45.30525614  55.42560044\n",
            "  45.36582307  45.34270246  52.41962272  30.86719755  32.75082167\n",
            "  44.37712471  39.8716888   53.14247333  40.91975924  35.87696299\n",
            "  64.65648769  47.742237    50.67528205  35.75251814  44.55617275\n",
            "  51.1092259   38.49006423  53.75698018  43.9936131   47.0830625\n",
            "  43.98293388  68.52278185  49.86502775  39.42289071  58.22544912\n",
            "  37.7915635   52.08863595  30.40329876  36.71813951  51.96861236\n",
            "  57.3846658   51.71368281  48.84351718  46.98896304  35.2147801\n",
            "  42.80155792  45.39361229  60.57122226  53.4361829   32.36959845\n",
            "  53.24083969  46.1491772   43.23078     56.11676289  60.30999522\n",
            "  59.31280119  41.60782477  46.90787624  53.31263431  59.75545127\n",
            "  45.20825762  48.14341023  38.93665026  38.03793376  58.12525822\n",
            "  63.56240029  49.27989878  60.03532898  53.61636025  43.54880245\n",
            "  53.61395606  65.38036566  49.64173961  65.64643656  23.80254896\n",
            "  58.21902504  50.87047068  47.0099265   50.91760777  30.12431085\n",
            "  47.80328112  53.57112572  64.77894045  44.81729782  41.91506397\n",
            "  44.98242956  59.15402118  53.2875111   44.70239796  55.13267433\n",
            "  50.97077549  59.68644991  42.97946906  46.72337853  46.07891847\n",
            "  35.36485052  52.96120277  52.61055272  50.05113457  47.65412867\n",
            "  10.         100.        ]\n"
          ]
        }
      ]
    },
    {
      "cell_type": "code",
      "source": [
        "# 데이터 프레임 생성\n",
        "df = pd.DataFrame(data, columns=['value'])\n",
        "df.head()"
      ],
      "metadata": {
        "colab": {
          "base_uri": "https://localhost:8080/",
          "height": 206
        },
        "id": "x1d2ytpuioFY",
        "outputId": "e7f38b41-6f68-44d5-caaa-f9c20388cc6f"
      },
      "execution_count": null,
      "outputs": [
        {
          "output_type": "execute_result",
          "data": {
            "text/plain": [
              "       value\n",
              "0  54.967142\n",
              "1  48.617357\n",
              "2  56.476885\n",
              "3  65.230299\n",
              "4  47.658466"
            ],
            "text/html": [
              "\n",
              "  <div id=\"df-521b683e-e2f7-4822-937e-e2280c5f9767\" class=\"colab-df-container\">\n",
              "    <div>\n",
              "<style scoped>\n",
              "    .dataframe tbody tr th:only-of-type {\n",
              "        vertical-align: middle;\n",
              "    }\n",
              "\n",
              "    .dataframe tbody tr th {\n",
              "        vertical-align: top;\n",
              "    }\n",
              "\n",
              "    .dataframe thead th {\n",
              "        text-align: right;\n",
              "    }\n",
              "</style>\n",
              "<table border=\"1\" class=\"dataframe\">\n",
              "  <thead>\n",
              "    <tr style=\"text-align: right;\">\n",
              "      <th></th>\n",
              "      <th>value</th>\n",
              "    </tr>\n",
              "  </thead>\n",
              "  <tbody>\n",
              "    <tr>\n",
              "      <th>0</th>\n",
              "      <td>54.967142</td>\n",
              "    </tr>\n",
              "    <tr>\n",
              "      <th>1</th>\n",
              "      <td>48.617357</td>\n",
              "    </tr>\n",
              "    <tr>\n",
              "      <th>2</th>\n",
              "      <td>56.476885</td>\n",
              "    </tr>\n",
              "    <tr>\n",
              "      <th>3</th>\n",
              "      <td>65.230299</td>\n",
              "    </tr>\n",
              "    <tr>\n",
              "      <th>4</th>\n",
              "      <td>47.658466</td>\n",
              "    </tr>\n",
              "  </tbody>\n",
              "</table>\n",
              "</div>\n",
              "    <div class=\"colab-df-buttons\">\n",
              "\n",
              "  <div class=\"colab-df-container\">\n",
              "    <button class=\"colab-df-convert\" onclick=\"convertToInteractive('df-521b683e-e2f7-4822-937e-e2280c5f9767')\"\n",
              "            title=\"Convert this dataframe to an interactive table.\"\n",
              "            style=\"display:none;\">\n",
              "\n",
              "  <svg xmlns=\"http://www.w3.org/2000/svg\" height=\"24px\" viewBox=\"0 -960 960 960\">\n",
              "    <path d=\"M120-120v-720h720v720H120Zm60-500h600v-160H180v160Zm220 220h160v-160H400v160Zm0 220h160v-160H400v160ZM180-400h160v-160H180v160Zm440 0h160v-160H620v160ZM180-180h160v-160H180v160Zm440 0h160v-160H620v160Z\"/>\n",
              "  </svg>\n",
              "    </button>\n",
              "\n",
              "  <style>\n",
              "    .colab-df-container {\n",
              "      display:flex;\n",
              "      gap: 12px;\n",
              "    }\n",
              "\n",
              "    .colab-df-convert {\n",
              "      background-color: #E8F0FE;\n",
              "      border: none;\n",
              "      border-radius: 50%;\n",
              "      cursor: pointer;\n",
              "      display: none;\n",
              "      fill: #1967D2;\n",
              "      height: 32px;\n",
              "      padding: 0 0 0 0;\n",
              "      width: 32px;\n",
              "    }\n",
              "\n",
              "    .colab-df-convert:hover {\n",
              "      background-color: #E2EBFA;\n",
              "      box-shadow: 0px 1px 2px rgba(60, 64, 67, 0.3), 0px 1px 3px 1px rgba(60, 64, 67, 0.15);\n",
              "      fill: #174EA6;\n",
              "    }\n",
              "\n",
              "    .colab-df-buttons div {\n",
              "      margin-bottom: 4px;\n",
              "    }\n",
              "\n",
              "    [theme=dark] .colab-df-convert {\n",
              "      background-color: #3B4455;\n",
              "      fill: #D2E3FC;\n",
              "    }\n",
              "\n",
              "    [theme=dark] .colab-df-convert:hover {\n",
              "      background-color: #434B5C;\n",
              "      box-shadow: 0px 1px 3px 1px rgba(0, 0, 0, 0.15);\n",
              "      filter: drop-shadow(0px 1px 2px rgba(0, 0, 0, 0.3));\n",
              "      fill: #FFFFFF;\n",
              "    }\n",
              "  </style>\n",
              "\n",
              "    <script>\n",
              "      const buttonEl =\n",
              "        document.querySelector('#df-521b683e-e2f7-4822-937e-e2280c5f9767 button.colab-df-convert');\n",
              "      buttonEl.style.display =\n",
              "        google.colab.kernel.accessAllowed ? 'block' : 'none';\n",
              "\n",
              "      async function convertToInteractive(key) {\n",
              "        const element = document.querySelector('#df-521b683e-e2f7-4822-937e-e2280c5f9767');\n",
              "        const dataTable =\n",
              "          await google.colab.kernel.invokeFunction('convertToInteractive',\n",
              "                                                    [key], {});\n",
              "        if (!dataTable) return;\n",
              "\n",
              "        const docLinkHtml = 'Like what you see? Visit the ' +\n",
              "          '<a target=\"_blank\" href=https://colab.research.google.com/notebooks/data_table.ipynb>data table notebook</a>'\n",
              "          + ' to learn more about interactive tables.';\n",
              "        element.innerHTML = '';\n",
              "        dataTable['output_type'] = 'display_data';\n",
              "        await google.colab.output.renderOutput(dataTable, element);\n",
              "        const docLink = document.createElement('div');\n",
              "        docLink.innerHTML = docLinkHtml;\n",
              "        element.appendChild(docLink);\n",
              "      }\n",
              "    </script>\n",
              "  </div>\n",
              "\n",
              "\n",
              "<div id=\"df-6b8b9c4d-b9f9-42a2-80ff-072a150bec63\">\n",
              "  <button class=\"colab-df-quickchart\" onclick=\"quickchart('df-6b8b9c4d-b9f9-42a2-80ff-072a150bec63')\"\n",
              "            title=\"Suggest charts\"\n",
              "            style=\"display:none;\">\n",
              "\n",
              "<svg xmlns=\"http://www.w3.org/2000/svg\" height=\"24px\"viewBox=\"0 0 24 24\"\n",
              "     width=\"24px\">\n",
              "    <g>\n",
              "        <path d=\"M19 3H5c-1.1 0-2 .9-2 2v14c0 1.1.9 2 2 2h14c1.1 0 2-.9 2-2V5c0-1.1-.9-2-2-2zM9 17H7v-7h2v7zm4 0h-2V7h2v10zm4 0h-2v-4h2v4z\"/>\n",
              "    </g>\n",
              "</svg>\n",
              "  </button>\n",
              "\n",
              "<style>\n",
              "  .colab-df-quickchart {\n",
              "      --bg-color: #E8F0FE;\n",
              "      --fill-color: #1967D2;\n",
              "      --hover-bg-color: #E2EBFA;\n",
              "      --hover-fill-color: #174EA6;\n",
              "      --disabled-fill-color: #AAA;\n",
              "      --disabled-bg-color: #DDD;\n",
              "  }\n",
              "\n",
              "  [theme=dark] .colab-df-quickchart {\n",
              "      --bg-color: #3B4455;\n",
              "      --fill-color: #D2E3FC;\n",
              "      --hover-bg-color: #434B5C;\n",
              "      --hover-fill-color: #FFFFFF;\n",
              "      --disabled-bg-color: #3B4455;\n",
              "      --disabled-fill-color: #666;\n",
              "  }\n",
              "\n",
              "  .colab-df-quickchart {\n",
              "    background-color: var(--bg-color);\n",
              "    border: none;\n",
              "    border-radius: 50%;\n",
              "    cursor: pointer;\n",
              "    display: none;\n",
              "    fill: var(--fill-color);\n",
              "    height: 32px;\n",
              "    padding: 0;\n",
              "    width: 32px;\n",
              "  }\n",
              "\n",
              "  .colab-df-quickchart:hover {\n",
              "    background-color: var(--hover-bg-color);\n",
              "    box-shadow: 0 1px 2px rgba(60, 64, 67, 0.3), 0 1px 3px 1px rgba(60, 64, 67, 0.15);\n",
              "    fill: var(--button-hover-fill-color);\n",
              "  }\n",
              "\n",
              "  .colab-df-quickchart-complete:disabled,\n",
              "  .colab-df-quickchart-complete:disabled:hover {\n",
              "    background-color: var(--disabled-bg-color);\n",
              "    fill: var(--disabled-fill-color);\n",
              "    box-shadow: none;\n",
              "  }\n",
              "\n",
              "  .colab-df-spinner {\n",
              "    border: 2px solid var(--fill-color);\n",
              "    border-color: transparent;\n",
              "    border-bottom-color: var(--fill-color);\n",
              "    animation:\n",
              "      spin 1s steps(1) infinite;\n",
              "  }\n",
              "\n",
              "  @keyframes spin {\n",
              "    0% {\n",
              "      border-color: transparent;\n",
              "      border-bottom-color: var(--fill-color);\n",
              "      border-left-color: var(--fill-color);\n",
              "    }\n",
              "    20% {\n",
              "      border-color: transparent;\n",
              "      border-left-color: var(--fill-color);\n",
              "      border-top-color: var(--fill-color);\n",
              "    }\n",
              "    30% {\n",
              "      border-color: transparent;\n",
              "      border-left-color: var(--fill-color);\n",
              "      border-top-color: var(--fill-color);\n",
              "      border-right-color: var(--fill-color);\n",
              "    }\n",
              "    40% {\n",
              "      border-color: transparent;\n",
              "      border-right-color: var(--fill-color);\n",
              "      border-top-color: var(--fill-color);\n",
              "    }\n",
              "    60% {\n",
              "      border-color: transparent;\n",
              "      border-right-color: var(--fill-color);\n",
              "    }\n",
              "    80% {\n",
              "      border-color: transparent;\n",
              "      border-right-color: var(--fill-color);\n",
              "      border-bottom-color: var(--fill-color);\n",
              "    }\n",
              "    90% {\n",
              "      border-color: transparent;\n",
              "      border-bottom-color: var(--fill-color);\n",
              "    }\n",
              "  }\n",
              "</style>\n",
              "\n",
              "  <script>\n",
              "    async function quickchart(key) {\n",
              "      const quickchartButtonEl =\n",
              "        document.querySelector('#' + key + ' button');\n",
              "      quickchartButtonEl.disabled = true;  // To prevent multiple clicks.\n",
              "      quickchartButtonEl.classList.add('colab-df-spinner');\n",
              "      try {\n",
              "        const charts = await google.colab.kernel.invokeFunction(\n",
              "            'suggestCharts', [key], {});\n",
              "      } catch (error) {\n",
              "        console.error('Error during call to suggestCharts:', error);\n",
              "      }\n",
              "      quickchartButtonEl.classList.remove('colab-df-spinner');\n",
              "      quickchartButtonEl.classList.add('colab-df-quickchart-complete');\n",
              "    }\n",
              "    (() => {\n",
              "      let quickchartButtonEl =\n",
              "        document.querySelector('#df-6b8b9c4d-b9f9-42a2-80ff-072a150bec63 button');\n",
              "      quickchartButtonEl.style.display =\n",
              "        google.colab.kernel.accessAllowed ? 'block' : 'none';\n",
              "    })();\n",
              "  </script>\n",
              "</div>\n",
              "\n",
              "    </div>\n",
              "  </div>\n"
            ],
            "application/vnd.google.colaboratory.intrinsic+json": {
              "type": "dataframe",
              "variable_name": "df",
              "summary": "{\n  \"name\": \"df\",\n  \"rows\": 102,\n  \"fields\": [\n    {\n      \"column\": \"value\",\n      \"properties\": {\n        \"dtype\": \"number\",\n        \"std\": 11.029536468750774,\n        \"min\": 10.0,\n        \"max\": 100.0,\n        \"num_unique_values\": 102,\n        \"samples\": [\n          43.98293387770603,\n          60.03532897892024,\n          38.93665025993972\n        ],\n        \"semantic_type\": \"\",\n        \"description\": \"\"\n      }\n    }\n  ]\n}"
            }
          },
          "metadata": {},
          "execution_count": 3
        }
      ]
    },
    {
      "cell_type": "code",
      "source": [
        "# IQR 기반 이상치 탐지\n",
        "Q1 = df.value.quantile(0.25)\n",
        "Q3 = df.value.quantile(0.75)\n",
        "IQR = Q3 - Q1\n",
        "print(Q1, Q3, IQR)"
      ],
      "metadata": {
        "colab": {
          "base_uri": "https://localhost:8080/"
        },
        "id": "04bUq0J9ioJo",
        "outputId": "add46a05-51a2-489d-a10d-6897b0441edb"
      },
      "execution_count": null,
      "outputs": [
        {
          "output_type": "stream",
          "name": "stdout",
          "text": [
            "43.98560368348251 54.664601193448426 10.678997509965917\n"
          ]
        }
      ]
    },
    {
      "cell_type": "code",
      "source": [
        "lower_bound = Q1 - 1.5 * IQR\n",
        "upper_bound = Q3 + 1.5 * IQR\n",
        "print(lower_bound, upper_bound)"
      ],
      "metadata": {
        "id": "29-xezI1im7Z",
        "colab": {
          "base_uri": "https://localhost:8080/"
        },
        "outputId": "4289a892-edbd-414f-afd3-f68195fb0963"
      },
      "execution_count": 5,
      "outputs": [
        {
          "output_type": "stream",
          "name": "stdout",
          "text": [
            "27.967107418533633 70.6830974583973\n"
          ]
        }
      ]
    },
    {
      "cell_type": "code",
      "source": [
        "# 이상치 표시\n",
        "df['is_outlier'] = (df.value < lower_bound) | (df.value > upper_bound)\n",
        "\n",
        "# 결과출력\n",
        "print('IQR:', IQR)\n",
        "print(\"lower bound : \", lower_bound)\n",
        "print(\"upper bound : \", upper_bound)\n",
        "print(\"Detected outliers:\\n\", df[df['is_outlier']])"
      ],
      "metadata": {
        "id": "TxXctB61im-g",
        "colab": {
          "base_uri": "https://localhost:8080/"
        },
        "outputId": "79a54e93-00a4-4863-e948-d594d4230a90"
      },
      "execution_count": 10,
      "outputs": [
        {
          "output_type": "stream",
          "name": "stdout",
          "text": [
            "IQR: 10.678997509965917\n",
            "lower bound :  27.967107418533633\n",
            "upper bound :  70.6830974583973\n",
            "Detected outliers:\n",
            "           value  is_outlier\n",
            "74    23.802549        True\n",
            "100   10.000000        True\n",
            "101  100.000000        True\n"
          ]
        }
      ]
    },
    {
      "cell_type": "markdown",
      "source": [
        "- 실제 사례\n",
        "  - 금융\n",
        "    - 신용카드 사기 탐지에서 비정상적으로 높은 거래 금액\n",
        "  - 의료\n",
        "    - 환자의 생체 데이터를 분석할 때 비정상적으로 높은 혈압이나 체온\n",
        "  - 제조\n",
        "    - 센서 데이터에서 비정상적인 값으로 기계 결함을 감지"
      ],
      "metadata": {
        "id": "xwR8HLYVk6Ko"
      }
    },
    {
      "cell_type": "markdown",
      "source": [
        "신용카드 이상거래 탐지"
      ],
      "metadata": {
        "id": "sWWfsFz-o0iv"
      }
    },
    {
      "cell_type": "code",
      "source": [
        "import kagglehub\n",
        "\n",
        "# Download latest version\n",
        "path = kagglehub.dataset_download(\"sakshigoyal7/credit-card-customers\")\n",
        "\n",
        "print(\"Path to dataset files:\", path)\n"
      ],
      "metadata": {
        "colab": {
          "base_uri": "https://localhost:8080/"
        },
        "id": "Ye7o9NdVk5Mg",
        "outputId": "6cec6ae3-8466-4d8d-fcb3-244ec8d83c8e"
      },
      "execution_count": 11,
      "outputs": [
        {
          "output_type": "stream",
          "name": "stdout",
          "text": [
            "Downloading from https://www.kaggle.com/api/v1/datasets/download/sakshigoyal7/credit-card-customers?dataset_version_number=1...\n"
          ]
        },
        {
          "output_type": "stream",
          "name": "stderr",
          "text": [
            "100%|██████████| 379k/379k [00:00<00:00, 70.7MB/s]"
          ]
        },
        {
          "output_type": "stream",
          "name": "stdout",
          "text": [
            "Extracting files...\n",
            "Path to dataset files: /root/.cache/kagglehub/datasets/sakshigoyal7/credit-card-customers/versions/1\n"
          ]
        },
        {
          "output_type": "stream",
          "name": "stderr",
          "text": [
            "\n"
          ]
        }
      ]
    },
    {
      "cell_type": "code",
      "source": [
        "from glob import glob\n",
        "filepath = glob(path+\"/*.*\")[0]\n",
        "df = pd.read_csv(filepath)\n",
        "df.head()"
      ],
      "metadata": {
        "colab": {
          "base_uri": "https://localhost:8080/",
          "height": 342
        },
        "id": "oGxQRr01kUGp",
        "outputId": "92740720-daca-4e96-8899-aba6541811d1"
      },
      "execution_count": 13,
      "outputs": [
        {
          "output_type": "execute_result",
          "data": {
            "text/plain": [
              "   CLIENTNUM     Attrition_Flag  Customer_Age Gender  Dependent_count  \\\n",
              "0  768805383  Existing Customer            45      M                3   \n",
              "1  818770008  Existing Customer            49      F                5   \n",
              "2  713982108  Existing Customer            51      M                3   \n",
              "3  769911858  Existing Customer            40      F                4   \n",
              "4  709106358  Existing Customer            40      M                3   \n",
              "\n",
              "  Education_Level Marital_Status Income_Category Card_Category  \\\n",
              "0     High School        Married     $60K - $80K          Blue   \n",
              "1        Graduate         Single  Less than $40K          Blue   \n",
              "2        Graduate        Married    $80K - $120K          Blue   \n",
              "3     High School        Unknown  Less than $40K          Blue   \n",
              "4      Uneducated        Married     $60K - $80K          Blue   \n",
              "\n",
              "   Months_on_book  ...  Credit_Limit  Total_Revolving_Bal  Avg_Open_To_Buy  \\\n",
              "0              39  ...       12691.0                  777          11914.0   \n",
              "1              44  ...        8256.0                  864           7392.0   \n",
              "2              36  ...        3418.0                    0           3418.0   \n",
              "3              34  ...        3313.0                 2517            796.0   \n",
              "4              21  ...        4716.0                    0           4716.0   \n",
              "\n",
              "   Total_Amt_Chng_Q4_Q1  Total_Trans_Amt  Total_Trans_Ct  Total_Ct_Chng_Q4_Q1  \\\n",
              "0                 1.335             1144              42                1.625   \n",
              "1                 1.541             1291              33                3.714   \n",
              "2                 2.594             1887              20                2.333   \n",
              "3                 1.405             1171              20                2.333   \n",
              "4                 2.175              816              28                2.500   \n",
              "\n",
              "   Avg_Utilization_Ratio  \\\n",
              "0                  0.061   \n",
              "1                  0.105   \n",
              "2                  0.000   \n",
              "3                  0.760   \n",
              "4                  0.000   \n",
              "\n",
              "   Naive_Bayes_Classifier_Attrition_Flag_Card_Category_Contacts_Count_12_mon_Dependent_count_Education_Level_Months_Inactive_12_mon_1  \\\n",
              "0                                           0.000093                                                                                    \n",
              "1                                           0.000057                                                                                    \n",
              "2                                           0.000021                                                                                    \n",
              "3                                           0.000134                                                                                    \n",
              "4                                           0.000022                                                                                    \n",
              "\n",
              "   Naive_Bayes_Classifier_Attrition_Flag_Card_Category_Contacts_Count_12_mon_Dependent_count_Education_Level_Months_Inactive_12_mon_2  \n",
              "0                                            0.99991                                                                                   \n",
              "1                                            0.99994                                                                                   \n",
              "2                                            0.99998                                                                                   \n",
              "3                                            0.99987                                                                                   \n",
              "4                                            0.99998                                                                                   \n",
              "\n",
              "[5 rows x 23 columns]"
            ],
            "text/html": [
              "\n",
              "  <div id=\"df-6bc45b8d-21d5-4983-9af1-4789e077191e\" class=\"colab-df-container\">\n",
              "    <div>\n",
              "<style scoped>\n",
              "    .dataframe tbody tr th:only-of-type {\n",
              "        vertical-align: middle;\n",
              "    }\n",
              "\n",
              "    .dataframe tbody tr th {\n",
              "        vertical-align: top;\n",
              "    }\n",
              "\n",
              "    .dataframe thead th {\n",
              "        text-align: right;\n",
              "    }\n",
              "</style>\n",
              "<table border=\"1\" class=\"dataframe\">\n",
              "  <thead>\n",
              "    <tr style=\"text-align: right;\">\n",
              "      <th></th>\n",
              "      <th>CLIENTNUM</th>\n",
              "      <th>Attrition_Flag</th>\n",
              "      <th>Customer_Age</th>\n",
              "      <th>Gender</th>\n",
              "      <th>Dependent_count</th>\n",
              "      <th>Education_Level</th>\n",
              "      <th>Marital_Status</th>\n",
              "      <th>Income_Category</th>\n",
              "      <th>Card_Category</th>\n",
              "      <th>Months_on_book</th>\n",
              "      <th>...</th>\n",
              "      <th>Credit_Limit</th>\n",
              "      <th>Total_Revolving_Bal</th>\n",
              "      <th>Avg_Open_To_Buy</th>\n",
              "      <th>Total_Amt_Chng_Q4_Q1</th>\n",
              "      <th>Total_Trans_Amt</th>\n",
              "      <th>Total_Trans_Ct</th>\n",
              "      <th>Total_Ct_Chng_Q4_Q1</th>\n",
              "      <th>Avg_Utilization_Ratio</th>\n",
              "      <th>Naive_Bayes_Classifier_Attrition_Flag_Card_Category_Contacts_Count_12_mon_Dependent_count_Education_Level_Months_Inactive_12_mon_1</th>\n",
              "      <th>Naive_Bayes_Classifier_Attrition_Flag_Card_Category_Contacts_Count_12_mon_Dependent_count_Education_Level_Months_Inactive_12_mon_2</th>\n",
              "    </tr>\n",
              "  </thead>\n",
              "  <tbody>\n",
              "    <tr>\n",
              "      <th>0</th>\n",
              "      <td>768805383</td>\n",
              "      <td>Existing Customer</td>\n",
              "      <td>45</td>\n",
              "      <td>M</td>\n",
              "      <td>3</td>\n",
              "      <td>High School</td>\n",
              "      <td>Married</td>\n",
              "      <td>$60K - $80K</td>\n",
              "      <td>Blue</td>\n",
              "      <td>39</td>\n",
              "      <td>...</td>\n",
              "      <td>12691.0</td>\n",
              "      <td>777</td>\n",
              "      <td>11914.0</td>\n",
              "      <td>1.335</td>\n",
              "      <td>1144</td>\n",
              "      <td>42</td>\n",
              "      <td>1.625</td>\n",
              "      <td>0.061</td>\n",
              "      <td>0.000093</td>\n",
              "      <td>0.99991</td>\n",
              "    </tr>\n",
              "    <tr>\n",
              "      <th>1</th>\n",
              "      <td>818770008</td>\n",
              "      <td>Existing Customer</td>\n",
              "      <td>49</td>\n",
              "      <td>F</td>\n",
              "      <td>5</td>\n",
              "      <td>Graduate</td>\n",
              "      <td>Single</td>\n",
              "      <td>Less than $40K</td>\n",
              "      <td>Blue</td>\n",
              "      <td>44</td>\n",
              "      <td>...</td>\n",
              "      <td>8256.0</td>\n",
              "      <td>864</td>\n",
              "      <td>7392.0</td>\n",
              "      <td>1.541</td>\n",
              "      <td>1291</td>\n",
              "      <td>33</td>\n",
              "      <td>3.714</td>\n",
              "      <td>0.105</td>\n",
              "      <td>0.000057</td>\n",
              "      <td>0.99994</td>\n",
              "    </tr>\n",
              "    <tr>\n",
              "      <th>2</th>\n",
              "      <td>713982108</td>\n",
              "      <td>Existing Customer</td>\n",
              "      <td>51</td>\n",
              "      <td>M</td>\n",
              "      <td>3</td>\n",
              "      <td>Graduate</td>\n",
              "      <td>Married</td>\n",
              "      <td>$80K - $120K</td>\n",
              "      <td>Blue</td>\n",
              "      <td>36</td>\n",
              "      <td>...</td>\n",
              "      <td>3418.0</td>\n",
              "      <td>0</td>\n",
              "      <td>3418.0</td>\n",
              "      <td>2.594</td>\n",
              "      <td>1887</td>\n",
              "      <td>20</td>\n",
              "      <td>2.333</td>\n",
              "      <td>0.000</td>\n",
              "      <td>0.000021</td>\n",
              "      <td>0.99998</td>\n",
              "    </tr>\n",
              "    <tr>\n",
              "      <th>3</th>\n",
              "      <td>769911858</td>\n",
              "      <td>Existing Customer</td>\n",
              "      <td>40</td>\n",
              "      <td>F</td>\n",
              "      <td>4</td>\n",
              "      <td>High School</td>\n",
              "      <td>Unknown</td>\n",
              "      <td>Less than $40K</td>\n",
              "      <td>Blue</td>\n",
              "      <td>34</td>\n",
              "      <td>...</td>\n",
              "      <td>3313.0</td>\n",
              "      <td>2517</td>\n",
              "      <td>796.0</td>\n",
              "      <td>1.405</td>\n",
              "      <td>1171</td>\n",
              "      <td>20</td>\n",
              "      <td>2.333</td>\n",
              "      <td>0.760</td>\n",
              "      <td>0.000134</td>\n",
              "      <td>0.99987</td>\n",
              "    </tr>\n",
              "    <tr>\n",
              "      <th>4</th>\n",
              "      <td>709106358</td>\n",
              "      <td>Existing Customer</td>\n",
              "      <td>40</td>\n",
              "      <td>M</td>\n",
              "      <td>3</td>\n",
              "      <td>Uneducated</td>\n",
              "      <td>Married</td>\n",
              "      <td>$60K - $80K</td>\n",
              "      <td>Blue</td>\n",
              "      <td>21</td>\n",
              "      <td>...</td>\n",
              "      <td>4716.0</td>\n",
              "      <td>0</td>\n",
              "      <td>4716.0</td>\n",
              "      <td>2.175</td>\n",
              "      <td>816</td>\n",
              "      <td>28</td>\n",
              "      <td>2.500</td>\n",
              "      <td>0.000</td>\n",
              "      <td>0.000022</td>\n",
              "      <td>0.99998</td>\n",
              "    </tr>\n",
              "  </tbody>\n",
              "</table>\n",
              "<p>5 rows × 23 columns</p>\n",
              "</div>\n",
              "    <div class=\"colab-df-buttons\">\n",
              "\n",
              "  <div class=\"colab-df-container\">\n",
              "    <button class=\"colab-df-convert\" onclick=\"convertToInteractive('df-6bc45b8d-21d5-4983-9af1-4789e077191e')\"\n",
              "            title=\"Convert this dataframe to an interactive table.\"\n",
              "            style=\"display:none;\">\n",
              "\n",
              "  <svg xmlns=\"http://www.w3.org/2000/svg\" height=\"24px\" viewBox=\"0 -960 960 960\">\n",
              "    <path d=\"M120-120v-720h720v720H120Zm60-500h600v-160H180v160Zm220 220h160v-160H400v160Zm0 220h160v-160H400v160ZM180-400h160v-160H180v160Zm440 0h160v-160H620v160ZM180-180h160v-160H180v160Zm440 0h160v-160H620v160Z\"/>\n",
              "  </svg>\n",
              "    </button>\n",
              "\n",
              "  <style>\n",
              "    .colab-df-container {\n",
              "      display:flex;\n",
              "      gap: 12px;\n",
              "    }\n",
              "\n",
              "    .colab-df-convert {\n",
              "      background-color: #E8F0FE;\n",
              "      border: none;\n",
              "      border-radius: 50%;\n",
              "      cursor: pointer;\n",
              "      display: none;\n",
              "      fill: #1967D2;\n",
              "      height: 32px;\n",
              "      padding: 0 0 0 0;\n",
              "      width: 32px;\n",
              "    }\n",
              "\n",
              "    .colab-df-convert:hover {\n",
              "      background-color: #E2EBFA;\n",
              "      box-shadow: 0px 1px 2px rgba(60, 64, 67, 0.3), 0px 1px 3px 1px rgba(60, 64, 67, 0.15);\n",
              "      fill: #174EA6;\n",
              "    }\n",
              "\n",
              "    .colab-df-buttons div {\n",
              "      margin-bottom: 4px;\n",
              "    }\n",
              "\n",
              "    [theme=dark] .colab-df-convert {\n",
              "      background-color: #3B4455;\n",
              "      fill: #D2E3FC;\n",
              "    }\n",
              "\n",
              "    [theme=dark] .colab-df-convert:hover {\n",
              "      background-color: #434B5C;\n",
              "      box-shadow: 0px 1px 3px 1px rgba(0, 0, 0, 0.15);\n",
              "      filter: drop-shadow(0px 1px 2px rgba(0, 0, 0, 0.3));\n",
              "      fill: #FFFFFF;\n",
              "    }\n",
              "  </style>\n",
              "\n",
              "    <script>\n",
              "      const buttonEl =\n",
              "        document.querySelector('#df-6bc45b8d-21d5-4983-9af1-4789e077191e button.colab-df-convert');\n",
              "      buttonEl.style.display =\n",
              "        google.colab.kernel.accessAllowed ? 'block' : 'none';\n",
              "\n",
              "      async function convertToInteractive(key) {\n",
              "        const element = document.querySelector('#df-6bc45b8d-21d5-4983-9af1-4789e077191e');\n",
              "        const dataTable =\n",
              "          await google.colab.kernel.invokeFunction('convertToInteractive',\n",
              "                                                    [key], {});\n",
              "        if (!dataTable) return;\n",
              "\n",
              "        const docLinkHtml = 'Like what you see? Visit the ' +\n",
              "          '<a target=\"_blank\" href=https://colab.research.google.com/notebooks/data_table.ipynb>data table notebook</a>'\n",
              "          + ' to learn more about interactive tables.';\n",
              "        element.innerHTML = '';\n",
              "        dataTable['output_type'] = 'display_data';\n",
              "        await google.colab.output.renderOutput(dataTable, element);\n",
              "        const docLink = document.createElement('div');\n",
              "        docLink.innerHTML = docLinkHtml;\n",
              "        element.appendChild(docLink);\n",
              "      }\n",
              "    </script>\n",
              "  </div>\n",
              "\n",
              "\n",
              "<div id=\"df-d2184182-561a-4d34-882b-36a87efb47ba\">\n",
              "  <button class=\"colab-df-quickchart\" onclick=\"quickchart('df-d2184182-561a-4d34-882b-36a87efb47ba')\"\n",
              "            title=\"Suggest charts\"\n",
              "            style=\"display:none;\">\n",
              "\n",
              "<svg xmlns=\"http://www.w3.org/2000/svg\" height=\"24px\"viewBox=\"0 0 24 24\"\n",
              "     width=\"24px\">\n",
              "    <g>\n",
              "        <path d=\"M19 3H5c-1.1 0-2 .9-2 2v14c0 1.1.9 2 2 2h14c1.1 0 2-.9 2-2V5c0-1.1-.9-2-2-2zM9 17H7v-7h2v7zm4 0h-2V7h2v10zm4 0h-2v-4h2v4z\"/>\n",
              "    </g>\n",
              "</svg>\n",
              "  </button>\n",
              "\n",
              "<style>\n",
              "  .colab-df-quickchart {\n",
              "      --bg-color: #E8F0FE;\n",
              "      --fill-color: #1967D2;\n",
              "      --hover-bg-color: #E2EBFA;\n",
              "      --hover-fill-color: #174EA6;\n",
              "      --disabled-fill-color: #AAA;\n",
              "      --disabled-bg-color: #DDD;\n",
              "  }\n",
              "\n",
              "  [theme=dark] .colab-df-quickchart {\n",
              "      --bg-color: #3B4455;\n",
              "      --fill-color: #D2E3FC;\n",
              "      --hover-bg-color: #434B5C;\n",
              "      --hover-fill-color: #FFFFFF;\n",
              "      --disabled-bg-color: #3B4455;\n",
              "      --disabled-fill-color: #666;\n",
              "  }\n",
              "\n",
              "  .colab-df-quickchart {\n",
              "    background-color: var(--bg-color);\n",
              "    border: none;\n",
              "    border-radius: 50%;\n",
              "    cursor: pointer;\n",
              "    display: none;\n",
              "    fill: var(--fill-color);\n",
              "    height: 32px;\n",
              "    padding: 0;\n",
              "    width: 32px;\n",
              "  }\n",
              "\n",
              "  .colab-df-quickchart:hover {\n",
              "    background-color: var(--hover-bg-color);\n",
              "    box-shadow: 0 1px 2px rgba(60, 64, 67, 0.3), 0 1px 3px 1px rgba(60, 64, 67, 0.15);\n",
              "    fill: var(--button-hover-fill-color);\n",
              "  }\n",
              "\n",
              "  .colab-df-quickchart-complete:disabled,\n",
              "  .colab-df-quickchart-complete:disabled:hover {\n",
              "    background-color: var(--disabled-bg-color);\n",
              "    fill: var(--disabled-fill-color);\n",
              "    box-shadow: none;\n",
              "  }\n",
              "\n",
              "  .colab-df-spinner {\n",
              "    border: 2px solid var(--fill-color);\n",
              "    border-color: transparent;\n",
              "    border-bottom-color: var(--fill-color);\n",
              "    animation:\n",
              "      spin 1s steps(1) infinite;\n",
              "  }\n",
              "\n",
              "  @keyframes spin {\n",
              "    0% {\n",
              "      border-color: transparent;\n",
              "      border-bottom-color: var(--fill-color);\n",
              "      border-left-color: var(--fill-color);\n",
              "    }\n",
              "    20% {\n",
              "      border-color: transparent;\n",
              "      border-left-color: var(--fill-color);\n",
              "      border-top-color: var(--fill-color);\n",
              "    }\n",
              "    30% {\n",
              "      border-color: transparent;\n",
              "      border-left-color: var(--fill-color);\n",
              "      border-top-color: var(--fill-color);\n",
              "      border-right-color: var(--fill-color);\n",
              "    }\n",
              "    40% {\n",
              "      border-color: transparent;\n",
              "      border-right-color: var(--fill-color);\n",
              "      border-top-color: var(--fill-color);\n",
              "    }\n",
              "    60% {\n",
              "      border-color: transparent;\n",
              "      border-right-color: var(--fill-color);\n",
              "    }\n",
              "    80% {\n",
              "      border-color: transparent;\n",
              "      border-right-color: var(--fill-color);\n",
              "      border-bottom-color: var(--fill-color);\n",
              "    }\n",
              "    90% {\n",
              "      border-color: transparent;\n",
              "      border-bottom-color: var(--fill-color);\n",
              "    }\n",
              "  }\n",
              "</style>\n",
              "\n",
              "  <script>\n",
              "    async function quickchart(key) {\n",
              "      const quickchartButtonEl =\n",
              "        document.querySelector('#' + key + ' button');\n",
              "      quickchartButtonEl.disabled = true;  // To prevent multiple clicks.\n",
              "      quickchartButtonEl.classList.add('colab-df-spinner');\n",
              "      try {\n",
              "        const charts = await google.colab.kernel.invokeFunction(\n",
              "            'suggestCharts', [key], {});\n",
              "      } catch (error) {\n",
              "        console.error('Error during call to suggestCharts:', error);\n",
              "      }\n",
              "      quickchartButtonEl.classList.remove('colab-df-spinner');\n",
              "      quickchartButtonEl.classList.add('colab-df-quickchart-complete');\n",
              "    }\n",
              "    (() => {\n",
              "      let quickchartButtonEl =\n",
              "        document.querySelector('#df-d2184182-561a-4d34-882b-36a87efb47ba button');\n",
              "      quickchartButtonEl.style.display =\n",
              "        google.colab.kernel.accessAllowed ? 'block' : 'none';\n",
              "    })();\n",
              "  </script>\n",
              "</div>\n",
              "\n",
              "    </div>\n",
              "  </div>\n"
            ],
            "application/vnd.google.colaboratory.intrinsic+json": {
              "type": "dataframe",
              "variable_name": "df"
            }
          },
          "metadata": {},
          "execution_count": 13
        }
      ]
    },
    {
      "cell_type": "markdown",
      "source": [
        "- 컬럼수가 많아서 먼저 컬럼에 대한 조사\n",
        "- 수치데이터에 해당하는 컬럼들에 대해서 IQR 조사를 진행"
      ],
      "metadata": {
        "id": "tIxy2RDzrpkN"
      }
    },
    {
      "cell_type": "code",
      "source": [
        "df.columns"
      ],
      "metadata": {
        "colab": {
          "base_uri": "https://localhost:8080/"
        },
        "id": "lhZSw-2PkUJI",
        "outputId": "840ecaf8-c450-44a1-c738-7c3783d3e211"
      },
      "execution_count": 14,
      "outputs": [
        {
          "output_type": "execute_result",
          "data": {
            "text/plain": [
              "Index(['CLIENTNUM', 'Attrition_Flag', 'Customer_Age', 'Gender',\n",
              "       'Dependent_count', 'Education_Level', 'Marital_Status',\n",
              "       'Income_Category', 'Card_Category', 'Months_on_book',\n",
              "       'Total_Relationship_Count', 'Months_Inactive_12_mon',\n",
              "       'Contacts_Count_12_mon', 'Credit_Limit', 'Total_Revolving_Bal',\n",
              "       'Avg_Open_To_Buy', 'Total_Amt_Chng_Q4_Q1', 'Total_Trans_Amt',\n",
              "       'Total_Trans_Ct', 'Total_Ct_Chng_Q4_Q1', 'Avg_Utilization_Ratio',\n",
              "       'Naive_Bayes_Classifier_Attrition_Flag_Card_Category_Contacts_Count_12_mon_Dependent_count_Education_Level_Months_Inactive_12_mon_1',\n",
              "       'Naive_Bayes_Classifier_Attrition_Flag_Card_Category_Contacts_Count_12_mon_Dependent_count_Education_Level_Months_Inactive_12_mon_2'],\n",
              "      dtype='object')"
            ]
          },
          "metadata": {},
          "execution_count": 14
        }
      ]
    },
    {
      "cell_type": "code",
      "source": [
        "numeric_cols = df.describe().columns"
      ],
      "metadata": {
        "id": "gfp4CXFKrosO"
      },
      "execution_count": 50,
      "outputs": []
    },
    {
      "cell_type": "code",
      "source": [
        "# 이상치 판단 함수\n",
        "def outlierFun(series_data,verbos=True):\n",
        "  Q1 = series_data.quantile(0.25)\n",
        "  Q3 = series_data.quantile(0.75)\n",
        "  IQR = Q3 - Q1\n",
        "  lower_bound = Q1 - 1.5 * IQR\n",
        "  upper_bound = Q3 + 1.5 * IQR\n",
        "\n",
        "  # 이상치 표시\n",
        "  outlier = (series_data < lower_bound) | (series_data > upper_bound)\n",
        "\n",
        "  # 결과출력\n",
        "  if verbos:\n",
        "    print('IQR:', IQR)\n",
        "    print(\"lower bound : \", lower_bound)\n",
        "    print(\"upper bound : \", upper_bound)\n",
        "    print(\"Detected outliers:\\n\", series_data[outlier])\n",
        "  return len(series_data[outlier])"
      ],
      "metadata": {
        "id": "vBPhkWt9rout"
      },
      "execution_count": 36,
      "outputs": []
    },
    {
      "cell_type": "code",
      "source": [
        "outlierFun( df[numeric_cols[1]] )"
      ],
      "metadata": {
        "colab": {
          "base_uri": "https://localhost:8080/"
        },
        "id": "j_UvpSNGkULa",
        "outputId": "e2c7c24c-2a10-4da7-8fae-dd4473dc57a9"
      },
      "execution_count": 37,
      "outputs": [
        {
          "output_type": "stream",
          "name": "stdout",
          "text": [
            "IQR: 11.0\n",
            "lower bound :  24.5\n",
            "upper bound :  68.5\n",
            "Detected outliers:\n",
            " 251    73\n",
            "254    70\n",
            "Name: Customer_Age, dtype: int64\n"
          ]
        },
        {
          "output_type": "execute_result",
          "data": {
            "text/plain": [
              "2"
            ]
          },
          "metadata": {},
          "execution_count": 37
        }
      ]
    },
    {
      "cell_type": "code",
      "source": [
        "outlierFun(df[numeric_cols[2]])"
      ],
      "metadata": {
        "colab": {
          "base_uri": "https://localhost:8080/"
        },
        "id": "02P8Z3j2kUOQ",
        "outputId": "0ce314d9-3ede-4565-ad45-96d294515b3a"
      },
      "execution_count": 38,
      "outputs": [
        {
          "output_type": "stream",
          "name": "stdout",
          "text": [
            "IQR: 2.0\n",
            "lower bound :  -2.0\n",
            "upper bound :  6.0\n",
            "Detected outliers:\n",
            " Series([], Name: Dependent_count, dtype: int64)\n"
          ]
        },
        {
          "output_type": "execute_result",
          "data": {
            "text/plain": [
              "0"
            ]
          },
          "metadata": {},
          "execution_count": 38
        }
      ]
    },
    {
      "cell_type": "code",
      "source": [
        "outlier_lists = [ outlierFun(df[col],verbos=False)  for col in numeric_cols]"
      ],
      "metadata": {
        "id": "Plv_oCp8t9IW"
      },
      "execution_count": 39,
      "outputs": []
    },
    {
      "cell_type": "code",
      "source": [
        "outlier_lists"
      ],
      "metadata": {
        "colab": {
          "base_uri": "https://localhost:8080/"
        },
        "id": "uJLKrPWUurOd",
        "outputId": "0bcc4d7c-2580-4beb-a231-e59c21e0542e"
      },
      "execution_count": 40,
      "outputs": [
        {
          "output_type": "execute_result",
          "data": {
            "text/plain": [
              "[0, 2, 0, 386, 0, 331, 629, 984, 0, 963, 396, 896, 2, 394, 0, 1691, 1688]"
            ]
          },
          "metadata": {},
          "execution_count": 40
        }
      ]
    },
    {
      "cell_type": "code",
      "source": [
        "numeric_cols = np.array(numeric_cols)"
      ],
      "metadata": {
        "id": "X4CB7Gs6wL51"
      },
      "execution_count": 52,
      "outputs": []
    },
    {
      "cell_type": "code",
      "source": [
        "numeric_cols[-1] =\"Naive_Bayes_Classifier_Attrition_2\"\n",
        "numeric_cols[-2] =\"Naive_Bayes_Classifier_Attrition_1\""
      ],
      "metadata": {
        "id": "0YH0ZtJVvoO1"
      },
      "execution_count": 53,
      "outputs": []
    },
    {
      "cell_type": "code",
      "source": [
        "pd.DataFrame(outlier_lists, index=numeric_cols, columns=['outlier_count'])"
      ],
      "metadata": {
        "colab": {
          "base_uri": "https://localhost:8080/",
          "height": 582
        },
        "id": "4SN8nYPiurTU",
        "outputId": "7bcbe073-3ecd-4bce-d3b9-0f142d1ca1d1"
      },
      "execution_count": 54,
      "outputs": [
        {
          "output_type": "execute_result",
          "data": {
            "text/plain": [
              "                                    outlier_count\n",
              "CLIENTNUM                                       0\n",
              "Customer_Age                                    2\n",
              "Dependent_count                                 0\n",
              "Months_on_book                                386\n",
              "Total_Relationship_Count                        0\n",
              "Months_Inactive_12_mon                        331\n",
              "Contacts_Count_12_mon                         629\n",
              "Credit_Limit                                  984\n",
              "Total_Revolving_Bal                             0\n",
              "Avg_Open_To_Buy                               963\n",
              "Total_Amt_Chng_Q4_Q1                          396\n",
              "Total_Trans_Amt                               896\n",
              "Total_Trans_Ct                                  2\n",
              "Total_Ct_Chng_Q4_Q1                           394\n",
              "Avg_Utilization_Ratio                           0\n",
              "Naive_Bayes_Classifier_Attrition_1           1691\n",
              "Naive_Bayes_Classifier_Attrition_2           1688"
            ],
            "text/html": [
              "\n",
              "  <div id=\"df-2bfb62b0-f846-4c76-a213-a27f3256f57f\" class=\"colab-df-container\">\n",
              "    <div>\n",
              "<style scoped>\n",
              "    .dataframe tbody tr th:only-of-type {\n",
              "        vertical-align: middle;\n",
              "    }\n",
              "\n",
              "    .dataframe tbody tr th {\n",
              "        vertical-align: top;\n",
              "    }\n",
              "\n",
              "    .dataframe thead th {\n",
              "        text-align: right;\n",
              "    }\n",
              "</style>\n",
              "<table border=\"1\" class=\"dataframe\">\n",
              "  <thead>\n",
              "    <tr style=\"text-align: right;\">\n",
              "      <th></th>\n",
              "      <th>outlier_count</th>\n",
              "    </tr>\n",
              "  </thead>\n",
              "  <tbody>\n",
              "    <tr>\n",
              "      <th>CLIENTNUM</th>\n",
              "      <td>0</td>\n",
              "    </tr>\n",
              "    <tr>\n",
              "      <th>Customer_Age</th>\n",
              "      <td>2</td>\n",
              "    </tr>\n",
              "    <tr>\n",
              "      <th>Dependent_count</th>\n",
              "      <td>0</td>\n",
              "    </tr>\n",
              "    <tr>\n",
              "      <th>Months_on_book</th>\n",
              "      <td>386</td>\n",
              "    </tr>\n",
              "    <tr>\n",
              "      <th>Total_Relationship_Count</th>\n",
              "      <td>0</td>\n",
              "    </tr>\n",
              "    <tr>\n",
              "      <th>Months_Inactive_12_mon</th>\n",
              "      <td>331</td>\n",
              "    </tr>\n",
              "    <tr>\n",
              "      <th>Contacts_Count_12_mon</th>\n",
              "      <td>629</td>\n",
              "    </tr>\n",
              "    <tr>\n",
              "      <th>Credit_Limit</th>\n",
              "      <td>984</td>\n",
              "    </tr>\n",
              "    <tr>\n",
              "      <th>Total_Revolving_Bal</th>\n",
              "      <td>0</td>\n",
              "    </tr>\n",
              "    <tr>\n",
              "      <th>Avg_Open_To_Buy</th>\n",
              "      <td>963</td>\n",
              "    </tr>\n",
              "    <tr>\n",
              "      <th>Total_Amt_Chng_Q4_Q1</th>\n",
              "      <td>396</td>\n",
              "    </tr>\n",
              "    <tr>\n",
              "      <th>Total_Trans_Amt</th>\n",
              "      <td>896</td>\n",
              "    </tr>\n",
              "    <tr>\n",
              "      <th>Total_Trans_Ct</th>\n",
              "      <td>2</td>\n",
              "    </tr>\n",
              "    <tr>\n",
              "      <th>Total_Ct_Chng_Q4_Q1</th>\n",
              "      <td>394</td>\n",
              "    </tr>\n",
              "    <tr>\n",
              "      <th>Avg_Utilization_Ratio</th>\n",
              "      <td>0</td>\n",
              "    </tr>\n",
              "    <tr>\n",
              "      <th>Naive_Bayes_Classifier_Attrition_1</th>\n",
              "      <td>1691</td>\n",
              "    </tr>\n",
              "    <tr>\n",
              "      <th>Naive_Bayes_Classifier_Attrition_2</th>\n",
              "      <td>1688</td>\n",
              "    </tr>\n",
              "  </tbody>\n",
              "</table>\n",
              "</div>\n",
              "    <div class=\"colab-df-buttons\">\n",
              "\n",
              "  <div class=\"colab-df-container\">\n",
              "    <button class=\"colab-df-convert\" onclick=\"convertToInteractive('df-2bfb62b0-f846-4c76-a213-a27f3256f57f')\"\n",
              "            title=\"Convert this dataframe to an interactive table.\"\n",
              "            style=\"display:none;\">\n",
              "\n",
              "  <svg xmlns=\"http://www.w3.org/2000/svg\" height=\"24px\" viewBox=\"0 -960 960 960\">\n",
              "    <path d=\"M120-120v-720h720v720H120Zm60-500h600v-160H180v160Zm220 220h160v-160H400v160Zm0 220h160v-160H400v160ZM180-400h160v-160H180v160Zm440 0h160v-160H620v160ZM180-180h160v-160H180v160Zm440 0h160v-160H620v160Z\"/>\n",
              "  </svg>\n",
              "    </button>\n",
              "\n",
              "  <style>\n",
              "    .colab-df-container {\n",
              "      display:flex;\n",
              "      gap: 12px;\n",
              "    }\n",
              "\n",
              "    .colab-df-convert {\n",
              "      background-color: #E8F0FE;\n",
              "      border: none;\n",
              "      border-radius: 50%;\n",
              "      cursor: pointer;\n",
              "      display: none;\n",
              "      fill: #1967D2;\n",
              "      height: 32px;\n",
              "      padding: 0 0 0 0;\n",
              "      width: 32px;\n",
              "    }\n",
              "\n",
              "    .colab-df-convert:hover {\n",
              "      background-color: #E2EBFA;\n",
              "      box-shadow: 0px 1px 2px rgba(60, 64, 67, 0.3), 0px 1px 3px 1px rgba(60, 64, 67, 0.15);\n",
              "      fill: #174EA6;\n",
              "    }\n",
              "\n",
              "    .colab-df-buttons div {\n",
              "      margin-bottom: 4px;\n",
              "    }\n",
              "\n",
              "    [theme=dark] .colab-df-convert {\n",
              "      background-color: #3B4455;\n",
              "      fill: #D2E3FC;\n",
              "    }\n",
              "\n",
              "    [theme=dark] .colab-df-convert:hover {\n",
              "      background-color: #434B5C;\n",
              "      box-shadow: 0px 1px 3px 1px rgba(0, 0, 0, 0.15);\n",
              "      filter: drop-shadow(0px 1px 2px rgba(0, 0, 0, 0.3));\n",
              "      fill: #FFFFFF;\n",
              "    }\n",
              "  </style>\n",
              "\n",
              "    <script>\n",
              "      const buttonEl =\n",
              "        document.querySelector('#df-2bfb62b0-f846-4c76-a213-a27f3256f57f button.colab-df-convert');\n",
              "      buttonEl.style.display =\n",
              "        google.colab.kernel.accessAllowed ? 'block' : 'none';\n",
              "\n",
              "      async function convertToInteractive(key) {\n",
              "        const element = document.querySelector('#df-2bfb62b0-f846-4c76-a213-a27f3256f57f');\n",
              "        const dataTable =\n",
              "          await google.colab.kernel.invokeFunction('convertToInteractive',\n",
              "                                                    [key], {});\n",
              "        if (!dataTable) return;\n",
              "\n",
              "        const docLinkHtml = 'Like what you see? Visit the ' +\n",
              "          '<a target=\"_blank\" href=https://colab.research.google.com/notebooks/data_table.ipynb>data table notebook</a>'\n",
              "          + ' to learn more about interactive tables.';\n",
              "        element.innerHTML = '';\n",
              "        dataTable['output_type'] = 'display_data';\n",
              "        await google.colab.output.renderOutput(dataTable, element);\n",
              "        const docLink = document.createElement('div');\n",
              "        docLink.innerHTML = docLinkHtml;\n",
              "        element.appendChild(docLink);\n",
              "      }\n",
              "    </script>\n",
              "  </div>\n",
              "\n",
              "\n",
              "<div id=\"df-cf7e4ac2-ffc1-4bf6-9067-e3aa890531e9\">\n",
              "  <button class=\"colab-df-quickchart\" onclick=\"quickchart('df-cf7e4ac2-ffc1-4bf6-9067-e3aa890531e9')\"\n",
              "            title=\"Suggest charts\"\n",
              "            style=\"display:none;\">\n",
              "\n",
              "<svg xmlns=\"http://www.w3.org/2000/svg\" height=\"24px\"viewBox=\"0 0 24 24\"\n",
              "     width=\"24px\">\n",
              "    <g>\n",
              "        <path d=\"M19 3H5c-1.1 0-2 .9-2 2v14c0 1.1.9 2 2 2h14c1.1 0 2-.9 2-2V5c0-1.1-.9-2-2-2zM9 17H7v-7h2v7zm4 0h-2V7h2v10zm4 0h-2v-4h2v4z\"/>\n",
              "    </g>\n",
              "</svg>\n",
              "  </button>\n",
              "\n",
              "<style>\n",
              "  .colab-df-quickchart {\n",
              "      --bg-color: #E8F0FE;\n",
              "      --fill-color: #1967D2;\n",
              "      --hover-bg-color: #E2EBFA;\n",
              "      --hover-fill-color: #174EA6;\n",
              "      --disabled-fill-color: #AAA;\n",
              "      --disabled-bg-color: #DDD;\n",
              "  }\n",
              "\n",
              "  [theme=dark] .colab-df-quickchart {\n",
              "      --bg-color: #3B4455;\n",
              "      --fill-color: #D2E3FC;\n",
              "      --hover-bg-color: #434B5C;\n",
              "      --hover-fill-color: #FFFFFF;\n",
              "      --disabled-bg-color: #3B4455;\n",
              "      --disabled-fill-color: #666;\n",
              "  }\n",
              "\n",
              "  .colab-df-quickchart {\n",
              "    background-color: var(--bg-color);\n",
              "    border: none;\n",
              "    border-radius: 50%;\n",
              "    cursor: pointer;\n",
              "    display: none;\n",
              "    fill: var(--fill-color);\n",
              "    height: 32px;\n",
              "    padding: 0;\n",
              "    width: 32px;\n",
              "  }\n",
              "\n",
              "  .colab-df-quickchart:hover {\n",
              "    background-color: var(--hover-bg-color);\n",
              "    box-shadow: 0 1px 2px rgba(60, 64, 67, 0.3), 0 1px 3px 1px rgba(60, 64, 67, 0.15);\n",
              "    fill: var(--button-hover-fill-color);\n",
              "  }\n",
              "\n",
              "  .colab-df-quickchart-complete:disabled,\n",
              "  .colab-df-quickchart-complete:disabled:hover {\n",
              "    background-color: var(--disabled-bg-color);\n",
              "    fill: var(--disabled-fill-color);\n",
              "    box-shadow: none;\n",
              "  }\n",
              "\n",
              "  .colab-df-spinner {\n",
              "    border: 2px solid var(--fill-color);\n",
              "    border-color: transparent;\n",
              "    border-bottom-color: var(--fill-color);\n",
              "    animation:\n",
              "      spin 1s steps(1) infinite;\n",
              "  }\n",
              "\n",
              "  @keyframes spin {\n",
              "    0% {\n",
              "      border-color: transparent;\n",
              "      border-bottom-color: var(--fill-color);\n",
              "      border-left-color: var(--fill-color);\n",
              "    }\n",
              "    20% {\n",
              "      border-color: transparent;\n",
              "      border-left-color: var(--fill-color);\n",
              "      border-top-color: var(--fill-color);\n",
              "    }\n",
              "    30% {\n",
              "      border-color: transparent;\n",
              "      border-left-color: var(--fill-color);\n",
              "      border-top-color: var(--fill-color);\n",
              "      border-right-color: var(--fill-color);\n",
              "    }\n",
              "    40% {\n",
              "      border-color: transparent;\n",
              "      border-right-color: var(--fill-color);\n",
              "      border-top-color: var(--fill-color);\n",
              "    }\n",
              "    60% {\n",
              "      border-color: transparent;\n",
              "      border-right-color: var(--fill-color);\n",
              "    }\n",
              "    80% {\n",
              "      border-color: transparent;\n",
              "      border-right-color: var(--fill-color);\n",
              "      border-bottom-color: var(--fill-color);\n",
              "    }\n",
              "    90% {\n",
              "      border-color: transparent;\n",
              "      border-bottom-color: var(--fill-color);\n",
              "    }\n",
              "  }\n",
              "</style>\n",
              "\n",
              "  <script>\n",
              "    async function quickchart(key) {\n",
              "      const quickchartButtonEl =\n",
              "        document.querySelector('#' + key + ' button');\n",
              "      quickchartButtonEl.disabled = true;  // To prevent multiple clicks.\n",
              "      quickchartButtonEl.classList.add('colab-df-spinner');\n",
              "      try {\n",
              "        const charts = await google.colab.kernel.invokeFunction(\n",
              "            'suggestCharts', [key], {});\n",
              "      } catch (error) {\n",
              "        console.error('Error during call to suggestCharts:', error);\n",
              "      }\n",
              "      quickchartButtonEl.classList.remove('colab-df-spinner');\n",
              "      quickchartButtonEl.classList.add('colab-df-quickchart-complete');\n",
              "    }\n",
              "    (() => {\n",
              "      let quickchartButtonEl =\n",
              "        document.querySelector('#df-cf7e4ac2-ffc1-4bf6-9067-e3aa890531e9 button');\n",
              "      quickchartButtonEl.style.display =\n",
              "        google.colab.kernel.accessAllowed ? 'block' : 'none';\n",
              "    })();\n",
              "  </script>\n",
              "</div>\n",
              "\n",
              "    </div>\n",
              "  </div>\n"
            ],
            "application/vnd.google.colaboratory.intrinsic+json": {
              "type": "dataframe",
              "summary": "{\n  \"name\": \"pd\",\n  \"rows\": 17,\n  \"fields\": [\n    {\n      \"column\": \"outlier_count\",\n      \"properties\": {\n        \"dtype\": \"number\",\n        \"std\": 573,\n        \"min\": 0,\n        \"max\": 1691,\n        \"num_unique_values\": 12,\n        \"samples\": [\n          1691,\n          394,\n          0\n        ],\n        \"semantic_type\": \"\",\n        \"description\": \"\"\n      }\n    }\n  ]\n}"
            }
          },
          "metadata": {},
          "execution_count": 54
        }
      ]
    },
    {
      "cell_type": "markdown",
      "source": [
        "간단한 이상거래 탐지 코드(Isolation Forest 사용)"
      ],
      "metadata": {
        "id": "F0Udu4WSxUpM"
      }
    },
    {
      "cell_type": "code",
      "source": [
        "import kagglehub\n",
        "import pandas as pd\n",
        "import numpy as np\n",
        "import matplotlib.pyplot as plt\n",
        "from sklearn.ensemble import IsolationForest\n",
        "\n",
        "# Kaggle 데이터셋 다운로드\n",
        "path = kagglehub.dataset_download(\"mlg-ulb/creditcardfraud\")\n",
        "file_path = f\"{path}/creditcard.csv\"  # 데이터셋 파일 경로\n",
        "\n",
        "# 데이터 로드\n",
        "data = pd.read_csv(file_path)\n",
        "\n",
        "# 데이터 확인\n",
        "print(data.head())\n",
        "print(data.info())\n",
        "\n",
        "# 데이터 전처리: 필요한 컬럼 선택 (Time, Amount)\n",
        "X = data[['Time', 'Amount']]\n",
        "\n",
        "# Isolation Forest 모델 초기화 및 학습\n",
        "iso_forest = IsolationForest(n_estimators=100, contamination=0.005, random_state=42)\n",
        "data['Anomaly'] = iso_forest.fit_predict(X)\n",
        "\n",
        "# 이상 거래 탐지 결과 분리\n",
        "anomalies = data[data['Anomaly'] == -1]\n",
        "normal_transactions = data[data['Anomaly'] == 1]\n",
        "\n",
        "# 시각화\n",
        "plt.figure(figsize=(12, 6))\n",
        "plt.scatter(normal_transactions['Time'], normal_transactions['Amount'],\n",
        "            c='blue', label='Normal', s=10)\n",
        "plt.scatter(anomalies['Time'], anomalies['Amount'],\n",
        "            c='red', label='Anomalies', s=30, edgecolor='k')\n",
        "plt.xlabel(\"Time\")\n",
        "plt.ylabel(\"Transaction Amount\")\n",
        "plt.title(\"Transaction Anomalies Detection\")\n",
        "plt.legend()\n",
        "plt.grid(True)\n",
        "plt.show()\n",
        "\n",
        "# 결과 출력\n",
        "print(f\"Detected anomalies: {len(anomalies)}\")\n",
        "print(\"Sample anomalies:\")\n",
        "print(anomalies[['Time', 'Amount']].head())\n"
      ],
      "metadata": {
        "colab": {
          "base_uri": "https://localhost:8080/",
          "height": 1000
        },
        "collapsed": true,
        "id": "Lk4v8iupvbOl",
        "outputId": "d8d6cf5c-3278-41dc-a5c0-f86691e96f6f"
      },
      "execution_count": 63,
      "outputs": [
        {
          "output_type": "stream",
          "name": "stdout",
          "text": [
            "   Time        V1        V2        V3        V4        V5        V6        V7  \\\n",
            "0   0.0 -1.359807 -0.072781  2.536347  1.378155 -0.338321  0.462388  0.239599   \n",
            "1   0.0  1.191857  0.266151  0.166480  0.448154  0.060018 -0.082361 -0.078803   \n",
            "2   1.0 -1.358354 -1.340163  1.773209  0.379780 -0.503198  1.800499  0.791461   \n",
            "3   1.0 -0.966272 -0.185226  1.792993 -0.863291 -0.010309  1.247203  0.237609   \n",
            "4   2.0 -1.158233  0.877737  1.548718  0.403034 -0.407193  0.095921  0.592941   \n",
            "\n",
            "         V8        V9  ...       V21       V22       V23       V24       V25  \\\n",
            "0  0.098698  0.363787  ... -0.018307  0.277838 -0.110474  0.066928  0.128539   \n",
            "1  0.085102 -0.255425  ... -0.225775 -0.638672  0.101288 -0.339846  0.167170   \n",
            "2  0.247676 -1.514654  ...  0.247998  0.771679  0.909412 -0.689281 -0.327642   \n",
            "3  0.377436 -1.387024  ... -0.108300  0.005274 -0.190321 -1.175575  0.647376   \n",
            "4 -0.270533  0.817739  ... -0.009431  0.798278 -0.137458  0.141267 -0.206010   \n",
            "\n",
            "        V26       V27       V28  Amount  Class  \n",
            "0 -0.189115  0.133558 -0.021053  149.62      0  \n",
            "1  0.125895 -0.008983  0.014724    2.69      0  \n",
            "2 -0.139097 -0.055353 -0.059752  378.66      0  \n",
            "3 -0.221929  0.062723  0.061458  123.50      0  \n",
            "4  0.502292  0.219422  0.215153   69.99      0  \n",
            "\n",
            "[5 rows x 31 columns]\n",
            "<class 'pandas.core.frame.DataFrame'>\n",
            "RangeIndex: 284807 entries, 0 to 284806\n",
            "Data columns (total 31 columns):\n",
            " #   Column  Non-Null Count   Dtype  \n",
            "---  ------  --------------   -----  \n",
            " 0   Time    284807 non-null  float64\n",
            " 1   V1      284807 non-null  float64\n",
            " 2   V2      284807 non-null  float64\n",
            " 3   V3      284807 non-null  float64\n",
            " 4   V4      284807 non-null  float64\n",
            " 5   V5      284807 non-null  float64\n",
            " 6   V6      284807 non-null  float64\n",
            " 7   V7      284807 non-null  float64\n",
            " 8   V8      284807 non-null  float64\n",
            " 9   V9      284807 non-null  float64\n",
            " 10  V10     284807 non-null  float64\n",
            " 11  V11     284807 non-null  float64\n",
            " 12  V12     284807 non-null  float64\n",
            " 13  V13     284807 non-null  float64\n",
            " 14  V14     284807 non-null  float64\n",
            " 15  V15     284807 non-null  float64\n",
            " 16  V16     284807 non-null  float64\n",
            " 17  V17     284807 non-null  float64\n",
            " 18  V18     284807 non-null  float64\n",
            " 19  V19     284807 non-null  float64\n",
            " 20  V20     284807 non-null  float64\n",
            " 21  V21     284807 non-null  float64\n",
            " 22  V22     284807 non-null  float64\n",
            " 23  V23     284807 non-null  float64\n",
            " 24  V24     284807 non-null  float64\n",
            " 25  V25     284807 non-null  float64\n",
            " 26  V26     284807 non-null  float64\n",
            " 27  V27     284807 non-null  float64\n",
            " 28  V28     284807 non-null  float64\n",
            " 29  Amount  284807 non-null  float64\n",
            " 30  Class   284807 non-null  int64  \n",
            "dtypes: float64(30), int64(1)\n",
            "memory usage: 67.4 MB\n",
            "None\n"
          ]
        },
        {
          "output_type": "display_data",
          "data": {
            "text/plain": [
              "<Figure size 1200x600 with 1 Axes>"
            ],
            "image/png": "[encoded data removed]"
          },
          "metadata": {}
        },
        {
          "output_type": "stream",
          "name": "stdout",
          "text": [
            "Detected anomalies: 1419\n",
            "Sample anomalies:\n",
            "      Time   Amount\n",
            "51    36.0  1402.95\n",
            "89    59.0  1142.02\n",
            "140   87.0   919.60\n",
            "150   93.0   937.69\n",
            "164  103.0  3828.04\n"
          ]
        }
      ]
    },
    {
      "cell_type": "markdown",
      "source": [
        "# 사기 거래 탐지에서 중요한 점\n",
        "- 정확성: 사기 거래를 탐지하면서 정상 거래를 잘못 분류(false positive)하지 않도록.\n",
        "- 실시간 처리: 사기 거래는 즉각 차단이 중요하므로, 실시간 분석 능력 필요.\n",
        "- 해석 가능성: 고객과 은행이 이해할 수 있도록 명확한 사유 제공.\n",
        "- 클래스 불균형 처리: 사기 거래는 전체 거래의 0.1~0.5% 정도로 매우 적음."
      ],
      "metadata": {
        "id": "v0aLW0YAxpbc"
      }
    },
    {
      "cell_type": "markdown",
      "source": [
        "# 실제로 적용 가능한 모델\n",
        "- XGBoost/LightGBM: 지도 학습에서 뛰어난 성능.\n",
        "- Autoencoder: 비지도 학습으로 이상치 탐지.\n",
        "- LSTM: 시간 의존성을 활용해 시계열 거래 데이터를 분석."
      ],
      "metadata": {
        "id": "ACRSkruVwslc"
      }
    },
    {
      "cell_type": "markdown",
      "source": [
        "  - 상관관계\n",
        "  - matplotlib, seaboarn"
      ],
      "metadata": {
        "id": "74mBhbIvinG4"
      }
    },
    {
      "cell_type": "code",
      "source": [
        "import kagglehub\n",
        "import pandas as pd\n",
        "import seaborn as sns\n",
        "import matplotlib.pyplot as plt\n",
        "\n",
        "# Kaggle 데이터셋 다운로드\n",
        "path = kagglehub.dataset_download(\"mlg-ulb/creditcardfraud\")\n",
        "file_path = f\"{path}/creditcard.csv\"  # 데이터셋 파일 경로\n",
        "\n",
        "# 데이터 로드\n",
        "data = pd.read_csv(file_path)\n",
        "data = data.iloc[:,:10]\n",
        "# 데이터 정보 확인\n",
        "print(data.info())\n",
        "\n",
        "# 데이터의 상관관계 계산\n",
        "correlation_matrix = data.corr()\n",
        "\n",
        "# 상관관계 히트맵 시각화\n",
        "plt.figure(figsize=(12, 8))\n",
        "sns.heatmap(correlation_matrix, annot=True, cmap=\"coolwarm\", fmt=\".2f\", linewidths=0.5)\n",
        "plt.title(\"Credit Card Fraud Detection: Correlation Matrix\")\n",
        "plt.show()\n",
        "\n",
        "# 특정 변수 간 상관관계 확인 (예: 'Amount'와 다른 변수들)\n",
        "print(\"\\n상위 상관관계 변수들:\")\n",
        "# print(correlation_matrix[\"Amount\"].sort_values(ascending=False))\n"
      ],
      "metadata": {
        "id": "MZxUZWszingY",
        "colab": {
          "base_uri": "https://localhost:8080/",
          "height": 1000
        },
        "outputId": "0010008c-5a6e-4993-a9a9-a6ab814434de"
      },
      "execution_count": 69,
      "outputs": [
        {
          "output_type": "stream",
          "name": "stdout",
          "text": [
            "<class 'pandas.core.frame.DataFrame'>\n",
            "RangeIndex: 284807 entries, 0 to 284806\n",
            "Data columns (total 10 columns):\n",
            " #   Column  Non-Null Count   Dtype  \n",
            "---  ------  --------------   -----  \n",
            " 0   Time    284807 non-null  float64\n",
            " 1   V1      284807 non-null  float64\n",
            " 2   V2      284807 non-null  float64\n",
            " 3   V3      284807 non-null  float64\n",
            " 4   V4      284807 non-null  float64\n",
            " 5   V5      284807 non-null  float64\n",
            " 6   V6      284807 non-null  float64\n",
            " 7   V7      284807 non-null  float64\n",
            " 8   V8      284807 non-null  float64\n",
            " 9   V9      284807 non-null  float64\n",
            "dtypes: float64(10)\n",
            "memory usage: 21.7 MB\n",
            "None\n"
          ]
        },
        {
          "output_type": "display_data",
          "data": {
            "text/plain": [
              "<Figure size 1200x800 with 2 Axes>"
            ],
            "image/png": "[encoded data removed]"
          },
          "metadata": {}
        },
        {
          "output_type": "stream",
          "name": "stdout",
          "text": [
            "\n",
            "상위 상관관계 변수들:\n"
          ]
        }
      ]
    },
    {
      "cell_type": "markdown",
      "source": [
        "![image.png](data:image/png;base64,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)"
      ],
      "metadata": {
        "id": "zLJ3rJ6P3teq"
      }
    },
    {
      "cell_type": "markdown",
      "source": [
        "중요변수만 선택해서 상관계를 시각화"
      ],
      "metadata": {
        "id": "DdpHubLy25n7"
      }
    },
    {
      "cell_type": "code",
      "source": [
        "import kagglehub\n",
        "import pandas as pd\n",
        "import seaborn as sns\n",
        "import matplotlib.pyplot as plt\n",
        "\n",
        "# Kaggle 데이터셋 다운로드\n",
        "path = kagglehub.dataset_download(\"mlg-ulb/creditcardfraud\")\n",
        "file_path = f\"{path}/creditcard.csv\"  # 데이터셋 파일 경로\n",
        "# 데이터 로드\n",
        "data = pd.read_csv(file_path)\n",
        "\n",
        "#상관관계 계산\n",
        "correlation_matrix = data.corr()\n",
        "\n",
        "# 'Class' 변수와의 상관관계 출력 (사기 거래와 관련 있는 변수 찾기)\n",
        "print(\"Class와 상관관계가 높은 변수들:\")\n",
        "print(correlation_matrix[\"Class\"].sort_values(ascending=False))\n",
        "\n",
        "# 상관관계가 높은 변수들을 추출(상관계수 0.5 이상인 변수)\n",
        "threshold = 0.2\n",
        "high_correlation_vars = correlation_matrix.columns[abs(correlation_matrix[\"Class\"]) > threshold]\n",
        "print(\"\\n상관관계가 높은 변수들:\")\n",
        "print(high_correlation_vars)\n",
        "\n",
        "\n",
        "# 상관관계 히트맵 시각화\n",
        "plt.figure(figsize=(12, 8))\n",
        "sns.heatmap(data[high_correlation_vars].corr(),\n",
        "            annot=True, cmap=\"coolwarm\", fmt=\".2f\", linewidths=0.5)\n",
        "plt.title(\"High Correlation Variables with 'Class' (Fraud)\")\n",
        "plt.show()"
      ],
      "metadata": {
        "colab": {
          "base_uri": "https://localhost:8080/",
          "height": 1000
        },
        "collapsed": true,
        "id": "9pcEd6s82n95",
        "outputId": "f1ad1ca9-08ee-4a95-f7f7-fa014955f978"
      },
      "execution_count": 100,
      "outputs": [
        {
          "output_type": "stream",
          "name": "stdout",
          "text": [
            "Class와 상관관계가 높은 변수들:\n",
            "Class     1.000000\n",
            "V11       0.154876\n",
            "V4        0.133447\n",
            "V2        0.091289\n",
            "V21       0.040413\n",
            "V19       0.034783\n",
            "V20       0.020090\n",
            "V8        0.019875\n",
            "V27       0.017580\n",
            "V28       0.009536\n",
            "Amount    0.005632\n",
            "V26       0.004455\n",
            "V25       0.003308\n",
            "V22       0.000805\n",
            "V23      -0.002685\n",
            "V15      -0.004223\n",
            "V13      -0.004570\n",
            "V24      -0.007221\n",
            "Time     -0.012323\n",
            "V6       -0.043643\n",
            "V5       -0.094974\n",
            "V9       -0.097733\n",
            "V1       -0.101347\n",
            "V18      -0.111485\n",
            "V7       -0.187257\n",
            "V3       -0.192961\n",
            "V16      -0.196539\n",
            "V10      -0.216883\n",
            "V12      -0.260593\n",
            "V14      -0.302544\n",
            "V17      -0.326481\n",
            "Name: Class, dtype: float64\n",
            "\n",
            "상관관계가 높은 변수들:\n",
            "Index(['V10', 'V12', 'V14', 'V17', 'Class'], dtype='object')\n"
          ]
        },
        {
          "output_type": "display_data",
          "data": {
            "text/plain": [
              "<Figure size 1200x800 with 2 Axes>"
            ],
            "image/png": "[encoded data removed]"
          },
          "metadata": {}
        }
      ]
    },
    {
      "cell_type": "code",
      "source": [],
      "metadata": {
        "id": "l8CcbSS0_KxA"
      },
      "execution_count": null,
      "outputs": []
    },
    {
      "cell_type": "code",
      "source": [
        "import seaborn as sns\n",
        "import pandas as pd\n",
        "import matplotlib.pyplot as plt\n",
        "\n",
        "# 타이타닉 데이터셋 로드\n",
        "titanic = sns.load_dataset('titanic')\n",
        "\n",
        "# 데이터 기본 정보 확인\n",
        "print(titanic.info())\n",
        "print(titanic.describe())\n",
        "\n",
        "# 결측치 확인\n",
        "print(titanic.isnull().sum())\n"
      ],
      "metadata": {
        "colab": {
          "base_uri": "https://localhost:8080/"
        },
        "id": "TPbsFTUw_Kzo",
        "outputId": "1ccb1dce-e0b4-47b0-e4df-4dd894ae108f"
      },
      "execution_count": 101,
      "outputs": [
        {
          "output_type": "stream",
          "name": "stdout",
          "text": [
            "<class 'pandas.core.frame.DataFrame'>\n",
            "RangeIndex: 891 entries, 0 to 890\n",
            "Data columns (total 15 columns):\n",
            " #   Column       Non-Null Count  Dtype   \n",
            "---  ------       --------------  -----   \n",
            " 0   survived     891 non-null    int64   \n",
            " 1   pclass       891 non-null    int64   \n",
            " 2   sex          891 non-null    object  \n",
            " 3   age          714 non-null    float64 \n",
            " 4   sibsp        891 non-null    int64   \n",
            " 5   parch        891 non-null    int64   \n",
            " 6   fare         891 non-null    float64 \n",
            " 7   embarked     889 non-null    object  \n",
            " 8   class        891 non-null    category\n",
            " 9   who          891 non-null    object  \n",
            " 10  adult_male   891 non-null    bool    \n",
            " 11  deck         203 non-null    category\n",
            " 12  embark_town  889 non-null    object  \n",
            " 13  alive        891 non-null    object  \n",
            " 14  alone        891 non-null    bool    \n",
            "dtypes: bool(2), category(2), float64(2), int64(4), object(5)\n",
            "memory usage: 80.7+ KB\n",
            "None\n",
            "         survived      pclass         age       sibsp       parch        fare\n",
            "count  891.000000  891.000000  714.000000  891.000000  891.000000  891.000000\n",
            "mean     0.383838    2.308642   29.699118    0.523008    0.381594   32.204208\n",
            "std      0.486592    0.836071   14.526497    1.102743    0.806057   49.693429\n",
            "min      0.000000    1.000000    0.420000    0.000000    0.000000    0.000000\n",
            "25%      0.000000    2.000000   20.125000    0.000000    0.000000    7.910400\n",
            "50%      0.000000    3.000000   28.000000    0.000000    0.000000   14.454200\n",
            "75%      1.000000    3.000000   38.000000    1.000000    0.000000   31.000000\n",
            "max      1.000000    3.000000   80.000000    8.000000    6.000000  512.329200\n",
            "survived         0\n",
            "pclass           0\n",
            "sex              0\n",
            "age            177\n",
            "sibsp            0\n",
            "parch            0\n",
            "fare             0\n",
            "embarked         2\n",
            "class            0\n",
            "who              0\n",
            "adult_male       0\n",
            "deck           688\n",
            "embark_town      2\n",
            "alive            0\n",
            "alone            0\n",
            "dtype: int64\n"
          ]
        }
      ]
    },
    {
      "cell_type": "code",
      "source": [
        "# Boxplot을 이용한 이상치 분석\n",
        "plt.figure(figsize=(10, 6))\n",
        "sns.boxplot(x='age', data=titanic)\n",
        "plt.title(\"Boxplot of Age - Identifying Outliers\")\n",
        "plt.show()\n",
        "\n",
        "plt.figure(figsize=(10, 6))\n",
        "sns.boxplot(x='fare', data=titanic)\n",
        "plt.title(\"Boxplot of Fare - Identifying Outliers\")\n",
        "plt.show()\n"
      ],
      "metadata": {
        "colab": {
          "base_uri": "https://localhost:8080/",
          "height": 1000
        },
        "id": "Nfge4yhx_K2I",
        "outputId": "dc5a7a09-053d-458e-b18f-c11b7362d072"
      },
      "execution_count": 102,
      "outputs": [
        {
          "output_type": "display_data",
          "data": {
            "text/plain": [
              "<Figure size 1000x600 with 1 Axes>"
            ],
            "image/png": "[encoded data removed]"
          },
          "metadata": {}
        },
        {
          "output_type": "display_data",
          "data": {
            "text/plain": [
              "<Figure size 1000x600 with 1 Axes>"
            ],
            "image/png": "[encoded data removed]"
          },
          "metadata": {}
        }
      ]
    },
    {
      "cell_type": "markdown",
      "source": [
        "- 상관관계 분석\n",
        "  - 상관관계는 연속형 변수들 간의 관계를 파악하는 데 유용합니다. 피어슨 상관계수를 계산하여, 변수들 간의 관계를 분석합니다.\n",
        "\n"
      ],
      "metadata": {
        "id": "k4hE34HsAz2J"
      }
    },
    {
      "cell_type": "code",
      "source": [
        "# 상관관계 계산 - 수치데이터\n",
        "titanic_numeric = titanic.select_dtypes(include=['number'])\n",
        "correlation_matrix = titanic_numeric.corr()\n",
        "\n",
        "# 상관관계 히트맵 시각화\n",
        "plt.figure(figsize=(10, 6))\n",
        "sns.heatmap(correlation_matrix, annot=True, cmap=\"coolwarm\", fmt=\".2f\", linewidths=0.5)\n",
        "plt.title(\"Correlation Matrix of Titanic Dataset\")\n",
        "plt.show()\n"
      ],
      "metadata": {
        "colab": {
          "base_uri": "https://localhost:8080/",
          "height": 545
        },
        "id": "vo2AI4yTA4xA",
        "outputId": "e6c7ca7a-fd77-4349-882f-5744b07d75b3"
      },
      "execution_count": 104,
      "outputs": [
        {
          "output_type": "display_data",
          "data": {
            "text/plain": [
              "<Figure size 1000x600 with 2 Axes>"
            ],
            "image/png": "[encoded data removed]"
          },
          "metadata": {}
        }
      ]
    },
    {
      "cell_type": "markdown",
      "source": [],
      "metadata": {
        "id": "DWtx7N8E-5Ca"
      }
    },
    {
      "cell_type": "code",
      "source": [],
      "metadata": {
        "id": "wD-smb7d8fcQ"
      },
      "execution_count": null,
      "outputs": []
    }
  ]
}