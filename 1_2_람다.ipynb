{
  "nbformat": 4,
  "nbformat_minor": 0,
  "metadata": {
    "colab": {
      "provenance": []
    },
    "kernelspec": {
      "name": "python3",
      "display_name": "Python 3"
    },
    "language_info": {
      "name": "python"
    }
  },
  "cells": [
    {
      "cell_type": "code",
      "execution_count": null,
      "metadata": {
        "id": "VypErUk1vCdZ"
      },
      "outputs": [],
      "source": []
    },
    {
      "cell_type": "markdown",
      "source": [
        "- 함수\n",
        "  - def 이름(매개변수):\n",
        "    - 내용\n",
        "    - return"
      ],
      "metadata": {
        "id": "8hqgGXFGxsNG"
      }
    },
    {
      "cell_type": "markdown",
      "source": [
        "- 매개변수\n",
        "  -  함수에 전달하는 데이터\n",
        "  - 데이터를 받아서 내부로직에 적용한 후.. 값을 리턴"
      ],
      "metadata": {
        "id": "dZFNP_DYx_nl"
      }
    },
    {
      "cell_type": "code",
      "source": [
        "# 함수의 선언\n",
        "def addTwoNumber(x ,y):\n",
        "  z = x + y\n",
        "  return z"
      ],
      "metadata": {
        "id": "ONnbH5rWx0As"
      },
      "execution_count": 2,
      "outputs": []
    },
    {
      "cell_type": "code",
      "source": [
        "result = addTwoNumber(10,20)  # result = 30\n",
        "print(result)"
      ],
      "metadata": {
        "colab": {
          "base_uri": "https://localhost:8080/"
        },
        "id": "tA1FNbceyRM-",
        "outputId": "e9528ad5-c939-4011-def0-47fa08628171"
      },
      "execution_count": 3,
      "outputs": [
        {
          "output_type": "stream",
          "name": "stdout",
          "text": [
            "30\n"
          ]
        }
      ]
    },
    {
      "cell_type": "code",
      "source": [
        "def add(x,y):\n",
        "  return x+y\n",
        "\n",
        "def minus(x,y):\n",
        "  return x-y\n",
        "\n"
      ],
      "metadata": {
        "id": "eLDBVzlpzlFo"
      },
      "execution_count": 6,
      "outputs": []
    },
    {
      "cell_type": "code",
      "source": [
        "def addFunction( func, x,y ):\n",
        "  result = func(x, y)\n",
        "  return result"
      ],
      "metadata": {
        "id": "a2qn_bh3yb40"
      },
      "execution_count": 4,
      "outputs": []
    },
    {
      "cell_type": "code",
      "source": [
        "addFunction(minus,2,3)"
      ],
      "metadata": {
        "colab": {
          "base_uri": "https://localhost:8080/"
        },
        "id": "9O0XBfuyzSf9",
        "outputId": "62d47ef9-9c36-4f32-837a-d49cdb6b2abe"
      },
      "execution_count": 7,
      "outputs": [
        {
          "output_type": "execute_result",
          "data": {
            "text/plain": [
              "-1"
            ]
          },
          "metadata": {},
          "execution_count": 7
        }
      ]
    },
    {
      "cell_type": "markdown",
      "source": [
        "- 람다함수\n",
        "  - 이름없는 함수 - 익명함수 - 임시로 사용하고 버리는 함수"
      ],
      "metadata": {
        "id": "SybxG-yM03de"
      }
    },
    {
      "cell_type": "code",
      "source": [
        "def add(x, y):\n",
        "  return x + y\n",
        "\n",
        "myadd = lambda x, y : x + y\n",
        "\n",
        "myadd(10,20)"
      ],
      "metadata": {
        "colab": {
          "base_uri": "https://localhost:8080/"
        },
        "id": "UHrwK1f30BZN",
        "outputId": "1ff50502-9230-4367-b8ba-3134e5521a9b"
      },
      "execution_count": 9,
      "outputs": [
        {
          "output_type": "execute_result",
          "data": {
            "text/plain": [
              "30"
            ]
          },
          "metadata": {},
          "execution_count": 9
        }
      ]
    },
    {
      "cell_type": "code",
      "source": [
        "addFunction( lambda x, y : x * y,  10, 20  )"
      ],
      "metadata": {
        "colab": {
          "base_uri": "https://localhost:8080/"
        },
        "id": "x7LqYszb1cRn",
        "outputId": "0d6e6652-7ec4-44a7-8271-b24e17939389"
      },
      "execution_count": 10,
      "outputs": [
        {
          "output_type": "execute_result",
          "data": {
            "text/plain": [
              "200"
            ]
          },
          "metadata": {},
          "execution_count": 10
        }
      ]
    },
    {
      "cell_type": "code",
      "source": [
        "# 4칙연산  10,20 가지고 addFunction과 람다함수를 이용해서 수행\n"
      ],
      "metadata": {
        "id": "0Fd_yMkl1KBW"
      },
      "execution_count": 11,
      "outputs": []
    },
    {
      "cell_type": "code",
      "source": [],
      "metadata": {
        "id": "M8wEucUO2JR_"
      },
      "execution_count": null,
      "outputs": []
    },
    {
      "cell_type": "code",
      "source": [],
      "metadata": {
        "id": "WqC9117S19eH"
      },
      "execution_count": null,
      "outputs": []
    }
  ]
}