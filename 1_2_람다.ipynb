{
  "nbformat": 4,
  "nbformat_minor": 0,
  "metadata": {
    "colab": {
      "provenance": []
    },
    "kernelspec": {
      "name": "python3",
      "display_name": "Python 3"
    },
    "language_info": {
      "name": "python"
    }
  },
  "cells": [
    {
      "cell_type": "code",
      "execution_count": null,
      "metadata": {
        "id": "VypErUk1vCdZ"
      },
      "outputs": [],
      "source": []
    },
    {
      "cell_type": "markdown",
      "source": [
        "- 함수\n",
        "  - def 이름(매개변수):\n",
        "    - 내용\n",
        "    - return"
      ],
      "metadata": {
        "id": "8hqgGXFGxsNG"
      }
    },
    {
      "cell_type": "markdown",
      "source": [
        "- 매개변수\n",
        "  -  함수에 전달하는 데이터\n",
        "  - 데이터를 받아서 내부로직에 적용한 후.. 값을 리턴"
      ],
      "metadata": {
        "id": "dZFNP_DYx_nl"
      }
    },
    {
      "cell_type": "code",
      "source": [
        "# 함수의 선언\n",
        "def addTwoNumber(x ,y):\n",
        "  z = x + y\n",
        "  return z"
      ],
      "metadata": {
        "id": "ONnbH5rWx0As"
      },
      "execution_count": 2,
      "outputs": []
    },
    {
      "cell_type": "code",
      "source": [
        "result = addTwoNumber(10,20)  # result = 30\n",
        "print(result)"
      ],
      "metadata": {
        "colab": {
          "base_uri": "https://localhost:8080/"
        },
        "id": "tA1FNbceyRM-",
        "outputId": "e9528ad5-c939-4011-def0-47fa08628171"
      },
      "execution_count": 3,
      "outputs": [
        {
          "output_type": "stream",
          "name": "stdout",
          "text": [
            "30\n"
          ]
        }
      ]
    },
    {
      "cell_type": "code",
      "source": [
        "def add(x,y):\n",
        "  return x+y\n",
        "\n",
        "def minus(x,y):\n",
        "  return x-y\n",
        "\n"
      ],
      "metadata": {
        "id": "eLDBVzlpzlFo"
      },
      "execution_count": 6,
      "outputs": []
    },
    {
      "cell_type": "code",
      "source": [
        "def addFunction( func, x,y ):\n",
        "  result = func(x, y)\n",
        "  return result"
      ],
      "metadata": {
        "id": "a2qn_bh3yb40"
      },
      "execution_count": 4,
      "outputs": []
    },
    {
      "cell_type": "code",
      "source": [
        "addFunction(minus,2,3)"
      ],
      "metadata": {
        "colab": {
          "base_uri": "https://localhost:8080/"
        },
        "id": "9O0XBfuyzSf9",
        "outputId": "62d47ef9-9c36-4f32-837a-d49cdb6b2abe"
      },
      "execution_count": 7,
      "outputs": [
        {
          "output_type": "execute_result",
          "data": {
            "text/plain": [
              "-1"
            ]
          },
          "metadata": {},
          "execution_count": 7
        }
      ]
    },
    {
      "cell_type": "markdown",
      "source": [
        "- 람다함수\n",
        "  - 이름없는 함수 - 익명함수 - 임시로 사용하고 버리는 함수"
      ],
      "metadata": {
        "id": "SybxG-yM03de"
      }
    },
    {
      "cell_type": "code",
      "source": [
        "def add(x, y):\n",
        "  return x + y\n",
        "\n",
        "myadd = lambda x, y : x + y\n",
        "\n",
        "myadd(10,20)"
      ],
      "metadata": {
        "colab": {
          "base_uri": "https://localhost:8080/"
        },
        "id": "UHrwK1f30BZN",
        "outputId": "1ff50502-9230-4367-b8ba-3134e5521a9b"
      },
      "execution_count": 9,
      "outputs": [
        {
          "output_type": "execute_result",
          "data": {
            "text/plain": [
              "30"
            ]
          },
          "metadata": {},
          "execution_count": 9
        }
      ]
    },
    {
      "cell_type": "code",
      "source": [
        "addFunction( lambda x, y : x * y,  10, 20  )"
      ],
      "metadata": {
        "colab": {
          "base_uri": "https://localhost:8080/"
        },
        "id": "x7LqYszb1cRn",
        "outputId": "0d6e6652-7ec4-44a7-8271-b24e17939389"
      },
      "execution_count": 10,
      "outputs": [
        {
          "output_type": "execute_result",
          "data": {
            "text/plain": [
              "200"
            ]
          },
          "metadata": {},
          "execution_count": 10
        }
      ]
    },
    {
      "cell_type": "code",
      "source": [
        "# 4칙연산  10,20 가지고 addFunction과 람다함수를 이용해서 수행\n",
        "sum([1,2,3,4,5])"
      ],
      "metadata": {
        "colab": {
          "base_uri": "https://localhost:8080/"
        },
        "id": "0Fd_yMkl1KBW",
        "outputId": "44deeb5b-1e7e-4c27-a1af-627377d67fa0"
      },
      "execution_count": 1,
      "outputs": [
        {
          "output_type": "execute_result",
          "data": {
            "text/plain": [
              "15"
            ]
          },
          "metadata": {},
          "execution_count": 1
        }
      ]
    },
    {
      "cell_type": "code",
      "source": [
        "def add(x,y):\n",
        "  sum = x + y\n",
        "  return sum"
      ],
      "metadata": {
        "id": "M8wEucUO2JR_"
      },
      "execution_count": 23,
      "outputs": []
    },
    {
      "cell_type": "code",
      "source": [
        "# 파이썬은 예약어의 개념이 없어서 기존 시스템에서 제공하는 함수도 재정의가 가능핟\n",
        "# a = 10\n",
        "# b = 20\n",
        "# sum = a + b\n",
        "# print(sum)"
      ],
      "metadata": {
        "id": "WqC9117S19eH"
      },
      "execution_count": 2,
      "outputs": []
    },
    {
      "cell_type": "code",
      "source": [
        "# 자료구조.. 데이터 타입\n",
        "# 변수\n",
        "# 변수들의 집합 : 리스트, 튜플, set, 딕셔너리"
      ],
      "metadata": {
        "id": "uejYRuxg46Yu"
      },
      "execution_count": 3,
      "outputs": []
    },
    {
      "cell_type": "markdown",
      "source": [
        "리스트 [1,2,3]\n",
        "  - 순서가 존재\n",
        "  - 다양한 종류의 데이터가 혼재\n",
        "  - CRUD가 가능\n",
        "튜플 (1,2,3 )\n",
        "  - 순서가 존재\n",
        "  - 읽기전용\n",
        "  - 데이터의 보존을 위해서  \n",
        "set set()\n",
        "  - 중복을 허용하지 않음\n",
        "딕셔너리  { \"a\":10, \"b\":20}\n",
        "  - key:value -->하나의 데이터    \n",
        "  - key는 중복을 허용하지 않는다"
      ],
      "metadata": {
        "id": "hGH-3KzM6mtQ"
      }
    },
    {
      "cell_type": "code",
      "source": [
        "list_1 = [ ]  # 빈 리스트\n",
        "list_2 = list()  # 내장 함수를 이용\n",
        "# 데이터 추가\n",
        "list_1.append(10); list_1.append(20); list_1.append(30); list_1.append(10)\n",
        "print(f'remove 하기전의 list_1 의 값 : {list_1}')\n",
        "list_1.remove(10)\n",
        "print(f'remove 한후 list_1 의 값 : {list_1}')"
      ],
      "metadata": {
        "colab": {
          "base_uri": "https://localhost:8080/"
        },
        "id": "nlcm7yUv5_rv",
        "outputId": "bce90d49-abaa-4f60-a4da-3ca1a3049851"
      },
      "execution_count": 8,
      "outputs": [
        {
          "output_type": "stream",
          "name": "stdout",
          "text": [
            "remove 하기전의 list_1 의 값 : [10, 20, 30, 10]\n",
            "remove 한후 list_1 의 값 : [20, 30, 10]\n"
          ]
        }
      ]
    },
    {
      "cell_type": "code",
      "source": [
        "# list_1의 30을 del을 이용해서 삭제\n",
        "del list_1[1]\n",
        "print(list_1)"
      ],
      "metadata": {
        "colab": {
          "base_uri": "https://localhost:8080/"
        },
        "id": "oULAxj_79dXY",
        "outputId": "213a695d-7174-4f6b-b116-667f61cf1a0f"
      },
      "execution_count": 9,
      "outputs": [
        {
          "output_type": "stream",
          "name": "stdout",
          "text": [
            "[20, 10]\n"
          ]
        }
      ]
    },
    {
      "cell_type": "code",
      "source": [
        "# object  객체\n",
        "# 파이썬에서는 모든게 다 객체\n",
        "# 객체.기능등 --> .  dot 연산자"
      ],
      "metadata": {
        "id": "E-ssihOB8Ng_"
      },
      "execution_count": 5,
      "outputs": []
    },
    {
      "cell_type": "code",
      "source": [
        "list_1 = [10, 20, 30, 10]\n",
        "# 10을 전부 삭제한다\n",
        "# 조건문 순환문\n",
        "for i in list_1:\n",
        "  if i == 10:\n",
        "    list_1.remove(10)\n"
      ],
      "metadata": {
        "id": "Io4Qz9VW-R_o"
      },
      "execution_count": 14,
      "outputs": []
    },
    {
      "cell_type": "code",
      "source": [
        "list_1"
      ],
      "metadata": {
        "colab": {
          "base_uri": "https://localhost:8080/"
        },
        "id": "5m9hurnn-0Qe",
        "outputId": "cfcca627-be6d-49f6-8eb4-5d26bdc2aee7"
      },
      "execution_count": 15,
      "outputs": [
        {
          "output_type": "execute_result",
          "data": {
            "text/plain": [
              "[20, 30]"
            ]
          },
          "metadata": {},
          "execution_count": 15
        }
      ]
    },
    {
      "cell_type": "code",
      "source": [
        "# 파이썬 순환문  특정횟수만큼 순환  for\n",
        "for i in range(10):  # range(10)  0 ~ 9 순환가능한 리스트\n",
        "  print(i)  # 10번 실행되면서. i의 값은 0 ~ 9\n"
      ],
      "metadata": {
        "colab": {
          "base_uri": "https://localhost:8080/"
        },
        "collapsed": true,
        "id": "iLZKmXR3ABrm",
        "outputId": "8289a7c4-65f8-43eb-87a0-bb8d1d49c730"
      },
      "execution_count": 18,
      "outputs": [
        {
          "output_type": "stream",
          "name": "stdout",
          "text": [
            "0\n",
            "1\n",
            "2\n",
            "3\n",
            "4\n",
            "5\n",
            "6\n",
            "7\n",
            "8\n",
            "9\n"
          ]
        }
      ]
    },
    {
      "cell_type": "code",
      "source": [
        "for i in [10,20,-20,-100]:\n",
        "  print(i)"
      ],
      "metadata": {
        "colab": {
          "base_uri": "https://localhost:8080/"
        },
        "id": "zwXiWu0-ATlY",
        "outputId": "e405828f-521e-4400-836c-736b0d89328d"
      },
      "execution_count": 19,
      "outputs": [
        {
          "output_type": "stream",
          "name": "stdout",
          "text": [
            "10\n",
            "20\n",
            "-20\n",
            "-100\n"
          ]
        }
      ]
    },
    {
      "cell_type": "code",
      "source": [
        "for i in ['철수','영희','홍길동']:\n",
        "  print(i)"
      ],
      "metadata": {
        "colab": {
          "base_uri": "https://localhost:8080/"
        },
        "id": "p4P_jsU3ATz3",
        "outputId": "88904c6e-4e42-44d9-8cb8-ba0468a1c409"
      },
      "execution_count": 20,
      "outputs": [
        {
          "output_type": "stream",
          "name": "stdout",
          "text": [
            "철수\n",
            "영희\n",
            "홍길동\n"
          ]
        }
      ]
    },
    {
      "cell_type": "code",
      "source": [
        "# 정렬  : 옵션을 따로 주지않으면.. 기본은 오름차순\n",
        "list_1 = [10, 20, 30, 10,100,50,15]\n",
        "list_1.sort(reverse = True)\n",
        "print(list_1)"
      ],
      "metadata": {
        "colab": {
          "base_uri": "https://localhost:8080/"
        },
        "id": "FN0SxycSAz4m",
        "outputId": "cba0ed0c-cdf1-48ed-bddc-43f29b58f410"
      },
      "execution_count": 25,
      "outputs": [
        {
          "output_type": "stream",
          "name": "stdout",
          "text": [
            "[100, 50, 30, 20, 15, 10, 10]\n"
          ]
        }
      ]
    },
    {
      "cell_type": "code",
      "source": [
        "# 정렬함수중에람다를 매개변수로 사용하는 함수\n",
        "points = [ (1,2),(3,1),(5,-1),(4,2),(10,10)    ]\n",
        "points"
      ],
      "metadata": {
        "colab": {
          "base_uri": "https://localhost:8080/"
        },
        "id": "qxYTOlB_Bgxl",
        "outputId": "d3336c71-42fb-4ccf-b6d3-e2f43edcf931"
      },
      "execution_count": 26,
      "outputs": [
        {
          "output_type": "execute_result",
          "data": {
            "text/plain": [
              "[(1, 2), (3, 1), (5, -1), (4, 2), (10, 10)]"
            ]
          },
          "metadata": {},
          "execution_count": 26
        }
      ]
    },
    {
      "cell_type": "code",
      "source": [
        "def mykey(x):\n",
        "  return x[1]"
      ],
      "metadata": {
        "id": "Kd1y8G9lDz0p"
      },
      "execution_count": 29,
      "outputs": []
    },
    {
      "cell_type": "code",
      "source": [
        "sorted(points, key = mykey)"
      ],
      "metadata": {
        "colab": {
          "base_uri": "https://localhost:8080/"
        },
        "id": "LqW4uZw1Cw13",
        "outputId": "67459714-a717-4a08-fc09-2a6113081a3a"
      },
      "execution_count": 30,
      "outputs": [
        {
          "output_type": "execute_result",
          "data": {
            "text/plain": [
              "[(5, -1), (3, 1), (1, 2), (4, 2), (10, 10)]"
            ]
          },
          "metadata": {},
          "execution_count": 30
        }
      ]
    },
    {
      "cell_type": "code",
      "source": [
        "#  람다를 이용하면 .mykey라는 함수가 따로필요하지 않는다\n",
        "sorted(points, key = lambda x : x[1])  # 결과만 출력 원본은 바뀌지  않는다"
      ],
      "metadata": {
        "colab": {
          "base_uri": "https://localhost:8080/"
        },
        "id": "QXW-2PXVD5ne",
        "outputId": "0f1297a1-b32a-450d-bb6f-20dfa33c5da1"
      },
      "execution_count": 31,
      "outputs": [
        {
          "output_type": "execute_result",
          "data": {
            "text/plain": [
              "[(5, -1), (3, 1), (1, 2), (4, 2), (10, 10)]"
            ]
          },
          "metadata": {},
          "execution_count": 31
        }
      ]
    },
    {
      "cell_type": "code",
      "source": [
        "points = sorted(points, key = lambda x : x[1])  # 바뀐결과를 다시 자신에게 대입(업데이트)"
      ],
      "metadata": {
        "id": "tJtisLr4ETPf"
      },
      "execution_count": 35,
      "outputs": []
    },
    {
      "cell_type": "markdown",
      "source": [
        "파이썬에서 람다를 원하는 내장함수\n",
        "  - map\n",
        "  - sorted\n",
        "  - filter\n",
        "  - reduce"
      ],
      "metadata": {
        "id": "-zDEjMTlG5vA"
      }
    },
    {
      "cell_type": "code",
      "source": [
        "list_1 = [1,2,3,4,5]\n",
        "# 각각의 원소에다가 10을 곱하면\n",
        "for i in range(len(list_1)):\n",
        "  list_1[i] = list_1[i] * 10\n",
        "print(list_1)"
      ],
      "metadata": {
        "colab": {
          "base_uri": "https://localhost:8080/"
        },
        "id": "bDfBWCofGivP",
        "outputId": "61b41754-bc00-407a-e82a-88b953915a0c"
      },
      "execution_count": 37,
      "outputs": [
        {
          "output_type": "stream",
          "name": "stdout",
          "text": [
            "[10, 20, 30, 40, 50]\n"
          ]
        }
      ]
    },
    {
      "cell_type": "code",
      "source": [
        "list_1 = [1,2,3,4,5]\n",
        "list(map(lambda x : x + 10, list_1))"
      ],
      "metadata": {
        "colab": {
          "base_uri": "https://localhost:8080/"
        },
        "id": "sSpe_qBhHcGO",
        "outputId": "d0923f48-1153-475c-96f0-be570dbd6e32"
      },
      "execution_count": 41,
      "outputs": [
        {
          "output_type": "execute_result",
          "data": {
            "text/plain": [
              "[11, 12, 13, 14, 15]"
            ]
          },
          "metadata": {},
          "execution_count": 41
        }
      ]
    },
    {
      "cell_type": "markdown",
      "source": [
        "filter\n",
        "  - 조건에 맞는 값만 추출( 집합을 이루는 데이터들에서)"
      ],
      "metadata": {
        "id": "szvtZUJDISMi"
      }
    },
    {
      "cell_type": "code",
      "source": [
        "numbers = [1,2,3,4,5,6]\n",
        "# numbers의 각각의 요소중에서 3보다 큰 수들만 추출(filter)\n",
        "result = []\n",
        "for i in range(len(numbers)):\n",
        "  if numbers[i] > 3:\n",
        "    result.append( numbers[i])\n",
        "print(result)"
      ],
      "metadata": {
        "colab": {
          "base_uri": "https://localhost:8080/"
        },
        "id": "9n0AGPmcH1hf",
        "outputId": "8eaa26c1-618f-4fd4-9548-320f8d795a4e"
      },
      "execution_count": 44,
      "outputs": [
        {
          "output_type": "stream",
          "name": "stdout",
          "text": [
            "[4, 5, 6]\n"
          ]
        }
      ]
    },
    {
      "cell_type": "code",
      "source": [
        "list(filter(lambda x : x > 3, numbers))"
      ],
      "metadata": {
        "colab": {
          "base_uri": "https://localhost:8080/"
        },
        "id": "neGokMbWIlN2",
        "outputId": "eef6623a-c7cf-45c7-e75f-d2f52d1982c9"
      },
      "execution_count": 46,
      "outputs": [
        {
          "output_type": "execute_result",
          "data": {
            "text/plain": [
              "[4, 5, 6]"
            ]
          },
          "metadata": {},
          "execution_count": 46
        }
      ]
    },
    {
      "cell_type": "code",
      "source": [
        "# 짝수만  추출\n",
        "list(filter(lambda x : x % 2 == 0, numbers))"
      ],
      "metadata": {
        "colab": {
          "base_uri": "https://localhost:8080/"
        },
        "id": "1FfB0kHaJS2G",
        "outputId": "54db551b-cb4b-4925-91b7-f3b1541ece92"
      },
      "execution_count": 47,
      "outputs": [
        {
          "output_type": "execute_result",
          "data": {
            "text/plain": [
              "[2, 4, 6]"
            ]
          },
          "metadata": {},
          "execution_count": 47
        }
      ]
    },
    {
      "cell_type": "code",
      "source": [
        "# 짝수이면서 3보다 큰수\n",
        "list(filter(lambda x : x % 2 == 0 and x > 3, numbers))"
      ],
      "metadata": {
        "colab": {
          "base_uri": "https://localhost:8080/"
        },
        "id": "snGpcNeBJvF_",
        "outputId": "0c210bcc-3f07-46f9-8988-f2751c1aec54"
      },
      "execution_count": 48,
      "outputs": [
        {
          "output_type": "execute_result",
          "data": {
            "text/plain": [
              "[4, 6]"
            ]
          },
          "metadata": {},
          "execution_count": 48
        }
      ]
    },
    {
      "cell_type": "markdown",
      "source": [
        "reduce\n",
        "  - 요소의 두개씩 람다를 적용한다 람다의 매개변수는 두개\n",
        "  - functools 라이브러리에 존재"
      ],
      "metadata": {
        "id": "9TD8o7RjKG6p"
      }
    },
    {
      "cell_type": "code",
      "source": [
        "from functools import reduce"
      ],
      "metadata": {
        "id": "HvWOfpp-KAKv"
      },
      "execution_count": 49,
      "outputs": []
    },
    {
      "cell_type": "code",
      "source": [
        "numbers"
      ],
      "metadata": {
        "colab": {
          "base_uri": "https://localhost:8080/"
        },
        "id": "xIPg1w97LTK5",
        "outputId": "8ac0a738-e4fc-45dc-83b4-872cd2f54238"
      },
      "execution_count": 50,
      "outputs": [
        {
          "output_type": "execute_result",
          "data": {
            "text/plain": [
              "[1, 2, 3, 4, 5, 6]"
            ]
          },
          "metadata": {},
          "execution_count": 50
        }
      ]
    },
    {
      "cell_type": "code",
      "source": [
        "reduce(lambda x, y : x + y, numbers)"
      ],
      "metadata": {
        "colab": {
          "base_uri": "https://localhost:8080/"
        },
        "id": "0__RqLU3KzlI",
        "outputId": "60d2590d-af8c-48ef-8e2d-d7177f995185"
      },
      "execution_count": 51,
      "outputs": [
        {
          "output_type": "execute_result",
          "data": {
            "text/plain": [
              "21"
            ]
          },
          "metadata": {},
          "execution_count": 51
        }
      ]
    },
    {
      "cell_type": "code",
      "source": [
        "# 응용\n",
        "# 중첩 리스트\n",
        "# [ [1,2],[3,4],[5,6] ]   -> [ 1,2,3,4,5,6  ]\n",
        "# 리스트 + 리스트 => 두개의 리스트를 합친 새로운 리스트\n",
        "[1,2] + [3,4]"
      ],
      "metadata": {
        "colab": {
          "base_uri": "https://localhost:8080/"
        },
        "id": "Z0ZUKFbILXx-",
        "outputId": "e569a7c2-fd61-44e1-dc20-4f09f5b3102a"
      },
      "execution_count": 52,
      "outputs": [
        {
          "output_type": "execute_result",
          "data": {
            "text/plain": [
              "[1, 2, 3, 4]"
            ]
          },
          "metadata": {},
          "execution_count": 52
        }
      ]
    },
    {
      "cell_type": "code",
      "source": [
        "list_1 = [ [1,2],[3,4],[5,6] ]\n",
        "reduce(lambda x, y : x+ y, list_1)"
      ],
      "metadata": {
        "colab": {
          "base_uri": "https://localhost:8080/"
        },
        "id": "14aC068CL4vP",
        "outputId": "243ff758-5254-459f-a618-a9af890d6630"
      },
      "execution_count": 53,
      "outputs": [
        {
          "output_type": "execute_result",
          "data": {
            "text/plain": [
              "[1, 2, 3, 4, 5, 6]"
            ]
          },
          "metadata": {},
          "execution_count": 53
        }
      ]
    },
    {
      "cell_type": "markdown",
      "source": [
        "람다\n",
        "  - 람다의 정의\n",
        "  - 적용분야 ???"
      ],
      "metadata": {
        "id": "2WkLtHCOMzpy"
      }
    },
    {
      "cell_type": "code",
      "source": [
        "# 주석은 해당 라인에 커서를 위치하거나.. shift키와 방향키를 동시에 눌러서 블럭을 만들고\n",
        "# ctrl + /   누르면된다.\n",
        "\n",
        "\n",
        "# 1. 두수의 합\n",
        "add = lambda x, y : x+y\n",
        "print(f'10 + 20 = {add(10,20)}')\n",
        "# 2. 숫자가 짝수인지 확인\n",
        "isEven = lambda x : x % 2 == 0\n",
        "print(f'10은 짝수입니까? {isEven(10)}')\n",
        "# 3. 문자열의 길이  len(\"python\")\n",
        "getLength = lambda x : len(x)\n",
        "print(f'python의 길이는? {getLength(\"python\")}')\n",
        "# 4 리스트의 첫번째 문자로 정렬  ['jone','alex','bob']\n",
        "list_1 = ['jone','alex','bob']\n",
        "print(sorted(list_1, key = lambda x : x[0]))\n",
        "# 5. 리스트에서 특정 조건(0~10 숫자중에 3의 배수만)에 맞는 요소만 필터링\n",
        "numbers = [0,1,2,3,4,5,6,7,8,9,10]\n",
        "print(list(filter(lambda x : x % 3 == 0, numbers)))\n",
        "# 6. 리스트내의 요소들의 곱 계산(reduce) [1,2,3,4,5,6,7,8,9,10]\n",
        "list_1 = [1,2,3,4,5,6,7,8,9,10]\n",
        "print(reduce(lambda x, y : x * y, list_1))\n",
        "# 7. 문자열을 역순으로 정렬 (pythone)  sorted\n",
        "revesed_str =  lambda s :  ''.join(sorted(s, reverse = True))\n",
        "print(revesed_str('pythone'))\n",
        "# 8. 리스트내 중첩된 리스트에서 최대값찾기 max()   [ [1,3,8],[10,5,3],[7,20,3]   ]  --> [ 8,10,20  ]\n",
        "list_1 = [ [1,3,8],[10,5,3],[7,20,3]   ]\n",
        "print(list(map(lambda x : max(x), list_1)))\n",
        "# 9. 두수중에서 가장 큰 수 반환하는 람다형 함수\n",
        "max_num = lambda x, y : x if x > y else y\n",
        "print(max_num(10,20))"
      ],
      "metadata": {
        "colab": {
          "base_uri": "https://localhost:8080/"
        },
        "id": "gVI59qBWMYG3",
        "outputId": "f350c318-d1be-4693-d877-a91f8c5d8163"
      },
      "execution_count": 71,
      "outputs": [
        {
          "output_type": "stream",
          "name": "stdout",
          "text": [
            "10 + 20 = 30\n",
            "10은 짝수입니까? True\n",
            "python의 길이는? 6\n",
            "['alex', 'bob', 'jone']\n",
            "[0, 3, 6, 9]\n",
            "3628800\n",
            "ytponhe\n",
            "[8, 10, 20]\n",
            "20\n"
          ]
        }
      ]
    },
    {
      "cell_type": "code",
      "source": [
        "# 파이썬의 3항 연산자....\n",
        "x = 10\n",
        "'크다' if x > 10 else '작다'"
      ],
      "metadata": {
        "colab": {
          "base_uri": "https://localhost:8080/",
          "height": 35
        },
        "id": "dOHnzBgPOtdg",
        "outputId": "253c9be0-5c4b-4294-d278-735009eb1e9a"
      },
      "execution_count": 72,
      "outputs": [
        {
          "output_type": "execute_result",
          "data": {
            "text/plain": [
              "'작다'"
            ],
            "application/vnd.google.colaboratory.intrinsic+json": {
              "type": "string"
            }
          },
          "metadata": {},
          "execution_count": 72
        }
      ]
    },
    {
      "cell_type": "code",
      "source": [
        "# if x > 10  '크다' else '작다'\n",
        "\n",
        "# 람다형식으로 두 수를 입력받아서 가장 큰수를 반환하는 람다형태의 함수\n",
        "maximum = lambda x, y : x if x> y else y\n",
        "maximum(10,20)"
      ],
      "metadata": {
        "colab": {
          "base_uri": "https://localhost:8080/"
        },
        "id": "T6L-CmeBPmr3",
        "outputId": "23375d41-7257-41c4-a3f5-f01eb1c8856e"
      },
      "execution_count": 73,
      "outputs": [
        {
          "output_type": "execute_result",
          "data": {
            "text/plain": [
              "20"
            ]
          },
          "metadata": {},
          "execution_count": 73
        }
      ]
    },
    {
      "cell_type": "code",
      "source": [
        "# 리스트 컴프리핸션  -> for문장을 한 라인으로 표현\n",
        "# 람다 --> 함수를 한 라인으로 표현\n",
        "\n",
        "result = []\n",
        "for i in range(10): # 0 ~ 9\n",
        "  if i % 2 == 0:\n",
        "    result.append(i)\n",
        "\n",
        "print(result)\n",
        "\n",
        "###\n",
        "result = [   i    for i in range(10)   if i % 2 == 0       ]\n",
        "print(result)"
      ],
      "metadata": {
        "colab": {
          "base_uri": "https://localhost:8080/"
        },
        "id": "8TdDHM3oSTew",
        "outputId": "28b44ece-8eb4-4200-c8d1-961080668cd1"
      },
      "execution_count": 75,
      "outputs": [
        {
          "output_type": "stream",
          "name": "stdout",
          "text": [
            "[0, 2, 4, 6, 8]\n",
            "[0, 2, 4, 6, 8]\n"
          ]
        }
      ]
    },
    {
      "cell_type": "code",
      "source": [],
      "metadata": {
        "id": "Ff4hPthcSrlv"
      },
      "execution_count": null,
      "outputs": []
    }
  ]
}