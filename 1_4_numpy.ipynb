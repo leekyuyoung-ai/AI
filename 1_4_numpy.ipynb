{
  "nbformat": 4,
  "nbformat_minor": 0,
  "metadata": {
    "colab": {
      "provenance": []
    },
    "kernelspec": {
      "name": "python3",
      "display_name": "Python 3"
    },
    "language_info": {
      "name": "python"
    }
  },
  "cells": [
    {
      "cell_type": "code",
      "execution_count": null,
      "metadata": {
        "id": "LhNABOVUUJGw"
      },
      "outputs": [],
      "source": []
    },
    {
      "cell_type": "markdown",
      "source": [
        "numpy\n",
        "  - 파이썬의 수학연산을 위해 개발된 라이브러리\n",
        "  - 행렬 내적연산, 사인 코상, 벡터, 미분,적분.... 다차원 방정식\n",
        "  - C언어로 개발되서 속도가 빠르다\n",
        "  - 다른 라이브러리와 통합: pandas ,Scikit-learn, Tensorflow\n",
        "  - 생긴건 리스트와 동일\n",
        "  - 리스트와 넘파이간의 변환이 자유롭다"
      ],
      "metadata": {
        "id": "-6HqMdTWVG9_"
      }
    },
    {
      "cell_type": "code",
      "source": [
        "import numpy as np"
      ],
      "metadata": {
        "id": "qYbV3Y8UVK1_"
      },
      "execution_count": 1,
      "outputs": []
    },
    {
      "cell_type": "code",
      "source": [
        "# 1 2 3 4 5\n",
        "list_1 = [1,2,3,4,5]\n",
        "np.array( [1,2,3,4,5] )\n",
        "np_1 = np.array( list_1 )\n",
        "print(list_1)\n",
        "print(np_1)"
      ],
      "metadata": {
        "colab": {
          "base_uri": "https://localhost:8080/"
        },
        "id": "4mDGWWBrVvSu",
        "outputId": "3face9d3-021b-4d95-b99b-4b7f4ea80f6e"
      },
      "execution_count": 2,
      "outputs": [
        {
          "output_type": "stream",
          "name": "stdout",
          "text": [
            "[1, 2, 3, 4, 5]\n",
            "[1 2 3 4 5]\n"
          ]
        }
      ]
    },
    {
      "cell_type": "code",
      "source": [
        "list_1"
      ],
      "metadata": {
        "colab": {
          "base_uri": "https://localhost:8080/"
        },
        "id": "Po7TjJEHWIYf",
        "outputId": "99cb6615-0954-484f-f545-aa16c6416d20"
      },
      "execution_count": 3,
      "outputs": [
        {
          "output_type": "execute_result",
          "data": {
            "text/plain": [
              "[1, 2, 3, 4, 5]"
            ]
          },
          "metadata": {},
          "execution_count": 3
        }
      ]
    },
    {
      "cell_type": "code",
      "source": [
        "np_1"
      ],
      "metadata": {
        "colab": {
          "base_uri": "https://localhost:8080/"
        },
        "id": "SgfD-90BWKEF",
        "outputId": "2981dc98-e5ea-4ff4-94b2-cff4f94bf648"
      },
      "execution_count": 4,
      "outputs": [
        {
          "output_type": "execute_result",
          "data": {
            "text/plain": [
              "array([1, 2, 3, 4, 5])"
            ]
          },
          "metadata": {},
          "execution_count": 4
        }
      ]
    },
    {
      "cell_type": "code",
      "source": [
        "# 리스트의 연산\n",
        "list_1 + list_1"
      ],
      "metadata": {
        "colab": {
          "base_uri": "https://localhost:8080/"
        },
        "id": "X8agGwtdWL7t",
        "outputId": "252a2fc3-8c96-45a8-85e7-e05316d5099e"
      },
      "execution_count": 5,
      "outputs": [
        {
          "output_type": "execute_result",
          "data": {
            "text/plain": [
              "[1, 2, 3, 4, 5, 1, 2, 3, 4, 5]"
            ]
          },
          "metadata": {},
          "execution_count": 5
        }
      ]
    },
    {
      "cell_type": "code",
      "source": [
        "np_1 + np_1"
      ],
      "metadata": {
        "colab": {
          "base_uri": "https://localhost:8080/"
        },
        "id": "iMbYNWECWV59",
        "outputId": "877be9df-099d-408c-e3a3-f4f20cbc0ad8"
      },
      "execution_count": 6,
      "outputs": [
        {
          "output_type": "execute_result",
          "data": {
            "text/plain": [
              "array([ 2,  4,  6,  8, 10])"
            ]
          },
          "metadata": {},
          "execution_count": 6
        }
      ]
    },
    {
      "cell_type": "code",
      "source": [
        "np_1 - np_1"
      ],
      "metadata": {
        "colab": {
          "base_uri": "https://localhost:8080/"
        },
        "id": "hhm1-EReWau-",
        "outputId": "0d2db080-a38d-488b-9511-c97f5d79480e"
      },
      "execution_count": 7,
      "outputs": [
        {
          "output_type": "execute_result",
          "data": {
            "text/plain": [
              "array([0, 0, 0, 0, 0])"
            ]
          },
          "metadata": {},
          "execution_count": 7
        }
      ]
    },
    {
      "cell_type": "code",
      "source": [
        "np_1 * np_1"
      ],
      "metadata": {
        "colab": {
          "base_uri": "https://localhost:8080/"
        },
        "id": "kiP7E45NWwff",
        "outputId": "264bf4d7-9207-4ad3-8e73-603a2823dcc3"
      },
      "execution_count": 8,
      "outputs": [
        {
          "output_type": "execute_result",
          "data": {
            "text/plain": [
              "array([ 1,  4,  9, 16, 25])"
            ]
          },
          "metadata": {},
          "execution_count": 8
        }
      ]
    },
    {
      "cell_type": "code",
      "source": [
        "np_1 / np_1"
      ],
      "metadata": {
        "colab": {
          "base_uri": "https://localhost:8080/"
        },
        "id": "oJkC2Z_0XJeu",
        "outputId": "c0524505-4a6d-4454-ffb3-88a3c50f10c0"
      },
      "execution_count": 9,
      "outputs": [
        {
          "output_type": "execute_result",
          "data": {
            "text/plain": [
              "array([1., 1., 1., 1., 1.])"
            ]
          },
          "metadata": {},
          "execution_count": 9
        }
      ]
    },
    {
      "cell_type": "code",
      "source": [
        "list_1 * 3"
      ],
      "metadata": {
        "colab": {
          "base_uri": "https://localhost:8080/"
        },
        "id": "1ORZBG3kXYVN",
        "outputId": "515997ad-becd-4621-f090-987a2bd13f5d"
      },
      "execution_count": 10,
      "outputs": [
        {
          "output_type": "execute_result",
          "data": {
            "text/plain": [
              "[1, 2, 3, 4, 5, 1, 2, 3, 4, 5, 1, 2, 3, 4, 5]"
            ]
          },
          "metadata": {},
          "execution_count": 10
        }
      ]
    },
    {
      "cell_type": "code",
      "source": [
        "np_1 * 3"
      ],
      "metadata": {
        "colab": {
          "base_uri": "https://localhost:8080/"
        },
        "id": "hNZlgHX0Xlkl",
        "outputId": "20801416-55b0-4c9f-826f-b36d8e589823"
      },
      "execution_count": 11,
      "outputs": [
        {
          "output_type": "execute_result",
          "data": {
            "text/plain": [
              "array([ 3,  6,  9, 12, 15])"
            ]
          },
          "metadata": {},
          "execution_count": 11
        }
      ]
    },
    {
      "cell_type": "code",
      "source": [
        "# np_1 -> 리스트 -> 넘파이\n",
        "np.array(list(np_1))"
      ],
      "metadata": {
        "colab": {
          "base_uri": "https://localhost:8080/"
        },
        "id": "hbXavWdCXqjl",
        "outputId": "8560081b-4f76-496d-f575-250ef5224f8e"
      },
      "execution_count": 12,
      "outputs": [
        {
          "output_type": "execute_result",
          "data": {
            "text/plain": [
              "array([1, 2, 3, 4, 5])"
            ]
          },
          "metadata": {},
          "execution_count": 12
        }
      ]
    },
    {
      "cell_type": "code",
      "source": [
        "list_1 = [1,2,3,4,5,6,7,8,9,10]"
      ],
      "metadata": {
        "id": "culU6a_aYjTu"
      },
      "execution_count": 13,
      "outputs": []
    },
    {
      "cell_type": "code",
      "source": [
        "# 필터함수.. [1 2 3 4 5 6 7 8 9 10 ] 5보다 큰 값만 추출\n",
        "list(filter(lambda x : x > 5, list_1))"
      ],
      "metadata": {
        "colab": {
          "base_uri": "https://localhost:8080/"
        },
        "id": "quWMmdluXvmF",
        "outputId": "7eeb71b6-34f1-484e-c3ce-8e3f3b53ca92"
      },
      "execution_count": 14,
      "outputs": [
        {
          "output_type": "execute_result",
          "data": {
            "text/plain": [
              "[6, 7, 8, 9, 10]"
            ]
          },
          "metadata": {},
          "execution_count": 14
        }
      ]
    },
    {
      "cell_type": "code",
      "source": [
        "np_1 = np.array(list_1)\n",
        "np_1[np_1 > 5]"
      ],
      "metadata": {
        "colab": {
          "base_uri": "https://localhost:8080/"
        },
        "id": "8eVqa7HZYek9",
        "outputId": "4c95b524-4d36-4333-ecec-3ed396e057b0"
      },
      "execution_count": 15,
      "outputs": [
        {
          "output_type": "execute_result",
          "data": {
            "text/plain": [
              "array([ 6,  7,  8,  9, 10])"
            ]
          },
          "metadata": {},
          "execution_count": 15
        }
      ]
    },
    {
      "cell_type": "code",
      "source": [
        "# 슬라이싱   [start : end]   -> 실제 가져올때는 start 그대로.. end만 end-1의 인덱스"
      ],
      "metadata": {
        "id": "lUHvyrnuZNL-"
      },
      "execution_count": 16,
      "outputs": []
    },
    {
      "cell_type": "code",
      "source": [
        "np_1 = np.array([0,1,2,3,4,5,6,7,8,9,10])\n",
        "np_1[0:2]"
      ],
      "metadata": {
        "colab": {
          "base_uri": "https://localhost:8080/"
        },
        "id": "Tn0OKSJUY2g1",
        "outputId": "7d2dca65-e033-44a0-be08-0ac9d33ce8fe"
      },
      "execution_count": 17,
      "outputs": [
        {
          "output_type": "execute_result",
          "data": {
            "text/plain": [
              "array([0, 1])"
            ]
          },
          "metadata": {},
          "execution_count": 17
        }
      ]
    },
    {
      "cell_type": "code",
      "source": [
        "# 1 ~ 100-1 중에서 랜덤하게 10개\n",
        "temp =  np.random.randint(1,100,10)\n",
        "temp"
      ],
      "metadata": {
        "colab": {
          "base_uri": "https://localhost:8080/"
        },
        "id": "86_tdqaTZaoV",
        "outputId": "2ca4d4de-35da-4d6f-ff62-f86c8e17a210"
      },
      "execution_count": 18,
      "outputs": [
        {
          "output_type": "execute_result",
          "data": {
            "text/plain": [
              "array([84, 36, 91, 70, 10, 42, 26, 11, 92, 26])"
            ]
          },
          "metadata": {},
          "execution_count": 18
        }
      ]
    },
    {
      "cell_type": "code",
      "source": [
        "# 첫번째 값을 출력\n",
        "print(temp[0])\n",
        "# 가장 마지막 값을 출력\n",
        "print(temp[-1], temp[ len(temp)-1  ])\n",
        "# 처음부터 3개 출력\n",
        "print(temp[:3])\n",
        "# 마지막에서 3개 출력\n",
        "print(temp[-3:])\n",
        "# 처음부터 끝까지 출력(2칸씩 건너뛰어서)\n",
        "print(temp[::3])\n",
        "# 전체출력 처음부터 끝까지 스텝은 1개씩 증가 결국 전체출력\n",
        "print(temp[::1])\n",
        "# 전체출력 처음부터 끝까지 스텝은 1개씩 꺼꾸로 증가면서 전체출력 --> 뒤집는다\n",
        "print(temp[::-1])"
      ],
      "metadata": {
        "colab": {
          "base_uri": "https://localhost:8080/"
        },
        "id": "gSKSNv4saL7E",
        "outputId": "4e8bf2d3-ee20-493e-97e1-49482e1de25a"
      },
      "execution_count": 19,
      "outputs": [
        {
          "output_type": "stream",
          "name": "stdout",
          "text": [
            "84\n",
            "26 26\n",
            "[84 36 91]\n",
            "[11 92 26]\n",
            "[84 70 26 26]\n",
            "[84 36 91 70 10 42 26 11 92 26]\n",
            "[26 92 11 26 42 10 70 91 36 84]\n"
          ]
        }
      ]
    },
    {
      "cell_type": "code",
      "source": [
        "# 1부터 100 숫자중에 임의의 숫자 20개를 생성\n",
        "temp = np.random.randint(1,100,20)\n",
        "# 짝수들의 합을 구해보세요\n",
        "print(sum(temp[temp % 2 == 0]))\n",
        "# 3의 배수들만 출력\n",
        "print(sum(temp[temp % 3 == 0]))"
      ],
      "metadata": {
        "colab": {
          "base_uri": "https://localhost:8080/"
        },
        "id": "4a6xsMwjbUkd",
        "outputId": "5ebfbbcb-1f18-420d-b0fc-f103c5d7dae6"
      },
      "execution_count": 20,
      "outputs": [
        {
          "output_type": "stream",
          "name": "stdout",
          "text": [
            "674\n",
            "411\n"
          ]
        }
      ]
    },
    {
      "cell_type": "code",
      "source": [
        "temp = np.array([1,2,3])\n",
        "temp[ [True,True,False  ]  ]"
      ],
      "metadata": {
        "colab": {
          "base_uri": "https://localhost:8080/"
        },
        "id": "KaU4-FNLeBXj",
        "outputId": "5410fe83-f5cb-4128-d89c-f44a468df28b"
      },
      "execution_count": 21,
      "outputs": [
        {
          "output_type": "execute_result",
          "data": {
            "text/plain": [
              "array([1, 2])"
            ]
          },
          "metadata": {},
          "execution_count": 21
        }
      ]
    },
    {
      "cell_type": "markdown",
      "source": [
        "2차원 배열 또는 행렬"
      ],
      "metadata": {
        "id": "qS6HhJdKh9iL"
      }
    },
    {
      "cell_type": "code",
      "source": [
        "temp = np.random.randint(1,10,(5,5))\n",
        "temp[1:4, 1:4]"
      ],
      "metadata": {
        "colab": {
          "base_uri": "https://localhost:8080/"
        },
        "id": "MxH9LoBleWAi",
        "outputId": "dff0eb37-37a8-43a7-a11f-11a9c13e5057"
      },
      "execution_count": 22,
      "outputs": [
        {
          "output_type": "execute_result",
          "data": {
            "text/plain": [
              "array([[4, 4, 9],\n",
              "       [9, 9, 1],\n",
              "       [8, 5, 6]])"
            ]
          },
          "metadata": {},
          "execution_count": 22
        }
      ]
    },
    {
      "cell_type": "code",
      "source": [
        "temp[:, 1:4]"
      ],
      "metadata": {
        "colab": {
          "base_uri": "https://localhost:8080/"
        },
        "id": "lJ7gKLg4ih8K",
        "outputId": "67af1311-9697-4720-abfd-05deb1c1c8df"
      },
      "execution_count": 23,
      "outputs": [
        {
          "output_type": "execute_result",
          "data": {
            "text/plain": [
              "array([[9, 6, 2],\n",
              "       [4, 4, 9],\n",
              "       [9, 9, 1],\n",
              "       [8, 5, 6],\n",
              "       [7, 7, 6]])"
            ]
          },
          "metadata": {},
          "execution_count": 23
        }
      ]
    },
    {
      "cell_type": "code",
      "source": [
        "temp[1:4,:]"
      ],
      "metadata": {
        "colab": {
          "base_uri": "https://localhost:8080/"
        },
        "id": "greIFjSEjnSp",
        "outputId": "aaedd9de-318f-4e8a-b9d2-44df7b9beaaa"
      },
      "execution_count": 24,
      "outputs": [
        {
          "output_type": "execute_result",
          "data": {
            "text/plain": [
              "array([[7, 4, 4, 9, 3],\n",
              "       [7, 9, 9, 1, 8],\n",
              "       [8, 8, 5, 6, 6]])"
            ]
          },
          "metadata": {},
          "execution_count": 24
        }
      ]
    },
    {
      "cell_type": "code",
      "source": [
        "temp = np.random.randint(1,10,(2,5))\n",
        "temp"
      ],
      "metadata": {
        "colab": {
          "base_uri": "https://localhost:8080/"
        },
        "id": "rmh9XLJqj-mz",
        "outputId": "a5bab03f-b823-4051-d88f-bb5da208edf3"
      },
      "execution_count": 25,
      "outputs": [
        {
          "output_type": "execute_result",
          "data": {
            "text/plain": [
              "array([[1, 1, 9, 4, 6],\n",
              "       [2, 8, 2, 1, 4]])"
            ]
          },
          "metadata": {},
          "execution_count": 25
        }
      ]
    },
    {
      "cell_type": "code",
      "source": [
        "sum(temp)"
      ],
      "metadata": {
        "colab": {
          "base_uri": "https://localhost:8080/"
        },
        "id": "XIEwMiS_jsTB",
        "outputId": "afbc77f5-5297-455b-842d-2d432a5564db"
      },
      "execution_count": 26,
      "outputs": [
        {
          "output_type": "execute_result",
          "data": {
            "text/plain": [
              "array([ 3,  9, 11,  5, 10])"
            ]
          },
          "metadata": {},
          "execution_count": 26
        }
      ]
    },
    {
      "cell_type": "code",
      "source": [
        "np.sum(temp,axis=0)"
      ],
      "metadata": {
        "colab": {
          "base_uri": "https://localhost:8080/"
        },
        "id": "vuQFuX1Wj8uS",
        "outputId": "065bb64f-df83-41de-ba46-2407a3912730"
      },
      "execution_count": 27,
      "outputs": [
        {
          "output_type": "execute_result",
          "data": {
            "text/plain": [
              "array([ 3,  9, 11,  5, 10])"
            ]
          },
          "metadata": {},
          "execution_count": 27
        }
      ]
    },
    {
      "cell_type": "code",
      "source": [
        "np.sum(temp,axis=1)"
      ],
      "metadata": {
        "colab": {
          "base_uri": "https://localhost:8080/"
        },
        "id": "LPC3NIt3kUcY",
        "outputId": "4a0f31cb-851a-4f69-b782-d23c65f81767"
      },
      "execution_count": 28,
      "outputs": [
        {
          "output_type": "execute_result",
          "data": {
            "text/plain": [
              "array([21, 17])"
            ]
          },
          "metadata": {},
          "execution_count": 28
        }
      ]
    },
    {
      "cell_type": "markdown",
      "source": [
        "데이터의 모양 보기\n",
        "  - shpae"
      ],
      "metadata": {
        "id": "P0Q5rN40llkU"
      }
    },
    {
      "cell_type": "code",
      "source": [
        "# 1 ~ 100 사이의 숫자중에서 임의수로 (5,6) 행렬/집합/배열 을 만들어보세요"
      ],
      "metadata": {
        "id": "CR-P4gnSlCVp"
      },
      "execution_count": 29,
      "outputs": []
    },
    {
      "cell_type": "code",
      "source": [
        "temp = np.random.randint(1,100,(5,6))\n",
        "temp"
      ],
      "metadata": {
        "colab": {
          "base_uri": "https://localhost:8080/"
        },
        "id": "esaW25wqlz2I",
        "outputId": "dbea9425-9f31-4dab-d5fa-f8f71e873b1d"
      },
      "execution_count": 30,
      "outputs": [
        {
          "output_type": "execute_result",
          "data": {
            "text/plain": [
              "array([[54, 80,  4, 69,  4, 76],\n",
              "       [59, 37, 39, 83, 32,  9],\n",
              "       [ 6, 22, 63, 69, 67, 87],\n",
              "       [91, 51, 78, 53,  7, 20],\n",
              "       [ 4, 30, 64, 86, 11,  3]])"
            ]
          },
          "metadata": {},
          "execution_count": 30
        }
      ]
    },
    {
      "cell_type": "code",
      "source": [
        "temp.shape"
      ],
      "metadata": {
        "colab": {
          "base_uri": "https://localhost:8080/"
        },
        "id": "LimYaOeKmHAP",
        "outputId": "d6aba5e2-241b-40f3-84ad-8f6c369f7c5a"
      },
      "execution_count": 31,
      "outputs": [
        {
          "output_type": "execute_result",
          "data": {
            "text/plain": [
              "(5, 6)"
            ]
          },
          "metadata": {},
          "execution_count": 31
        }
      ]
    },
    {
      "cell_type": "code",
      "source": [
        "temp.reshape(6,5)"
      ],
      "metadata": {
        "colab": {
          "base_uri": "https://localhost:8080/"
        },
        "id": "ewLAnP-2mOEv",
        "outputId": "b01c2420-850e-4cbc-930f-c33019151ee6"
      },
      "execution_count": 32,
      "outputs": [
        {
          "output_type": "execute_result",
          "data": {
            "text/plain": [
              "array([[54, 80,  4, 69,  4],\n",
              "       [76, 59, 37, 39, 83],\n",
              "       [32,  9,  6, 22, 63],\n",
              "       [69, 67, 87, 91, 51],\n",
              "       [78, 53,  7, 20,  4],\n",
              "       [30, 64, 86, 11,  3]])"
            ]
          },
          "metadata": {},
          "execution_count": 32
        }
      ]
    },
    {
      "cell_type": "code",
      "source": [
        "# row:행을 2개로 하면\n",
        "temp.reshape(2,15)"
      ],
      "metadata": {
        "colab": {
          "base_uri": "https://localhost:8080/"
        },
        "id": "hTHJq-05maAf",
        "outputId": "fd7dbdc3-a73b-4f94-a969-1e2893ad2f6f"
      },
      "execution_count": 33,
      "outputs": [
        {
          "output_type": "execute_result",
          "data": {
            "text/plain": [
              "array([[54, 80,  4, 69,  4, 76, 59, 37, 39, 83, 32,  9,  6, 22, 63],\n",
              "       [69, 67, 87, 91, 51, 78, 53,  7, 20,  4, 30, 64, 86, 11,  3]])"
            ]
          },
          "metadata": {},
          "execution_count": 33
        }
      ]
    },
    {
      "cell_type": "code",
      "source": [
        "temp.reshape(2,-1)"
      ],
      "metadata": {
        "colab": {
          "base_uri": "https://localhost:8080/"
        },
        "id": "CngSKxVrmulg",
        "outputId": "3c41d2a0-5e3b-4df4-df2e-b684868021a9"
      },
      "execution_count": 34,
      "outputs": [
        {
          "output_type": "execute_result",
          "data": {
            "text/plain": [
              "array([[54, 80,  4, 69,  4, 76, 59, 37, 39, 83, 32,  9,  6, 22, 63],\n",
              "       [69, 67, 87, 91, 51, 78, 53,  7, 20,  4, 30, 64, 86, 11,  3]])"
            ]
          },
          "metadata": {},
          "execution_count": 34
        }
      ]
    },
    {
      "cell_type": "code",
      "source": [
        "temp.reshape(-1,15)"
      ],
      "metadata": {
        "colab": {
          "base_uri": "https://localhost:8080/"
        },
        "id": "ATUWbA5lm2_I",
        "outputId": "80a4724e-76c2-42fa-f3a6-db1555615d19"
      },
      "execution_count": 35,
      "outputs": [
        {
          "output_type": "execute_result",
          "data": {
            "text/plain": [
              "array([[54, 80,  4, 69,  4, 76, 59, 37, 39, 83, 32,  9,  6, 22, 63],\n",
              "       [69, 67, 87, 91, 51, 78, 53,  7, 20,  4, 30, 64, 86, 11,  3]])"
            ]
          },
          "metadata": {},
          "execution_count": 35
        }
      ]
    },
    {
      "cell_type": "code",
      "source": [
        "temp.reshape(-1).shape"
      ],
      "metadata": {
        "colab": {
          "base_uri": "https://localhost:8080/"
        },
        "id": "CcP3R3vdnHXj",
        "outputId": "d37a19db-291d-41cc-f227-67e0a118e676"
      },
      "execution_count": 37,
      "outputs": [
        {
          "output_type": "execute_result",
          "data": {
            "text/plain": [
              "(30,)"
            ]
          },
          "metadata": {},
          "execution_count": 37
        }
      ]
    },
    {
      "cell_type": "code",
      "source": [
        "arr = np.array([1,2,3])\n",
        "arr,  arr.shape"
      ],
      "metadata": {
        "colab": {
          "base_uri": "https://localhost:8080/"
        },
        "id": "7Rk_G-sNn4o4",
        "outputId": "d1169d99-2df2-4a8e-d7ec-080e0a64f2ce"
      },
      "execution_count": 45,
      "outputs": [
        {
          "output_type": "execute_result",
          "data": {
            "text/plain": [
              "(array([1, 2, 3]), (3,))"
            ]
          },
          "metadata": {},
          "execution_count": 45
        }
      ]
    },
    {
      "cell_type": "code",
      "source": [
        "# 0번 축에 차원 추가\n",
        "temp = np.expand_dims(arr, axis=0)\n",
        "temp, temp.shape"
      ],
      "metadata": {
        "colab": {
          "base_uri": "https://localhost:8080/"
        },
        "id": "TMPMq6OjoMHg",
        "outputId": "f52e2288-e401-445f-faa0-dc863c512caa"
      },
      "execution_count": 46,
      "outputs": [
        {
          "output_type": "execute_result",
          "data": {
            "text/plain": [
              "(array([[1, 2, 3]]), (1, 3))"
            ]
          },
          "metadata": {},
          "execution_count": 46
        }
      ]
    },
    {
      "cell_type": "code",
      "source": [
        "# 0번 축에 차원 추가\n",
        "temp = np.expand_dims(arr, axis=1)\n",
        "temp, temp.shape"
      ],
      "metadata": {
        "colab": {
          "base_uri": "https://localhost:8080/"
        },
        "id": "8KNJIiPmogJP",
        "outputId": "f06cd888-e61f-4cca-a0ce-fed5eefe595a"
      },
      "execution_count": 49,
      "outputs": [
        {
          "output_type": "execute_result",
          "data": {
            "text/plain": [
              "(array([[1],\n",
              "        [2],\n",
              "        [3]]),\n",
              " (3, 1))"
            ]
          },
          "metadata": {},
          "execution_count": 49
        }
      ]
    },
    {
      "cell_type": "markdown",
      "source": [
        "차원제거"
      ],
      "metadata": {
        "id": "EeJ2YTP7piHC"
      }
    },
    {
      "cell_type": "code",
      "source": [
        "arr = np.array([[[1,2,3]]])\n",
        "arr, arr.shape"
      ],
      "metadata": {
        "colab": {
          "base_uri": "https://localhost:8080/"
        },
        "id": "MFyBhCqepjUh",
        "outputId": "88053122-e900-4b37-fd17-662290a5dc92"
      },
      "execution_count": 52,
      "outputs": [
        {
          "output_type": "execute_result",
          "data": {
            "text/plain": [
              "(array([[[1, 2, 3]]]), (1, 1, 3))"
            ]
          },
          "metadata": {},
          "execution_count": 52
        }
      ]
    },
    {
      "cell_type": "code",
      "source": [
        "np.squeeze(arr)"
      ],
      "metadata": {
        "colab": {
          "base_uri": "https://localhost:8080/"
        },
        "id": "c8wiXNl6pxXH",
        "outputId": "810d6e30-171e-457d-a8d3-e077eca6a23c"
      },
      "execution_count": 54,
      "outputs": [
        {
          "output_type": "execute_result",
          "data": {
            "text/plain": [
              "array([1, 2, 3])"
            ]
          },
          "metadata": {},
          "execution_count": 54
        }
      ]
    },
    {
      "cell_type": "code",
      "source": [
        "np.squeeze(arr,axis=0)"
      ],
      "metadata": {
        "colab": {
          "base_uri": "https://localhost:8080/"
        },
        "id": "mfaPLZBZqF2G",
        "outputId": "3d9dad32-cbf6-4e24-b5d4-66c90b819c47"
      },
      "execution_count": 58,
      "outputs": [
        {
          "output_type": "execute_result",
          "data": {
            "text/plain": [
              "array([[1, 2, 3]])"
            ]
          },
          "metadata": {},
          "execution_count": 58
        }
      ]
    },
    {
      "cell_type": "code",
      "source": [
        "np.squeeze(arr,axis=1)"
      ],
      "metadata": {
        "colab": {
          "base_uri": "https://localhost:8080/"
        },
        "id": "1FhUj4uTqRqv",
        "outputId": "73459527-dded-4adb-c952-bfcdc6dc2775"
      },
      "execution_count": 59,
      "outputs": [
        {
          "output_type": "execute_result",
          "data": {
            "text/plain": [
              "array([[1, 2, 3]])"
            ]
          },
          "metadata": {},
          "execution_count": 59
        }
      ]
    },
    {
      "cell_type": "code",
      "source": [
        "arr = np.array([ [ [1],[2],[3]  ] ] )\n",
        "arr, arr.shape"
      ],
      "metadata": {
        "colab": {
          "base_uri": "https://localhost:8080/"
        },
        "id": "9xi5BDy7qqmX",
        "outputId": "df49a2e8-a0b8-4fe5-b005-d8a02b06868c"
      },
      "execution_count": 61,
      "outputs": [
        {
          "output_type": "execute_result",
          "data": {
            "text/plain": [
              "(array([[[1],\n",
              "         [2],\n",
              "         [3]]]),\n",
              " (1, 3, 1))"
            ]
          },
          "metadata": {},
          "execution_count": 61
        }
      ]
    },
    {
      "cell_type": "code",
      "source": [
        "np.squeeze(arr,axis =2 )"
      ],
      "metadata": {
        "colab": {
          "base_uri": "https://localhost:8080/"
        },
        "id": "iGVFgDMbq2aA",
        "outputId": "f3bd6d21-9829-4b28-afd6-6b83fba84a4f"
      },
      "execution_count": 66,
      "outputs": [
        {
          "output_type": "execute_result",
          "data": {
            "text/plain": [
              "array([[1, 2, 3]])"
            ]
          },
          "metadata": {},
          "execution_count": 66
        }
      ]
    },
    {
      "cell_type": "markdown",
      "source": [
        "- np.squeeze 는 차수를제거하는데.. 차수의 모양이 1이 차수들만 제거한다.\n",
        "- np.expend_dims 는 반대 개념.."
      ],
      "metadata": {
        "id": "_AX0yt72rHRJ"
      }
    },
    {
      "cell_type": "code",
      "source": [
        "arr.ndim, arr.shape"
      ],
      "metadata": {
        "colab": {
          "base_uri": "https://localhost:8080/"
        },
        "id": "aVbKhjeCq6bG",
        "outputId": "9cd1da9a-c322-4604-9c41-5c30c2988345"
      },
      "execution_count": 68,
      "outputs": [
        {
          "output_type": "execute_result",
          "data": {
            "text/plain": [
              "(3, (1, 3, 1))"
            ]
          },
          "metadata": {},
          "execution_count": 68
        }
      ]
    },
    {
      "cell_type": "markdown",
      "source": [
        "- 넘파이 배열 만들기  넘파이 랜덤함수\n",
        "- 넘파이끼리 연산\n",
        "- 넘파이와 정수의 연산\n",
        "- 넘파이 모양보기\n",
        "- 넘파이 모양 바꾸기\n",
        "- 넘파이 불필요한 차수 제거하기\n",
        "- 넘파이 차수 추가하기\n",
        "- 넘파이 리스트 슬라이싱으로 다양하게 데이터 가져오기"
      ],
      "metadata": {
        "id": "RBz_yTxHu1sQ"
      }
    },
    {
      "cell_type": "code",
      "source": [
        "# 넘파이 배열 만들기 넘파이 랜덤함수\n",
        "temp = np.random.randint(1,100,(10,15))\n",
        "temp % 2 == 0"
      ],
      "metadata": {
        "colab": {
          "base_uri": "https://localhost:8080/"
        },
        "collapsed": true,
        "id": "fNtsP60ArgAe",
        "outputId": "1819c736-0368-4ed6-e49f-481c09f97804"
      },
      "execution_count": 70,
      "outputs": [
        {
          "output_type": "execute_result",
          "data": {
            "text/plain": [
              "array([[ True,  True, False, False,  True, False, False, False, False,\n",
              "         True, False,  True,  True, False, False],\n",
              "       [False, False, False,  True, False,  True, False,  True,  True,\n",
              "         True,  True, False,  True, False, False],\n",
              "       [ True, False, False, False,  True, False,  True, False, False,\n",
              "         True, False,  True, False, False, False],\n",
              "       [False,  True,  True, False, False,  True, False, False,  True,\n",
              "        False, False,  True,  True, False, False],\n",
              "       [False,  True, False,  True, False,  True,  True,  True,  True,\n",
              "         True,  True,  True,  True,  True, False],\n",
              "       [False,  True,  True, False, False, False,  True, False, False,\n",
              "        False,  True, False, False,  True,  True],\n",
              "       [False, False, False,  True,  True, False,  True, False, False,\n",
              "         True,  True,  True, False,  True,  True],\n",
              "       [ True,  True,  True, False,  True, False, False, False, False,\n",
              "         True,  True, False,  True, False, False],\n",
              "       [False,  True, False, False, False, False, False,  True, False,\n",
              "        False,  True, False,  True, False, False],\n",
              "       [False,  True,  True, False,  True, False,  True,  True, False,\n",
              "         True, False,  True, False, False,  True]])"
            ]
          },
          "metadata": {},
          "execution_count": 70
        }
      ]
    },
    {
      "cell_type": "code",
      "source": [
        "temp[ temp % 2 == 0 ]"
      ],
      "metadata": {
        "colab": {
          "base_uri": "https://localhost:8080/"
        },
        "id": "hE8ubuy-xaLE",
        "outputId": "d8cae702-2923-4607-84b6-5e316ab1335a"
      },
      "execution_count": 71,
      "outputs": [
        {
          "output_type": "execute_result",
          "data": {
            "text/plain": [
              "array([86, 92,  4, 52, 96, 20, 20, 62, 50, 78, 26, 94, 62,  6, 58, 88, 44,\n",
              "       94,  6, 74, 30, 22, 10, 72, 42, 62, 56, 42, 40, 38, 56, 32, 88, 22,\n",
              "        6, 34, 36, 70, 78, 30, 50, 52, 80, 90, 40, 34, 74, 14, 52, 52, 24,\n",
              "       94, 44, 72, 48, 84, 48, 90, 60, 98, 66, 72, 46, 34, 32, 54, 80, 66])"
            ]
          },
          "metadata": {},
          "execution_count": 71
        }
      ]
    },
    {
      "cell_type": "code",
      "source": [
        "# 넘파이끼리 연산\n",
        "temp_1 = np.random.randint(1,10,(2,3))\n",
        "temp_2 = np.random.randint(1,10,(2,3))\n",
        "temp_1 * temp_2"
      ],
      "metadata": {
        "colab": {
          "base_uri": "https://localhost:8080/"
        },
        "id": "qxWoOnIbx9Oc",
        "outputId": "d9f82a24-e618-4d68-8f81-e4b30da04368"
      },
      "execution_count": 72,
      "outputs": [
        {
          "output_type": "execute_result",
          "data": {
            "text/plain": [
              "array([[12, 63, 36],\n",
              "       [ 2, 21,  4]])"
            ]
          },
          "metadata": {},
          "execution_count": 72
        }
      ]
    },
    {
      "cell_type": "code",
      "source": [
        "temp_1 * 10"
      ],
      "metadata": {
        "colab": {
          "base_uri": "https://localhost:8080/"
        },
        "id": "1V2g1PV4yKDN",
        "outputId": "0dc33044-3306-4ab7-a371-62092234dd0f"
      },
      "execution_count": 73,
      "outputs": [
        {
          "output_type": "execute_result",
          "data": {
            "text/plain": [
              "array([[20, 70, 90],\n",
              "       [10, 70, 40]])"
            ]
          },
          "metadata": {},
          "execution_count": 73
        }
      ]
    },
    {
      "cell_type": "code",
      "source": [
        "temp_1.shape"
      ],
      "metadata": {
        "colab": {
          "base_uri": "https://localhost:8080/"
        },
        "id": "RdJvMrS1yMVM",
        "outputId": "39d577a3-ab8b-418f-de32-231351692519"
      },
      "execution_count": 74,
      "outputs": [
        {
          "output_type": "execute_result",
          "data": {
            "text/plain": [
              "(2, 3)"
            ]
          },
          "metadata": {},
          "execution_count": 74
        }
      ]
    },
    {
      "cell_type": "code",
      "source": [
        "# 넘파이 모양 바꾸기\n",
        "temp_1.reshape(3,2)"
      ],
      "metadata": {
        "colab": {
          "base_uri": "https://localhost:8080/"
        },
        "id": "o4tZZLA_yQrU",
        "outputId": "d9676cb4-fd16-417d-c259-4bf4b93f2f37"
      },
      "execution_count": 75,
      "outputs": [
        {
          "output_type": "execute_result",
          "data": {
            "text/plain": [
              "array([[2, 7],\n",
              "       [9, 1],\n",
              "       [7, 4]])"
            ]
          },
          "metadata": {},
          "execution_count": 75
        }
      ]
    },
    {
      "cell_type": "code",
      "source": [
        "# 넘파이에 데이터 추가\n",
        "np.append(temp_1,10)\n",
        "# 넘파이에 데이터 제거\n",
        "np.delete(temp_1,0)"
      ],
      "metadata": {
        "colab": {
          "base_uri": "https://localhost:8080/"
        },
        "id": "7RJmwsaRy_Ce",
        "outputId": "131fdce6-5e0c-4e65-8193-c471d6e2536d"
      },
      "execution_count": 81,
      "outputs": [
        {
          "output_type": "execute_result",
          "data": {
            "text/plain": [
              "array([7, 9, 1, 7, 4])"
            ]
          },
          "metadata": {},
          "execution_count": 81
        }
      ]
    },
    {
      "cell_type": "code",
      "source": [
        "# 넘파이 불필요한 차수 제거하기\n",
        "# 리스트에 데이터를 추가하는데.. 추가하기위해서 로직을 수행하다보면\n",
        "# 리스에 추가할 값이 정수 및 데이터라고 생각했는데... ex temp.appned(10)\n",
        "# 리스에 추가할 값이 정수 및 데이터라고 생각했는데... ex temp.appned([10])"
      ],
      "metadata": {
        "collapsed": true,
        "id": "X2W9NJNoyUws"
      },
      "execution_count": 82,
      "outputs": []
    },
    {
      "cell_type": "code",
      "source": [
        "def some_process(data):\n",
        "  if sum(data) > 20:\n",
        "    return [data]\n",
        "  else:\n",
        "    return data"
      ],
      "metadata": {
        "id": "zcQe3waKyX0s"
      },
      "execution_count": 90,
      "outputs": []
    },
    {
      "cell_type": "code",
      "source": [
        "temp = np.random.randint(1,10,10)\n",
        "result = []\n",
        "result.append(some_process(temp))\n",
        "result"
      ],
      "metadata": {
        "colab": {
          "base_uri": "https://localhost:8080/"
        },
        "id": "9JTdmJPz0CIM",
        "outputId": "dbae903d-60dc-4426-dbef-53b8ab2b0e15"
      },
      "execution_count": 91,
      "outputs": [
        {
          "output_type": "execute_result",
          "data": {
            "text/plain": [
              "[[array([1, 5, 6, 1, 7, 9, 1, 9, 4, 3])]]"
            ]
          },
          "metadata": {},
          "execution_count": 91
        }
      ]
    },
    {
      "cell_type": "code",
      "source": [
        "result = np.array(result)\n",
        "result"
      ],
      "metadata": {
        "colab": {
          "base_uri": "https://localhost:8080/"
        },
        "id": "EdZb9LF80V4-",
        "outputId": "ffcf9969-9e0a-46cf-a464-c738ab751a58"
      },
      "execution_count": 93,
      "outputs": [
        {
          "output_type": "execute_result",
          "data": {
            "text/plain": [
              "array([[[1, 5, 6, 1, 7, 9, 1, 9, 4, 3]]])"
            ]
          },
          "metadata": {},
          "execution_count": 93
        }
      ]
    },
    {
      "cell_type": "code",
      "source": [
        "np.squeeze(result,axis=0)"
      ],
      "metadata": {
        "colab": {
          "base_uri": "https://localhost:8080/"
        },
        "id": "ek0LILgs0xgz",
        "outputId": "a556187d-9c41-4138-8623-3b5378117a4c"
      },
      "execution_count": 96,
      "outputs": [
        {
          "output_type": "execute_result",
          "data": {
            "text/plain": [
              "array([[1, 5, 6, 1, 7, 9, 1, 9, 4, 3]])"
            ]
          },
          "metadata": {},
          "execution_count": 96
        }
      ]
    },
    {
      "cell_type": "code",
      "source": [
        "np_1 = np.random.randint(1,10,(2,3))\n",
        "np_2 = np.random.randint(1,10,(3,2))\n",
        "np_1 + np_2  # reshape로 변경"
      ],
      "metadata": {
        "colab": {
          "base_uri": "https://localhost:8080/",
          "height": 180
        },
        "id": "bcHe83A-0-qz",
        "outputId": "c01946a4-5378-46aa-bc9f-d3fc231f677f"
      },
      "execution_count": 97,
      "outputs": [
        {
          "output_type": "error",
          "ename": "ValueError",
          "evalue": "operands could not be broadcast together with shapes (2,3) (3,2) ",
          "traceback": [
            "\u001b[0;31m---------------------------------------------------------------------------\u001b[0m",
            "\u001b[0;31mValueError\u001b[0m                                Traceback (most recent call last)",
            "\u001b[0;32m<ipython-input-97-d1253fb7140b>\u001b[0m in \u001b[0;36m<cell line: 3>\u001b[0;34m()\u001b[0m\n\u001b[1;32m      1\u001b[0m \u001b[0mnp_1\u001b[0m \u001b[0;34m=\u001b[0m \u001b[0mnp\u001b[0m\u001b[0;34m.\u001b[0m\u001b[0mrandom\u001b[0m\u001b[0;34m.\u001b[0m\u001b[0mrandint\u001b[0m\u001b[0;34m(\u001b[0m\u001b[0;36m1\u001b[0m\u001b[0;34m,\u001b[0m\u001b[0;36m10\u001b[0m\u001b[0;34m,\u001b[0m\u001b[0;34m(\u001b[0m\u001b[0;36m2\u001b[0m\u001b[0;34m,\u001b[0m\u001b[0;36m3\u001b[0m\u001b[0;34m)\u001b[0m\u001b[0;34m)\u001b[0m\u001b[0;34m\u001b[0m\u001b[0;34m\u001b[0m\u001b[0m\n\u001b[1;32m      2\u001b[0m \u001b[0mnp_2\u001b[0m \u001b[0;34m=\u001b[0m \u001b[0mnp\u001b[0m\u001b[0;34m.\u001b[0m\u001b[0mrandom\u001b[0m\u001b[0;34m.\u001b[0m\u001b[0mrandint\u001b[0m\u001b[0;34m(\u001b[0m\u001b[0;36m1\u001b[0m\u001b[0;34m,\u001b[0m\u001b[0;36m10\u001b[0m\u001b[0;34m,\u001b[0m\u001b[0;34m(\u001b[0m\u001b[0;36m3\u001b[0m\u001b[0;34m,\u001b[0m\u001b[0;36m2\u001b[0m\u001b[0;34m)\u001b[0m\u001b[0;34m)\u001b[0m\u001b[0;34m\u001b[0m\u001b[0;34m\u001b[0m\u001b[0m\n\u001b[0;32m----> 3\u001b[0;31m \u001b[0mnp_1\u001b[0m \u001b[0;34m+\u001b[0m \u001b[0mnp_2\u001b[0m\u001b[0;34m\u001b[0m\u001b[0;34m\u001b[0m\u001b[0m\n\u001b[0m",
            "\u001b[0;31mValueError\u001b[0m: operands could not be broadcast together with shapes (2,3) (3,2) "
          ]
        }
      ]
    },
    {
      "cell_type": "code",
      "source": [
        "np_1@np_2  # 내적연산"
      ],
      "metadata": {
        "colab": {
          "base_uri": "https://localhost:8080/"
        },
        "id": "P2kRD4l21Nn7",
        "outputId": "2067b87e-39ee-4b08-fb42-06a263e83f92"
      },
      "execution_count": 99,
      "outputs": [
        {
          "output_type": "execute_result",
          "data": {
            "text/plain": [
              "array([[64, 94],\n",
              "       [64, 82]])"
            ]
          },
          "metadata": {},
          "execution_count": 99
        }
      ]
    },
    {
      "cell_type": "code",
      "source": [
        "# (2,1)\n",
        "np_1 = np.random.randint(1,10,(2,1))\n",
        "np_1"
      ],
      "metadata": {
        "colab": {
          "base_uri": "https://localhost:8080/"
        },
        "id": "43cqh-QV1ZOD",
        "outputId": "d0f2466b-0338-4d1c-9d8d-cd197e330eb5"
      },
      "execution_count": 105,
      "outputs": [
        {
          "output_type": "execute_result",
          "data": {
            "text/plain": [
              "array([[6],\n",
              "       [6]])"
            ]
          },
          "metadata": {},
          "execution_count": 105
        }
      ]
    },
    {
      "cell_type": "code",
      "source": [
        "np_1 + 2  # shape 가 안맞아도.. 내부에서 브로드캐스팅이 되어서 연산이 가능"
      ],
      "metadata": {
        "colab": {
          "base_uri": "https://localhost:8080/"
        },
        "id": "I4Kuf_j51-7s",
        "outputId": "be4f53e5-d44d-4bee-b821-5582ed340c09"
      },
      "execution_count": 106,
      "outputs": [
        {
          "output_type": "execute_result",
          "data": {
            "text/plain": [
              "array([[8],\n",
              "       [8]])"
            ]
          },
          "metadata": {},
          "execution_count": 106
        }
      ]
    },
    {
      "cell_type": "code",
      "source": [
        "np_2 = np.array([2])\n",
        "np_2"
      ],
      "metadata": {
        "colab": {
          "base_uri": "https://localhost:8080/"
        },
        "id": "PbbzBPhB2-yL",
        "outputId": "e315d652-520b-4677-a655-0550e008b173"
      },
      "execution_count": 107,
      "outputs": [
        {
          "output_type": "execute_result",
          "data": {
            "text/plain": [
              "array([2])"
            ]
          },
          "metadata": {},
          "execution_count": 107
        }
      ]
    },
    {
      "cell_type": "code",
      "source": [
        "np_1 + np_2"
      ],
      "metadata": {
        "colab": {
          "base_uri": "https://localhost:8080/"
        },
        "id": "MTWYIT3K3XQC",
        "outputId": "33537e52-120a-48c3-c8a9-939b42de0945"
      },
      "execution_count": 108,
      "outputs": [
        {
          "output_type": "execute_result",
          "data": {
            "text/plain": [
              "array([[8],\n",
              "       [8]])"
            ]
          },
          "metadata": {},
          "execution_count": 108
        }
      ]
    },
    {
      "cell_type": "code",
      "source": [
        "np_1.shape ,  np_2.shape"
      ],
      "metadata": {
        "colab": {
          "base_uri": "https://localhost:8080/"
        },
        "id": "TDNNQXLs3bzL",
        "outputId": "e3b175ce-8ea9-443b-d06f-4bd7165a8e24"
      },
      "execution_count": 110,
      "outputs": [
        {
          "output_type": "execute_result",
          "data": {
            "text/plain": [
              "((2, 1), (1,))"
            ]
          },
          "metadata": {},
          "execution_count": 110
        }
      ]
    },
    {
      "cell_type": "code",
      "source": [
        "np.expand_dims(np_2,axis=0)"
      ],
      "metadata": {
        "colab": {
          "base_uri": "https://localhost:8080/"
        },
        "id": "YxRUJ-y43iai",
        "outputId": "60e20160-033c-425d-e49b-73614aa8e855"
      },
      "execution_count": 111,
      "outputs": [
        {
          "output_type": "execute_result",
          "data": {
            "text/plain": [
              "array([[2]])"
            ]
          },
          "metadata": {},
          "execution_count": 111
        }
      ]
    },
    {
      "cell_type": "code",
      "source": [
        "np.expand_dims(np_2,axis=0) + np_1"
      ],
      "metadata": {
        "colab": {
          "base_uri": "https://localhost:8080/"
        },
        "id": "JTCxHhMl3rBq",
        "outputId": "256c97c0-341c-4c15-a781-6cc5949b537d"
      },
      "execution_count": 112,
      "outputs": [
        {
          "output_type": "execute_result",
          "data": {
            "text/plain": [
              "array([[8],\n",
              "       [8]])"
            ]
          },
          "metadata": {},
          "execution_count": 112
        }
      ]
    },
    {
      "cell_type": "code",
      "source": [
        "# 차원을 제거하거나 추가해야 하는경우\n",
        "# 이미지를 다룰때.. (채널, 가로 ,세로)\n",
        "# 흑백이미지를 데이터 사용할 ()"
      ],
      "metadata": {
        "id": "GfBQ-asR3uBa"
      },
      "execution_count": null,
      "outputs": []
    }
  ]
}