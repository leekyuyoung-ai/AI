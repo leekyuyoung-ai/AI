{
  "nbformat": 4,
  "nbformat_minor": 0,
  "metadata": {
    "colab": {
      "provenance": [],
      "gpuType": "T4"
    },
    "kernelspec": {
      "name": "python3",
      "display_name": "Python 3"
    },
    "language_info": {
      "name": "python"
    },
    "accelerator": "GPU"
  },
  "cells": [
    {
      "cell_type": "code",
      "execution_count": null,
      "metadata": {
        "id": "kVU4bZI8EZ1n"
      },
      "outputs": [],
      "source": []
    },
    {
      "cell_type": "markdown",
      "source": [
        "문장 임베딩\n",
        "  - 자연어처리에서 문장을 고정된 크기의 벡터로 변환하는 과정\n",
        "  - 단어 임베딩과 달리 문장의 의미를 보존하는 것이 목표"
      ],
      "metadata": {
        "id": "wgbqakPhElyu"
      }
    },
    {
      "cell_type": "markdown",
      "source": [
        "Sentence Embedding 기법\n",
        "  - 단순 평균 벡터(Averaging Word Vectors)\n",
        "     - 개별 단어의 임베딩을 평균 내어 문장 벡터를 생성\n",
        "     - 간단하고 계산 비용이 낮지만, 단어 순서와 구조를 반영하지 못함\n",
        "\n",
        "     ![image.png](data:image/png;base64,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)"
      ],
      "metadata": {
        "id": "l9m2UmsDEwEP"
      }
    },
    {
      "cell_type": "code",
      "source": [
        "texts = [\n",
        "\"Natural language processing is amazing\",\n",
        "\"Sentence embeddings are useful for NLP tasks\"\n",
        "]"
      ],
      "metadata": {
        "id": "g5boa2icEu13"
      },
      "execution_count": 1,
      "outputs": []
    },
    {
      "cell_type": "code",
      "source": [
        "!pip install konlpy"
      ],
      "metadata": {
        "colab": {
          "base_uri": "https://localhost:8080/"
        },
        "id": "er9mqhf4ICFu",
        "outputId": "d4ce55d7-59cf-46d6-f139-669e60e24663"
      },
      "execution_count": 2,
      "outputs": [
        {
          "output_type": "stream",
          "name": "stdout",
          "text": [
            "Collecting konlpy\n",
            "  Downloading konlpy-0.6.0-py2.py3-none-any.whl.metadata (1.9 kB)\n",
            "Collecting JPype1>=0.7.0 (from konlpy)\n",
            "  Downloading jpype1-1.5.2-cp311-cp311-manylinux_2_17_x86_64.manylinux2014_x86_64.whl.metadata (4.9 kB)\n",
            "Requirement already satisfied: lxml>=4.1.0 in /usr/local/lib/python3.11/dist-packages (from konlpy) (5.3.0)\n",
            "Requirement already satisfied: numpy>=1.6 in /usr/local/lib/python3.11/dist-packages (from konlpy) (1.26.4)\n",
            "Requirement already satisfied: packaging in /usr/local/lib/python3.11/dist-packages (from JPype1>=0.7.0->konlpy) (24.2)\n",
            "Downloading konlpy-0.6.0-py2.py3-none-any.whl (19.4 MB)\n",
            "\u001b[2K   \u001b[90m━━━━━━━━━━━━━━━━━━━━━━━━━━━━━━━━━━━━━━━━\u001b[0m \u001b[32m19.4/19.4 MB\u001b[0m \u001b[31m34.3 MB/s\u001b[0m eta \u001b[36m0:00:00\u001b[0m\n",
            "\u001b[?25hDownloading jpype1-1.5.2-cp311-cp311-manylinux_2_17_x86_64.manylinux2014_x86_64.whl (494 kB)\n",
            "\u001b[2K   \u001b[90m━━━━━━━━━━━━━━━━━━━━━━━━━━━━━━━━━━━━━━━━\u001b[0m \u001b[32m494.1/494.1 kB\u001b[0m \u001b[31m24.3 MB/s\u001b[0m eta \u001b[36m0:00:00\u001b[0m\n",
            "\u001b[?25hInstalling collected packages: JPype1, konlpy\n",
            "Successfully installed JPype1-1.5.2 konlpy-0.6.0\n"
          ]
        }
      ]
    },
    {
      "cell_type": "code",
      "source": [
        "import numpy as np\n",
        "from nltk.tokenize import word_tokenize  # 문장에서 단어 추출\n",
        "from gensim.models import Word2Vec  # 단어를 학습 가능한 벡터로 변환\n",
        "import nltk\n",
        "nltk.download('punkt_tab')# 문장을 토큰화 하는데 필요한 패키지\n",
        "# words = word_tokenize(texts[0])\n",
        "# print(texts[0])\n",
        "# print(words)\n",
        "tokenized_sentences = [word_tokenize(word.lower()) for word in texts]\n",
        "# Word2Vec 학습\n",
        "word2vec_model = Word2Vec(sentences=tokenized_sentences, vector_size=100, window=5, min_count=1, sg=0)\n",
        "# 문장 임베딩 함수(평균 벡터)\n",
        "def sentece_embedding(sentence, model):\n",
        "  words = word_tokenize(sentence.lower())\n",
        "  words_vectors = [model.wv[word] for word in words if word in model.wv]\n",
        "  return np.mean(words_vectors,axis=0) if words_vectors else np.zeros(model.vector_size)\n",
        "\n",
        "# 예제 문장 벡터화\n",
        "sentece_vec = sentece_embedding(\"Natural language processing is amazing\",word2vec_model)\n",
        "sentece_vec.shape"
      ],
      "metadata": {
        "colab": {
          "base_uri": "https://localhost:8080/"
        },
        "collapsed": true,
        "id": "9btkzZUWHnY2",
        "outputId": "d4b006a6-bf6d-41a0-900a-86362e059c3f"
      },
      "execution_count": 20,
      "outputs": [
        {
          "output_type": "stream",
          "name": "stderr",
          "text": [
            "[nltk_data] Downloading package punkt_tab to /root/nltk_data...\n",
            "[nltk_data]   Package punkt_tab is already up-to-date!\n"
          ]
        },
        {
          "output_type": "execute_result",
          "data": {
            "text/plain": [
              "(100,)"
            ]
          },
          "metadata": {},
          "execution_count": 20
        }
      ]
    },
    {
      "cell_type": "markdown",
      "source": [
        "TF-IDF(Term Frequency - Inverse Document Frequency)  기반 문장 벡터화\n",
        "  - 단어 임베딩의 가중 평균을 사용하여 문장 벡터 생성\n",
        "  - 중요한 단어에 높은 가중치를 부여하여 의미를 더 잘 반영"
      ],
      "metadata": {
        "id": "xA0Tm7gYMSz9"
      }
    },
    {
      "cell_type": "markdown",
      "source": [
        "- TF - 단순히 등장횟수\n",
        "- IDF - 등장횟수만 보는것이 아니라 해당단어가 전체 문서집합에서 얼마나 자주 등장하는지를 함께 고려"
      ],
      "metadata": {
        "id": "Q3T9YOtmNhYP"
      }
    },
    {
      "cell_type": "markdown",
      "source": [
        "![image.png](data:image/png;base64,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)"
      ],
      "metadata": {
        "id": "SG5Zd_HCOACF"
      }
    },
    {
      "cell_type": "code",
      "source": [
        "# I love natural language processing and natural language learning\n",
        "# natural : 2\n",
        "# 전체 단어수 : 9\n",
        "# TF : 2/9\n",
        "print(\"TF\", round(2/9,3))"
      ],
      "metadata": {
        "colab": {
          "base_uri": "https://localhost:8080/"
        },
        "id": "4p7YkqN1L1Q1",
        "outputId": "89773efe-2b2f-45dd-f968-01713d5c1e7d"
      },
      "execution_count": 22,
      "outputs": [
        {
          "output_type": "stream",
          "name": "stdout",
          "text": [
            "TF 0.222\n"
          ]
        }
      ]
    },
    {
      "cell_type": "markdown",
      "source": [
        "IDF(Inverse Document Frequency) - 역문서 빈도\n",
        "  - 단어가 전체 문서에서 얼마나 희귀한지 측정하는 지표\n",
        "  - 많은 문서에서 등장하는 흔한단어는 중요도가 낮아야 하므로 이를 조정하는 역활"
      ],
      "metadata": {
        "id": "IkBqHzh-OsdV"
      }
    },
    {
      "cell_type": "markdown",
      "source": [
        "![image.png](data:image/png;base64,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)"
      ],
      "metadata": {
        "id": "ZmvxprDRPcDV"
      }
    },
    {
      "cell_type": "code",
      "source": [
        "'''\n",
        "I love natual language processing\n",
        "Natural language processing is fun\n",
        "Machine learning and deep learing are powerful\n",
        "'''\n",
        "# natural  2\n",
        "# 전체 문장의수 3\n",
        "# log(3/1+2) = log(1) = 0  --> 자주 등장하는 단어이므로 중요도가 낮음\n",
        "\n",
        "# deep  1\n",
        "# log(3/1+1)\n",
        "np.log(3/2)"
      ],
      "metadata": {
        "colab": {
          "base_uri": "https://localhost:8080/"
        },
        "id": "sP1EDrmQPawV",
        "outputId": "db63f17b-5ccd-4b42-de91-b485e990ed35"
      },
      "execution_count": 30,
      "outputs": [
        {
          "output_type": "execute_result",
          "data": {
            "text/plain": [
              "0.4054651081081644"
            ]
          },
          "metadata": {},
          "execution_count": 30
        }
      ]
    },
    {
      "cell_type": "markdown",
      "source": [
        "TF-IDF 계산\n",
        "  - TF와 IDF를 곱하면  TF * IDF\n",
        "  - 특정 문서에서 자주등장하지만 전체 문서에서는 드문 단어일수록 높은 점수를 갖는다"
      ],
      "metadata": {
        "id": "1GNdzAFBRGsM"
      }
    },
    {
      "cell_type": "markdown",
      "source": [
        "TF-IDF 실습"
      ],
      "metadata": {
        "id": "BB3M1KV3Rry9"
      }
    },
    {
      "cell_type": "code",
      "source": [
        "!pip install konlpy\n",
        "import numpy as np\n",
        "import math\n",
        "from nltk.tokenize import word_tokenize  # 문장에서 단어 추출\n",
        "# 샘플 문서\n",
        "documents = [\n",
        "\"I love natual language processing\",\n",
        "\"Natural language processing is fun\",\n",
        "\"Machine learning and deep learing are powerful\"\n",
        "]\n",
        "\n",
        "# 토큰화\n",
        "tokenizer_docs = [ word_tokenize(doc.lower()) for doc in documents]\n",
        "# TF 계산\n",
        "def compute_tf(doc):  # 토크나이져한 리스트를 전달\n",
        "  tf_dict = {}\n",
        "  for word in doc:\n",
        "    tf_dict[word] = tf_dict.get(word,0) + 1  # 리스트의 각 단어의 등장 횟수를 카운트\n",
        "  for word in tf_dict:\n",
        "    tf_dict[word] /= len(doc)  # 각 단어의 빈도수에 전체 문장의 수로 나눔\n",
        "  return tf_dict"
      ],
      "metadata": {
        "colab": {
          "base_uri": "https://localhost:8080/"
        },
        "id": "nS7weyOcRD-1",
        "outputId": "8d83dee2-7920-40ca-b5f6-61aa23164576"
      },
      "execution_count": 40,
      "outputs": [
        {
          "output_type": "stream",
          "name": "stdout",
          "text": [
            "Requirement already satisfied: konlpy in /usr/local/lib/python3.11/dist-packages (0.6.0)\n",
            "Requirement already satisfied: JPype1>=0.7.0 in /usr/local/lib/python3.11/dist-packages (from konlpy) (1.5.2)\n",
            "Requirement already satisfied: lxml>=4.1.0 in /usr/local/lib/python3.11/dist-packages (from konlpy) (5.3.0)\n",
            "Requirement already satisfied: numpy>=1.6 in /usr/local/lib/python3.11/dist-packages (from konlpy) (1.26.4)\n",
            "Requirement already satisfied: packaging in /usr/local/lib/python3.11/dist-packages (from JPype1>=0.7.0->konlpy) (24.2)\n"
          ]
        }
      ]
    },
    {
      "cell_type": "code",
      "source": [
        "tf_lists = [compute_tf(doc) for doc in tokenizer_docs]\n",
        "tf_lists"
      ],
      "metadata": {
        "colab": {
          "base_uri": "https://localhost:8080/"
        },
        "id": "IrVT_WrxR8dd",
        "outputId": "2ec52a0f-8618-4202-fb90-ca945e2836d2"
      },
      "execution_count": 41,
      "outputs": [
        {
          "output_type": "execute_result",
          "data": {
            "text/plain": [
              "[{'i': 0.2, 'love': 0.2, 'natual': 0.2, 'language': 0.2, 'processing': 0.2},\n",
              " {'natural': 0.2, 'language': 0.2, 'processing': 0.2, 'is': 0.2, 'fun': 0.2},\n",
              " {'machine': 0.14285714285714285,\n",
              "  'learning': 0.14285714285714285,\n",
              "  'and': 0.14285714285714285,\n",
              "  'deep': 0.14285714285714285,\n",
              "  'learing': 0.14285714285714285,\n",
              "  'are': 0.14285714285714285,\n",
              "  'powerful': 0.14285714285714285}]"
            ]
          },
          "metadata": {},
          "execution_count": 41
        }
      ]
    },
    {
      "cell_type": "code",
      "source": [
        "# IDF 계산   특정 단어가 전체문장에서 등장하는 횟수\n",
        "def compute_idf(docs):\n",
        "  idf_dict = {}\n",
        "  D = len(docs)\n",
        "  # 전체문장에서 단어들을 추출  - set을 이용\n",
        "  temp = []\n",
        "  all_words = set(word for doc in docs for word in doc)\n",
        "\n",
        "  # 각 단어가\n",
        "  for word in all_words:\n",
        "    # 전체문장의 각 문장에 포함되면 1로 만들어서 리스트화\n",
        "    df_t = sum(1 for doc in docs if word in doc) # 등장 횟수\n",
        "    idf_dict[word] = math.log(D/(1 + df_t)) # IDF 계산\n",
        "  return idf_dict\n",
        "\n"
      ],
      "metadata": {
        "id": "POtOXpgRXSEL"
      },
      "execution_count": 42,
      "outputs": []
    },
    {
      "cell_type": "code",
      "source": [
        "idf_dict = compute_idf(tokenizer_docs)"
      ],
      "metadata": {
        "id": "5fTTSBnMaiZj"
      },
      "execution_count": 43,
      "outputs": []
    },
    {
      "cell_type": "code",
      "source": [
        "# tf-idf 계산\n",
        "tfidf_list = []\n",
        "for tf in tf_lists:  # tf는 dict\n",
        "  tfidf = {word:tf[word] for word in tf}\n",
        "  tfidf_list.append(tfidf)\n",
        "\n",
        "#결과 출력\n",
        "for i, tfidf in enumerate(tfidf_list):\n",
        "  print(f\"문장 {i+1}: {tfidf}\")"
      ],
      "metadata": {
        "colab": {
          "base_uri": "https://localhost:8080/"
        },
        "id": "NtV-OpzuasU7",
        "outputId": "ebc7a6a7-ab4a-4778-81d1-a1ad1b7621c7"
      },
      "execution_count": 52,
      "outputs": [
        {
          "output_type": "stream",
          "name": "stdout",
          "text": [
            "문장 1: {'i': 0.2, 'love': 0.2, 'natual': 0.2, 'language': 0.2, 'processing': 0.2}\n",
            "문장 2: {'natural': 0.2, 'language': 0.2, 'processing': 0.2, 'is': 0.2, 'fun': 0.2}\n",
            "문장 3: {'machine': 0.14285714285714285, 'learning': 0.14285714285714285, 'and': 0.14285714285714285, 'deep': 0.14285714285714285, 'learing': 0.14285714285714285, 'are': 0.14285714285714285, 'powerful': 0.14285714285714285}\n"
          ]
        }
      ]
    },
    {
      "cell_type": "markdown",
      "source": [
        "scikit-learn 을 활용한 TF-IDF 계산"
      ],
      "metadata": {
        "id": "MyWb_owDcH20"
      }
    },
    {
      "cell_type": "code",
      "source": [
        "# 샘플 문서\n",
        "documents = [\n",
        "\"I love natual language processing\",\n",
        "\"Natural language processing is fun\",\n",
        "\"Machine learning and deep learing are powerful\"\n",
        "]\n",
        "from sklearn.feature_extraction.text import TfidfVectorizer\n",
        "vectorizer = TfidfVectorizer()\n",
        "tfidf_matrix = vectorizer.fit_transform(documents)\n",
        "print('문장들',documents)\n",
        "print('단어목록:',vectorizer.get_feature_names_out())\n",
        "print(\"TF-IDF 행렬:\\n\",tfidf_matrix.toarray() )"
      ],
      "metadata": {
        "colab": {
          "base_uri": "https://localhost:8080/"
        },
        "id": "4z0wZqNscBLT",
        "outputId": "97304e38-d658-4307-bf5c-7c57f3e73c8a"
      },
      "execution_count": 51,
      "outputs": [
        {
          "output_type": "stream",
          "name": "stdout",
          "text": [
            "문장들 ['I love natual language processing', 'Natural language processing is fun', 'Machine learning and deep learing are powerful']\n",
            "단어목록: ['and' 'are' 'deep' 'fun' 'is' 'language' 'learing' 'learning' 'love'\n",
            " 'machine' 'natual' 'natural' 'powerful' 'processing']\n",
            "TF-IDF 행렬:\n",
            " [[0.         0.         0.         0.         0.         0.42804604\n",
            "  0.         0.         0.5628291  0.         0.5628291  0.\n",
            "  0.         0.42804604]\n",
            " [0.         0.         0.         0.49047908 0.49047908 0.37302199\n",
            "  0.         0.         0.         0.         0.         0.49047908\n",
            "  0.         0.37302199]\n",
            " [0.37796447 0.37796447 0.37796447 0.         0.         0.\n",
            "  0.37796447 0.37796447 0.         0.37796447 0.         0.\n",
            "  0.37796447 0.        ]]\n"
          ]
        }
      ]
    },
    {
      "cell_type": "markdown",
      "source": [
        "TF-IDF 기반의 문장 벡터\n",
        "\n",
        "![image.png](data:image/png;base64,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)"
      ],
      "metadata": {
        "id": "GlE81AAEfF5T"
      }
    },
    {
      "cell_type": "code",
      "source": [],
      "metadata": {
        "id": "z46jOJxvckOD"
      },
      "execution_count": null,
      "outputs": []
    }
  ]
}