{
  "nbformat": 4,
  "nbformat_minor": 0,
  "metadata": {
    "colab": {
      "provenance": []
    },
    "kernelspec": {
      "name": "python3",
      "display_name": "Python 3"
    },
    "language_info": {
      "name": "python"
    }
  },
  "cells": [
    {
      "cell_type": "code",
      "execution_count": null,
      "metadata": {
        "id": "Mhg-C6QHwxZE"
      },
      "outputs": [],
      "source": []
    },
    {
      "cell_type": "markdown",
      "source": [
        "패딩(padding)\n",
        "  - 문장의 길이가 다를수 있으므로 병렬 연산을 위해서 모든 문장의 길이를 동일하게 맞춰야함\n",
        "  - padding 이라고 하고 숫자는 0을 사용한다"
      ],
      "metadata": {
        "id": "wwCp1vX2wz2T"
      }
    },
    {
      "cell_type": "code",
      "source": [
        "# 텍스트 데이터를 정수로 변환(토큰화 -> 정수 인코딩)\n",
        "# 가장 긴 문장의 길이를 구함(max_len)\n",
        "# 짧은 문장에 0을 추가해서 max_le과 동일한 길이로 맞춤"
      ],
      "metadata": {
        "id": "71Pz0YFCw1Oc"
      },
      "execution_count": 1,
      "outputs": []
    },
    {
      "cell_type": "markdown",
      "source": [
        "numpy를 이용한 패딩"
      ],
      "metadata": {
        "id": "vp8n-ewl1omU"
      }
    },
    {
      "cell_type": "code",
      "source": [
        "import numpy as np\n",
        "from tensorflow.keras.preprocessing.text import Tokenizer\n",
        "preprocess_sentences = [['barber', 'person'], ['barber', 'good', 'person'], ['barber', 'huge', 'person'],\n",
        "                          ['knew', 'secret'], ['secret', 'kept', 'huge', 'secret'], ['huge', 'secret'],\n",
        "                          ['barber', 'kept', 'word'], ['barber', 'kept', 'word'], ['barber', 'kept', 'secret'],\n",
        "                          ['keeping', 'keeping', 'huge', 'secret', 'driving', 'barber', 'crazy'],\n",
        "                          ['barber', 'went', 'huge', 'mountain']]\n",
        "tokenizer =  Tokenizer()\n",
        "tokenizer.fit_on_texts(preprocess_sentences)\n",
        "encoded = tokenizer.texts_to_sequences(preprocess_sentences)\n",
        "\n",
        "max_len  = max([len(sentence) for sentence in encoded])\n",
        "print('max_len :', max_len)\n",
        "print(\"encoded :\",encoded)\n",
        "for sentece in encoded:\n",
        "  while len(sentece) < max_len:\n",
        "    sentece.append(0)\n",
        "padded_np = np.array(encoded)\n",
        "padded_np\n"
      ],
      "metadata": {
        "colab": {
          "base_uri": "https://localhost:8080/"
        },
        "id": "ehkWamMnxWvO",
        "outputId": "b30a0a38-d45c-4005-c54c-4bd4ea52ad3d"
      },
      "execution_count": 9,
      "outputs": [
        {
          "output_type": "stream",
          "name": "stdout",
          "text": [
            "max_len : 7\n",
            "encoded : [[1, 5], [1, 8, 5], [1, 3, 5], [9, 2], [2, 4, 3, 2], [3, 2], [1, 4, 6], [1, 4, 6], [1, 4, 2], [7, 7, 3, 2, 10, 1, 11], [1, 12, 3, 13]]\n"
          ]
        },
        {
          "output_type": "execute_result",
          "data": {
            "text/plain": [
              "array([[ 1,  5,  0,  0,  0,  0,  0],\n",
              "       [ 1,  8,  5,  0,  0,  0,  0],\n",
              "       [ 1,  3,  5,  0,  0,  0,  0],\n",
              "       [ 9,  2,  0,  0,  0,  0,  0],\n",
              "       [ 2,  4,  3,  2,  0,  0,  0],\n",
              "       [ 3,  2,  0,  0,  0,  0,  0],\n",
              "       [ 1,  4,  6,  0,  0,  0,  0],\n",
              "       [ 1,  4,  6,  0,  0,  0,  0],\n",
              "       [ 1,  4,  2,  0,  0,  0,  0],\n",
              "       [ 7,  7,  3,  2, 10,  1, 11],\n",
              "       [ 1, 12,  3, 13,  0,  0,  0]])"
            ]
          },
          "metadata": {},
          "execution_count": 9
        }
      ]
    },
    {
      "cell_type": "markdown",
      "source": [
        "keras pad_sequence를 이용"
      ],
      "metadata": {
        "id": "kdHmhu5o1rsi"
      }
    },
    {
      "cell_type": "code",
      "source": [
        "from tensorflow.keras.preprocessing.sequence import pad_sequences\n",
        "preprocess_sentences = [['barber', 'person'], ['barber', 'good', 'person'], ['barber', 'huge', 'person'],\n",
        "                          ['knew', 'secret'], ['secret', 'kept', 'huge', 'secret'], ['huge', 'secret'],\n",
        "                          ['barber', 'kept', 'word'], ['barber', 'kept', 'word'], ['barber', 'kept', 'secret'],\n",
        "                          ['keeping', 'keeping', 'huge', 'secret', 'driving', 'barber', 'crazy'],\n",
        "                          ['barber', 'went', 'huge', 'mountain']]\n",
        "tokenizer =  Tokenizer()\n",
        "tokenizer.fit_on_texts(preprocess_sentences)\n",
        "encoded = tokenizer.texts_to_sequences(preprocess_sentences)\n",
        "\n",
        "# print(encoded)\n",
        "# pad_sequences(encoded)  # 앞에서 채움\n",
        "# pad_sequences(encoded, padding='post')  # 뒤에서 채움\n",
        "# pad_sequences(encoded, padding='post', maxlen=5)  # 최대 길이가 5\n",
        "\n",
        "last_value = len(tokenizer.word_index) + 1  # 단어 집합의 크기보다 1 큰 숫자를 사용\n",
        "pad_sequences(encoded,padding='post', truncating='post' ,value=last_value)  # truncating='post' 길이가 길면 뒤에서 자름"
      ],
      "metadata": {
        "colab": {
          "base_uri": "https://localhost:8080/"
        },
        "id": "ms8_PKv4zwta",
        "outputId": "ac3344d6-d8fc-4f7c-ee23-226396a40ce6"
      },
      "execution_count": 18,
      "outputs": [
        {
          "output_type": "execute_result",
          "data": {
            "text/plain": [
              "array([[ 1,  5, 14, 14, 14, 14, 14],\n",
              "       [ 1,  8,  5, 14, 14, 14, 14],\n",
              "       [ 1,  3,  5, 14, 14, 14, 14],\n",
              "       [ 9,  2, 14, 14, 14, 14, 14],\n",
              "       [ 2,  4,  3,  2, 14, 14, 14],\n",
              "       [ 3,  2, 14, 14, 14, 14, 14],\n",
              "       [ 1,  4,  6, 14, 14, 14, 14],\n",
              "       [ 1,  4,  6, 14, 14, 14, 14],\n",
              "       [ 1,  4,  2, 14, 14, 14, 14],\n",
              "       [ 7,  7,  3,  2, 10,  1, 11],\n",
              "       [ 1, 12,  3, 13, 14, 14, 14]], dtype=int32)"
            ]
          },
          "metadata": {},
          "execution_count": 18
        }
      ]
    },
    {
      "cell_type": "markdown",
      "source": [
        "원핫인코딩(one - hot - encording)\n",
        "  - 컴퓨터는 단어보다는 숫자를 더 잘 처리\n",
        "  - 단어집합(vocabulary) : 서로 다른 단어들의 모음\n",
        "  - \"나는 자연어 처리를 배운다\"  [나,는,자연어,처리,를,배운다']\n",
        "  - book books는 서로 다른 단어로 간주\n",
        "  - 특정단어의 위치만 1로 하고 나머지는 0으로 채운 벡터"
      ],
      "metadata": {
        "id": "M4b--ABm227L"
      }
    },
    {
      "cell_type": "code",
      "source": [
        "!pip install konlpy"
      ],
      "metadata": {
        "colab": {
          "base_uri": "https://localhost:8080/"
        },
        "id": "o5OTlbJ32ykq",
        "outputId": "9722e84f-5125-4de4-80d7-f5d99a579e83"
      },
      "execution_count": 19,
      "outputs": [
        {
          "output_type": "stream",
          "name": "stdout",
          "text": [
            "Collecting konlpy\n",
            "  Downloading konlpy-0.6.0-py2.py3-none-any.whl.metadata (1.9 kB)\n",
            "Collecting JPype1>=0.7.0 (from konlpy)\n",
            "  Downloading jpype1-1.5.2-cp311-cp311-manylinux_2_17_x86_64.manylinux2014_x86_64.whl.metadata (4.9 kB)\n",
            "Requirement already satisfied: lxml>=4.1.0 in /usr/local/lib/python3.11/dist-packages (from konlpy) (5.3.1)\n",
            "Requirement already satisfied: numpy>=1.6 in /usr/local/lib/python3.11/dist-packages (from konlpy) (1.26.4)\n",
            "Requirement already satisfied: packaging in /usr/local/lib/python3.11/dist-packages (from JPype1>=0.7.0->konlpy) (24.2)\n",
            "Downloading konlpy-0.6.0-py2.py3-none-any.whl (19.4 MB)\n",
            "\u001b[2K   \u001b[90m━━━━━━━━━━━━━━━━━━━━━━━━━━━━━━━━━━━━━━━━\u001b[0m \u001b[32m19.4/19.4 MB\u001b[0m \u001b[31m48.9 MB/s\u001b[0m eta \u001b[36m0:00:00\u001b[0m\n",
            "\u001b[?25hDownloading jpype1-1.5.2-cp311-cp311-manylinux_2_17_x86_64.manylinux2014_x86_64.whl (494 kB)\n",
            "\u001b[2K   \u001b[90m━━━━━━━━━━━━━━━━━━━━━━━━━━━━━━━━━━━━━━━━\u001b[0m \u001b[32m494.1/494.1 kB\u001b[0m \u001b[31m25.5 MB/s\u001b[0m eta \u001b[36m0:00:00\u001b[0m\n",
            "\u001b[?25hInstalling collected packages: JPype1, konlpy\n",
            "Successfully installed JPype1-1.5.2 konlpy-0.6.0\n"
          ]
        }
      ]
    },
    {
      "cell_type": "code",
      "source": [
        "from konlpy.tag import Okt\n",
        "okt = Okt()\n",
        "sentence = '나는 자연어 처리를 배운다'\n",
        "tokens =  okt.morphs(sentence)\n",
        "tokens"
      ],
      "metadata": {
        "colab": {
          "base_uri": "https://localhost:8080/"
        },
        "id": "v1LVsUhV3riK",
        "outputId": "2fb4631a-37b5-42c6-b653-aaf6b00a9c0b"
      },
      "execution_count": 22,
      "outputs": [
        {
          "output_type": "execute_result",
          "data": {
            "text/plain": [
              "['나', '는', '자연어', '처리', '를', '배운다']"
            ]
          },
          "metadata": {},
          "execution_count": 22
        }
      ]
    },
    {
      "cell_type": "markdown",
      "source": [
        "단어집합만들기"
      ],
      "metadata": {
        "id": "kq5RhDn34Vg7"
      }
    },
    {
      "cell_type": "code",
      "source": [
        "word_to_index = { word:index for index, word in enumerate(tokens) }\n",
        "word_to_index"
      ],
      "metadata": {
        "colab": {
          "base_uri": "https://localhost:8080/"
        },
        "id": "hwiE86Y_4GcS",
        "outputId": "b6e338b9-9017-4e26-8e5d-7178aa756d6f"
      },
      "execution_count": 24,
      "outputs": [
        {
          "output_type": "execute_result",
          "data": {
            "text/plain": [
              "{'나': 0, '는': 1, '자연어': 2, '처리': 3, '를': 4, '배운다': 5}"
            ]
          },
          "metadata": {},
          "execution_count": 24
        }
      ]
    },
    {
      "cell_type": "markdown",
      "source": [
        "원핫인코딩 함수"
      ],
      "metadata": {
        "id": "qQykCodL4kZT"
      }
    },
    {
      "cell_type": "code",
      "source": [
        "def one_hot_encoding(word,word_to_index):\n",
        "  one_hot_vector = [0]*len(word_to_index) # 모든요소가 0인 벡터 생성\n",
        "  index = word_to_index[word]  # 해당 단어의 인덱스를 찾기\n",
        "  one_hot_vector[index] = 1\n",
        "  return one_hot_vector"
      ],
      "metadata": {
        "id": "PFY6JZ004fDa"
      },
      "execution_count": 26,
      "outputs": []
    },
    {
      "cell_type": "code",
      "source": [
        "one_hot_encoding(\"나\",word_to_index)"
      ],
      "metadata": {
        "colab": {
          "base_uri": "https://localhost:8080/"
        },
        "id": "_XkertfB45TT",
        "outputId": "402ce299-ad61-4e71-83ad-c2f842a14f58"
      },
      "execution_count": 28,
      "outputs": [
        {
          "output_type": "execute_result",
          "data": {
            "text/plain": [
              "[1, 0, 0, 0, 0, 0]"
            ]
          },
          "metadata": {},
          "execution_count": 28
        }
      ]
    },
    {
      "cell_type": "markdown",
      "source": [
        "케라스를 이용한 원핫인코딩"
      ],
      "metadata": {
        "id": "j2tftDAl8Chc"
      }
    },
    {
      "cell_type": "code",
      "source": [
        "from tensorflow.keras.preprocessing.text import Tokenizer\n",
        "from tensorflow.keras.utils import to_categorical\n",
        "sentence = '나는 자연어 처리를 배운다,자연어가 최고야'\n",
        "# 토크나이저를 이용한 단어 집합 생성\n",
        "tokenizer = Tokenizer()\n",
        "tokenizer.fit_on_texts([sentence])\n",
        "tokenizer.word_index"
      ],
      "metadata": {
        "colab": {
          "base_uri": "https://localhost:8080/"
        },
        "id": "GF_PWfiZ5UfE",
        "outputId": "601be0db-fd4d-443f-d8eb-1896b5236fd4"
      },
      "execution_count": 31,
      "outputs": [
        {
          "output_type": "execute_result",
          "data": {
            "text/plain": [
              "{'나는': 1, '자연어': 2, '처리를': 3, '배운다': 4, '자연어가': 5, '최고야': 6}"
            ]
          },
          "metadata": {},
          "execution_count": 31
        }
      ]
    },
    {
      "cell_type": "markdown",
      "source": [
        "정수인코딩"
      ],
      "metadata": {
        "id": "-Bx9Bvou8z3T"
      }
    },
    {
      "cell_type": "code",
      "source": [
        "sub_text = \"자연어 배울래 자연어가 최고야\"\n",
        "encoded = tokenizer.texts_to_sequences([sub_text])[0]\n",
        "encoded"
      ],
      "metadata": {
        "colab": {
          "base_uri": "https://localhost:8080/"
        },
        "id": "wSKIR9wx8xN6",
        "outputId": "484039ec-62d5-4028-f4f3-36fa0794cedb"
      },
      "execution_count": 35,
      "outputs": [
        {
          "output_type": "execute_result",
          "data": {
            "text/plain": [
              "[2, 5, 6]"
            ]
          },
          "metadata": {},
          "execution_count": 35
        }
      ]
    },
    {
      "cell_type": "markdown",
      "source": [
        "원핫인코딩"
      ],
      "metadata": {
        "id": "HKm74pdV9KvM"
      }
    },
    {
      "cell_type": "code",
      "source": [
        "to_categorical(encoded)"
      ],
      "metadata": {
        "colab": {
          "base_uri": "https://localhost:8080/"
        },
        "id": "uC_c8-Vl9IcC",
        "outputId": "9cb81edd-248d-4594-9556-38a09c7c4e4c"
      },
      "execution_count": 36,
      "outputs": [
        {
          "output_type": "execute_result",
          "data": {
            "text/plain": [
              "array([[0., 0., 1., 0., 0., 0., 0.],\n",
              "       [0., 0., 0., 0., 0., 1., 0.],\n",
              "       [0., 0., 0., 0., 0., 0., 1.]])"
            ]
          },
          "metadata": {},
          "execution_count": 36
        }
      ]
    },
    {
      "cell_type": "markdown",
      "source": [
        "원핫인코딩의 한계\n",
        "  - 차원의증가\n",
        "  - 단어 유사도를 반영하지 못함(강아지와 개는 유사한 의미지만 원핫은 전혀다른 단어로 인식)\n",
        "    - Word2Vec, GloVe, FastText등의 임베딩 기법이 등장"
      ],
      "metadata": {
        "id": "Fbx84T1b9ZBa"
      }
    },
    {
      "cell_type": "markdown",
      "source": [
        "- Word2Vec : 단어를 다차원 공간에서 의미적으로 가까운 벡터로 변환\n",
        "- GloVe : 단어의 동시 출현 확률을 이용한 임베딩 기법\n",
        "- FastText : 서브워드(subword)를 고려하여 유사한 단어도 유사한 벡터로 변환"
      ],
      "metadata": {
        "id": "UxW2_cxf9pxr"
      }
    },
    {
      "cell_type": "markdown",
      "source": [
        "데이터 분리"
      ],
      "metadata": {
        "id": "W9dH9iS--PXq"
      }
    },
    {
      "cell_type": "code",
      "source": [
        "# 지도 학습에서 학습용과 훈련용\n",
        "import numpy as np\n",
        "import pandas as pd\n",
        "from sklearn.model_selection import train_test_split"
      ],
      "metadata": {
        "id": "77Yk6CH89n1J"
      },
      "execution_count": 37,
      "outputs": []
    },
    {
      "cell_type": "code",
      "source": [
        "values = [['이것은 광고입니다.', 1],\n",
        "          ['회의 일정 확인 부탁드립니다.', 0],\n",
        "          ['(광고) 지금 구매하세요!', 1],\n",
        "          ['안녕하세요, 오랜만입니다.', 0]]\n",
        "columns = ['메일 본문', '스팸 여부']"
      ],
      "metadata": {
        "id": "sJS4Lvwp-drK"
      },
      "execution_count": 38,
      "outputs": []
    },
    {
      "cell_type": "code",
      "source": [
        "df = pd.DataFrame(values, columns=columns)\n",
        "df"
      ],
      "metadata": {
        "colab": {
          "base_uri": "https://localhost:8080/",
          "height": 174
        },
        "id": "JhnuzL1T-hbZ",
        "outputId": "4fff8c78-d7f1-4c99-a67d-954aab887b44"
      },
      "execution_count": 39,
      "outputs": [
        {
          "output_type": "execute_result",
          "data": {
            "text/plain": [
              "              메일 본문  스팸 여부\n",
              "0        이것은 광고입니다.      1\n",
              "1  회의 일정 확인 부탁드립니다.      0\n",
              "2    (광고) 지금 구매하세요!      1\n",
              "3    안녕하세요, 오랜만입니다.      0"
            ],
            "text/html": [
              "\n",
              "  <div id=\"df-cec14433-2d73-4a0f-a4da-0a2dc5815019\" class=\"colab-df-container\">\n",
              "    <div>\n",
              "<style scoped>\n",
              "    .dataframe tbody tr th:only-of-type {\n",
              "        vertical-align: middle;\n",
              "    }\n",
              "\n",
              "    .dataframe tbody tr th {\n",
              "        vertical-align: top;\n",
              "    }\n",
              "\n",
              "    .dataframe thead th {\n",
              "        text-align: right;\n",
              "    }\n",
              "</style>\n",
              "<table border=\"1\" class=\"dataframe\">\n",
              "  <thead>\n",
              "    <tr style=\"text-align: right;\">\n",
              "      <th></th>\n",
              "      <th>메일 본문</th>\n",
              "      <th>스팸 여부</th>\n",
              "    </tr>\n",
              "  </thead>\n",
              "  <tbody>\n",
              "    <tr>\n",
              "      <th>0</th>\n",
              "      <td>이것은 광고입니다.</td>\n",
              "      <td>1</td>\n",
              "    </tr>\n",
              "    <tr>\n",
              "      <th>1</th>\n",
              "      <td>회의 일정 확인 부탁드립니다.</td>\n",
              "      <td>0</td>\n",
              "    </tr>\n",
              "    <tr>\n",
              "      <th>2</th>\n",
              "      <td>(광고) 지금 구매하세요!</td>\n",
              "      <td>1</td>\n",
              "    </tr>\n",
              "    <tr>\n",
              "      <th>3</th>\n",
              "      <td>안녕하세요, 오랜만입니다.</td>\n",
              "      <td>0</td>\n",
              "    </tr>\n",
              "  </tbody>\n",
              "</table>\n",
              "</div>\n",
              "    <div class=\"colab-df-buttons\">\n",
              "\n",
              "  <div class=\"colab-df-container\">\n",
              "    <button class=\"colab-df-convert\" onclick=\"convertToInteractive('df-cec14433-2d73-4a0f-a4da-0a2dc5815019')\"\n",
              "            title=\"Convert this dataframe to an interactive table.\"\n",
              "            style=\"display:none;\">\n",
              "\n",
              "  <svg xmlns=\"http://www.w3.org/2000/svg\" height=\"24px\" viewBox=\"0 -960 960 960\">\n",
              "    <path d=\"M120-120v-720h720v720H120Zm60-500h600v-160H180v160Zm220 220h160v-160H400v160Zm0 220h160v-160H400v160ZM180-400h160v-160H180v160Zm440 0h160v-160H620v160ZM180-180h160v-160H180v160Zm440 0h160v-160H620v160Z\"/>\n",
              "  </svg>\n",
              "    </button>\n",
              "\n",
              "  <style>\n",
              "    .colab-df-container {\n",
              "      display:flex;\n",
              "      gap: 12px;\n",
              "    }\n",
              "\n",
              "    .colab-df-convert {\n",
              "      background-color: #E8F0FE;\n",
              "      border: none;\n",
              "      border-radius: 50%;\n",
              "      cursor: pointer;\n",
              "      display: none;\n",
              "      fill: #1967D2;\n",
              "      height: 32px;\n",
              "      padding: 0 0 0 0;\n",
              "      width: 32px;\n",
              "    }\n",
              "\n",
              "    .colab-df-convert:hover {\n",
              "      background-color: #E2EBFA;\n",
              "      box-shadow: 0px 1px 2px rgba(60, 64, 67, 0.3), 0px 1px 3px 1px rgba(60, 64, 67, 0.15);\n",
              "      fill: #174EA6;\n",
              "    }\n",
              "\n",
              "    .colab-df-buttons div {\n",
              "      margin-bottom: 4px;\n",
              "    }\n",
              "\n",
              "    [theme=dark] .colab-df-convert {\n",
              "      background-color: #3B4455;\n",
              "      fill: #D2E3FC;\n",
              "    }\n",
              "\n",
              "    [theme=dark] .colab-df-convert:hover {\n",
              "      background-color: #434B5C;\n",
              "      box-shadow: 0px 1px 3px 1px rgba(0, 0, 0, 0.15);\n",
              "      filter: drop-shadow(0px 1px 2px rgba(0, 0, 0, 0.3));\n",
              "      fill: #FFFFFF;\n",
              "    }\n",
              "  </style>\n",
              "\n",
              "    <script>\n",
              "      const buttonEl =\n",
              "        document.querySelector('#df-cec14433-2d73-4a0f-a4da-0a2dc5815019 button.colab-df-convert');\n",
              "      buttonEl.style.display =\n",
              "        google.colab.kernel.accessAllowed ? 'block' : 'none';\n",
              "\n",
              "      async function convertToInteractive(key) {\n",
              "        const element = document.querySelector('#df-cec14433-2d73-4a0f-a4da-0a2dc5815019');\n",
              "        const dataTable =\n",
              "          await google.colab.kernel.invokeFunction('convertToInteractive',\n",
              "                                                    [key], {});\n",
              "        if (!dataTable) return;\n",
              "\n",
              "        const docLinkHtml = 'Like what you see? Visit the ' +\n",
              "          '<a target=\"_blank\" href=https://colab.research.google.com/notebooks/data_table.ipynb>data table notebook</a>'\n",
              "          + ' to learn more about interactive tables.';\n",
              "        element.innerHTML = '';\n",
              "        dataTable['output_type'] = 'display_data';\n",
              "        await google.colab.output.renderOutput(dataTable, element);\n",
              "        const docLink = document.createElement('div');\n",
              "        docLink.innerHTML = docLinkHtml;\n",
              "        element.appendChild(docLink);\n",
              "      }\n",
              "    </script>\n",
              "  </div>\n",
              "\n",
              "\n",
              "<div id=\"df-7c32431e-c8c3-4aac-be49-1a9740b88f31\">\n",
              "  <button class=\"colab-df-quickchart\" onclick=\"quickchart('df-7c32431e-c8c3-4aac-be49-1a9740b88f31')\"\n",
              "            title=\"Suggest charts\"\n",
              "            style=\"display:none;\">\n",
              "\n",
              "<svg xmlns=\"http://www.w3.org/2000/svg\" height=\"24px\"viewBox=\"0 0 24 24\"\n",
              "     width=\"24px\">\n",
              "    <g>\n",
              "        <path d=\"M19 3H5c-1.1 0-2 .9-2 2v14c0 1.1.9 2 2 2h14c1.1 0 2-.9 2-2V5c0-1.1-.9-2-2-2zM9 17H7v-7h2v7zm4 0h-2V7h2v10zm4 0h-2v-4h2v4z\"/>\n",
              "    </g>\n",
              "</svg>\n",
              "  </button>\n",
              "\n",
              "<style>\n",
              "  .colab-df-quickchart {\n",
              "      --bg-color: #E8F0FE;\n",
              "      --fill-color: #1967D2;\n",
              "      --hover-bg-color: #E2EBFA;\n",
              "      --hover-fill-color: #174EA6;\n",
              "      --disabled-fill-color: #AAA;\n",
              "      --disabled-bg-color: #DDD;\n",
              "  }\n",
              "\n",
              "  [theme=dark] .colab-df-quickchart {\n",
              "      --bg-color: #3B4455;\n",
              "      --fill-color: #D2E3FC;\n",
              "      --hover-bg-color: #434B5C;\n",
              "      --hover-fill-color: #FFFFFF;\n",
              "      --disabled-bg-color: #3B4455;\n",
              "      --disabled-fill-color: #666;\n",
              "  }\n",
              "\n",
              "  .colab-df-quickchart {\n",
              "    background-color: var(--bg-color);\n",
              "    border: none;\n",
              "    border-radius: 50%;\n",
              "    cursor: pointer;\n",
              "    display: none;\n",
              "    fill: var(--fill-color);\n",
              "    height: 32px;\n",
              "    padding: 0;\n",
              "    width: 32px;\n",
              "  }\n",
              "\n",
              "  .colab-df-quickchart:hover {\n",
              "    background-color: var(--hover-bg-color);\n",
              "    box-shadow: 0 1px 2px rgba(60, 64, 67, 0.3), 0 1px 3px 1px rgba(60, 64, 67, 0.15);\n",
              "    fill: var(--button-hover-fill-color);\n",
              "  }\n",
              "\n",
              "  .colab-df-quickchart-complete:disabled,\n",
              "  .colab-df-quickchart-complete:disabled:hover {\n",
              "    background-color: var(--disabled-bg-color);\n",
              "    fill: var(--disabled-fill-color);\n",
              "    box-shadow: none;\n",
              "  }\n",
              "\n",
              "  .colab-df-spinner {\n",
              "    border: 2px solid var(--fill-color);\n",
              "    border-color: transparent;\n",
              "    border-bottom-color: var(--fill-color);\n",
              "    animation:\n",
              "      spin 1s steps(1) infinite;\n",
              "  }\n",
              "\n",
              "  @keyframes spin {\n",
              "    0% {\n",
              "      border-color: transparent;\n",
              "      border-bottom-color: var(--fill-color);\n",
              "      border-left-color: var(--fill-color);\n",
              "    }\n",
              "    20% {\n",
              "      border-color: transparent;\n",
              "      border-left-color: var(--fill-color);\n",
              "      border-top-color: var(--fill-color);\n",
              "    }\n",
              "    30% {\n",
              "      border-color: transparent;\n",
              "      border-left-color: var(--fill-color);\n",
              "      border-top-color: var(--fill-color);\n",
              "      border-right-color: var(--fill-color);\n",
              "    }\n",
              "    40% {\n",
              "      border-color: transparent;\n",
              "      border-right-color: var(--fill-color);\n",
              "      border-top-color: var(--fill-color);\n",
              "    }\n",
              "    60% {\n",
              "      border-color: transparent;\n",
              "      border-right-color: var(--fill-color);\n",
              "    }\n",
              "    80% {\n",
              "      border-color: transparent;\n",
              "      border-right-color: var(--fill-color);\n",
              "      border-bottom-color: var(--fill-color);\n",
              "    }\n",
              "    90% {\n",
              "      border-color: transparent;\n",
              "      border-bottom-color: var(--fill-color);\n",
              "    }\n",
              "  }\n",
              "</style>\n",
              "\n",
              "  <script>\n",
              "    async function quickchart(key) {\n",
              "      const quickchartButtonEl =\n",
              "        document.querySelector('#' + key + ' button');\n",
              "      quickchartButtonEl.disabled = true;  // To prevent multiple clicks.\n",
              "      quickchartButtonEl.classList.add('colab-df-spinner');\n",
              "      try {\n",
              "        const charts = await google.colab.kernel.invokeFunction(\n",
              "            'suggestCharts', [key], {});\n",
              "      } catch (error) {\n",
              "        console.error('Error during call to suggestCharts:', error);\n",
              "      }\n",
              "      quickchartButtonEl.classList.remove('colab-df-spinner');\n",
              "      quickchartButtonEl.classList.add('colab-df-quickchart-complete');\n",
              "    }\n",
              "    (() => {\n",
              "      let quickchartButtonEl =\n",
              "        document.querySelector('#df-7c32431e-c8c3-4aac-be49-1a9740b88f31 button');\n",
              "      quickchartButtonEl.style.display =\n",
              "        google.colab.kernel.accessAllowed ? 'block' : 'none';\n",
              "    })();\n",
              "  </script>\n",
              "</div>\n",
              "\n",
              "  <div id=\"id_bcbf351b-40b4-45ae-bf15-febfd97cc4f9\">\n",
              "    <style>\n",
              "      .colab-df-generate {\n",
              "        background-color: #E8F0FE;\n",
              "        border: none;\n",
              "        border-radius: 50%;\n",
              "        cursor: pointer;\n",
              "        display: none;\n",
              "        fill: #1967D2;\n",
              "        height: 32px;\n",
              "        padding: 0 0 0 0;\n",
              "        width: 32px;\n",
              "      }\n",
              "\n",
              "      .colab-df-generate:hover {\n",
              "        background-color: #E2EBFA;\n",
              "        box-shadow: 0px 1px 2px rgba(60, 64, 67, 0.3), 0px 1px 3px 1px rgba(60, 64, 67, 0.15);\n",
              "        fill: #174EA6;\n",
              "      }\n",
              "\n",
              "      [theme=dark] .colab-df-generate {\n",
              "        background-color: #3B4455;\n",
              "        fill: #D2E3FC;\n",
              "      }\n",
              "\n",
              "      [theme=dark] .colab-df-generate:hover {\n",
              "        background-color: #434B5C;\n",
              "        box-shadow: 0px 1px 3px 1px rgba(0, 0, 0, 0.15);\n",
              "        filter: drop-shadow(0px 1px 2px rgba(0, 0, 0, 0.3));\n",
              "        fill: #FFFFFF;\n",
              "      }\n",
              "    </style>\n",
              "    <button class=\"colab-df-generate\" onclick=\"generateWithVariable('df')\"\n",
              "            title=\"Generate code using this dataframe.\"\n",
              "            style=\"display:none;\">\n",
              "\n",
              "  <svg xmlns=\"http://www.w3.org/2000/svg\" height=\"24px\"viewBox=\"0 0 24 24\"\n",
              "       width=\"24px\">\n",
              "    <path d=\"M7,19H8.4L18.45,9,17,7.55,7,17.6ZM5,21V16.75L18.45,3.32a2,2,0,0,1,2.83,0l1.4,1.43a1.91,1.91,0,0,1,.58,1.4,1.91,1.91,0,0,1-.58,1.4L9.25,21ZM18.45,9,17,7.55Zm-12,3A5.31,5.31,0,0,0,4.9,8.1,5.31,5.31,0,0,0,1,6.5,5.31,5.31,0,0,0,4.9,4.9,5.31,5.31,0,0,0,6.5,1,5.31,5.31,0,0,0,8.1,4.9,5.31,5.31,0,0,0,12,6.5,5.46,5.46,0,0,0,6.5,12Z\"/>\n",
              "  </svg>\n",
              "    </button>\n",
              "    <script>\n",
              "      (() => {\n",
              "      const buttonEl =\n",
              "        document.querySelector('#id_bcbf351b-40b4-45ae-bf15-febfd97cc4f9 button.colab-df-generate');\n",
              "      buttonEl.style.display =\n",
              "        google.colab.kernel.accessAllowed ? 'block' : 'none';\n",
              "\n",
              "      buttonEl.onclick = () => {\n",
              "        google.colab.notebook.generateWithVariable('df');\n",
              "      }\n",
              "      })();\n",
              "    </script>\n",
              "  </div>\n",
              "\n",
              "    </div>\n",
              "  </div>\n"
            ],
            "application/vnd.google.colaboratory.intrinsic+json": {
              "type": "dataframe",
              "variable_name": "df",
              "summary": "{\n  \"name\": \"df\",\n  \"rows\": 4,\n  \"fields\": [\n    {\n      \"column\": \"\\uba54\\uc77c \\ubcf8\\ubb38\",\n      \"properties\": {\n        \"dtype\": \"string\",\n        \"num_unique_values\": 4,\n        \"samples\": [\n          \"\\ud68c\\uc758 \\uc77c\\uc815 \\ud655\\uc778 \\ubd80\\ud0c1\\ub4dc\\ub9bd\\ub2c8\\ub2e4.\",\n          \"\\uc548\\ub155\\ud558\\uc138\\uc694, \\uc624\\ub79c\\ub9cc\\uc785\\ub2c8\\ub2e4.\",\n          \"\\uc774\\uac83\\uc740 \\uad11\\uace0\\uc785\\ub2c8\\ub2e4.\"\n        ],\n        \"semantic_type\": \"\",\n        \"description\": \"\"\n      }\n    },\n    {\n      \"column\": \"\\uc2a4\\ud338 \\uc5ec\\ubd80\",\n      \"properties\": {\n        \"dtype\": \"number\",\n        \"std\": 0,\n        \"min\": 0,\n        \"max\": 1,\n        \"num_unique_values\": 2,\n        \"samples\": [\n          0,\n          1\n        ],\n        \"semantic_type\": \"\",\n        \"description\": \"\"\n      }\n    }\n  ]\n}"
            }
          },
          "metadata": {},
          "execution_count": 39
        }
      ]
    },
    {
      "cell_type": "code",
      "source": [
        "# train / test 분리하기\n",
        "x_train, x_test, y_train, y_test = train_test_split(df['메일 본문'], df['스팸 여부'], test_size=0.2, random_state=1234)"
      ],
      "metadata": {
        "id": "3SOHuagM-u2b"
      },
      "execution_count": 40,
      "outputs": []
    },
    {
      "cell_type": "code",
      "source": [
        "x_train.tolist()"
      ],
      "metadata": {
        "colab": {
          "base_uri": "https://localhost:8080/"
        },
        "id": "5qTSp2jZ_UIB",
        "outputId": "1e2a7039-8ce1-44ec-ed95-260a4709eaed"
      },
      "execution_count": 41,
      "outputs": [
        {
          "output_type": "execute_result",
          "data": {
            "text/plain": [
              "['회의 일정 확인 부탁드립니다.', '(광고) 지금 구매하세요!', '안녕하세요, 오랜만입니다.']"
            ]
          },
          "metadata": {},
          "execution_count": 41
        }
      ]
    },
    {
      "cell_type": "markdown",
      "source": [
        "- 언어모델\n",
        "  - 단어 시퀀스에 확률을 할당하는 모델\n",
        "  - 문장에서 다음에 올 단어를 예측하는 방식으로 학습\n",
        "  - 통계적 접근법과 신경망 기반 접근법\n",
        "  - BERT, GPT같은 신경망 모델이 우수함\n",
        "- 언어모델 활용\n",
        "  - 기계번역 : 올바른 문장 선택\n",
        "  - 오타교정 : 문맥적으로 자연스러운 단어 선택\n",
        "  - 음성인식 : 잘못된 인식 방지\n",
        "- 단어시퀀스의 확률 계산     : n 그램 모델\n",
        "\n",
        "![image.png](data:image/png;base64,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)"
      ],
      "metadata": {
        "id": "Qcq49Z2n_hrS"
      }
    },
    {
      "cell_type": "code",
      "source": [
        "# 샘플 텍스트 데이터\n",
        "corpus = [\n",
        "    \"선생님이 교실로 달려갔다\",\n",
        "    \"오늘은 날씨가 매우 좋다\",\n",
        "    \"그는 아침에 커피를 마셨다\",\n",
        "    \"학교에 가는 길에 친구를 만났다\",\n",
        "    \"고양이는 창밖을 바라보고 있었다\",\n",
        "    \"나는 점심으로 김밥을 먹었다\",\n",
        "    \"도서관에서 책을 읽고 있다\",\n",
        "    \"비가 오는 날에는 우산을 챙겨야 한다\",\n",
        "    \"엄마가 맛있는 저녁을 준비하고 계신다\",\n",
        "    \"길을 걷다가 예쁜 꽃을 보았다\",\n",
        "    \"버스 정류장에서 오래 기다렸다\",\n",
        "    \"친구와 영화를 보고 재미있었다\",\n",
        "    \"나는 저녁을 먹고 나서 산책을 했다\",\n",
        "    \"아이는 공원에서 신나게 뛰어놀았다\",\n",
        "    \"시험 공부를 열심히 해야 한다\",\n",
        "    \"컴퓨터를 켜고 이메일을 확인했다\",\n",
        "    \"그녀는 음악을 들으며 책을 읽었다\",\n",
        "    \"우리는 함께 여행을 계획하고 있다\",\n",
        "    \"강아지가 공을 물고 뛰어다녔다\",\n",
        "    \"주말에는 등산을 가고 싶다\",\n",
        "    \"오늘 아침은 조금 쌀쌀했다\",\n",
        "    \"동생이 숙제를 도와달라고 했다\",\n",
        "    \"비행기가 하늘을 가로질러 날아갔다\",\n",
        "    \"나는 축구 경기를 보고 싶다\",\n",
        "    \"책상 위에 연필과 공책이 놓여 있다\",\n",
        "    \"지하철을 타고 회사에 출근했다\",\n",
        "    \"새로운 스마트폰을 사고 싶다\",\n",
        "    \"수영장에서 물놀이를 즐겼다\",\n",
        "    \"어제 밤에는 별이 많이 보였다\",\n",
        "    \"우리 가족은 주말마다 산책을 한다\",\n",
        "    \"학교에서 과학 수업을 들었다\",\n",
        "    \"나는 요리를 배우고 싶다\",\n",
        "    \"어린이들이 놀이터에서 놀고 있다\",\n",
        "    \"친구에게 생일 선물을 주었다\",\n",
        "    \"밤하늘에 달이 밝게 빛났다\",\n",
        "    \"운동을 하면 기분이 상쾌해진다\",\n",
        "    \"여행 가방을 미리 준비해야 한다\",\n",
        "    \"도시에는 높은 빌딩이 많다\",\n",
        "    \"기차가 역에 도착했다\",\n",
        "    \"음악을 들으면 마음이 편안해진다\",\n",
        "    \"나는 수학 문제를 풀고 있다\",\n",
        "    \"햄버거를 먹고 싶어서 가게에 갔다\",\n",
        "    \"비가 와서 우산을 챙겼다\",\n",
        "    \"바람이 시원하게 불어온다\",\n",
        "    \"해변에서 조개를 주웠다\",\n",
        "    \"아버지가 자동차를 운전하신다\",\n",
        "    \"손을 씻고 밥을 먹었다\",\n",
        "    \"학교 운동장에서 달리기 연습을 했다\"\n",
        "]\n",
        "\n",
        "max_len = max([len(s) for s in [sentence.split() for sentence in corpus]])\n",
        "max_len"
      ],
      "metadata": {
        "colab": {
          "base_uri": "https://localhost:8080/"
        },
        "id": "gSGHJH5aK4uS",
        "outputId": "3e098a2d-3d81-40a7-9139-8ba3c6638819"
      },
      "execution_count": 143,
      "outputs": [
        {
          "output_type": "execute_result",
          "data": {
            "text/plain": [
              "6"
            ]
          },
          "metadata": {},
          "execution_count": 143
        }
      ]
    },
    {
      "cell_type": "code",
      "source": [
        "import nltk\n",
        "from nltk.util import ngrams\n",
        "from collections import Counter, defaultdict\n",
        "import random\n",
        "\n",
        "# 데이터 전처리\n",
        "tokenized_corpus = [sentence.split() for sentence in corpus]\n",
        "\n",
        "# N-그램 생성 (여기서는 2-그램)\n",
        "n = 2\n",
        "ngrams_list = []\n",
        "for sentence in tokenized_corpus:\n",
        "  ngrams_list.extend(list(ngrams(sentence, n, pad_left=True, pad_right=True, left_pad_symbol=\"<s>\", right_pad_symbol=\"</s>\")))\n",
        "print('ngrams_list :',ngrams_list)\n",
        "\n",
        "# N-그램 확률 계산\n",
        "ngram_counts = Counter(ngrams_list)\n",
        "print('ngram_counts :',ngram_counts)\n",
        "\n",
        "context_counts = Counter([ngram[0] for ngram in ngrams_list])\n",
        "print('context_counts :',context_counts)\n",
        "\n",
        "# 확률 계산 함수\n",
        "def get_probability(context, word):\n",
        "  context = context[0]\n",
        "  # print(context,word,ngram_counts[(context, word)], context_counts[context])\n",
        "  return ngram_counts[(context, word)] / context_counts[context] if context in context_counts else 0\n",
        "\n",
        "# 다음 단어 예측 함수\n",
        "def predict_next_word(context):\n",
        "  candidates = {word: get_probability(context, word) for word in set(word for _, word in ngram_counts)}\n",
        "  # print('candidates : ',candidates)\n",
        "  return max(candidates, key=candidates.get) if candidates else None\n",
        "\n",
        "# 예제 테스트\n",
        "context = [\"저녁을\",]\n",
        "next_word = predict_next_word(context)\n",
        "print(f\"'{context}' 다음에 올 확률이 가장 높은 단어: {next_word}\")"
      ],
      "metadata": {
        "colab": {
          "base_uri": "https://localhost:8080/"
        },
        "collapsed": true,
        "id": "O9Il42YY_iOy",
        "outputId": "1d115804-a4cc-46dd-c63c-7dad5fe854b5"
      },
      "execution_count": 181,
      "outputs": [
        {
          "output_type": "stream",
          "name": "stdout",
          "text": [
            "ngrams_list : [('<s>', '선생님이'), ('선생님이', '교실로'), ('교실로', '달려갔다'), ('달려갔다', '</s>'), ('<s>', '오늘은'), ('오늘은', '날씨가'), ('날씨가', '매우'), ('매우', '좋다'), ('좋다', '</s>'), ('<s>', '그는'), ('그는', '아침에'), ('아침에', '커피를'), ('커피를', '마셨다'), ('마셨다', '</s>'), ('<s>', '학교에'), ('학교에', '가는'), ('가는', '길에'), ('길에', '친구를'), ('친구를', '만났다'), ('만났다', '</s>'), ('<s>', '고양이는'), ('고양이는', '창밖을'), ('창밖을', '바라보고'), ('바라보고', '있었다'), ('있었다', '</s>'), ('<s>', '나는'), ('나는', '점심으로'), ('점심으로', '김밥을'), ('김밥을', '먹었다'), ('먹었다', '</s>'), ('<s>', '도서관에서'), ('도서관에서', '책을'), ('책을', '읽고'), ('읽고', '있다'), ('있다', '</s>'), ('<s>', '비가'), ('비가', '오는'), ('오는', '날에는'), ('날에는', '우산을'), ('우산을', '챙겨야'), ('챙겨야', '한다'), ('한다', '</s>'), ('<s>', '엄마가'), ('엄마가', '맛있는'), ('맛있는', '저녁을'), ('저녁을', '준비하고'), ('준비하고', '계신다'), ('계신다', '</s>'), ('<s>', '길을'), ('길을', '걷다가'), ('걷다가', '예쁜'), ('예쁜', '꽃을'), ('꽃을', '보았다'), ('보았다', '</s>'), ('<s>', '버스'), ('버스', '정류장에서'), ('정류장에서', '오래'), ('오래', '기다렸다'), ('기다렸다', '</s>'), ('<s>', '친구와'), ('친구와', '영화를'), ('영화를', '보고'), ('보고', '재미있었다'), ('재미있었다', '</s>'), ('<s>', '나는'), ('나는', '저녁을'), ('저녁을', '먹고'), ('먹고', '나서'), ('나서', '산책을'), ('산책을', '했다'), ('했다', '</s>'), ('<s>', '아이는'), ('아이는', '공원에서'), ('공원에서', '신나게'), ('신나게', '뛰어놀았다'), ('뛰어놀았다', '</s>'), ('<s>', '시험'), ('시험', '공부를'), ('공부를', '열심히'), ('열심히', '해야'), ('해야', '한다'), ('한다', '</s>'), ('<s>', '컴퓨터를'), ('컴퓨터를', '켜고'), ('켜고', '이메일을'), ('이메일을', '확인했다'), ('확인했다', '</s>'), ('<s>', '그녀는'), ('그녀는', '음악을'), ('음악을', '들으며'), ('들으며', '책을'), ('책을', '읽었다'), ('읽었다', '</s>'), ('<s>', '우리는'), ('우리는', '함께'), ('함께', '여행을'), ('여행을', '계획하고'), ('계획하고', '있다'), ('있다', '</s>'), ('<s>', '강아지가'), ('강아지가', '공을'), ('공을', '물고'), ('물고', '뛰어다녔다'), ('뛰어다녔다', '</s>'), ('<s>', '주말에는'), ('주말에는', '등산을'), ('등산을', '가고'), ('가고', '싶다'), ('싶다', '</s>'), ('<s>', '오늘'), ('오늘', '아침은'), ('아침은', '조금'), ('조금', '쌀쌀했다'), ('쌀쌀했다', '</s>'), ('<s>', '동생이'), ('동생이', '숙제를'), ('숙제를', '도와달라고'), ('도와달라고', '했다'), ('했다', '</s>'), ('<s>', '비행기가'), ('비행기가', '하늘을'), ('하늘을', '가로질러'), ('가로질러', '날아갔다'), ('날아갔다', '</s>'), ('<s>', '나는'), ('나는', '축구'), ('축구', '경기를'), ('경기를', '보고'), ('보고', '싶다'), ('싶다', '</s>'), ('<s>', '책상'), ('책상', '위에'), ('위에', '연필과'), ('연필과', '공책이'), ('공책이', '놓여'), ('놓여', '있다'), ('있다', '</s>'), ('<s>', '지하철을'), ('지하철을', '타고'), ('타고', '회사에'), ('회사에', '출근했다'), ('출근했다', '</s>'), ('<s>', '새로운'), ('새로운', '스마트폰을'), ('스마트폰을', '사고'), ('사고', '싶다'), ('싶다', '</s>'), ('<s>', '수영장에서'), ('수영장에서', '물놀이를'), ('물놀이를', '즐겼다'), ('즐겼다', '</s>'), ('<s>', '어제'), ('어제', '밤에는'), ('밤에는', '별이'), ('별이', '많이'), ('많이', '보였다'), ('보였다', '</s>'), ('<s>', '우리'), ('우리', '가족은'), ('가족은', '주말마다'), ('주말마다', '산책을'), ('산책을', '한다'), ('한다', '</s>'), ('<s>', '학교에서'), ('학교에서', '과학'), ('과학', '수업을'), ('수업을', '들었다'), ('들었다', '</s>'), ('<s>', '나는'), ('나는', '요리를'), ('요리를', '배우고'), ('배우고', '싶다'), ('싶다', '</s>'), ('<s>', '어린이들이'), ('어린이들이', '놀이터에서'), ('놀이터에서', '놀고'), ('놀고', '있다'), ('있다', '</s>'), ('<s>', '친구에게'), ('친구에게', '생일'), ('생일', '선물을'), ('선물을', '주었다'), ('주었다', '</s>'), ('<s>', '밤하늘에'), ('밤하늘에', '달이'), ('달이', '밝게'), ('밝게', '빛났다'), ('빛났다', '</s>'), ('<s>', '운동을'), ('운동을', '하면'), ('하면', '기분이'), ('기분이', '상쾌해진다'), ('상쾌해진다', '</s>'), ('<s>', '여행'), ('여행', '가방을'), ('가방을', '미리'), ('미리', '준비해야'), ('준비해야', '한다'), ('한다', '</s>'), ('<s>', '도시에는'), ('도시에는', '높은'), ('높은', '빌딩이'), ('빌딩이', '많다'), ('많다', '</s>'), ('<s>', '기차가'), ('기차가', '역에'), ('역에', '도착했다'), ('도착했다', '</s>'), ('<s>', '음악을'), ('음악을', '들으면'), ('들으면', '마음이'), ('마음이', '편안해진다'), ('편안해진다', '</s>'), ('<s>', '나는'), ('나는', '수학'), ('수학', '문제를'), ('문제를', '풀고'), ('풀고', '있다'), ('있다', '</s>'), ('<s>', '햄버거를'), ('햄버거를', '먹고'), ('먹고', '싶어서'), ('싶어서', '가게에'), ('가게에', '갔다'), ('갔다', '</s>'), ('<s>', '비가'), ('비가', '와서'), ('와서', '우산을'), ('우산을', '챙겼다'), ('챙겼다', '</s>'), ('<s>', '바람이'), ('바람이', '시원하게'), ('시원하게', '불어온다'), ('불어온다', '</s>'), ('<s>', '해변에서'), ('해변에서', '조개를'), ('조개를', '주웠다'), ('주웠다', '</s>'), ('<s>', '아버지가'), ('아버지가', '자동차를'), ('자동차를', '운전하신다'), ('운전하신다', '</s>'), ('<s>', '손을'), ('손을', '씻고'), ('씻고', '밥을'), ('밥을', '먹었다'), ('먹었다', '</s>'), ('<s>', '학교'), ('학교', '운동장에서'), ('운동장에서', '달리기'), ('달리기', '연습을'), ('연습을', '했다'), ('했다', '</s>')]\n",
            "ngram_counts : Counter({('<s>', '나는'): 5, ('있다', '</s>'): 5, ('한다', '</s>'): 4, ('싶다', '</s>'): 4, ('했다', '</s>'): 3, ('먹었다', '</s>'): 2, ('<s>', '비가'): 2, ('<s>', '선생님이'): 1, ('선생님이', '교실로'): 1, ('교실로', '달려갔다'): 1, ('달려갔다', '</s>'): 1, ('<s>', '오늘은'): 1, ('오늘은', '날씨가'): 1, ('날씨가', '매우'): 1, ('매우', '좋다'): 1, ('좋다', '</s>'): 1, ('<s>', '그는'): 1, ('그는', '아침에'): 1, ('아침에', '커피를'): 1, ('커피를', '마셨다'): 1, ('마셨다', '</s>'): 1, ('<s>', '학교에'): 1, ('학교에', '가는'): 1, ('가는', '길에'): 1, ('길에', '친구를'): 1, ('친구를', '만났다'): 1, ('만났다', '</s>'): 1, ('<s>', '고양이는'): 1, ('고양이는', '창밖을'): 1, ('창밖을', '바라보고'): 1, ('바라보고', '있었다'): 1, ('있었다', '</s>'): 1, ('나는', '점심으로'): 1, ('점심으로', '김밥을'): 1, ('김밥을', '먹었다'): 1, ('<s>', '도서관에서'): 1, ('도서관에서', '책을'): 1, ('책을', '읽고'): 1, ('읽고', '있다'): 1, ('비가', '오는'): 1, ('오는', '날에는'): 1, ('날에는', '우산을'): 1, ('우산을', '챙겨야'): 1, ('챙겨야', '한다'): 1, ('<s>', '엄마가'): 1, ('엄마가', '맛있는'): 1, ('맛있는', '저녁을'): 1, ('저녁을', '준비하고'): 1, ('준비하고', '계신다'): 1, ('계신다', '</s>'): 1, ('<s>', '길을'): 1, ('길을', '걷다가'): 1, ('걷다가', '예쁜'): 1, ('예쁜', '꽃을'): 1, ('꽃을', '보았다'): 1, ('보았다', '</s>'): 1, ('<s>', '버스'): 1, ('버스', '정류장에서'): 1, ('정류장에서', '오래'): 1, ('오래', '기다렸다'): 1, ('기다렸다', '</s>'): 1, ('<s>', '친구와'): 1, ('친구와', '영화를'): 1, ('영화를', '보고'): 1, ('보고', '재미있었다'): 1, ('재미있었다', '</s>'): 1, ('나는', '저녁을'): 1, ('저녁을', '먹고'): 1, ('먹고', '나서'): 1, ('나서', '산책을'): 1, ('산책을', '했다'): 1, ('<s>', '아이는'): 1, ('아이는', '공원에서'): 1, ('공원에서', '신나게'): 1, ('신나게', '뛰어놀았다'): 1, ('뛰어놀았다', '</s>'): 1, ('<s>', '시험'): 1, ('시험', '공부를'): 1, ('공부를', '열심히'): 1, ('열심히', '해야'): 1, ('해야', '한다'): 1, ('<s>', '컴퓨터를'): 1, ('컴퓨터를', '켜고'): 1, ('켜고', '이메일을'): 1, ('이메일을', '확인했다'): 1, ('확인했다', '</s>'): 1, ('<s>', '그녀는'): 1, ('그녀는', '음악을'): 1, ('음악을', '들으며'): 1, ('들으며', '책을'): 1, ('책을', '읽었다'): 1, ('읽었다', '</s>'): 1, ('<s>', '우리는'): 1, ('우리는', '함께'): 1, ('함께', '여행을'): 1, ('여행을', '계획하고'): 1, ('계획하고', '있다'): 1, ('<s>', '강아지가'): 1, ('강아지가', '공을'): 1, ('공을', '물고'): 1, ('물고', '뛰어다녔다'): 1, ('뛰어다녔다', '</s>'): 1, ('<s>', '주말에는'): 1, ('주말에는', '등산을'): 1, ('등산을', '가고'): 1, ('가고', '싶다'): 1, ('<s>', '오늘'): 1, ('오늘', '아침은'): 1, ('아침은', '조금'): 1, ('조금', '쌀쌀했다'): 1, ('쌀쌀했다', '</s>'): 1, ('<s>', '동생이'): 1, ('동생이', '숙제를'): 1, ('숙제를', '도와달라고'): 1, ('도와달라고', '했다'): 1, ('<s>', '비행기가'): 1, ('비행기가', '하늘을'): 1, ('하늘을', '가로질러'): 1, ('가로질러', '날아갔다'): 1, ('날아갔다', '</s>'): 1, ('나는', '축구'): 1, ('축구', '경기를'): 1, ('경기를', '보고'): 1, ('보고', '싶다'): 1, ('<s>', '책상'): 1, ('책상', '위에'): 1, ('위에', '연필과'): 1, ('연필과', '공책이'): 1, ('공책이', '놓여'): 1, ('놓여', '있다'): 1, ('<s>', '지하철을'): 1, ('지하철을', '타고'): 1, ('타고', '회사에'): 1, ('회사에', '출근했다'): 1, ('출근했다', '</s>'): 1, ('<s>', '새로운'): 1, ('새로운', '스마트폰을'): 1, ('스마트폰을', '사고'): 1, ('사고', '싶다'): 1, ('<s>', '수영장에서'): 1, ('수영장에서', '물놀이를'): 1, ('물놀이를', '즐겼다'): 1, ('즐겼다', '</s>'): 1, ('<s>', '어제'): 1, ('어제', '밤에는'): 1, ('밤에는', '별이'): 1, ('별이', '많이'): 1, ('많이', '보였다'): 1, ('보였다', '</s>'): 1, ('<s>', '우리'): 1, ('우리', '가족은'): 1, ('가족은', '주말마다'): 1, ('주말마다', '산책을'): 1, ('산책을', '한다'): 1, ('<s>', '학교에서'): 1, ('학교에서', '과학'): 1, ('과학', '수업을'): 1, ('수업을', '들었다'): 1, ('들었다', '</s>'): 1, ('나는', '요리를'): 1, ('요리를', '배우고'): 1, ('배우고', '싶다'): 1, ('<s>', '어린이들이'): 1, ('어린이들이', '놀이터에서'): 1, ('놀이터에서', '놀고'): 1, ('놀고', '있다'): 1, ('<s>', '친구에게'): 1, ('친구에게', '생일'): 1, ('생일', '선물을'): 1, ('선물을', '주었다'): 1, ('주었다', '</s>'): 1, ('<s>', '밤하늘에'): 1, ('밤하늘에', '달이'): 1, ('달이', '밝게'): 1, ('밝게', '빛났다'): 1, ('빛났다', '</s>'): 1, ('<s>', '운동을'): 1, ('운동을', '하면'): 1, ('하면', '기분이'): 1, ('기분이', '상쾌해진다'): 1, ('상쾌해진다', '</s>'): 1, ('<s>', '여행'): 1, ('여행', '가방을'): 1, ('가방을', '미리'): 1, ('미리', '준비해야'): 1, ('준비해야', '한다'): 1, ('<s>', '도시에는'): 1, ('도시에는', '높은'): 1, ('높은', '빌딩이'): 1, ('빌딩이', '많다'): 1, ('많다', '</s>'): 1, ('<s>', '기차가'): 1, ('기차가', '역에'): 1, ('역에', '도착했다'): 1, ('도착했다', '</s>'): 1, ('<s>', '음악을'): 1, ('음악을', '들으면'): 1, ('들으면', '마음이'): 1, ('마음이', '편안해진다'): 1, ('편안해진다', '</s>'): 1, ('나는', '수학'): 1, ('수학', '문제를'): 1, ('문제를', '풀고'): 1, ('풀고', '있다'): 1, ('<s>', '햄버거를'): 1, ('햄버거를', '먹고'): 1, ('먹고', '싶어서'): 1, ('싶어서', '가게에'): 1, ('가게에', '갔다'): 1, ('갔다', '</s>'): 1, ('비가', '와서'): 1, ('와서', '우산을'): 1, ('우산을', '챙겼다'): 1, ('챙겼다', '</s>'): 1, ('<s>', '바람이'): 1, ('바람이', '시원하게'): 1, ('시원하게', '불어온다'): 1, ('불어온다', '</s>'): 1, ('<s>', '해변에서'): 1, ('해변에서', '조개를'): 1, ('조개를', '주웠다'): 1, ('주웠다', '</s>'): 1, ('<s>', '아버지가'): 1, ('아버지가', '자동차를'): 1, ('자동차를', '운전하신다'): 1, ('운전하신다', '</s>'): 1, ('<s>', '손을'): 1, ('손을', '씻고'): 1, ('씻고', '밥을'): 1, ('밥을', '먹었다'): 1, ('<s>', '학교'): 1, ('학교', '운동장에서'): 1, ('운동장에서', '달리기'): 1, ('달리기', '연습을'): 1, ('연습을', '했다'): 1})\n",
            "context_counts : Counter({'<s>': 48, '나는': 5, '있다': 5, '한다': 4, '싶다': 4, '했다': 3, '먹었다': 2, '책을': 2, '비가': 2, '우산을': 2, '저녁을': 2, '보고': 2, '먹고': 2, '산책을': 2, '음악을': 2, '선생님이': 1, '교실로': 1, '달려갔다': 1, '오늘은': 1, '날씨가': 1, '매우': 1, '좋다': 1, '그는': 1, '아침에': 1, '커피를': 1, '마셨다': 1, '학교에': 1, '가는': 1, '길에': 1, '친구를': 1, '만났다': 1, '고양이는': 1, '창밖을': 1, '바라보고': 1, '있었다': 1, '점심으로': 1, '김밥을': 1, '도서관에서': 1, '읽고': 1, '오는': 1, '날에는': 1, '챙겨야': 1, '엄마가': 1, '맛있는': 1, '준비하고': 1, '계신다': 1, '길을': 1, '걷다가': 1, '예쁜': 1, '꽃을': 1, '보았다': 1, '버스': 1, '정류장에서': 1, '오래': 1, '기다렸다': 1, '친구와': 1, '영화를': 1, '재미있었다': 1, '나서': 1, '아이는': 1, '공원에서': 1, '신나게': 1, '뛰어놀았다': 1, '시험': 1, '공부를': 1, '열심히': 1, '해야': 1, '컴퓨터를': 1, '켜고': 1, '이메일을': 1, '확인했다': 1, '그녀는': 1, '들으며': 1, '읽었다': 1, '우리는': 1, '함께': 1, '여행을': 1, '계획하고': 1, '강아지가': 1, '공을': 1, '물고': 1, '뛰어다녔다': 1, '주말에는': 1, '등산을': 1, '가고': 1, '오늘': 1, '아침은': 1, '조금': 1, '쌀쌀했다': 1, '동생이': 1, '숙제를': 1, '도와달라고': 1, '비행기가': 1, '하늘을': 1, '가로질러': 1, '날아갔다': 1, '축구': 1, '경기를': 1, '책상': 1, '위에': 1, '연필과': 1, '공책이': 1, '놓여': 1, '지하철을': 1, '타고': 1, '회사에': 1, '출근했다': 1, '새로운': 1, '스마트폰을': 1, '사고': 1, '수영장에서': 1, '물놀이를': 1, '즐겼다': 1, '어제': 1, '밤에는': 1, '별이': 1, '많이': 1, '보였다': 1, '우리': 1, '가족은': 1, '주말마다': 1, '학교에서': 1, '과학': 1, '수업을': 1, '들었다': 1, '요리를': 1, '배우고': 1, '어린이들이': 1, '놀이터에서': 1, '놀고': 1, '친구에게': 1, '생일': 1, '선물을': 1, '주었다': 1, '밤하늘에': 1, '달이': 1, '밝게': 1, '빛났다': 1, '운동을': 1, '하면': 1, '기분이': 1, '상쾌해진다': 1, '여행': 1, '가방을': 1, '미리': 1, '준비해야': 1, '도시에는': 1, '높은': 1, '빌딩이': 1, '많다': 1, '기차가': 1, '역에': 1, '도착했다': 1, '들으면': 1, '마음이': 1, '편안해진다': 1, '수학': 1, '문제를': 1, '풀고': 1, '햄버거를': 1, '싶어서': 1, '가게에': 1, '갔다': 1, '와서': 1, '챙겼다': 1, '바람이': 1, '시원하게': 1, '불어온다': 1, '해변에서': 1, '조개를': 1, '주웠다': 1, '아버지가': 1, '자동차를': 1, '운전하신다': 1, '손을': 1, '씻고': 1, '밥을': 1, '학교': 1, '운동장에서': 1, '달리기': 1, '연습을': 1})\n",
            "'['저녁을']' 다음에 올 확률이 가장 높은 단어: 먹고\n"
          ]
        }
      ]
    },
    {
      "cell_type": "code",
      "source": [
        "context = [\"비가\",]\n",
        "result = []\n",
        "for i in range(max_len):\n",
        "  next_word = predict_next_word(context)\n",
        "  if next_word == \"</s>\":\n",
        "    break\n",
        "  result.append(next_word)\n",
        "  context[0] = next_word\n",
        "\n",
        "print(' '.join(result))\n"
      ],
      "metadata": {
        "colab": {
          "base_uri": "https://localhost:8080/"
        },
        "id": "abaF8wNARJxC",
        "outputId": "985c79be-fb2a-417d-9790-1fb321cd0248"
      },
      "execution_count": 203,
      "outputs": [
        {
          "output_type": "stream",
          "name": "stdout",
          "text": [
            "오는 날에는 우산을 챙겼다\n"
          ]
        }
      ]
    },
    {
      "cell_type": "code",
      "source": [],
      "metadata": {
        "id": "XbvAvO00K8JQ"
      },
      "execution_count": null,
      "outputs": []
    }
  ]
}