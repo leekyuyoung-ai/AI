{
  "nbformat": 4,
  "nbformat_minor": 0,
  "metadata": {
    "colab": {
      "provenance": []
    },
    "kernelspec": {
      "name": "python3",
      "display_name": "Python 3"
    },
    "language_info": {
      "name": "python"
    }
  },
  "cells": [
    {
      "cell_type": "code",
      "execution_count": null,
      "metadata": {
        "id": "Mhg-C6QHwxZE"
      },
      "outputs": [],
      "source": []
    },
    {
      "cell_type": "markdown",
      "source": [
        "패딩(padding)\n",
        "  - 문장의 길이가 다를수 있으므로 병렬 연산을 위해서 모든 문장의 길이를 동일하게 맞춰야함\n",
        "  - padding 이라고 하고 숫자는 0을 사용한다"
      ],
      "metadata": {
        "id": "wwCp1vX2wz2T"
      }
    },
    {
      "cell_type": "code",
      "source": [
        "# 텍스트 데이터를 정수로 변환(토큰화 -> 정수 인코딩)\n",
        "# 가장 긴 문장의 길이를 구함(max_len)\n",
        "# 짧은 문장에 0을 추가해서 max_le과 동일한 길이로 맞춤"
      ],
      "metadata": {
        "id": "71Pz0YFCw1Oc"
      },
      "execution_count": 1,
      "outputs": []
    },
    {
      "cell_type": "code",
      "source": [
        "preprocess_sentences = [['barber', 'person'], ['barber', 'good', 'person'], ['barber', 'huge', 'person'],\n",
        "                          ['knew', 'secret'], ['secret', 'kept', 'huge', 'secret'], ['huge', 'secret'],\n",
        "                          ['barber', 'kept', 'word'], ['barber', 'kept', 'word'], ['barber', 'kept', 'secret'],\n",
        "                          ['keeping', 'keeping', 'huge', 'secret', 'driving', 'barber', 'crazy'],\n",
        "                          ['barber', 'went', 'huge', 'mountain']]"
      ],
      "metadata": {
        "id": "ehkWamMnxWvO"
      },
      "execution_count": null,
      "outputs": []
    }
  ]
}