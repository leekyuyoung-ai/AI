{
  "nbformat": 4,
  "nbformat_minor": 0,
  "metadata": {
    "colab": {
      "provenance": []
    },
    "kernelspec": {
      "name": "python3",
      "display_name": "Python 3"
    },
    "language_info": {
      "name": "python"
    }
  },
  "cells": [
    {
      "cell_type": "markdown",
      "source": [
        "Word2Vec 란\n",
        "  - Word2Vec은 단어를 벡터로 변환하는 딥러닝 기반 자연어 처리 기법\n",
        "  - 주어진 말뭉치(corpus)에서 단어 간 의미적 유사도를 학습하여, 단어를 고차원 공간에 실수 벡터로 표현\n",
        "  - Word2Vec에는 CBOW(Continuous Bag of Words)모델과 Skip-gram 모델 두가지 있습니다"
      ],
      "metadata": {
        "id": "tIJr6stnqk_v"
      }
    },
    {
      "cell_type": "markdown",
      "source": [
        "Word2Vec은 신경망을 이용해서 단어의 의미적 관계를 학습"
      ],
      "metadata": {
        "id": "oG428n30shw_"
      }
    },
    {
      "cell_type": "markdown",
      "source": [
        "1. CBOW모델(Continuous Bag of Words)\n",
        "  - 주변단어(context word)를 입력으로 받아  중심 단어(target word)를 예측하는 방식\n",
        "  - CBOW 구조 예\n",
        "    - 예제문장\n",
        "      - \"The cat sits on the mat\"\n",
        "      - 여기서 center word가 \"sits\"라고 하면 CBOW 모델은 \"The\",'cat','on','the' 를 보고 'sits'를 예측하도록 학습\n",
        "      - 학습목표 확률을 최대화\n",
        "      - P(wt|wt-2, wt-1,wt+1,wt+2)\n",
        "      - 중심단어 wt가 주변단어들 wt-2, wt-1,wt+1,wt+2로부터 예측될 확률을 최대화 하는 것을 의미함"
      ],
      "metadata": {
        "id": "f6dCePJgsoKu"
      }
    },
    {
      "cell_type": "markdown",
      "source": [
        "2.skip-gram 구조\n",
        "  - CBOW와 반대 .중심단어(target word)를 입력받아서 주변단어를(context word)를 예측\n",
        "  - 예제문장\n",
        "      - \"The cat sits on the mat\"\n",
        "      - center word 'sits'라고 하면 skip-gram모델은 'The','cat','on','the'를 예측하도록 학습\n",
        "      - P(wt-2, wt-1,wt+1,wt+2|wt)\n",
        "      - 중심단어 wt가 주변단어들 wt-2, wt-1,wt+1,wt+2로부터 예측될 확률을 최대화 하는 것을 의미함"
      ],
      "metadata": {
        "id": "i6pMrR-Ht6bu"
      }
    },
    {
      "cell_type": "code",
      "source": [
        "# word2vec의 학습과정\n",
        "# 1. 말뭉치 준비(Corpus) : 텍스트 데이터를 수집하고 전처리\n",
        "# 2. 윈도우 크기 설정 : 모델을 선택(2가지 중 하나), 단어를 예측할 주변 단어의 개수를 선택\n",
        "# 3. one-hot-encoding : 벡터로 변환후에 신경망을 통해 저차원 벡터로 임베딩\n",
        "# 4. 신경망 학습 : Softmax 등을 이용해서 목표단어를 예측하면서 가중치를 조정해서 의미적 유사한 단어들이 가까이 위치하도록 학습"
      ],
      "metadata": {
        "id": "BafZ7C6Hrby2"
      },
      "execution_count": 1,
      "outputs": []
    },
    {
      "cell_type": "markdown",
      "source": [
        "데이터 준비"
      ],
      "metadata": {
        "id": "yDrdUDBbw0yV"
      }
    },
    {
      "cell_type": "code",
      "source": [
        "import gensim\n",
        "from gensim.models import Word2Vec\n",
        "import nltk\n",
        "from nltk.tokenize import word_tokenize\n",
        "nltk.download('punkt')  # nltk에서 제공하는 문장 및 단어 토큰화 도구\n",
        "nltk.download('punkt_tab')  # 문장 토크나이져하고 단어 토크나이져가 작동할때 내부적으로 참조하는 규칙파일"
      ],
      "metadata": {
        "colab": {
          "base_uri": "https://localhost:8080/"
        },
        "id": "iEuFhJXSwwtu",
        "outputId": "f3c7b13c-ac03-4de7-8dbb-86f557fe41c9"
      },
      "execution_count": 6,
      "outputs": [
        {
          "output_type": "stream",
          "name": "stderr",
          "text": [
            "[nltk_data] Downloading package punkt to /root/nltk_data...\n",
            "[nltk_data]   Package punkt is already up-to-date!\n",
            "[nltk_data] Downloading package punkt_tab to /root/nltk_data...\n",
            "[nltk_data]   Unzipping tokenizers/punkt_tab.zip.\n"
          ]
        },
        {
          "output_type": "execute_result",
          "data": {
            "text/plain": [
              "True"
            ]
          },
          "metadata": {},
          "execution_count": 6
        }
      ]
    },
    {
      "cell_type": "code",
      "source": [
        "# 예제문장\n",
        "sentences = [\n",
        "   \"The cat sits on the mat.\",\n",
        "    \"The dog barks at the mailman.\",\n",
        "    \"The cat and the dog are friends.\",\n",
        "    \"The mat is under the table.\",\n",
        "    \"The mailman delivers letters to the house.\"\n",
        "]\n",
        "# 토큰화\n",
        "tokenized_sentences = [word_tokenize(sentence.lower()) for sentence in sentences]"
      ],
      "metadata": {
        "id": "7yaMEJwcw6-j"
      },
      "execution_count": 7,
      "outputs": []
    },
    {
      "cell_type": "code",
      "source": [
        "sentences[0].lower(), word_tokenize(sentences[0].lower())"
      ],
      "metadata": {
        "colab": {
          "base_uri": "https://localhost:8080/"
        },
        "id": "0rk_f9dg0qiV",
        "outputId": "d8349c39-0014-4f7c-838d-28b7001c52ea"
      },
      "execution_count": 11,
      "outputs": [
        {
          "output_type": "execute_result",
          "data": {
            "text/plain": [
              "('the cat sits on the mat.', ['the', 'cat', 'sits', 'on', 'the', 'mat', '.'])"
            ]
          },
          "metadata": {},
          "execution_count": 11
        }
      ]
    },
    {
      "cell_type": "code",
      "source": [
        "tokenized_sentences"
      ],
      "metadata": {
        "colab": {
          "base_uri": "https://localhost:8080/"
        },
        "id": "KR5jTZO30uFb",
        "outputId": "620df766-b7e9-44ea-b1f8-9f9b631deebe"
      },
      "execution_count": 12,
      "outputs": [
        {
          "output_type": "execute_result",
          "data": {
            "text/plain": [
              "[['the', 'cat', 'sits', 'on', 'the', 'mat', '.'],\n",
              " ['the', 'dog', 'barks', 'at', 'the', 'mailman', '.'],\n",
              " ['the', 'cat', 'and', 'the', 'dog', 'are', 'friends', '.'],\n",
              " ['the', 'mat', 'is', 'under', 'the', 'table', '.'],\n",
              " ['the', 'mailman', 'delivers', 'letters', 'to', 'the', 'house', '.']]"
            ]
          },
          "metadata": {},
          "execution_count": 12
        }
      ]
    },
    {
      "cell_type": "code",
      "source": [
        "# word2vec 모델 학습\n",
        "# vector_size 각 단어의 벡터 차원 수  기본 값이 100 (추천 : 50 ~ 300)\n",
        "# 50 :  작은모델(빠르지만 표현력이 낮음)\n",
        "# 100 적절함\n",
        "# 300 : 큰 모델(의미표현력이 높지만 학습 속도가 느려짐)\n",
        "# window=2 주변단어를  학습할때 개수   기본값은 5\n",
        "# min_count = 1 : 모든 단어를 학습(작은 데이터셋 적합)\n",
        "# min_count = 5 : 5번 미만 등장한단어는 무시(노이즈제거 효과)\n",
        "# sg = 1  기본값은 CBOW 모델... 1은 skip-gram(중심 단어를보고 주변단어를 예측)\n",
        "model = Word2Vec(sentences = tokenized_sentences, vector_size=100,window=2,min_count=1,sg=1)\n",
        "# 단어 벡터 확인\n",
        "model.wv['cat']\n"
      ],
      "metadata": {
        "colab": {
          "base_uri": "https://localhost:8080/"
        },
        "collapsed": true,
        "id": "E_Hqh9pt08dE",
        "outputId": "6a37911d-913e-4f54-e990-cc5be3c49611"
      },
      "execution_count": 16,
      "outputs": [
        {
          "output_type": "execute_result",
          "data": {
            "text/plain": [
              "array([-8.2426779e-03,  9.2993546e-03, -1.9766092e-04, -1.9672764e-03,\n",
              "        4.6036304e-03, -4.0953159e-03,  2.7431143e-03,  6.9399667e-03,\n",
              "        6.0654259e-03, -7.5107943e-03,  9.3823504e-03,  4.6718083e-03,\n",
              "        3.9661205e-03, -6.2435055e-03,  8.4599797e-03, -2.1501649e-03,\n",
              "        8.8251876e-03, -5.3620026e-03, -8.1294188e-03,  6.8245591e-03,\n",
              "        1.6711927e-03, -2.1985089e-03,  9.5136007e-03,  9.4938548e-03,\n",
              "       -9.7740470e-03,  2.5052286e-03,  6.1566923e-03,  3.8724565e-03,\n",
              "        2.0227872e-03,  4.3050171e-04,  6.7363144e-04, -3.8206363e-03,\n",
              "       -7.1402504e-03, -2.0888723e-03,  3.9238976e-03,  8.8186832e-03,\n",
              "        9.2591504e-03, -5.9759365e-03, -9.4026709e-03,  9.7643770e-03,\n",
              "        3.4297847e-03,  5.1661171e-03,  6.2823449e-03, -2.8042626e-03,\n",
              "        7.3227035e-03,  2.8302716e-03,  2.8710044e-03, -2.3803699e-03,\n",
              "       -3.1282497e-03, -2.3701417e-03,  4.2764368e-03,  7.6057913e-05,\n",
              "       -9.5842788e-03, -9.6655441e-03, -6.1481940e-03, -1.2856961e-04,\n",
              "        1.9974159e-03,  9.4319675e-03,  5.5843508e-03, -4.2906962e-03,\n",
              "        2.7831673e-04,  4.9643586e-03,  7.6983096e-03, -1.1442233e-03,\n",
              "        4.3234206e-03, -5.8143795e-03, -8.0419064e-04,  8.1000505e-03,\n",
              "       -2.3600650e-03, -9.6634552e-03,  5.7792603e-03, -3.9298222e-03,\n",
              "       -1.2228728e-03,  9.9805174e-03, -2.2563506e-03, -4.7570644e-03,\n",
              "       -5.3293873e-03,  6.9808899e-03, -5.7088719e-03,  2.1136629e-03,\n",
              "       -5.2556600e-03,  6.1207139e-03,  4.3573068e-03,  2.6063549e-03,\n",
              "       -1.4910829e-03, -2.7460635e-03,  8.9929365e-03,  5.2157748e-03,\n",
              "       -2.1625196e-03, -9.4703101e-03, -7.4260519e-03, -1.0637414e-03,\n",
              "       -7.9494715e-04, -2.5629092e-03,  9.6827205e-03, -4.5852066e-04,\n",
              "        5.8737611e-03, -7.4475873e-03, -2.5060738e-03, -5.5498634e-03],\n",
              "      dtype=float32)"
            ]
          },
          "metadata": {},
          "execution_count": 16
        }
      ]
    },
    {
      "cell_type": "code",
      "source": [
        "# 유사도측정  cat과 유사한 단어 찾기\n",
        "model.wv.most_similar('cat')"
      ],
      "metadata": {
        "colab": {
          "base_uri": "https://localhost:8080/"
        },
        "id": "EVc9oaeD053S",
        "outputId": "de8c0f5c-9aac-44e8-9bc2-c941f69cd6b5"
      },
      "execution_count": 17,
      "outputs": [
        {
          "output_type": "execute_result",
          "data": {
            "text/plain": [
              "[('table', 0.1782098263502121),\n",
              " ('mailman', 0.1315031200647354),\n",
              " ('are', 0.07490666210651398),\n",
              " ('.', 0.06790068745613098),\n",
              " ('is', 0.04151185601949692),\n",
              " ('at', 0.04121294617652893),\n",
              " ('sits', 0.041170384734869),\n",
              " ('to', 0.012966764159500599),\n",
              " ('under', 0.006594092585146427),\n",
              " ('house', -0.0018632792634889483)]"
            ]
          },
          "metadata": {},
          "execution_count": 17
        }
      ]
    },
    {
      "cell_type": "markdown",
      "source": [
        "단어 벡터 시각화"
      ],
      "metadata": {
        "id": "DGX03VXU4DtT"
      }
    },
    {
      "cell_type": "code",
      "source": [
        "import numpy as np\n",
        "import matplotlib.pyplot as plt\n",
        "from sklearn.decomposition import PCA  # 차원 축소  100차원 데이터를 2차원으로 축소해서 시각화\n",
        "# 단어 벡터추출(상위 10개 단어만 사용)\n",
        "words = list(model.wv.key_to_index.keys())[:50]\n",
        "print(words)\n",
        "word_vectors = [model.wv[word]  for word in words]\n",
        "print(np.array(word_vectors).shape)\n",
        "# PCA 로 2차원 축소\n",
        "pca = PCA(n_components=2)\n",
        "word_vecs_2d = pca.fit_transform(word_vectors)\n",
        "\n",
        "# 시각화\n",
        "plt.figure(figsize=(8,6))  # 크기\n",
        "for word, (x,y) in zip(words, word_vecs_2d):\n",
        "  plt.scatter(x,y)\n",
        "  plt.text(x+0.001, y+0.001,word, fontsize=12)\n",
        "plt.show()"
      ],
      "metadata": {
        "colab": {
          "base_uri": "https://localhost:8080/",
          "height": 578
        },
        "id": "XjPzf5tQ314R",
        "outputId": "f80e83cc-6584-428b-cf8c-578ca6c50786"
      },
      "execution_count": 29,
      "outputs": [
        {
          "output_type": "stream",
          "name": "stdout",
          "text": [
            "['the', '.', 'dog', 'cat', 'mat', 'mailman', 'is', 'friends', 'are', 'and', 'to', 'at', 'barks', 'under', 'table', 'delivers', 'on', 'sits', 'letters', 'house']\n",
            "(20, 100)\n"
          ]
        },
        {
          "output_type": "display_data",
          "data": {
            "text/plain": [
              "<Figure size 800x600 with 1 Axes>"
            ],
            "image/png": "[encoded data removed]"
          },
          "metadata": {}
        }
      ]
    },
    {
      "cell_type": "markdown",
      "source": [
        "응용 : 유사도 계산"
      ],
      "metadata": {
        "id": "yzkG6N2o7dMp"
      }
    },
    {
      "cell_type": "code",
      "source": [
        "import gensim\n",
        "from gensim.models import Word2Vec\n",
        "import nltk\n",
        "from nltk.tokenize import word_tokenize\n",
        "from sklearn.metrics.pairwise import cosine_similarity  # 단어간 유사도 계산 함수\n",
        "nltk.download('punkt')  # nltk에서 제공하는 문장 및 단어 토큰화 도구\n",
        "nltk.download('punkt_tab')  # 문장 토크나이져하고 단어 토크나이져가 작동할때 내부적으로 참조하는 규칙파일\n",
        "\n",
        "# 샘플 문서 데이터\n",
        "documents = [\n",
        "    \"The cat sits on the mat.\",\n",
        "    \"The dog barks at the mailman.\",\n",
        "    \"A kitten is playing with a ball.\",\n",
        "    \"The puppy is running in the park.\",\n",
        "    \"The mailman delivers letters every morning.\"\n",
        "]\n",
        "\n",
        "# 문장 토큰화\n",
        "tokenized_sentences = [word_tokenize(doc.lower()) for doc in documents]\n",
        "# word2vec 모델 학습\n",
        "model = Word2Vec(sentences=tokenized_sentences, vector_size=100, window=2, min_count=1, sg=1)  # sg=1  word2vec   min_count=1 --> 소규모데이터\n",
        "\n",
        "# 문장을 벡터로 변환 - 함수화\n",
        "def document_vector(doc):\n",
        "  words = word_tokenize(doc.lower())  # 100개의 벡터로 변환\n",
        "  word_vectors = [model.wv[word] for word in words if word in model.wv]\n",
        "  return np.mean(word_vectors, axis=0) if word_vectors else np.zeros(model.vector_size)\n",
        "\n",
        "# 모든 문서를 벡터화\n",
        "doc_vectors = np.array([document_vector(doc) for doc in documents])\n",
        "\n",
        "# 문서 간 코사인 유사도 계산\n",
        "similarities_matrix = cosine_similarity(doc_vectors)\n",
        "# 결과 출력\n",
        "import pandas as pd\n",
        "df = pd.DataFrame(similarities_matrix, index=documents, columns=documents)\n",
        "df"
      ],
      "metadata": {
        "colab": {
          "base_uri": "https://localhost:8080/",
          "height": 365
        },
        "id": "6RlHLQia42qx",
        "outputId": "b07b901a-4935-4525-e19c-c04c4b71b840"
      },
      "execution_count": 39,
      "outputs": [
        {
          "output_type": "stream",
          "name": "stderr",
          "text": [
            "[nltk_data] Downloading package punkt to /root/nltk_data...\n",
            "[nltk_data]   Package punkt is already up-to-date!\n",
            "[nltk_data] Downloading package punkt_tab to /root/nltk_data...\n",
            "[nltk_data]   Package punkt_tab is already up-to-date!\n"
          ]
        },
        {
          "output_type": "execute_result",
          "data": {
            "text/plain": [
              "                                             The cat sits on the mat.  \\\n",
              "The cat sits on the mat.                                     1.000000   \n",
              "The dog barks at the mailman.                                0.633000   \n",
              "A kitten is playing with a ball.                             0.208872   \n",
              "The puppy is running in the park.                            0.595126   \n",
              "The mailman delivers letters every morning.                  0.303833   \n",
              "\n",
              "                                             The dog barks at the mailman.  \\\n",
              "The cat sits on the mat.                                          0.633000   \n",
              "The dog barks at the mailman.                                     1.000000   \n",
              "A kitten is playing with a ball.                                  0.025271   \n",
              "The puppy is running in the park.                                 0.536730   \n",
              "The mailman delivers letters every morning.                       0.461127   \n",
              "\n",
              "                                             A kitten is playing with a ball.  \\\n",
              "The cat sits on the mat.                                             0.208872   \n",
              "The dog barks at the mailman.                                        0.025271   \n",
              "A kitten is playing with a ball.                                     1.000000   \n",
              "The puppy is running in the park.                                    0.312381   \n",
              "The mailman delivers letters every morning.                          0.170074   \n",
              "\n",
              "                                             The puppy is running in the park.  \\\n",
              "The cat sits on the mat.                                              0.595126   \n",
              "The dog barks at the mailman.                                         0.536730   \n",
              "A kitten is playing with a ball.                                      0.312381   \n",
              "The puppy is running in the park.                                     1.000000   \n",
              "The mailman delivers letters every morning.                           0.405266   \n",
              "\n",
              "                                             The mailman delivers letters every morning.  \n",
              "The cat sits on the mat.                                                        0.303833  \n",
              "The dog barks at the mailman.                                                   0.461127  \n",
              "A kitten is playing with a ball.                                                0.170074  \n",
              "The puppy is running in the park.                                               0.405266  \n",
              "The mailman delivers letters every morning.                                     1.000000  "
            ],
            "text/html": [
              "\n",
              "  <div id=\"df-3f24b7c3-e33c-45eb-ba41-78722172e993\" class=\"colab-df-container\">\n",
              "    <div>\n",
              "<style scoped>\n",
              "    .dataframe tbody tr th:only-of-type {\n",
              "        vertical-align: middle;\n",
              "    }\n",
              "\n",
              "    .dataframe tbody tr th {\n",
              "        vertical-align: top;\n",
              "    }\n",
              "\n",
              "    .dataframe thead th {\n",
              "        text-align: right;\n",
              "    }\n",
              "</style>\n",
              "<table border=\"1\" class=\"dataframe\">\n",
              "  <thead>\n",
              "    <tr style=\"text-align: right;\">\n",
              "      <th></th>\n",
              "      <th>The cat sits on the mat.</th>\n",
              "      <th>The dog barks at the mailman.</th>\n",
              "      <th>A kitten is playing with a ball.</th>\n",
              "      <th>The puppy is running in the park.</th>\n",
              "      <th>The mailman delivers letters every morning.</th>\n",
              "    </tr>\n",
              "  </thead>\n",
              "  <tbody>\n",
              "    <tr>\n",
              "      <th>The cat sits on the mat.</th>\n",
              "      <td>1.000000</td>\n",
              "      <td>0.633000</td>\n",
              "      <td>0.208872</td>\n",
              "      <td>0.595126</td>\n",
              "      <td>0.303833</td>\n",
              "    </tr>\n",
              "    <tr>\n",
              "      <th>The dog barks at the mailman.</th>\n",
              "      <td>0.633000</td>\n",
              "      <td>1.000000</td>\n",
              "      <td>0.025271</td>\n",
              "      <td>0.536730</td>\n",
              "      <td>0.461127</td>\n",
              "    </tr>\n",
              "    <tr>\n",
              "      <th>A kitten is playing with a ball.</th>\n",
              "      <td>0.208872</td>\n",
              "      <td>0.025271</td>\n",
              "      <td>1.000000</td>\n",
              "      <td>0.312381</td>\n",
              "      <td>0.170074</td>\n",
              "    </tr>\n",
              "    <tr>\n",
              "      <th>The puppy is running in the park.</th>\n",
              "      <td>0.595126</td>\n",
              "      <td>0.536730</td>\n",
              "      <td>0.312381</td>\n",
              "      <td>1.000000</td>\n",
              "      <td>0.405266</td>\n",
              "    </tr>\n",
              "    <tr>\n",
              "      <th>The mailman delivers letters every morning.</th>\n",
              "      <td>0.303833</td>\n",
              "      <td>0.461127</td>\n",
              "      <td>0.170074</td>\n",
              "      <td>0.405266</td>\n",
              "      <td>1.000000</td>\n",
              "    </tr>\n",
              "  </tbody>\n",
              "</table>\n",
              "</div>\n",
              "    <div class=\"colab-df-buttons\">\n",
              "\n",
              "  <div class=\"colab-df-container\">\n",
              "    <button class=\"colab-df-convert\" onclick=\"convertToInteractive('df-3f24b7c3-e33c-45eb-ba41-78722172e993')\"\n",
              "            title=\"Convert this dataframe to an interactive table.\"\n",
              "            style=\"display:none;\">\n",
              "\n",
              "  <svg xmlns=\"http://www.w3.org/2000/svg\" height=\"24px\" viewBox=\"0 -960 960 960\">\n",
              "    <path d=\"M120-120v-720h720v720H120Zm60-500h600v-160H180v160Zm220 220h160v-160H400v160Zm0 220h160v-160H400v160ZM180-400h160v-160H180v160Zm440 0h160v-160H620v160ZM180-180h160v-160H180v160Zm440 0h160v-160H620v160Z\"/>\n",
              "  </svg>\n",
              "    </button>\n",
              "\n",
              "  <style>\n",
              "    .colab-df-container {\n",
              "      display:flex;\n",
              "      gap: 12px;\n",
              "    }\n",
              "\n",
              "    .colab-df-convert {\n",
              "      background-color: #E8F0FE;\n",
              "      border: none;\n",
              "      border-radius: 50%;\n",
              "      cursor: pointer;\n",
              "      display: none;\n",
              "      fill: #1967D2;\n",
              "      height: 32px;\n",
              "      padding: 0 0 0 0;\n",
              "      width: 32px;\n",
              "    }\n",
              "\n",
              "    .colab-df-convert:hover {\n",
              "      background-color: #E2EBFA;\n",
              "      box-shadow: 0px 1px 2px rgba(60, 64, 67, 0.3), 0px 1px 3px 1px rgba(60, 64, 67, 0.15);\n",
              "      fill: #174EA6;\n",
              "    }\n",
              "\n",
              "    .colab-df-buttons div {\n",
              "      margin-bottom: 4px;\n",
              "    }\n",
              "\n",
              "    [theme=dark] .colab-df-convert {\n",
              "      background-color: #3B4455;\n",
              "      fill: #D2E3FC;\n",
              "    }\n",
              "\n",
              "    [theme=dark] .colab-df-convert:hover {\n",
              "      background-color: #434B5C;\n",
              "      box-shadow: 0px 1px 3px 1px rgba(0, 0, 0, 0.15);\n",
              "      filter: drop-shadow(0px 1px 2px rgba(0, 0, 0, 0.3));\n",
              "      fill: #FFFFFF;\n",
              "    }\n",
              "  </style>\n",
              "\n",
              "    <script>\n",
              "      const buttonEl =\n",
              "        document.querySelector('#df-3f24b7c3-e33c-45eb-ba41-78722172e993 button.colab-df-convert');\n",
              "      buttonEl.style.display =\n",
              "        google.colab.kernel.accessAllowed ? 'block' : 'none';\n",
              "\n",
              "      async function convertToInteractive(key) {\n",
              "        const element = document.querySelector('#df-3f24b7c3-e33c-45eb-ba41-78722172e993');\n",
              "        const dataTable =\n",
              "          await google.colab.kernel.invokeFunction('convertToInteractive',\n",
              "                                                    [key], {});\n",
              "        if (!dataTable) return;\n",
              "\n",
              "        const docLinkHtml = 'Like what you see? Visit the ' +\n",
              "          '<a target=\"_blank\" href=https://colab.research.google.com/notebooks/data_table.ipynb>data table notebook</a>'\n",
              "          + ' to learn more about interactive tables.';\n",
              "        element.innerHTML = '';\n",
              "        dataTable['output_type'] = 'display_data';\n",
              "        await google.colab.output.renderOutput(dataTable, element);\n",
              "        const docLink = document.createElement('div');\n",
              "        docLink.innerHTML = docLinkHtml;\n",
              "        element.appendChild(docLink);\n",
              "      }\n",
              "    </script>\n",
              "  </div>\n",
              "\n",
              "\n",
              "<div id=\"df-1300d76a-5031-4d2c-b998-e646dd4581fc\">\n",
              "  <button class=\"colab-df-quickchart\" onclick=\"quickchart('df-1300d76a-5031-4d2c-b998-e646dd4581fc')\"\n",
              "            title=\"Suggest charts\"\n",
              "            style=\"display:none;\">\n",
              "\n",
              "<svg xmlns=\"http://www.w3.org/2000/svg\" height=\"24px\"viewBox=\"0 0 24 24\"\n",
              "     width=\"24px\">\n",
              "    <g>\n",
              "        <path d=\"M19 3H5c-1.1 0-2 .9-2 2v14c0 1.1.9 2 2 2h14c1.1 0 2-.9 2-2V5c0-1.1-.9-2-2-2zM9 17H7v-7h2v7zm4 0h-2V7h2v10zm4 0h-2v-4h2v4z\"/>\n",
              "    </g>\n",
              "</svg>\n",
              "  </button>\n",
              "\n",
              "<style>\n",
              "  .colab-df-quickchart {\n",
              "      --bg-color: #E8F0FE;\n",
              "      --fill-color: #1967D2;\n",
              "      --hover-bg-color: #E2EBFA;\n",
              "      --hover-fill-color: #174EA6;\n",
              "      --disabled-fill-color: #AAA;\n",
              "      --disabled-bg-color: #DDD;\n",
              "  }\n",
              "\n",
              "  [theme=dark] .colab-df-quickchart {\n",
              "      --bg-color: #3B4455;\n",
              "      --fill-color: #D2E3FC;\n",
              "      --hover-bg-color: #434B5C;\n",
              "      --hover-fill-color: #FFFFFF;\n",
              "      --disabled-bg-color: #3B4455;\n",
              "      --disabled-fill-color: #666;\n",
              "  }\n",
              "\n",
              "  .colab-df-quickchart {\n",
              "    background-color: var(--bg-color);\n",
              "    border: none;\n",
              "    border-radius: 50%;\n",
              "    cursor: pointer;\n",
              "    display: none;\n",
              "    fill: var(--fill-color);\n",
              "    height: 32px;\n",
              "    padding: 0;\n",
              "    width: 32px;\n",
              "  }\n",
              "\n",
              "  .colab-df-quickchart:hover {\n",
              "    background-color: var(--hover-bg-color);\n",
              "    box-shadow: 0 1px 2px rgba(60, 64, 67, 0.3), 0 1px 3px 1px rgba(60, 64, 67, 0.15);\n",
              "    fill: var(--button-hover-fill-color);\n",
              "  }\n",
              "\n",
              "  .colab-df-quickchart-complete:disabled,\n",
              "  .colab-df-quickchart-complete:disabled:hover {\n",
              "    background-color: var(--disabled-bg-color);\n",
              "    fill: var(--disabled-fill-color);\n",
              "    box-shadow: none;\n",
              "  }\n",
              "\n",
              "  .colab-df-spinner {\n",
              "    border: 2px solid var(--fill-color);\n",
              "    border-color: transparent;\n",
              "    border-bottom-color: var(--fill-color);\n",
              "    animation:\n",
              "      spin 1s steps(1) infinite;\n",
              "  }\n",
              "\n",
              "  @keyframes spin {\n",
              "    0% {\n",
              "      border-color: transparent;\n",
              "      border-bottom-color: var(--fill-color);\n",
              "      border-left-color: var(--fill-color);\n",
              "    }\n",
              "    20% {\n",
              "      border-color: transparent;\n",
              "      border-left-color: var(--fill-color);\n",
              "      border-top-color: var(--fill-color);\n",
              "    }\n",
              "    30% {\n",
              "      border-color: transparent;\n",
              "      border-left-color: var(--fill-color);\n",
              "      border-top-color: var(--fill-color);\n",
              "      border-right-color: var(--fill-color);\n",
              "    }\n",
              "    40% {\n",
              "      border-color: transparent;\n",
              "      border-right-color: var(--fill-color);\n",
              "      border-top-color: var(--fill-color);\n",
              "    }\n",
              "    60% {\n",
              "      border-color: transparent;\n",
              "      border-right-color: var(--fill-color);\n",
              "    }\n",
              "    80% {\n",
              "      border-color: transparent;\n",
              "      border-right-color: var(--fill-color);\n",
              "      border-bottom-color: var(--fill-color);\n",
              "    }\n",
              "    90% {\n",
              "      border-color: transparent;\n",
              "      border-bottom-color: var(--fill-color);\n",
              "    }\n",
              "  }\n",
              "</style>\n",
              "\n",
              "  <script>\n",
              "    async function quickchart(key) {\n",
              "      const quickchartButtonEl =\n",
              "        document.querySelector('#' + key + ' button');\n",
              "      quickchartButtonEl.disabled = true;  // To prevent multiple clicks.\n",
              "      quickchartButtonEl.classList.add('colab-df-spinner');\n",
              "      try {\n",
              "        const charts = await google.colab.kernel.invokeFunction(\n",
              "            'suggestCharts', [key], {});\n",
              "      } catch (error) {\n",
              "        console.error('Error during call to suggestCharts:', error);\n",
              "      }\n",
              "      quickchartButtonEl.classList.remove('colab-df-spinner');\n",
              "      quickchartButtonEl.classList.add('colab-df-quickchart-complete');\n",
              "    }\n",
              "    (() => {\n",
              "      let quickchartButtonEl =\n",
              "        document.querySelector('#df-1300d76a-5031-4d2c-b998-e646dd4581fc button');\n",
              "      quickchartButtonEl.style.display =\n",
              "        google.colab.kernel.accessAllowed ? 'block' : 'none';\n",
              "    })();\n",
              "  </script>\n",
              "</div>\n",
              "\n",
              "  <div id=\"id_280e512a-2535-410e-adae-ee41427d7e5d\">\n",
              "    <style>\n",
              "      .colab-df-generate {\n",
              "        background-color: #E8F0FE;\n",
              "        border: none;\n",
              "        border-radius: 50%;\n",
              "        cursor: pointer;\n",
              "        display: none;\n",
              "        fill: #1967D2;\n",
              "        height: 32px;\n",
              "        padding: 0 0 0 0;\n",
              "        width: 32px;\n",
              "      }\n",
              "\n",
              "      .colab-df-generate:hover {\n",
              "        background-color: #E2EBFA;\n",
              "        box-shadow: 0px 1px 2px rgba(60, 64, 67, 0.3), 0px 1px 3px 1px rgba(60, 64, 67, 0.15);\n",
              "        fill: #174EA6;\n",
              "      }\n",
              "\n",
              "      [theme=dark] .colab-df-generate {\n",
              "        background-color: #3B4455;\n",
              "        fill: #D2E3FC;\n",
              "      }\n",
              "\n",
              "      [theme=dark] .colab-df-generate:hover {\n",
              "        background-color: #434B5C;\n",
              "        box-shadow: 0px 1px 3px 1px rgba(0, 0, 0, 0.15);\n",
              "        filter: drop-shadow(0px 1px 2px rgba(0, 0, 0, 0.3));\n",
              "        fill: #FFFFFF;\n",
              "      }\n",
              "    </style>\n",
              "    <button class=\"colab-df-generate\" onclick=\"generateWithVariable('df')\"\n",
              "            title=\"Generate code using this dataframe.\"\n",
              "            style=\"display:none;\">\n",
              "\n",
              "  <svg xmlns=\"http://www.w3.org/2000/svg\" height=\"24px\"viewBox=\"0 0 24 24\"\n",
              "       width=\"24px\">\n",
              "    <path d=\"M7,19H8.4L18.45,9,17,7.55,7,17.6ZM5,21V16.75L18.45,3.32a2,2,0,0,1,2.83,0l1.4,1.43a1.91,1.91,0,0,1,.58,1.4,1.91,1.91,0,0,1-.58,1.4L9.25,21ZM18.45,9,17,7.55Zm-12,3A5.31,5.31,0,0,0,4.9,8.1,5.31,5.31,0,0,0,1,6.5,5.31,5.31,0,0,0,4.9,4.9,5.31,5.31,0,0,0,6.5,1,5.31,5.31,0,0,0,8.1,4.9,5.31,5.31,0,0,0,12,6.5,5.46,5.46,0,0,0,6.5,12Z\"/>\n",
              "  </svg>\n",
              "    </button>\n",
              "    <script>\n",
              "      (() => {\n",
              "      const buttonEl =\n",
              "        document.querySelector('#id_280e512a-2535-410e-adae-ee41427d7e5d button.colab-df-generate');\n",
              "      buttonEl.style.display =\n",
              "        google.colab.kernel.accessAllowed ? 'block' : 'none';\n",
              "\n",
              "      buttonEl.onclick = () => {\n",
              "        google.colab.notebook.generateWithVariable('df');\n",
              "      }\n",
              "      })();\n",
              "    </script>\n",
              "  </div>\n",
              "\n",
              "    </div>\n",
              "  </div>\n"
            ],
            "application/vnd.google.colaboratory.intrinsic+json": {
              "type": "dataframe",
              "variable_name": "df",
              "summary": "{\n  \"name\": \"df\",\n  \"rows\": 5,\n  \"fields\": [\n    {\n      \"column\": \"The cat sits on the mat.\",\n      \"properties\": {\n        \"dtype\": \"float32\",\n        \"num_unique_values\": 5,\n        \"samples\": [\n          0.6330000758171082,\n          0.30383315682411194,\n          0.20887213945388794\n        ],\n        \"semantic_type\": \"\",\n        \"description\": \"\"\n      }\n    },\n    {\n      \"column\": \"The dog barks at the mailman.\",\n      \"properties\": {\n        \"dtype\": \"float32\",\n        \"num_unique_values\": 5,\n        \"samples\": [\n          0.9999998807907104,\n          0.46112698316574097,\n          0.025270596146583557\n        ],\n        \"semantic_type\": \"\",\n        \"description\": \"\"\n      }\n    },\n    {\n      \"column\": \"A kitten is playing with a ball.\",\n      \"properties\": {\n        \"dtype\": \"float32\",\n        \"num_unique_values\": 5,\n        \"samples\": [\n          0.025270596146583557,\n          0.17007359862327576,\n          0.9999998211860657\n        ],\n        \"semantic_type\": \"\",\n        \"description\": \"\"\n      }\n    },\n    {\n      \"column\": \"The puppy is running in the park.\",\n      \"properties\": {\n        \"dtype\": \"float32\",\n        \"num_unique_values\": 5,\n        \"samples\": [\n          0.5367304682731628,\n          0.4052664637565613,\n          0.31238120794296265\n        ],\n        \"semantic_type\": \"\",\n        \"description\": \"\"\n      }\n    },\n    {\n      \"column\": \"The mailman delivers letters every morning.\",\n      \"properties\": {\n        \"dtype\": \"float32\",\n        \"num_unique_values\": 5,\n        \"samples\": [\n          0.46112698316574097,\n          1.0,\n          0.17007359862327576\n        ],\n        \"semantic_type\": \"\",\n        \"description\": \"\"\n      }\n    }\n  ]\n}"
            }
          },
          "metadata": {},
          "execution_count": 39
        }
      ]
    },
    {
      "cell_type": "code",
      "source": [],
      "metadata": {
        "colab": {
          "base_uri": "https://localhost:8080/"
        },
        "id": "za5WFcz57sYg",
        "outputId": "38216f48-9513-4f72-fe89-cd89f4bb5bfd"
      },
      "execution_count": 38,
      "outputs": [
        {
          "output_type": "execute_result",
          "data": {
            "text/plain": [
              "[['the', 'cat', 'sits', 'on', 'the', 'mat', '.'],\n",
              " ['the', 'dog', 'barks', 'at', 'the', 'mailman', '.'],\n",
              " ['a', 'kitten', 'is', 'playing', 'with', 'a', 'ball', '.'],\n",
              " ['the', 'puppy', 'is', 'running', 'in', 'the', 'park', '.'],\n",
              " ['the', 'mailman', 'delivers', 'letters', 'every', 'morning', '.']]"
            ]
          },
          "metadata": {},
          "execution_count": 38
        }
      ]
    },
    {
      "cell_type": "code",
      "source": [],
      "metadata": {
        "id": "4YIay94781d3"
      },
      "execution_count": null,
      "outputs": []
    }
  ]
}