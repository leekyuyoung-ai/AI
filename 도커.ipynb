{
  "nbformat": 4,
  "nbformat_minor": 0,
  "metadata": {
    "colab": {
      "provenance": []
    },
    "kernelspec": {
      "name": "python3",
      "display_name": "Python 3"
    },
    "language_info": {
      "name": "python"
    }
  },
  "cells": [
    {
      "cell_type": "code",
      "execution_count": null,
      "metadata": {
        "id": "5VNLtiZzKoyO"
      },
      "outputs": [],
      "source": []
    },
    {
      "cell_type": "markdown",
      "source": [
        "# 도커 기본 설치\n",
        "```\n",
        "# 기존 패키지 업데이트\n",
        "sudo apt update && sudo apt upgrade -y\n",
        "\n",
        "# 필수 패키지 설치\n",
        "sudo apt install -y ca-certificates curl gnupg\n",
        "\n",
        "# Docker 공식 GPG 키 추가\n",
        "sudo install -m 0755 -d /etc/apt/keyrings\n",
        "curl -fsSL https://download.docker.com/linux/ubuntu/gpg | sudo tee /etc/apt/keyrings/docker.asc > /dev/null\n",
        "sudo chmod a+r /etc/apt/keyrings/docker.asc\n",
        "\n",
        "# Docker 저장소 추가\n",
        "echo \"deb [arch=$(dpkg --print-architecture) signed-by=/etc/apt/keyrings/docker.asc] \\\n",
        "  https://download.docker.com/linux/ubuntu $(lsb_release -cs) stable\" | \\\n",
        "  sudo tee /etc/apt/sources.list.d/docker.list > /dev/null\n",
        "\n",
        "# 패키지 업데이트 및 Docker 설치\n",
        "sudo apt update\n",
        "sudo apt install -y docker-ce docker-ce-cli containerd.io docker-buildx-plugin docker-compose-plugin\n",
        "\n",
        "# Docker 서비스 실행 및 부팅 시 자동 실행 설정\n",
        "sudo systemctl start docker\n",
        "sudo systemctl enable docker\n",
        "\n",
        "# 현재 사용자를 docker 그룹에 추가 (로그아웃 후 다시 로그인해야 적용됨)\n",
        "sudo usermod -aG docker $USER\n",
        "\n",
        "```"
      ],
      "metadata": {
        "id": "OILdqUNFKrsd"
      }
    },
    {
      "cell_type": "markdown",
      "source": [
        "# 기본명령어 학습\n",
        "```\n",
        "2) Docker 기본 명령어 학습\n",
        "(1) docker run: 컨테이너 실행\n",
        "docker run -d --name my_nginx -p 8080:80 nginx\n",
        "-d : 백그라운드 실행\n",
        "--name my_nginx : 컨테이너 이름을 my_nginx로 지정\n",
        "-p 8080:80 : 호스트의 8080 포트를 컨테이너의 80 포트에 연결\n",
        "nginx : 사용할 Docker 이미지 (nginx 최신 버전 자동 다운로드)\n",
        "\n",
        "(2) docker ps: 실행 중인 컨테이너 확인\n",
        "docker ps\n",
        "실행 중인 컨테이너 목록을 표시\n",
        "\n",
        "(3) docker images: 다운로드된 이미지 확인\n",
        "docker images\n",
        "로컬에 저장된 Docker 이미지 목록을 출력\n",
        "\n",
        "(4) docker exec: 실행 중인 컨테이너 내부에서 명령 실행\n",
        "docker exec -it my_nginx bash\n",
        "-it : 상호작용 모드(터미널 제공)\n",
        "my_nginx : 실행할 컨테이너 이름\n",
        "bash : 컨테이너 내부에서 Bash 쉘 실행\n",
        "컨테이너 내부에 들어가서 웹 서버가 정상적으로 작동하는지 확인할 수 있습니다.\n",
        "\n",
        "(5) 컨테이너 삭제 및 정리\n",
        "# 실행 중인 컨테이너 중지\n",
        "docker stop my_nginx\n",
        "\n",
        "# 컨테이너 삭제\n",
        "docker rm my_nginx\n",
        "\n",
        "# 사용하지 않는 모든 이미지 삭제\n",
        "docker rmi $(docker images -q)\n",
        "\n",
        "```"
      ],
      "metadata": {
        "id": "Rp1KU5FnWik9"
      }
    },
    {
      "cell_type": "code",
      "source": [],
      "metadata": {
        "id": "8CQVaCs8Kul9"
      },
      "execution_count": null,
      "outputs": []
    }
  ]
}