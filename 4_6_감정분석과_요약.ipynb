{
  "nbformat": 4,
  "nbformat_minor": 0,
  "metadata": {
    "colab": {
      "provenance": []
    },
    "kernelspec": {
      "name": "python3",
      "display_name": "Python 3"
    },
    "language_info": {
      "name": "python"
    }
  },
  "cells": [
    {
      "cell_type": "markdown",
      "source": [
        "토큰화(Tokenization)는 자연어 처리에서 코퍼스를 의미 있는 단위로 나누는 과정입니다. 주요 개념과 고려할 사항은 다음과 같습니다.\n",
        "\n",
        "1. 단어 토큰화 (Word Tokenization)\n",
        "  - 단어를 기준으로 텍스트를 나누는 작업입니다.\n",
        "  - 구두점(punctuation) 제거가 일반적이지만 의미를 잃을 수도 있습니다.\n",
        "  - 영어에서는 아포스트로피 등의 처리 방식이 다를 수 있으며, NLTK, Keras 등을 활용한 다양한 방법이 존재합니다.\n",
        "\n",
        "2. 토큰화 중 선택의 문제\n",
        "  - 예를 들어 \"Don't\"는 Do n't, Dont, Don ' t 등으로 분리할 수 있습니다.\n",
        "  - NLTK의 word_tokenize, WordPunctTokenizer, Keras의 text_to_word_sequence 등의 도구들이 다른 방식으로 토큰화를 수행합니다.\n",
        "\n",
        "3. 토큰화 시 고려 사항\n",
        "  - 구두점이나 특수문자를 무조건 제거하면 의미가 사라질 수 있음.\n",
        "  - 단어 내부에 띄어쓰기가 포함된 경우 고려 필요 (예: \"New York\").\n",
        "  - 표준 토큰화 방식 (예: Penn Treebank Tokenization)에서는 하이픈 단어를 유지하고, 아포스트로피를 분리하는 규칙 적용.\n",
        "\n",
        "4. 문장 토큰화 (Sentence Tokenization)\n",
        "  - 문장을 기준으로 텍스트를 나누는 작업.\n",
        "  - NLTK의 sent_tokenize는 마침표(.)가 포함된 약어(ex. Ph.D.) 등을 적절히 처리함.\n",
        "   -한국어에서는 KSS(Korean Sentence Splitter) 같은 도구를 활용.\n",
        "  \n",
        "5. 한국어에서의 토큰화의 어려움\n",
        "  - 한국어는 교착어 특성상 단순 띄어쓰기 기반 토큰화가 어렵고, 형태소 분석이 필요.\n",
        "  - 형태소 분석기 (KoNLPy의 Okt, Komoran, Hannanum, Mecab) 사용이 일반적."
      ],
      "metadata": {
        "id": "UAT6VQDeZPU3"
      }
    },
    {
      "cell_type": "markdown",
      "source": [
        "NLTK, Keras, KoNLPy, KSS 단어 및 문장 토큰화"
      ],
      "metadata": {
        "id": "XhU87Q_Ubex_"
      }
    },
    {
      "cell_type": "code",
      "source": [
        "!pip install nltk kss konlpy tensorflow"
      ],
      "metadata": {
        "id": "PxMmRDBQZpd2",
        "colab": {
          "base_uri": "https://localhost:8080/"
        },
        "outputId": "fa2dfcfa-0968-4bd9-fce3-8c1be1f6b3d4"
      },
      "execution_count": 1,
      "outputs": [
        {
          "output_type": "stream",
          "name": "stdout",
          "text": [
            "Requirement already satisfied: nltk in /usr/local/lib/python3.11/dist-packages (3.9.1)\n",
            "Collecting kss\n",
            "  Downloading kss-6.0.4.tar.gz (1.1 MB)\n",
            "\u001b[2K     \u001b[90m━━━━━━━━━━━━━━━━━━━━━━━━━━━━━━━━━━━━━━━━\u001b[0m \u001b[32m1.1/1.1 MB\u001b[0m \u001b[31m11.1 MB/s\u001b[0m eta \u001b[36m0:00:00\u001b[0m\n",
            "\u001b[?25h  Preparing metadata (setup.py) ... \u001b[?25l\u001b[?25hdone\n",
            "Collecting konlpy\n",
            "  Downloading konlpy-0.6.0-py2.py3-none-any.whl.metadata (1.9 kB)\n",
            "Requirement already satisfied: tensorflow in /usr/local/lib/python3.11/dist-packages (2.18.0)\n",
            "Requirement already satisfied: click in /usr/local/lib/python3.11/dist-packages (from nltk) (8.1.8)\n",
            "Requirement already satisfied: joblib in /usr/local/lib/python3.11/dist-packages (from nltk) (1.4.2)\n",
            "Requirement already satisfied: regex>=2021.8.3 in /usr/local/lib/python3.11/dist-packages (from nltk) (2024.11.6)\n",
            "Requirement already satisfied: tqdm in /usr/local/lib/python3.11/dist-packages (from nltk) (4.67.1)\n",
            "Collecting emoji==1.2.0 (from kss)\n",
            "  Downloading emoji-1.2.0-py3-none-any.whl.metadata (4.3 kB)\n",
            "Collecting pecab (from kss)\n",
            "  Downloading pecab-1.0.8.tar.gz (26.4 MB)\n",
            "\u001b[2K     \u001b[90m━━━━━━━━━━━━━━━━━━━━━━━━━━━━━━━━━━━━━━━━\u001b[0m \u001b[32m26.4/26.4 MB\u001b[0m \u001b[31m41.8 MB/s\u001b[0m eta \u001b[36m0:00:00\u001b[0m\n",
            "\u001b[?25h  Preparing metadata (setup.py) ... \u001b[?25l\u001b[?25hdone\n",
            "Requirement already satisfied: networkx in /usr/local/lib/python3.11/dist-packages (from kss) (3.4.2)\n",
            "Collecting jamo (from kss)\n",
            "  Downloading jamo-0.4.1-py3-none-any.whl.metadata (2.3 kB)\n",
            "Collecting hangul-jamo (from kss)\n",
            "  Downloading hangul_jamo-1.0.1-py3-none-any.whl.metadata (899 bytes)\n",
            "Collecting tossi (from kss)\n",
            "  Downloading tossi-0.3.1.tar.gz (11 kB)\n",
            "  Preparing metadata (setup.py) ... \u001b[?25l\u001b[?25hdone\n",
            "Collecting distance (from kss)\n",
            "  Downloading Distance-0.1.3.tar.gz (180 kB)\n",
            "\u001b[2K     \u001b[90m━━━━━━━━━━━━━━━━━━━━━━━━━━━━━━━━━━━━━━━━\u001b[0m \u001b[32m180.3/180.3 kB\u001b[0m \u001b[31m11.2 MB/s\u001b[0m eta \u001b[36m0:00:00\u001b[0m\n",
            "\u001b[?25h  Preparing metadata (setup.py) ... \u001b[?25l\u001b[?25hdone\n",
            "Collecting pyyaml==6.0 (from kss)\n",
            "  Downloading PyYAML-6.0-cp311-cp311-manylinux_2_17_x86_64.manylinux2014_x86_64.whl.metadata (2.1 kB)\n",
            "Collecting unidecode (from kss)\n",
            "  Downloading Unidecode-1.3.8-py3-none-any.whl.metadata (13 kB)\n",
            "Collecting cmudict (from kss)\n",
            "  Downloading cmudict-1.0.32-py3-none-any.whl.metadata (3.6 kB)\n",
            "Collecting koparadigm (from kss)\n",
            "  Downloading koparadigm-0.10.0-py3-none-any.whl.metadata (2.9 kB)\n",
            "Collecting kollocate (from kss)\n",
            "  Downloading kollocate-0.0.2-py3-none-any.whl.metadata (1.8 kB)\n",
            "Collecting bs4 (from kss)\n",
            "  Downloading bs4-0.0.2-py2.py3-none-any.whl.metadata (411 bytes)\n",
            "Requirement already satisfied: numpy in /usr/local/lib/python3.11/dist-packages (from kss) (1.26.4)\n",
            "Requirement already satisfied: pytest in /usr/local/lib/python3.11/dist-packages (from kss) (8.3.4)\n",
            "Requirement already satisfied: scipy in /usr/local/lib/python3.11/dist-packages (from kss) (1.13.1)\n",
            "Collecting JPype1>=0.7.0 (from konlpy)\n",
            "  Downloading jpype1-1.5.2-cp311-cp311-manylinux_2_17_x86_64.manylinux2014_x86_64.whl.metadata (4.9 kB)\n",
            "Requirement already satisfied: lxml>=4.1.0 in /usr/local/lib/python3.11/dist-packages (from konlpy) (5.3.1)\n",
            "Requirement already satisfied: absl-py>=1.0.0 in /usr/local/lib/python3.11/dist-packages (from tensorflow) (1.4.0)\n",
            "Requirement already satisfied: astunparse>=1.6.0 in /usr/local/lib/python3.11/dist-packages (from tensorflow) (1.6.3)\n",
            "Requirement already satisfied: flatbuffers>=24.3.25 in /usr/local/lib/python3.11/dist-packages (from tensorflow) (25.2.10)\n",
            "Requirement already satisfied: gast!=0.5.0,!=0.5.1,!=0.5.2,>=0.2.1 in /usr/local/lib/python3.11/dist-packages (from tensorflow) (0.6.0)\n",
            "Requirement already satisfied: google-pasta>=0.1.1 in /usr/local/lib/python3.11/dist-packages (from tensorflow) (0.2.0)\n",
            "Requirement already satisfied: libclang>=13.0.0 in /usr/local/lib/python3.11/dist-packages (from tensorflow) (18.1.1)\n",
            "Requirement already satisfied: opt-einsum>=2.3.2 in /usr/local/lib/python3.11/dist-packages (from tensorflow) (3.4.0)\n",
            "Requirement already satisfied: packaging in /usr/local/lib/python3.11/dist-packages (from tensorflow) (24.2)\n",
            "Requirement already satisfied: protobuf!=4.21.0,!=4.21.1,!=4.21.2,!=4.21.3,!=4.21.4,!=4.21.5,<6.0.0dev,>=3.20.3 in /usr/local/lib/python3.11/dist-packages (from tensorflow) (4.25.6)\n",
            "Requirement already satisfied: requests<3,>=2.21.0 in /usr/local/lib/python3.11/dist-packages (from tensorflow) (2.32.3)\n",
            "Requirement already satisfied: setuptools in /usr/local/lib/python3.11/dist-packages (from tensorflow) (75.1.0)\n",
            "Requirement already satisfied: six>=1.12.0 in /usr/local/lib/python3.11/dist-packages (from tensorflow) (1.17.0)\n",
            "Requirement already satisfied: termcolor>=1.1.0 in /usr/local/lib/python3.11/dist-packages (from tensorflow) (2.5.0)\n",
            "Requirement already satisfied: typing-extensions>=3.6.6 in /usr/local/lib/python3.11/dist-packages (from tensorflow) (4.12.2)\n",
            "Requirement already satisfied: wrapt>=1.11.0 in /usr/local/lib/python3.11/dist-packages (from tensorflow) (1.17.2)\n",
            "Requirement already satisfied: grpcio<2.0,>=1.24.3 in /usr/local/lib/python3.11/dist-packages (from tensorflow) (1.70.0)\n",
            "Requirement already satisfied: tensorboard<2.19,>=2.18 in /usr/local/lib/python3.11/dist-packages (from tensorflow) (2.18.0)\n",
            "Requirement already satisfied: keras>=3.5.0 in /usr/local/lib/python3.11/dist-packages (from tensorflow) (3.8.0)\n",
            "Requirement already satisfied: h5py>=3.11.0 in /usr/local/lib/python3.11/dist-packages (from tensorflow) (3.12.1)\n",
            "Requirement already satisfied: ml-dtypes<0.5.0,>=0.4.0 in /usr/local/lib/python3.11/dist-packages (from tensorflow) (0.4.1)\n",
            "Requirement already satisfied: tensorflow-io-gcs-filesystem>=0.23.1 in /usr/local/lib/python3.11/dist-packages (from tensorflow) (0.37.1)\n",
            "Requirement already satisfied: wheel<1.0,>=0.23.0 in /usr/local/lib/python3.11/dist-packages (from astunparse>=1.6.0->tensorflow) (0.45.1)\n",
            "Requirement already satisfied: rich in /usr/local/lib/python3.11/dist-packages (from keras>=3.5.0->tensorflow) (13.9.4)\n",
            "Requirement already satisfied: namex in /usr/local/lib/python3.11/dist-packages (from keras>=3.5.0->tensorflow) (0.0.8)\n",
            "Requirement already satisfied: optree in /usr/local/lib/python3.11/dist-packages (from keras>=3.5.0->tensorflow) (0.14.0)\n",
            "Requirement already satisfied: charset-normalizer<4,>=2 in /usr/local/lib/python3.11/dist-packages (from requests<3,>=2.21.0->tensorflow) (3.4.1)\n",
            "Requirement already satisfied: idna<4,>=2.5 in /usr/local/lib/python3.11/dist-packages (from requests<3,>=2.21.0->tensorflow) (3.10)\n",
            "Requirement already satisfied: urllib3<3,>=1.21.1 in /usr/local/lib/python3.11/dist-packages (from requests<3,>=2.21.0->tensorflow) (2.3.0)\n",
            "Requirement already satisfied: certifi>=2017.4.17 in /usr/local/lib/python3.11/dist-packages (from requests<3,>=2.21.0->tensorflow) (2025.1.31)\n",
            "Requirement already satisfied: markdown>=2.6.8 in /usr/local/lib/python3.11/dist-packages (from tensorboard<2.19,>=2.18->tensorflow) (3.7)\n",
            "Requirement already satisfied: tensorboard-data-server<0.8.0,>=0.7.0 in /usr/local/lib/python3.11/dist-packages (from tensorboard<2.19,>=2.18->tensorflow) (0.7.2)\n",
            "Requirement already satisfied: werkzeug>=1.0.1 in /usr/local/lib/python3.11/dist-packages (from tensorboard<2.19,>=2.18->tensorflow) (3.1.3)\n",
            "Requirement already satisfied: beautifulsoup4 in /usr/local/lib/python3.11/dist-packages (from bs4->kss) (4.13.3)\n",
            "Requirement already satisfied: importlib-metadata>=5 in /usr/local/lib/python3.11/dist-packages (from cmudict->kss) (8.6.1)\n",
            "Requirement already satisfied: importlib-resources>=5 in /usr/local/lib/python3.11/dist-packages (from cmudict->kss) (6.5.2)\n",
            "Collecting whoosh (from kollocate->kss)\n",
            "  Downloading Whoosh-2.7.4-py2.py3-none-any.whl.metadata (3.1 kB)\n",
            "Collecting xlrd==1.2.0 (from koparadigm->kss)\n",
            "  Downloading xlrd-1.2.0-py2.py3-none-any.whl.metadata (1.3 kB)\n",
            "Requirement already satisfied: pyarrow in /usr/local/lib/python3.11/dist-packages (from pecab->kss) (17.0.0)\n",
            "Requirement already satisfied: iniconfig in /usr/local/lib/python3.11/dist-packages (from pytest->kss) (2.0.0)\n",
            "Requirement already satisfied: pluggy<2,>=1.5 in /usr/local/lib/python3.11/dist-packages (from pytest->kss) (1.5.0)\n",
            "Collecting bidict (from tossi->kss)\n",
            "  Downloading bidict-0.23.1-py3-none-any.whl.metadata (8.7 kB)\n",
            "Requirement already satisfied: zipp>=3.20 in /usr/local/lib/python3.11/dist-packages (from importlib-metadata>=5->cmudict->kss) (3.21.0)\n",
            "Requirement already satisfied: MarkupSafe>=2.1.1 in /usr/local/lib/python3.11/dist-packages (from werkzeug>=1.0.1->tensorboard<2.19,>=2.18->tensorflow) (3.0.2)\n",
            "Requirement already satisfied: soupsieve>1.2 in /usr/local/lib/python3.11/dist-packages (from beautifulsoup4->bs4->kss) (2.6)\n",
            "Requirement already satisfied: markdown-it-py>=2.2.0 in /usr/local/lib/python3.11/dist-packages (from rich->keras>=3.5.0->tensorflow) (3.0.0)\n",
            "Requirement already satisfied: pygments<3.0.0,>=2.13.0 in /usr/local/lib/python3.11/dist-packages (from rich->keras>=3.5.0->tensorflow) (2.18.0)\n",
            "Requirement already satisfied: mdurl~=0.1 in /usr/local/lib/python3.11/dist-packages (from markdown-it-py>=2.2.0->rich->keras>=3.5.0->tensorflow) (0.1.2)\n",
            "Downloading emoji-1.2.0-py3-none-any.whl (131 kB)\n",
            "\u001b[2K   \u001b[90m━━━━━━━━━━━━━━━━━━━━━━━━━━━━━━━━━━━━━━━━\u001b[0m \u001b[32m131.3/131.3 kB\u001b[0m \u001b[31m7.7 MB/s\u001b[0m eta \u001b[36m0:00:00\u001b[0m\n",
            "\u001b[?25hDownloading PyYAML-6.0-cp311-cp311-manylinux_2_17_x86_64.manylinux2014_x86_64.whl (757 kB)\n",
            "\u001b[2K   \u001b[90m━━━━━━━━━━━━━━━━━━━━━━━━━━━━━━━━━━━━━━━━\u001b[0m \u001b[32m757.9/757.9 kB\u001b[0m \u001b[31m30.7 MB/s\u001b[0m eta \u001b[36m0:00:00\u001b[0m\n",
            "\u001b[?25hDownloading konlpy-0.6.0-py2.py3-none-any.whl (19.4 MB)\n",
            "\u001b[2K   \u001b[90m━━━━━━━━━━━━━━━━━━━━━━━━━━━━━━━━━━━━━━━━\u001b[0m \u001b[32m19.4/19.4 MB\u001b[0m \u001b[31m51.4 MB/s\u001b[0m eta \u001b[36m0:00:00\u001b[0m\n",
            "\u001b[?25hDownloading jpype1-1.5.2-cp311-cp311-manylinux_2_17_x86_64.manylinux2014_x86_64.whl (494 kB)\n",
            "\u001b[2K   \u001b[90m━━━━━━━━━━━━━━━━━━━━━━━━━━━━━━━━━━━━━━━━\u001b[0m \u001b[32m494.1/494.1 kB\u001b[0m \u001b[31m26.6 MB/s\u001b[0m eta \u001b[36m0:00:00\u001b[0m\n",
            "\u001b[?25hDownloading bs4-0.0.2-py2.py3-none-any.whl (1.2 kB)\n",
            "Downloading cmudict-1.0.32-py3-none-any.whl (939 kB)\n",
            "\u001b[2K   \u001b[90m━━━━━━━━━━━━━━━━━━━━━━━━━━━━━━━━━━━━━━━━\u001b[0m \u001b[32m939.4/939.4 kB\u001b[0m \u001b[31m38.1 MB/s\u001b[0m eta \u001b[36m0:00:00\u001b[0m\n",
            "\u001b[?25hDownloading hangul_jamo-1.0.1-py3-none-any.whl (4.4 kB)\n",
            "Downloading jamo-0.4.1-py3-none-any.whl (9.5 kB)\n",
            "Downloading kollocate-0.0.2-py3-none-any.whl (72.2 MB)\n",
            "\u001b[2K   \u001b[90m━━━━━━━━━━━━━━━━━━━━━━━━━━━━━━━━━━━━━━━━\u001b[0m \u001b[32m72.2/72.2 MB\u001b[0m \u001b[31m8.1 MB/s\u001b[0m eta \u001b[36m0:00:00\u001b[0m\n",
            "\u001b[?25hDownloading koparadigm-0.10.0-py3-none-any.whl (1.6 MB)\n",
            "\u001b[2K   \u001b[90m━━━━━━━━━━━━━━━━━━━━━━━━━━━━━━━━━━━━━━━━\u001b[0m \u001b[32m1.6/1.6 MB\u001b[0m \u001b[31m38.1 MB/s\u001b[0m eta \u001b[36m0:00:00\u001b[0m\n",
            "\u001b[?25hDownloading xlrd-1.2.0-py2.py3-none-any.whl (103 kB)\n",
            "\u001b[2K   \u001b[90m━━━━━━━━━━━━━━━━━━━━━━━━━━━━━━━━━━━━━━━━\u001b[0m \u001b[32m103.3/103.3 kB\u001b[0m \u001b[31m5.4 MB/s\u001b[0m eta \u001b[36m0:00:00\u001b[0m\n",
            "\u001b[?25hDownloading Unidecode-1.3.8-py3-none-any.whl (235 kB)\n",
            "\u001b[2K   \u001b[90m━━━━━━━━━━━━━━━━━━━━━━━━━━━━━━━━━━━━━━━━\u001b[0m \u001b[32m235.5/235.5 kB\u001b[0m \u001b[31m13.0 MB/s\u001b[0m eta \u001b[36m0:00:00\u001b[0m\n",
            "\u001b[?25hDownloading bidict-0.23.1-py3-none-any.whl (32 kB)\n",
            "Downloading Whoosh-2.7.4-py2.py3-none-any.whl (468 kB)\n",
            "\u001b[2K   \u001b[90m━━━━━━━━━━━━━━━━━━━━━━━━━━━━━━━━━━━━━━━━\u001b[0m \u001b[32m468.8/468.8 kB\u001b[0m \u001b[31m21.2 MB/s\u001b[0m eta \u001b[36m0:00:00\u001b[0m\n",
            "\u001b[?25hBuilding wheels for collected packages: kss, distance, pecab, tossi\n",
            "  Building wheel for kss (setup.py) ... \u001b[?25l\u001b[?25hdone\n",
            "  Created wheel for kss: filename=kss-6.0.4-cp311-cp311-linux_x86_64.whl size=1452484 sha256=b35d0f28cf82573078fb143ce5f26a5335e6cc4d974d503fbb79f92cabd961ad\n",
            "  Stored in directory: /root/.cache/pip/wheels/86/c9/5f/69b8fe9751eefbb5d087932ddf58d0f121b8e545335af7fe4e\n",
            "  Building wheel for distance (setup.py) ... \u001b[?25l\u001b[?25hdone\n",
            "  Created wheel for distance: filename=Distance-0.1.3-py3-none-any.whl size=16256 sha256=e332203006aba43a6e1c9576ae108c1b2d764251914838f3e9d222f3b178d5bb\n",
            "  Stored in directory: /root/.cache/pip/wheels/fb/cd/9c/3ab5d666e3bcacc58900b10959edd3816cc9557c7337986322\n",
            "  Building wheel for pecab (setup.py) ... \u001b[?25l\u001b[?25hdone\n",
            "  Created wheel for pecab: filename=pecab-1.0.8-py3-none-any.whl size=26646665 sha256=d29bb9b001d45984c1ee47931116609dffa8ec45840ce1a6cf5c2243498952b0\n",
            "  Stored in directory: /root/.cache/pip/wheels/c9/0d/97/ca2bb361e44a80f4c63efe6f6438ff903fd1ab5640eedabc1b\n",
            "  Building wheel for tossi (setup.py) ... \u001b[?25l\u001b[?25hdone\n",
            "  Created wheel for tossi: filename=tossi-0.3.1-py3-none-any.whl size=12130 sha256=ee8e1dd46e23b277f53a4313352e612166f7b73732d77fca7759743a6ef22784\n",
            "  Stored in directory: /root/.cache/pip/wheels/36/1a/7e/0b78039c20678a6682f03cca4295efaa5fb55a3d10d7e9837a\n",
            "Successfully built kss distance pecab tossi\n",
            "Installing collected packages: whoosh, jamo, hangul-jamo, emoji, distance, xlrd, unidecode, pyyaml, kollocate, JPype1, bidict, tossi, pecab, koparadigm, konlpy, cmudict, bs4, kss\n",
            "  Attempting uninstall: xlrd\n",
            "    Found existing installation: xlrd 2.0.1\n",
            "    Uninstalling xlrd-2.0.1:\n",
            "      Successfully uninstalled xlrd-2.0.1\n",
            "  Attempting uninstall: pyyaml\n",
            "    Found existing installation: PyYAML 6.0.2\n",
            "    Uninstalling PyYAML-6.0.2:\n",
            "      Successfully uninstalled PyYAML-6.0.2\n",
            "Successfully installed JPype1-1.5.2 bidict-0.23.1 bs4-0.0.2 cmudict-1.0.32 distance-0.1.3 emoji-1.2.0 hangul-jamo-1.0.1 jamo-0.4.1 kollocate-0.0.2 konlpy-0.6.0 koparadigm-0.10.0 kss-6.0.4 pecab-1.0.8 pyyaml-6.0 tossi-0.3.1 unidecode-1.3.8 whoosh-2.7.4 xlrd-1.2.0\n"
          ]
        }
      ]
    },
    {
      "cell_type": "code",
      "source": [
        "import nltk\n",
        "from nltk.tokenize import word_tokenize, WordPunctTokenizer, sent_tokenize\n",
        "from tensorflow.keras.preprocessing.text import text_to_word_sequence\n",
        "from konlpy.tag import Okt"
      ],
      "metadata": {
        "id": "JNdQcs6EZXw3"
      },
      "execution_count": 3,
      "outputs": []
    },
    {
      "cell_type": "code",
      "source": [
        "nltk.download('punkt_tab')"
      ],
      "metadata": {
        "colab": {
          "base_uri": "https://localhost:8080/"
        },
        "id": "VcSiL3w9dY8l",
        "outputId": "3a8359cf-fdc8-4c43-fdfa-a8eb2f908d1e"
      },
      "execution_count": 9,
      "outputs": [
        {
          "output_type": "stream",
          "name": "stderr",
          "text": [
            "[nltk_data] Downloading package punkt_tab to /root/nltk_data...\n",
            "[nltk_data]   Unzipping tokenizers/punkt_tab.zip.\n"
          ]
        },
        {
          "output_type": "execute_result",
          "data": {
            "text/plain": [
              "True"
            ]
          },
          "metadata": {},
          "execution_count": 9
        }
      ]
    },
    {
      "cell_type": "code",
      "source": [
        "# 단어토큰화 (영어)\n",
        "text = \"Don't be fooled by the dark sounding name, Mr. Jone's Orphanage is as cheery as cheery goes for a pastry shop.\""
      ],
      "metadata": {
        "id": "2hpDvLyNdfUt"
      },
      "execution_count": 10,
      "outputs": []
    },
    {
      "cell_type": "code",
      "source": [
        "print(\"word_tokenize:\",word_tokenize(text)) # 공백을 기준으로단어를 분리, 어포스트로피를 적절히 분리\n",
        "print(\"WordPunctTokenizer:\",WordPunctTokenizer().tokenize(text)) # 모든 구두점을 별도로 분리\n",
        "print(\"sent_tokenize:\",text_to_word_sequence(text)) # 소문자로 변환, 구두점을 제거하지만 어포스트로피는 유지"
      ],
      "metadata": {
        "colab": {
          "base_uri": "https://localhost:8080/"
        },
        "id": "36X7NNqEdwRF",
        "outputId": "51ac8fc1-1ff4-4296-f56b-62919954903e"
      },
      "execution_count": 14,
      "outputs": [
        {
          "output_type": "stream",
          "name": "stdout",
          "text": [
            "word_tokenize: ['Do', \"n't\", 'be', 'fooled', 'by', 'the', 'dark', 'sounding', 'name', ',', 'Mr.', 'Jone', \"'s\", 'Orphanage', 'is', 'as', 'cheery', 'as', 'cheery', 'goes', 'for', 'a', 'pastry', 'shop', '.']\n",
            "WordPunctTokenizer: ['Don', \"'\", 't', 'be', 'fooled', 'by', 'the', 'dark', 'sounding', 'name', ',', 'Mr', '.', 'Jone', \"'\", 's', 'Orphanage', 'is', 'as', 'cheery', 'as', 'cheery', 'goes', 'for', 'a', 'pastry', 'shop', '.']\n",
            "sent_tokenize: [\"don't\", 'be', 'fooled', 'by', 'the', 'dark', 'sounding', 'name', 'mr', \"jone's\", 'orphanage', 'is', 'as', 'cheery', 'as', 'cheery', 'goes', 'for', 'a', 'pastry', 'shop']\n"
          ]
        }
      ]
    },
    {
      "cell_type": "markdown",
      "source": [
        "문장 토큰화"
      ],
      "metadata": {
        "id": "Zr4R1vHQfAp_"
      }
    },
    {
      "cell_type": "code",
      "source": [
        "text = \"His barber kept his word. But keeping such a huge secret to himself was driving him crazy. Finally, the barber went up a mountain and almost to the edge of a cliff.\""
      ],
      "metadata": {
        "id": "EiSFq4vKeKi1"
      },
      "execution_count": 15,
      "outputs": []
    },
    {
      "cell_type": "code",
      "source": [
        "for sentence in sent_tokenize(text):  # 마침표를  기준으로 문장을 나누지만 문장 내부의 마침표는 잘 처리\n",
        "  print(sentence)"
      ],
      "metadata": {
        "colab": {
          "base_uri": "https://localhost:8080/"
        },
        "id": "jj-YTuG7fm5G",
        "outputId": "ffd16f52-9798-4406-8808-d9c8ad34ecaa"
      },
      "execution_count": 17,
      "outputs": [
        {
          "output_type": "stream",
          "name": "stdout",
          "text": [
            "His barber kept his word.\n",
            "But keeping such a huge secret to himself was driving him crazy.\n",
            "Finally, the barber went up a mountain and almost to the edge of a cliff.\n"
          ]
        }
      ]
    },
    {
      "cell_type": "code",
      "source": [
        "text = 'I am actively looking for Ph.D. students. And you are a Ph.D student.'\n",
        "for sentence in sent_tokenize(text):  # 마침표를  기준으로 문장을 나누지만 문장 내부의 마침표는 잘 처리\n",
        "  print(sentence)"
      ],
      "metadata": {
        "colab": {
          "base_uri": "https://localhost:8080/"
        },
        "id": "uIGWDfZLgAb-",
        "outputId": "4fb4b16c-71f3-4cfd-bf82-fba1f2614bf9"
      },
      "execution_count": 18,
      "outputs": [
        {
          "output_type": "stream",
          "name": "stdout",
          "text": [
            "I am actively looking for Ph.D. students.\n",
            "And you are a Ph.D student.\n"
          ]
        }
      ]
    },
    {
      "cell_type": "markdown",
      "source": [
        "한국어"
      ],
      "metadata": {
        "id": "GnqD7Kpjghft"
      }
    },
    {
      "cell_type": "code",
      "source": [
        "okt = Okt()\n",
        "text = '자연어 처리는 어렵지만 재미있습니다.'\n",
        "print(\"형태소 단위 토큰화\", okt.morphs(text))\n",
        "print(\"명사 추출\",okt.nouns(text))\n",
        "print(\"품사 태깅\",okt.pos(text))"
      ],
      "metadata": {
        "colab": {
          "base_uri": "https://localhost:8080/"
        },
        "id": "X9rdFugrgCs9",
        "outputId": "c1e2f5a2-b85f-4a74-c965-1ffadb229952"
      },
      "execution_count": 19,
      "outputs": [
        {
          "output_type": "stream",
          "name": "stdout",
          "text": [
            "형태소 단위 토큰화 ['자연어', '처리', '는', '어렵지만', '재미있습니다', '.']\n",
            "명사 추출 ['자연어', '처리']\n",
            "품사 태깅 [('자연어', 'Noun'), ('처리', 'Noun'), ('는', 'Josa'), ('어렵지만', 'Adjective'), ('재미있습니다', 'Adjective'), ('.', 'Punctuation')]\n"
          ]
        }
      ]
    },
    {
      "cell_type": "markdown",
      "source": [
        "  - 정제\n",
        "    - 텍스트에서 노이즈 데이터를 제거\n",
        "    - 노이즈 데이터 : 의미없는 특수문자, 중복된 공백, 불필요한 단어등\n",
        "    - 불용어(stopwords)제거, 등장 빈도가 적은 단어 삭제 등의 작업\n",
        "  - 정규화\n",
        "    - 의미는 같지만 다른형태로 표현된 단어를 통합하는 과정\n",
        "    - 방법\n",
        "      - 대소문자 통합: \"KOREA\", \"Korea\", \"korea\"\n",
        "      - 표현 방식 통합 : \"KOREA\", \"KOR\", \"USA\" ,\"US\"\n",
        "      - 어간 추출(Stemming)과 표제어 추출(Lemmatation) : \"running\" -> \"run\" 단어의 기본형으로 변환\n",
        "  - 불필요한 단어 제거\n",
        "    - 등장빈도가 낮은단어\n",
        "    - 짧은 단어(1~2자) 제거\n",
        "  - 정규표현식(Regrex)활용\n",
        "    - 특정패턴제거(html, 날짜, 특수기호)\n",
        "    - 텍스트 정제 과정에서 반복적으로 등장하는 패턴을 처리\n"
      ],
      "metadata": {
        "id": "2jtNt6gEhaiO"
      }
    },
    {
      "cell_type": "markdown",
      "source": [
        "정제와 정규화 함수"
      ],
      "metadata": {
        "id": "UhZyA2Oxi4gO"
      }
    },
    {
      "cell_type": "code",
      "source": [
        "import re\n",
        "from collections import Counter  # 등장빈도수구해서 낮은 등장횟수는 제거할 용도\n",
        "from nltk.tokenize import word_tokenize\n",
        "from nltk.corpus import stopwords # 불용어\n",
        "from nltk.stem import PorterStemmer, WordNetLemmatizer\n",
        "import nltk\n",
        "nltk.download('stopwords')\n",
        "nltk.download('punkt_tab')\n",
        "nltk.download('wordnet')"
      ],
      "metadata": {
        "colab": {
          "base_uri": "https://localhost:8080/"
        },
        "id": "1Xm05WMThfoE",
        "outputId": "7f661e98-ebad-4009-f4f6-7e4920562aeb"
      },
      "execution_count": 21,
      "outputs": [
        {
          "output_type": "stream",
          "name": "stderr",
          "text": [
            "[nltk_data] Downloading package stopwords to /root/nltk_data...\n",
            "[nltk_data]   Unzipping corpora/stopwords.zip.\n",
            "[nltk_data] Downloading package punkt_tab to /root/nltk_data...\n",
            "[nltk_data]   Package punkt_tab is already up-to-date!\n",
            "[nltk_data] Downloading package wordnet to /root/nltk_data...\n"
          ]
        },
        {
          "output_type": "execute_result",
          "data": {
            "text/plain": [
              "True"
            ]
          },
          "metadata": {},
          "execution_count": 21
        }
      ]
    },
    {
      "cell_type": "markdown",
      "source": [
        "어간:\n",
        "  - 단어에서 접사(prefix, suffix) 제거\n",
        "  - 의미가 왜곡 될수 있음\n",
        "  - going :  go\n",
        "  - files :  fli  X\n",
        "  - happily  lappili  X\n",
        "  - running run\n",
        "표제어\n",
        "  - 문법적 정보(품사)를 고려해서 사전에 등재된 기본형으로 변환\n",
        "  - 사전을 이용 단어의 원형을 찾을수 있다\n",
        "  - 어간보다 더 복잡한 연산을 수행\n",
        "  - going :  go\n",
        "  - files :  fly\n",
        "  - happily  happy\n",
        "  - running run   \n",
        "\n",
        "어간추출 vs 표제어 추출\n",
        "- 방식  :  단순규칙기반 접사 제거   -  사전 기반 변환\n",
        "- 속도  :   빠름                    - 느림\n",
        "- 정확성 :   낮음(의미변환)         -  높음(문법적 의미 유지)\n",
        "\n",
        "- 빠른 텍스트 분석 : 어간추출\n",
        "- 정화기한 의미를 보전 : 표제어 추출\n",
        "- 대량의 데이터에서 성능 최적화 : 어간 추출\n",
        "- 언어의 정확성이 중요한 모델 : 표제어 추출\n",
        "\n"
      ],
      "metadata": {
        "id": "fBAvIwwMlgNM"
      }
    },
    {
      "cell_type": "code",
      "source": [
        "# 정제와정규화(대소문자, 특수문자, 불용어&짧은단어,\n",
        "# 어간&표제어 추출)\n",
        "def clean_text(text):\n",
        "  # 대소문자\n",
        "  text = text.lower()\n",
        "  # 특수문자 제거\n",
        "  text = re.sub('[^a-zA-Z\\s]', '', text)\n",
        "  # 불용어&짧은단어\n",
        "  words = word_tokenize(text)\n",
        "  stop_words = set(stopwords.words('english'))  # 불용어 사전을 가져온다\n",
        "  words = [word for word in words if word not in stop_words and len(word) > 2]\n",
        "  # 표기정규화(어간, 표제어)\n",
        "  stemmer = PorterStemmer()  #어간\n",
        "  lemmatizer = WordNetLemmatizer() # 표제어\n",
        "  stemmed_words = [stemmer.stem(word) for word in words]\n",
        "  lemmatized_words = [lemmatizer.lemmatize(word) for word in words]\n",
        "\n",
        "  return ' '.join(stemmed_words), ' '.join(lemmatized_words)\n"
      ],
      "metadata": {
        "id": "YIJUUyDpjUaN"
      },
      "execution_count": 23,
      "outputs": []
    },
    {
      "cell_type": "code",
      "source": [
        "test_text = \"I was wondering if anyone out there could enlighten me on this car. US and USA are similar. The automobile is expensive!\"\n",
        "# 정제후 결과\n",
        "stemmed_text, lemmatized_text =  clean_text(test_text)"
      ],
      "metadata": {
        "id": "Tp04Ng-HpynU"
      },
      "execution_count": 28,
      "outputs": []
    },
    {
      "cell_type": "code",
      "source": [
        "print(stemmed_text)\n",
        "print(lemmatized_text)"
      ],
      "metadata": {
        "colab": {
          "base_uri": "https://localhost:8080/"
        },
        "id": "g4nQqqRQp3gj",
        "outputId": "57d85b1f-fe84-416b-a31d-7a2d02eb6b62"
      },
      "execution_count": 29,
      "outputs": [
        {
          "output_type": "stream",
          "name": "stdout",
          "text": [
            "wonder anyon could enlighten car usa similar automobil expens\n",
            "wondering anyone could enlighten car usa similar automobile expensive\n"
          ]
        }
      ]
    },
    {
      "cell_type": "markdown",
      "source": [
        "불용어(stop_words)\n",
        "  - 자주 등장하지만 의미 분석에 큰 기여를 하지 안히는 단어\n",
        "  - 영어 : i my me the is an  over\n",
        "  - 한국어 : 조사(를, 에서) 접속사(그리고, 그러나), 관형사(이 그 저)"
      ],
      "metadata": {
        "id": "InFQUW0hqtQd"
      }
    },
    {
      "cell_type": "code",
      "source": [
        "import nltk\n",
        "from nltk.corpus import stopwords\n",
        "nltk.download('stopwords')\n",
        "# 불용어 확인\n",
        "stop_words_list = stopwords.words(\"english\")\n",
        "stop_words_list[:10]"
      ],
      "metadata": {
        "colab": {
          "base_uri": "https://localhost:8080/"
        },
        "id": "T8mH1EkyrWJl",
        "outputId": "d879d6e6-2bd9-4f65-9c3e-01e700b68b9d"
      },
      "execution_count": 31,
      "outputs": [
        {
          "output_type": "stream",
          "name": "stderr",
          "text": [
            "[nltk_data] Downloading package stopwords to /root/nltk_data...\n",
            "[nltk_data]   Package stopwords is already up-to-date!\n"
          ]
        },
        {
          "output_type": "execute_result",
          "data": {
            "text/plain": [
              "['a', 'about', 'above', 'after', 'again', 'against', 'ain', 'all', 'am', 'an']"
            ]
          },
          "metadata": {},
          "execution_count": 31
        }
      ]
    },
    {
      "cell_type": "code",
      "source": [
        "# NLTK를 이용한 불용어제거\n",
        "text = \"Family is not an important thing. It's everything.\"\n",
        "stop_words = stopwords.words(\"english\")\n",
        "stop_words = set(stop_words + ['.',\"'s\"])  # 사용자가 추가한 stopword(불용어)\n",
        "# 문장을 토큰화\n",
        "word_tokens =  word_tokenize(text)\n",
        "\n",
        "result = [ word for word in word_tokens if word not in stop_words]\n",
        "\n",
        "print('제거 전',word_tokens)\n",
        "print('제거 후',result)"
      ],
      "metadata": {
        "colab": {
          "base_uri": "https://localhost:8080/"
        },
        "id": "RBPmhgrHsBf0",
        "outputId": "637a827d-b291-488d-f7a5-e6ad5a29633b"
      },
      "execution_count": 39,
      "outputs": [
        {
          "output_type": "stream",
          "name": "stdout",
          "text": [
            "제거 전 ['Family', 'is', 'not', 'an', 'important', 'thing', '.', 'It', \"'s\", 'everything', '.']\n",
            "제거 후 ['Family', 'important', 'thing', 'It', 'everything']\n"
          ]
        }
      ]
    },
    {
      "cell_type": "code",
      "source": [
        "clean_text(text)"
      ],
      "metadata": {
        "colab": {
          "base_uri": "https://localhost:8080/"
        },
        "id": "K35ZZ_yQqcY0",
        "outputId": "05b63487-7dee-4f94-c19c-c44a5ab5e008"
      },
      "execution_count": 40,
      "outputs": [
        {
          "output_type": "execute_result",
          "data": {
            "text/plain": [
              "('famili import thing everyth', 'family important thing everything')"
            ]
          },
          "metadata": {},
          "execution_count": 40
        }
      ]
    },
    {
      "cell_type": "markdown",
      "source": [
        "https://github.com/stopwords-iso/stopwords-ko?ref=deep.chulgil.me"
      ],
      "metadata": {
        "id": "AUGn6ho0u2x8"
      }
    },
    {
      "cell_type": "code",
      "source": [
        "!npm  install stopwords-ko"
      ],
      "metadata": {
        "colab": {
          "base_uri": "https://localhost:8080/"
        },
        "id": "HSeWy0gzvRQj",
        "outputId": "55b240a4-12fe-44be-fdf6-90202dd38051"
      },
      "execution_count": 42,
      "outputs": [
        {
          "output_type": "stream",
          "name": "stdout",
          "text": [
            "\u001b[1G\u001b[0K⠙\u001b[1G\u001b[0K⠹\u001b[1G\u001b[0K⠸\u001b[1G\u001b[0K⠼\u001b[1G\u001b[0K⠴\u001b[1G\u001b[0K⠦\u001b[1G\u001b[0K⠧\u001b[1G\u001b[0K⠇\u001b[1G\u001b[0K⠏\u001b[1G\u001b[0K⠋\u001b[1G\u001b[0K⠙\u001b[1G\u001b[0K⠹\u001b[1G\u001b[0K\n",
            "added 1 package in 2s\n",
            "\u001b[1G\u001b[0K⠹\u001b[1G\u001b[0K"
          ]
        }
      ]
    },
    {
      "cell_type": "code",
      "source": [
        "!wget \"https://registry.npmjs.org/stopwords-ko/-/stopwords-ko-0.2.0.tgz\""
      ],
      "metadata": {
        "colab": {
          "base_uri": "https://localhost:8080/"
        },
        "id": "YrpN06wTv6lT",
        "outputId": "c5d78518-65e6-4b03-bf78-02fbe240b974"
      },
      "execution_count": 43,
      "outputs": [
        {
          "output_type": "stream",
          "name": "stdout",
          "text": [
            "--2025-02-24 11:37:56--  https://registry.npmjs.org/stopwords-ko/-/stopwords-ko-0.2.0.tgz\n",
            "Resolving registry.npmjs.org (registry.npmjs.org)... 104.16.25.34, 104.16.0.35, 104.16.1.35, ...\n",
            "Connecting to registry.npmjs.org (registry.npmjs.org)|104.16.25.34|:443... connected.\n",
            "HTTP request sent, awaiting response... 200 OK\n",
            "Length: 5166 (5.0K) [application/octet-stream]\n",
            "Saving to: ‘stopwords-ko-0.2.0.tgz’\n",
            "\n",
            "\rstopwords-ko-0.2.0.   0%[                    ]       0  --.-KB/s               \rstopwords-ko-0.2.0. 100%[===================>]   5.04K  --.-KB/s    in 0s      \n",
            "\n",
            "2025-02-24 11:37:56 (49.1 MB/s) - ‘stopwords-ko-0.2.0.tgz’ saved [5166/5166]\n",
            "\n"
          ]
        }
      ]
    },
    {
      "cell_type": "code",
      "source": [
        "!tar -zxvf stopwords-ko-0.2.0.tgz"
      ],
      "metadata": {
        "colab": {
          "base_uri": "https://localhost:8080/"
        },
        "id": "xAuS19PkwEtD",
        "outputId": "9832ebaa-26a6-44ee-ddb5-91d3f0931c91"
      },
      "execution_count": 44,
      "outputs": [
        {
          "output_type": "stream",
          "name": "stdout",
          "text": [
            "package/package.json\n",
            "package/.npmignore\n",
            "package/README.md\n",
            "package/LICENSE\n",
            "package/bower.json\n",
            "package/stopwords-ko.json\n",
            "package/.travis.yml\n"
          ]
        }
      ]
    },
    {
      "cell_type": "code",
      "source": [
        "import json\n",
        "with open('/content/package/stopwords-ko.json',encoding='utf-8') as f:\n",
        "  korean_stop_words = json.load(f)"
      ],
      "metadata": {
        "id": "QiGVr_jswSOc"
      },
      "execution_count": 55,
      "outputs": []
    },
    {
      "cell_type": "code",
      "source": [
        "len(korean_stop_words), korean_stop_words[100:110]"
      ],
      "metadata": {
        "colab": {
          "base_uri": "https://localhost:8080/"
        },
        "id": "rxfjkFpGwkwb",
        "outputId": "40b3e867-504e-45a7-c4af-047e2636629f"
      },
      "execution_count": 56,
      "outputs": [
        {
          "output_type": "execute_result",
          "data": {
            "text/plain": [
              "(679,\n",
              " ['그러므로',\n",
              "  '그러한즉',\n",
              "  '그런 까닭에',\n",
              "  '그런데',\n",
              "  '그런즉',\n",
              "  '그럼',\n",
              "  '그럼에도 불구하고',\n",
              "  '그렇게 함으로써',\n",
              "  '그렇지',\n",
              "  '그렇지 않다면'])"
            ]
          },
          "metadata": {},
          "execution_count": 56
        }
      ]
    },
    {
      "cell_type": "code",
      "source": [
        "# 한국어에서 불용어 제거  okt\n",
        "# 한국어 형태소 분석기\n",
        "okt = Okt()\n",
        "example = '화사, 박나래와 \"전화 차단\" 선언 후 \"큰엄마 같아, 사랑해\"'\n",
        "\n",
        "korean_stop_words.append('후')\n",
        "\n",
        "# 토큰화(명사)\n",
        "okt_nouns = okt.nouns(example)\n",
        "# 불용어 제거\n",
        "result = [word for word in okt_nouns if word not in korean_stop_words]\n",
        "print(\"불용어 제거전\", okt_nouns)\n",
        "print(\"불용어 제거후\", result)"
      ],
      "metadata": {
        "colab": {
          "base_uri": "https://localhost:8080/"
        },
        "id": "LmsV6URetlFs",
        "outputId": "83f52736-c3a2-478d-a3dd-7029aee1649b"
      },
      "execution_count": 59,
      "outputs": [
        {
          "output_type": "stream",
          "name": "stdout",
          "text": [
            "불용어 제거전 ['화사', '박나래', '전화', '차단', '선언', '후', '엄마', '사랑']\n",
            "불용어 제거후 ['화사', '박나래', '전화', '차단', '선언', '엄마', '사랑']\n"
          ]
        }
      ]
    },
    {
      "cell_type": "code",
      "source": [
        "'후' in korean_stop_words"
      ],
      "metadata": {
        "colab": {
          "base_uri": "https://localhost:8080/"
        },
        "id": "ydhNMDQXykSq",
        "outputId": "e88a0550-1c3c-4bca-e4da-551d5654a805"
      },
      "execution_count": 58,
      "outputs": [
        {
          "output_type": "execute_result",
          "data": {
            "text/plain": [
              "False"
            ]
          },
          "metadata": {},
          "execution_count": 58
        }
      ]
    },
    {
      "cell_type": "markdown",
      "source": [
        "정규화"
      ],
      "metadata": {
        "id": "29A2gsjEy8MS"
      }
    },
    {
      "cell_type": "code",
      "source": [
        "import re\n",
        "text = 'Natural Language Processing is amazing'\n",
        "tokens = re.findall(r\"\\b\\w+\\b\", text)  # 단어 경계를 기준으로 토큰을 분리\n",
        "print(tokens)\n",
        "\n",
        "# 비 단어문자(공백, 특수문자) 기준으로 분리\n",
        "text = 'Hello, world! NLP is fun.'\n",
        "tokens =  re.split(r\"\\W+\", text)\n",
        "print(tokens)\n",
        "\n",
        "# 특수문자 제거\n",
        "text = 'Hello, world! NLP is fun.'\n",
        "tokens =  re.sub(r\"[^a-zA-Z0-9\\s]\", \"\",text)\n",
        "print(tokens)\n",
        "\n",
        "# 한국어\n",
        "text = '안녕하세요 Hello 1234 반갑습니다'\n",
        "tokens =  re.findall(r\"[ㄱ-ㅎ가-힣]+\", text)\n",
        "print(tokens)"
      ],
      "metadata": {
        "colab": {
          "base_uri": "https://localhost:8080/"
        },
        "id": "m9nWcqFpy8vS",
        "outputId": "acf3c89d-48c5-43d7-e087-9eb9750b5f6c"
      },
      "execution_count": 64,
      "outputs": [
        {
          "output_type": "stream",
          "name": "stdout",
          "text": [
            "['Natural', 'Language', 'Processing', 'is', 'amazing']\n",
            "['Hello', 'world', 'NLP', 'is', 'fun', '']\n",
            "Hello world NLP is fun\n",
            "['안녕하세요', '반갑습니다']\n"
          ]
        }
      ]
    },
    {
      "cell_type": "markdown",
      "source": [
        "정수인코딩 : 단어수준의 토큰화 후 정수 인코딩\n",
        "   - 영어 : 띄어쓰기로 단어를 구분할수 있고, 형태 변화가 상대적으로 단순해서 일반적인 NLP 전처리 패턴이 잘 동작\n",
        "   - 띄어쓰기 기반 단어 토큰화 : World Tokenizer\n",
        "   - 불용어 제거 stop_words\n",
        "   - 단어 빈도수를 기준으로 정렬해서 정수 인덱스 부여\n",
        "   - OOV(Out Of Vocabulary) 문제 해결하기위해 OOV 토큰 추가"
      ],
      "metadata": {
        "id": "GfqoYHqE4E0q"
      }
    },
    {
      "cell_type": "code",
      "source": [
        "from collections import Counter\n",
        "from nltk.tokenize import word_tokenize\n",
        "from nltk.corpus import stopwords\n",
        "\n",
        "text = '''\n",
        "The leaders of Europe’s two nuclear powers are rushing to the White House to try to reclaim a central role for themselves and for Ukraine after they were cut out of US-Russia talks on ending the war.\n",
        "\n",
        "President Donald Trump sent shock waves through the transatlantic alliance last week and played into Russian President Vladimir Putin’s hands while attacking Ukrainian President Volodymyr Zelensky and trashing the truth about how the war started.\n",
        "\n",
        "French President Emmanuel Macron will visit Trump on Monday — the third anniversary of Russia’s brutal invasion of Ukraine, a sovereign democracy, which has killed tens of thousands of civilians and left Putin and his forces accused of war crimes.\n",
        "\n",
        "British Prime Minister Keir Starmer will follow on Thursday, in the most treacherous moment yet of his young premiership, with large gaps opening between Washington and London on the reality of Ukraine’s plight.\n",
        "\n",
        "Britain and France are drawing up plans for a European “reassurance force,” perhaps including up to 30,000 troops that could deploy to Ukraine in the event of a peace deal. The idea, however, faces massive barriers — not least that a deal that both Zelensky and Putin could agree to sign seems highly unlikely. And Starmer has already warned that the force couldn’t work without a US “backstop,” which could potentially include security guarantees, American intelligence cooperation, air support and heavy lift transport. A key takeaway this week will be whether Trump has any interest given Russia’s opposition to NATO troops in Ukraine under any flag.\n",
        "\n",
        "As Trump leads the US in a new direction on Ukraine, historic schisms are opening that threaten the transatlantic alliance and the post-World War II order. Trump treats America’s longtime friends — who have failed to deliver on calls by successive presidents to spend more on defense — as adversaries. And the new administration has already shattered years of European assumptions about America’s security guarantees to the West.\n",
        "\n",
        "A Ukrainian soldier prepares to fire a howitzer toward Russian positions on the front line near Chasiv Yar, in Ukraine's Donetsk region, on February 7.\n",
        "A Ukrainian soldier prepares to fire a howitzer toward Russian positions on the front line near Chasiv Yar, in Ukraine's Donetsk region, on February 7. Oleg Petrasiuk/Ukraine's 24th Mechanized Brigade/AP\n",
        "The president’s siding with Putin over Zelensky — and his bid to extract a punitive deal to export Ukraine’s rare earth minerals as a payback for past US aid — shocked transatlantic allies. Defense Secretary Pete Hegseth’s warning in Brussels this month that Europe must take primary responsibility for its own security called into question NATO’s creed of mutual defense. And Vice President JD Vance’s slam of European governments and values in a speech in Munich was seen in Europe as an attempt to destabilize continental leaders on behalf of far-right populists who take ideological inspiration from the MAGA movement.\n",
        "\n",
        "In an extraordinary comment that captured the historic times, the likely next leader of Germany Friedrich Merz, leader of the conservative Christian Democratic Union that won Sunday’s general election, according to exit polls, set out the new government’s program.\n",
        "\n",
        "“My absolute priority will be to strengthen Europe as quickly as possible so that, step by step, we can really achieve independence from the USA,” Merz said at a televised roundtable after the exit polls also showed huge gains for the extreme-right AfD party.\n",
        "\n",
        "“I would never have believed that I would have to say something like that on television. But at the very least, after Donald Trump’s statements last week, it is clear that the Americans — at least this part of the Americans in this administration — are largely indifferent to the fate of Europe,” Merz said.\n",
        "\n",
        "‘We came very, very close to signing something’\n",
        "Trump appears to be aiming for a lightning-fast peace agreement — similar to the velocity of his domestic transformation a month after his return to the White House.\n",
        "\n",
        "His Middle East envoy Steve Witkoff, who has a leading role in the Ukraine talks, on Sunday raised the prospect of a swift breakthrough following the meeting between US and Russian officials last week. “We came very, very close to signing something. And I think we will be using that framework as a guidepost to get a peace deal done between Ukraine and Russia,” Witkoff told CNN’s Jake Tapper on “State of the Union.”\n",
        "\n",
        "He added: “The president understands how to get deals done. Deals only work when they’re good for all the parties. And that’s the pathway that we’re on here.”\n",
        "\n",
        "Hegseth implied Sunday that Trump’s depiction of Zelensky as a “dictator” last week was meant to avoid annoying Putin in order to get concessions at the negotiating table. “Standing here and saying, ‘you’re good, you’re bad, you’re a dictator, you’re not a dictator, you invaded, you didn’t’ — it’s not useful. It’s not productive,” Hegseth said on “Fox News Sunday.”\n",
        "\n",
        "Delegations from the United States, left, and Russia, right, meet in Riyadh, Saudi Arabia, on February 18. US Secretary of State Marco Rubio is seen second from left, between Middle East envoy Steve Witkoff, far left, and national security adviser Mike Waltz. Russian Foreign Minister Sergei Lavrov is seen on the far right, next to foreign policy adviser Yuri Ushakov.\n",
        "Delegations from the United States, left, and Russia, right, meet in Riyadh, Saudi Arabia, on February 18. US Secretary of State Marco Rubio is seen second from left, between Middle East envoy Steve Witkoff, far left, and national security adviser Mike Waltz. Russian Foreign Minister Sergei Lavrov is seen on the far right, next to foreign policy adviser Yuri Ushakov. Evelyn Hockstein/Reuters\n",
        "But Sen. Jack Reed, the ranking Democrat on the Senate Armed Services Committee, accused Trump of “surrendering” to Putin. “This is not a statesman or a diplomat. This is just someone who admires Putin, does not believe in the struggle of the Ukrainians, and is committed to cozying up to an autocrat.” The Rhode Island Democrat added on ABC’s “This Week”: “Putin will not stop in Ukraine. He will begin in a campaign, both clandestine and in many cases overt, to undermine the other governments in Eastern Europe and it’ll create chaos.”\n",
        "\n",
        "Trump’s turn against Ukraine and his rush to embrace Putin ahead of a potential summit in the coming weeks has Ukrainians and Europeans fearing that he simply plans to seal a deal with Russia and then impose it on Kyiv. That’s why Macron and Starmer will try to convince the president he will look bad if he fails to drive a hard bargain with Putin.\n",
        "\n",
        "“What I am going to do is that I am going to tell him basically, you cannot be weak in the face of President Putin. It’s not you, it’s not your trademark,” Macron said, paraphrasing his message to Trump in a social media Q&A on Thursday.\n",
        "\n",
        "An Elysée Palace official said that Macron shared Trump’s goal of ending Russia’s war of aggression and was bringing proposals that were reaffirmed in his talks with European leaders, particularly with the British. “He is traveling to Washington with this goal in mind, sharing this desire to end the conflict while making every effort to maintain our support for Ukraine, strengthen European security and ensure that Ukraine is fully involved in these efforts, and to ensure that Ukraine’s interests — which are ours as well — are fully taken into account.”\n",
        "\n",
        "Starmer on Sunday laid out a tough pro-Zelensky approach, which conflicted with Trump’s position, a day after talking to the Ukrainian leader on the phone. “Nobody wants the bloodshed to continue. Nobody, least of all the Ukrainians,” Starmer said at the Scottish Labour Party conference in Glasgow. “But after everything that they have suffered, after everything that they have fought for, there could be no discussion about Ukraine without Ukraine, and the people of Ukraine must have a long-term secure future.”\n",
        "\n",
        "Visitors stand next to a makeshift memorial paying tribute to Ukrainian and foreign fighters at Independence Square in Kyiv ahead of the third anniversary of Russia's invasion of Ukraine.\n",
        "Visitors stand next to a makeshift memorial paying tribute to Ukrainian and foreign fighters at Independence Square in Kyiv ahead of the third anniversary of Russia's invasion of Ukraine. Roman Pilipey/AFP/Getty Images\n",
        "The phrase “no discussion about Ukraine without Ukraine” encapsulated the principles of the Biden administration’s tight coordination with Europe and Kyiv over the war. But that consensus has been buckled by Trump. And Starmer will risk further angering the president before he arrives. Bridget Phillipson, a British Cabinet minister, told Sky News on Sunday that the UK government would unveil a new set of sanctions against Russia on Monday.\n",
        "\n",
        "Trump says that Zelensky — a hero in the west for leading Ukraine’s resistance to Russia — didn’t deserve to be at the talks. “I’ve been watching for years, and I’ve been watching him negotiate with no cards. He has no cards. And you get sick of it,” Trump said on Fox News Radio’s “The Brian Kilmeade Show” Friday.\n",
        "\n",
        "Trump also criticized his visitors. “You know, they haven’t done anything,” he told Kilmeade. “You know, Macron’s a friend of mine, and I met with the prime minister, and you know, he’s a very nice guy, but nobody’s done anything,” Trump said.\n",
        "\n",
        "Macron may try to correct Trump on that point, one person familiar with the matter said. But the French president is most intent on managing the way forward, providing his view on how Europe can help assure Ukraine’s security, as long as it is incorporated into talks to end the war.\n",
        "\n",
        "Starmer: The US is ‘right’ to complain about European defense spending\n",
        "The French and British leaders will also arrive in Washington as Trump demands steep hikes in defense spending by NATO members, which would mean excruciating fiscal choices for governments saddled by constricted public finances. Both Macron and Starmer have spoken of the need for European nations to do more to protect the continent, but their capacity to act is likely to fall far short of the American president’s expectations.\n",
        "\n",
        "Despite Starmer saying Sunday that Trump was “right” in calling for Europe to step up, Phillipson declined to say, for instance, whether her boss would tell Trump a target date for his government to raise defense spending to 2.5% of GDP. The US president has demanded 5%.\n",
        "\n",
        "Both Macron and Starmer, who spoke by telephone Sunday, are expected to argue that Washington’s continued presence in Europe and security guarantees are critical to peace in the west, despite the Trump administration’s desire to pivot to the challenge posed by China.\n",
        "\n",
        "British Prime Minister Keir Starmer speaks during Day 3 of the Scottish Labour Party conference on Sunday in Glasgow.\n",
        "British Prime Minister Keir Starmer speaks during Day 3 of the Scottish Labour Party conference on Sunday in Glasgow. Peter Summers/Getty Images\n",
        "The European message is going to be a tough sell to a transactional president who doesn’t appreciate alliances as a force multiplier for American power and who seems to prefer the company of autocrats to that of his fellow democratic leaders.\n",
        "\n",
        "Macron has already tried to shape Trump’s thinking on Ukraine, arranging a three-way meeting with the then-US president-elect and Zelensky in Paris last December. Trump was respectful and “in listening mode” during the meeting, one official said, as Zelensky laid out the necessity of security guarantees for Ukraine once the war ends. Macron tried to impress on Trump that Putin had changed since he was last in office and warned that if Ukraine was defeated, the US could look weak to its other rivals — namely China.\n",
        "\n",
        "But two months later, the talks do not appear to have left a lasting impression on Trump, given his comments of the last week. And European officials acknowledge it will be impossible to persuade Trump to abandon his erroneous views of the war, including that it was provoked by Ukraine or that the United States was conned into supporting a man he claims is a dictator.\n",
        "\n",
        "Instead, they say, it will be more useful to look ahead, as Trump prepares to sit down soon with Putin and the contours of a possible peace agreement emerge.\n",
        "'''\n",
        "tokens = word_tokenize(text)\n",
        "stop_words = stopwords.words('english') + [',', '.', '’', '—', '“', '”']\n",
        "\n",
        "tokens = [word for word in tokens if word.lower() not in stop_words]\n",
        "print(tokens)\n",
        "# 빈도수 기반 정수 인코딩\n",
        "vocab = Counter(tokens)\n",
        "print(vocab.most_common())"
      ],
      "metadata": {
        "colab": {
          "base_uri": "https://localhost:8080/"
        },
        "id": "TSW9T9i244Qa",
        "outputId": "ac8e58e2-db95-416b-8acb-33b07e1ff4a8"
      },
      "execution_count": 74,
      "outputs": [
        {
          "output_type": "stream",
          "name": "stdout",
          "text": [
            "['leaders', 'Europe', 'two', 'nuclear', 'powers', 'rushing', 'White', 'House', 'try', 'reclaim', 'central', 'role', 'Ukraine', 'cut', 'US-Russia', 'talks', 'ending', 'war', 'President', 'Donald', 'Trump', 'sent', 'shock', 'waves', 'transatlantic', 'alliance', 'last', 'week', 'played', 'Russian', 'President', 'Vladimir', 'Putin', 'hands', 'attacking', 'Ukrainian', 'President', 'Volodymyr', 'Zelensky', 'trashing', 'truth', 'war', 'started', 'French', 'President', 'Emmanuel', 'Macron', 'visit', 'Trump', 'Monday', 'third', 'anniversary', 'Russia', 'brutal', 'invasion', 'Ukraine', 'sovereign', 'democracy', 'killed', 'tens', 'thousands', 'civilians', 'left', 'Putin', 'forces', 'accused', 'war', 'crimes', 'British', 'Prime', 'Minister', 'Keir', 'Starmer', 'follow', 'Thursday', 'treacherous', 'moment', 'yet', 'young', 'premiership', 'large', 'gaps', 'opening', 'Washington', 'London', 'reality', 'Ukraine', 'plight', 'Britain', 'France', 'drawing', 'plans', 'European', 'reassurance', 'force', 'perhaps', 'including', '30,000', 'troops', 'could', 'deploy', 'Ukraine', 'event', 'peace', 'deal', 'idea', 'however', 'faces', 'massive', 'barriers', 'least', 'deal', 'Zelensky', 'Putin', 'could', 'agree', 'sign', 'seems', 'highly', 'unlikely', 'Starmer', 'already', 'warned', 'force', 'work', 'without', 'US', 'backstop', 'could', 'potentially', 'include', 'security', 'guarantees', 'American', 'intelligence', 'cooperation', 'air', 'support', 'heavy', 'lift', 'transport', 'key', 'takeaway', 'week', 'whether', 'Trump', 'interest', 'given', 'Russia', 'opposition', 'NATO', 'troops', 'Ukraine', 'flag', 'Trump', 'leads', 'US', 'new', 'direction', 'Ukraine', 'historic', 'schisms', 'opening', 'threaten', 'transatlantic', 'alliance', 'post-World', 'War', 'II', 'order', 'Trump', 'treats', 'America', 'longtime', 'friends', 'failed', 'deliver', 'calls', 'successive', 'presidents', 'spend', 'defense', 'adversaries', 'new', 'administration', 'already', 'shattered', 'years', 'European', 'assumptions', 'America', 'security', 'guarantees', 'West', 'Ukrainian', 'soldier', 'prepares', 'fire', 'howitzer', 'toward', 'Russian', 'positions', 'front', 'line', 'near', 'Chasiv', 'Yar', 'Ukraine', \"'s\", 'Donetsk', 'region', 'February', '7', 'Ukrainian', 'soldier', 'prepares', 'fire', 'howitzer', 'toward', 'Russian', 'positions', 'front', 'line', 'near', 'Chasiv', 'Yar', 'Ukraine', \"'s\", 'Donetsk', 'region', 'February', '7', 'Oleg', 'Petrasiuk/Ukraine', \"'s\", '24th', 'Mechanized', 'Brigade/AP', 'president', 'siding', 'Putin', 'Zelensky', 'bid', 'extract', 'punitive', 'deal', 'export', 'Ukraine', 'rare', 'earth', 'minerals', 'payback', 'past', 'US', 'aid', 'shocked', 'transatlantic', 'allies', 'Defense', 'Secretary', 'Pete', 'Hegseth', 'warning', 'Brussels', 'month', 'Europe', 'must', 'take', 'primary', 'responsibility', 'security', 'called', 'question', 'NATO', 'creed', 'mutual', 'defense', 'Vice', 'President', 'JD', 'Vance', 'slam', 'European', 'governments', 'values', 'speech', 'Munich', 'seen', 'Europe', 'attempt', 'destabilize', 'continental', 'leaders', 'behalf', 'far-right', 'populists', 'take', 'ideological', 'inspiration', 'MAGA', 'movement', 'extraordinary', 'comment', 'captured', 'historic', 'times', 'likely', 'next', 'leader', 'Germany', 'Friedrich', 'Merz', 'leader', 'conservative', 'Christian', 'Democratic', 'Union', 'Sunday', 'general', 'election', 'according', 'exit', 'polls', 'set', 'new', 'government', 'program', 'absolute', 'priority', 'strengthen', 'Europe', 'quickly', 'possible', 'step', 'step', 'really', 'achieve', 'independence', 'USA', 'Merz', 'said', 'televised', 'roundtable', 'exit', 'polls', 'also', 'showed', 'huge', 'gains', 'extreme-right', 'AfD', 'party', 'would', 'never', 'believed', 'would', 'say', 'something', 'like', 'television', 'least', 'Donald', 'Trump', 'statements', 'last', 'week', 'clear', 'Americans', 'least', 'part', 'Americans', 'administration', 'largely', 'indifferent', 'fate', 'Europe', 'Merz', 'said', '‘', 'came', 'close', 'signing', 'something', 'Trump', 'appears', 'aiming', 'lightning-fast', 'peace', 'agreement', 'similar', 'velocity', 'domestic', 'transformation', 'month', 'return', 'White', 'House', 'Middle', 'East', 'envoy', 'Steve', 'Witkoff', 'leading', 'role', 'Ukraine', 'talks', 'Sunday', 'raised', 'prospect', 'swift', 'breakthrough', 'following', 'meeting', 'US', 'Russian', 'officials', 'last', 'week', 'came', 'close', 'signing', 'something', 'think', 'using', 'framework', 'guidepost', 'get', 'peace', 'deal', 'done', 'Ukraine', 'Russia', 'Witkoff', 'told', 'CNN', 'Jake', 'Tapper', 'State', 'Union.', 'added', ':', 'president', 'understands', 'get', 'deals', 'done', 'Deals', 'work', 'good', 'parties', 'pathway', 'here.', 'Hegseth', 'implied', 'Sunday', 'Trump', 'depiction', 'Zelensky', 'dictator', 'last', 'week', 'meant', 'avoid', 'annoying', 'Putin', 'order', 'get', 'concessions', 'negotiating', 'table', 'Standing', 'saying', '‘', 'good', 'bad', 'dictator', 'dictator', 'invaded', 'useful', 'productive', 'Hegseth', 'said', 'Fox', 'News', 'Sunday.', 'Delegations', 'United', 'States', 'left', 'Russia', 'right', 'meet', 'Riyadh', 'Saudi', 'Arabia', 'February', '18', 'US', 'Secretary', 'State', 'Marco', 'Rubio', 'seen', 'second', 'left', 'Middle', 'East', 'envoy', 'Steve', 'Witkoff', 'far', 'left', 'national', 'security', 'adviser', 'Mike', 'Waltz', 'Russian', 'Foreign', 'Minister', 'Sergei', 'Lavrov', 'seen', 'far', 'right', 'next', 'foreign', 'policy', 'adviser', 'Yuri', 'Ushakov', 'Delegations', 'United', 'States', 'left', 'Russia', 'right', 'meet', 'Riyadh', 'Saudi', 'Arabia', 'February', '18', 'US', 'Secretary', 'State', 'Marco', 'Rubio', 'seen', 'second', 'left', 'Middle', 'East', 'envoy', 'Steve', 'Witkoff', 'far', 'left', 'national', 'security', 'adviser', 'Mike', 'Waltz', 'Russian', 'Foreign', 'Minister', 'Sergei', 'Lavrov', 'seen', 'far', 'right', 'next', 'foreign', 'policy', 'adviser', 'Yuri', 'Ushakov', 'Evelyn', 'Hockstein/Reuters', 'Sen.', 'Jack', 'Reed', 'ranking', 'Democrat', 'Senate', 'Armed', 'Services', 'Committee', 'accused', 'Trump', 'surrendering', 'Putin', 'statesman', 'diplomat', 'someone', 'admires', 'Putin', 'believe', 'struggle', 'Ukrainians', 'committed', 'cozying', 'autocrat.', 'Rhode', 'Island', 'Democrat', 'added', 'ABC', 'Week', ':', 'Putin', 'stop', 'Ukraine', 'begin', 'campaign', 'clandestine', 'many', 'cases', 'overt', 'undermine', 'governments', 'Eastern', 'Europe', 'create', 'chaos.', 'Trump', 'turn', 'Ukraine', 'rush', 'embrace', 'Putin', 'ahead', 'potential', 'summit', 'coming', 'weeks', 'Ukrainians', 'Europeans', 'fearing', 'simply', 'plans', 'seal', 'deal', 'Russia', 'impose', 'Kyiv', 'Macron', 'Starmer', 'try', 'convince', 'president', 'look', 'bad', 'fails', 'drive', 'hard', 'bargain', 'Putin', 'going', 'going', 'tell', 'basically', 'weak', 'face', 'President', 'Putin', 'trademark', 'Macron', 'said', 'paraphrasing', 'message', 'Trump', 'social', 'media', 'Q', '&', 'Thursday', 'Elysée', 'Palace', 'official', 'said', 'Macron', 'shared', 'Trump', 'goal', 'ending', 'Russia', 'war', 'aggression', 'bringing', 'proposals', 'reaffirmed', 'talks', 'European', 'leaders', 'particularly', 'British', 'traveling', 'Washington', 'goal', 'mind', 'sharing', 'desire', 'end', 'conflict', 'making', 'every', 'effort', 'maintain', 'support', 'Ukraine', 'strengthen', 'European', 'security', 'ensure', 'Ukraine', 'fully', 'involved', 'efforts', 'ensure', 'Ukraine', 'interests', 'well', 'fully', 'taken', 'account.', 'Starmer', 'Sunday', 'laid', 'tough', 'pro-Zelensky', 'approach', 'conflicted', 'Trump', 'position', 'day', 'talking', 'Ukrainian', 'leader', 'phone', 'Nobody', 'wants', 'bloodshed', 'continue', 'Nobody', 'least', 'Ukrainians', 'Starmer', 'said', 'Scottish', 'Labour', 'Party', 'conference', 'Glasgow', 'everything', 'suffered', 'everything', 'fought', 'could', 'discussion', 'Ukraine', 'without', 'Ukraine', 'people', 'Ukraine', 'must', 'long-term', 'secure', 'future.', 'Visitors', 'stand', 'next', 'makeshift', 'memorial', 'paying', 'tribute', 'Ukrainian', 'foreign', 'fighters', 'Independence', 'Square', 'Kyiv', 'ahead', 'third', 'anniversary', 'Russia', \"'s\", 'invasion', 'Ukraine', 'Visitors', 'stand', 'next', 'makeshift', 'memorial', 'paying', 'tribute', 'Ukrainian', 'foreign', 'fighters', 'Independence', 'Square', 'Kyiv', 'ahead', 'third', 'anniversary', 'Russia', \"'s\", 'invasion', 'Ukraine', 'Roman', 'Pilipey/AFP/Getty', 'Images', 'phrase', 'discussion', 'Ukraine', 'without', 'Ukraine', 'encapsulated', 'principles', 'Biden', 'administration', 'tight', 'coordination', 'Europe', 'Kyiv', 'war', 'consensus', 'buckled', 'Trump', 'Starmer', 'risk', 'angering', 'president', 'arrives', 'Bridget', 'Phillipson', 'British', 'Cabinet', 'minister', 'told', 'Sky', 'News', 'Sunday', 'UK', 'government', 'would', 'unveil', 'new', 'set', 'sanctions', 'Russia', 'Monday', 'Trump', 'says', 'Zelensky', 'hero', 'west', 'leading', 'Ukraine', 'resistance', 'Russia', 'deserve', 'talks', 'watching', 'years', 'watching', 'negotiate', 'cards', 'cards', 'get', 'sick', 'Trump', 'said', 'Fox', 'News', 'Radio', 'Brian', 'Kilmeade', 'Show', 'Friday', 'Trump', 'also', 'criticized', 'visitors', 'know', 'done', 'anything', 'told', 'Kilmeade', 'know', 'Macron', 'friend', 'mine', 'met', 'prime', 'minister', 'know', 'nice', 'guy', 'nobody', 'done', 'anything', 'Trump', 'said', 'Macron', 'may', 'try', 'correct', 'Trump', 'point', 'one', 'person', 'familiar', 'matter', 'said', 'French', 'president', 'intent', 'managing', 'way', 'forward', 'providing', 'view', 'Europe', 'help', 'assure', 'Ukraine', 'security', 'long', 'incorporated', 'talks', 'end', 'war', 'Starmer', ':', 'US', '‘', 'right', 'complain', 'European', 'defense', 'spending', 'French', 'British', 'leaders', 'also', 'arrive', 'Washington', 'Trump', 'demands', 'steep', 'hikes', 'defense', 'spending', 'NATO', 'members', 'would', 'mean', 'excruciating', 'fiscal', 'choices', 'governments', 'saddled', 'constricted', 'public', 'finances', 'Macron', 'Starmer', 'spoken', 'need', 'European', 'nations', 'protect', 'continent', 'capacity', 'act', 'likely', 'fall', 'far', 'short', 'American', 'president', 'expectations', 'Despite', 'Starmer', 'saying', 'Sunday', 'Trump', 'right', 'calling', 'Europe', 'step', 'Phillipson', 'declined', 'say', 'instance', 'whether', 'boss', 'would', 'tell', 'Trump', 'target', 'date', 'government', 'raise', 'defense', 'spending', '2.5', '%', 'GDP', 'US', 'president', 'demanded', '5', '%', 'Macron', 'Starmer', 'spoke', 'telephone', 'Sunday', 'expected', 'argue', 'Washington', 'continued', 'presence', 'Europe', 'security', 'guarantees', 'critical', 'peace', 'west', 'despite', 'Trump', 'administration', 'desire', 'pivot', 'challenge', 'posed', 'China', 'British', 'Prime', 'Minister', 'Keir', 'Starmer', 'speaks', 'Day', '3', 'Scottish', 'Labour', 'Party', 'conference', 'Sunday', 'Glasgow', 'British', 'Prime', 'Minister', 'Keir', 'Starmer', 'speaks', 'Day', '3', 'Scottish', 'Labour', 'Party', 'conference', 'Sunday', 'Glasgow', 'Peter', 'Summers/Getty', 'Images', 'European', 'message', 'going', 'tough', 'sell', 'transactional', 'president', 'appreciate', 'alliances', 'force', 'multiplier', 'American', 'power', 'seems', 'prefer', 'company', 'autocrats', 'fellow', 'democratic', 'leaders', 'Macron', 'already', 'tried', 'shape', 'Trump', 'thinking', 'Ukraine', 'arranging', 'three-way', 'meeting', 'then-US', 'president-elect', 'Zelensky', 'Paris', 'last', 'December', 'Trump', 'respectful', 'listening', 'mode', 'meeting', 'one', 'official', 'said', 'Zelensky', 'laid', 'necessity', 'security', 'guarantees', 'Ukraine', 'war', 'ends', 'Macron', 'tried', 'impress', 'Trump', 'Putin', 'changed', 'since', 'last', 'office', 'warned', 'Ukraine', 'defeated', 'US', 'could', 'look', 'weak', 'rivals', 'namely', 'China', 'two', 'months', 'later', 'talks', 'appear', 'left', 'lasting', 'impression', 'Trump', 'given', 'comments', 'last', 'week', 'European', 'officials', 'acknowledge', 'impossible', 'persuade', 'Trump', 'abandon', 'erroneous', 'views', 'war', 'including', 'provoked', 'Ukraine', 'United', 'States', 'conned', 'supporting', 'man', 'claims', 'dictator', 'Instead', 'say', 'useful', 'look', 'ahead', 'Trump', 'prepares', 'sit', 'soon', 'Putin', 'contours', 'possible', 'peace', 'agreement', 'emerge']\n",
            "[('Ukraine', 29), ('Trump', 29), ('Putin', 13), ('Starmer', 12), ('Russia', 11), ('Europe', 10), ('Macron', 10), ('said', 10), ('European', 9), ('US', 9), ('security', 9), ('Sunday', 9), ('war', 8), ('left', 8), ('president', 8), ('last', 7), ('Zelensky', 7), ('talks', 6), ('President', 6), ('week', 6), ('Russian', 6), ('Ukrainian', 6), ('British', 6), ('right', 6), ('leaders', 5), ('Minister', 5), ('could', 5), ('peace', 5), ('deal', 5), ('defense', 5), (\"'s\", 5), ('seen', 5), ('next', 5), ('would', 5), ('far', 5), ('Washington', 4), ('least', 4), ('guarantees', 4), ('new', 4), ('administration', 4), ('February', 4), ('Witkoff', 4), ('get', 4), ('done', 4), ('dictator', 4), ('adviser', 4), ('foreign', 4), ('ahead', 4), ('Kyiv', 4), ('try', 3), ('transatlantic', 3), ('French', 3), ('third', 3), ('anniversary', 3), ('invasion', 3), ('Prime', 3), ('Keir', 3), ('force', 3), ('already', 3), ('without', 3), ('American', 3), ('NATO', 3), ('prepares', 3), ('Secretary', 3), ('Hegseth', 3), ('governments', 3), ('leader', 3), ('Merz', 3), ('government', 3), ('step', 3), ('also', 3), ('say', 3), ('something', 3), ('‘', 3), ('Middle', 3), ('East', 3), ('envoy', 3), ('Steve', 3), ('meeting', 3), ('told', 3), ('State', 3), (':', 3), ('News', 3), ('United', 3), ('States', 3), ('Ukrainians', 3), ('look', 3), ('going', 3), ('Scottish', 3), ('Labour', 3), ('Party', 3), ('conference', 3), ('Glasgow', 3), ('know', 3), ('spending', 3), ('two', 2), ('White', 2), ('House', 2), ('role', 2), ('ending', 2), ('Donald', 2), ('alliance', 2), ('Monday', 2), ('accused', 2), ('Thursday', 2), ('opening', 2), ('plans', 2), ('including', 2), ('troops', 2), ('seems', 2), ('warned', 2), ('work', 2), ('support', 2), ('whether', 2), ('given', 2), ('historic', 2), ('order', 2), ('America', 2), ('years', 2), ('soldier', 2), ('fire', 2), ('howitzer', 2), ('toward', 2), ('positions', 2), ('front', 2), ('line', 2), ('near', 2), ('Chasiv', 2), ('Yar', 2), ('Donetsk', 2), ('region', 2), ('7', 2), ('month', 2), ('must', 2), ('take', 2), ('likely', 2), ('exit', 2), ('polls', 2), ('set', 2), ('strengthen', 2), ('possible', 2), ('Americans', 2), ('came', 2), ('close', 2), ('signing', 2), ('agreement', 2), ('leading', 2), ('officials', 2), ('added', 2), ('good', 2), ('saying', 2), ('bad', 2), ('useful', 2), ('Fox', 2), ('Delegations', 2), ('meet', 2), ('Riyadh', 2), ('Saudi', 2), ('Arabia', 2), ('18', 2), ('Marco', 2), ('Rubio', 2), ('second', 2), ('national', 2), ('Mike', 2), ('Waltz', 2), ('Foreign', 2), ('Sergei', 2), ('Lavrov', 2), ('policy', 2), ('Yuri', 2), ('Ushakov', 2), ('Democrat', 2), ('tell', 2), ('weak', 2), ('message', 2), ('official', 2), ('goal', 2), ('desire', 2), ('end', 2), ('ensure', 2), ('fully', 2), ('laid', 2), ('tough', 2), ('Nobody', 2), ('everything', 2), ('discussion', 2), ('Visitors', 2), ('stand', 2), ('makeshift', 2), ('memorial', 2), ('paying', 2), ('tribute', 2), ('fighters', 2), ('Independence', 2), ('Square', 2), ('Images', 2), ('Phillipson', 2), ('minister', 2), ('west', 2), ('watching', 2), ('cards', 2), ('Kilmeade', 2), ('anything', 2), ('one', 2), ('%', 2), ('China', 2), ('speaks', 2), ('Day', 2), ('3', 2), ('tried', 2), ('nuclear', 1), ('powers', 1), ('rushing', 1), ('reclaim', 1), ('central', 1), ('cut', 1), ('US-Russia', 1), ('sent', 1), ('shock', 1), ('waves', 1), ('played', 1), ('Vladimir', 1), ('hands', 1), ('attacking', 1), ('Volodymyr', 1), ('trashing', 1), ('truth', 1), ('started', 1), ('Emmanuel', 1), ('visit', 1), ('brutal', 1), ('sovereign', 1), ('democracy', 1), ('killed', 1), ('tens', 1), ('thousands', 1), ('civilians', 1), ('forces', 1), ('crimes', 1), ('follow', 1), ('treacherous', 1), ('moment', 1), ('yet', 1), ('young', 1), ('premiership', 1), ('large', 1), ('gaps', 1), ('London', 1), ('reality', 1), ('plight', 1), ('Britain', 1), ('France', 1), ('drawing', 1), ('reassurance', 1), ('perhaps', 1), ('30,000', 1), ('deploy', 1), ('event', 1), ('idea', 1), ('however', 1), ('faces', 1), ('massive', 1), ('barriers', 1), ('agree', 1), ('sign', 1), ('highly', 1), ('unlikely', 1), ('backstop', 1), ('potentially', 1), ('include', 1), ('intelligence', 1), ('cooperation', 1), ('air', 1), ('heavy', 1), ('lift', 1), ('transport', 1), ('key', 1), ('takeaway', 1), ('interest', 1), ('opposition', 1), ('flag', 1), ('leads', 1), ('direction', 1), ('schisms', 1), ('threaten', 1), ('post-World', 1), ('War', 1), ('II', 1), ('treats', 1), ('longtime', 1), ('friends', 1), ('failed', 1), ('deliver', 1), ('calls', 1), ('successive', 1), ('presidents', 1), ('spend', 1), ('adversaries', 1), ('shattered', 1), ('assumptions', 1), ('West', 1), ('Oleg', 1), ('Petrasiuk/Ukraine', 1), ('24th', 1), ('Mechanized', 1), ('Brigade/AP', 1), ('siding', 1), ('bid', 1), ('extract', 1), ('punitive', 1), ('export', 1), ('rare', 1), ('earth', 1), ('minerals', 1), ('payback', 1), ('past', 1), ('aid', 1), ('shocked', 1), ('allies', 1), ('Defense', 1), ('Pete', 1), ('warning', 1), ('Brussels', 1), ('primary', 1), ('responsibility', 1), ('called', 1), ('question', 1), ('creed', 1), ('mutual', 1), ('Vice', 1), ('JD', 1), ('Vance', 1), ('slam', 1), ('values', 1), ('speech', 1), ('Munich', 1), ('attempt', 1), ('destabilize', 1), ('continental', 1), ('behalf', 1), ('far-right', 1), ('populists', 1), ('ideological', 1), ('inspiration', 1), ('MAGA', 1), ('movement', 1), ('extraordinary', 1), ('comment', 1), ('captured', 1), ('times', 1), ('Germany', 1), ('Friedrich', 1), ('conservative', 1), ('Christian', 1), ('Democratic', 1), ('Union', 1), ('general', 1), ('election', 1), ('according', 1), ('program', 1), ('absolute', 1), ('priority', 1), ('quickly', 1), ('really', 1), ('achieve', 1), ('independence', 1), ('USA', 1), ('televised', 1), ('roundtable', 1), ('showed', 1), ('huge', 1), ('gains', 1), ('extreme-right', 1), ('AfD', 1), ('party', 1), ('never', 1), ('believed', 1), ('like', 1), ('television', 1), ('statements', 1), ('clear', 1), ('part', 1), ('largely', 1), ('indifferent', 1), ('fate', 1), ('appears', 1), ('aiming', 1), ('lightning-fast', 1), ('similar', 1), ('velocity', 1), ('domestic', 1), ('transformation', 1), ('return', 1), ('raised', 1), ('prospect', 1), ('swift', 1), ('breakthrough', 1), ('following', 1), ('think', 1), ('using', 1), ('framework', 1), ('guidepost', 1), ('CNN', 1), ('Jake', 1), ('Tapper', 1), ('Union.', 1), ('understands', 1), ('deals', 1), ('Deals', 1), ('parties', 1), ('pathway', 1), ('here.', 1), ('implied', 1), ('depiction', 1), ('meant', 1), ('avoid', 1), ('annoying', 1), ('concessions', 1), ('negotiating', 1), ('table', 1), ('Standing', 1), ('invaded', 1), ('productive', 1), ('Sunday.', 1), ('Evelyn', 1), ('Hockstein/Reuters', 1), ('Sen.', 1), ('Jack', 1), ('Reed', 1), ('ranking', 1), ('Senate', 1), ('Armed', 1), ('Services', 1), ('Committee', 1), ('surrendering', 1), ('statesman', 1), ('diplomat', 1), ('someone', 1), ('admires', 1), ('believe', 1), ('struggle', 1), ('committed', 1), ('cozying', 1), ('autocrat.', 1), ('Rhode', 1), ('Island', 1), ('ABC', 1), ('Week', 1), ('stop', 1), ('begin', 1), ('campaign', 1), ('clandestine', 1), ('many', 1), ('cases', 1), ('overt', 1), ('undermine', 1), ('Eastern', 1), ('create', 1), ('chaos.', 1), ('turn', 1), ('rush', 1), ('embrace', 1), ('potential', 1), ('summit', 1), ('coming', 1), ('weeks', 1), ('Europeans', 1), ('fearing', 1), ('simply', 1), ('seal', 1), ('impose', 1), ('convince', 1), ('fails', 1), ('drive', 1), ('hard', 1), ('bargain', 1), ('basically', 1), ('face', 1), ('trademark', 1), ('paraphrasing', 1), ('social', 1), ('media', 1), ('Q', 1), ('&', 1), ('Elysée', 1), ('Palace', 1), ('shared', 1), ('aggression', 1), ('bringing', 1), ('proposals', 1), ('reaffirmed', 1), ('particularly', 1), ('traveling', 1), ('mind', 1), ('sharing', 1), ('conflict', 1), ('making', 1), ('every', 1), ('effort', 1), ('maintain', 1), ('involved', 1), ('efforts', 1), ('interests', 1), ('well', 1), ('taken', 1), ('account.', 1), ('pro-Zelensky', 1), ('approach', 1), ('conflicted', 1), ('position', 1), ('day', 1), ('talking', 1), ('phone', 1), ('wants', 1), ('bloodshed', 1), ('continue', 1), ('suffered', 1), ('fought', 1), ('people', 1), ('long-term', 1), ('secure', 1), ('future.', 1), ('Roman', 1), ('Pilipey/AFP/Getty', 1), ('phrase', 1), ('encapsulated', 1), ('principles', 1), ('Biden', 1), ('tight', 1), ('coordination', 1), ('consensus', 1), ('buckled', 1), ('risk', 1), ('angering', 1), ('arrives', 1), ('Bridget', 1), ('Cabinet', 1), ('Sky', 1), ('UK', 1), ('unveil', 1), ('sanctions', 1), ('says', 1), ('hero', 1), ('resistance', 1), ('deserve', 1), ('negotiate', 1), ('sick', 1), ('Radio', 1), ('Brian', 1), ('Show', 1), ('Friday', 1), ('criticized', 1), ('visitors', 1), ('friend', 1), ('mine', 1), ('met', 1), ('prime', 1), ('nice', 1), ('guy', 1), ('nobody', 1), ('may', 1), ('correct', 1), ('point', 1), ('person', 1), ('familiar', 1), ('matter', 1), ('intent', 1), ('managing', 1), ('way', 1), ('forward', 1), ('providing', 1), ('view', 1), ('help', 1), ('assure', 1), ('long', 1), ('incorporated', 1), ('complain', 1), ('arrive', 1), ('demands', 1), ('steep', 1), ('hikes', 1), ('members', 1), ('mean', 1), ('excruciating', 1), ('fiscal', 1), ('choices', 1), ('saddled', 1), ('constricted', 1), ('public', 1), ('finances', 1), ('spoken', 1), ('need', 1), ('nations', 1), ('protect', 1), ('continent', 1), ('capacity', 1), ('act', 1), ('fall', 1), ('short', 1), ('expectations', 1), ('Despite', 1), ('calling', 1), ('declined', 1), ('instance', 1), ('boss', 1), ('target', 1), ('date', 1), ('raise', 1), ('2.5', 1), ('GDP', 1), ('demanded', 1), ('5', 1), ('spoke', 1), ('telephone', 1), ('expected', 1), ('argue', 1), ('continued', 1), ('presence', 1), ('critical', 1), ('despite', 1), ('pivot', 1), ('challenge', 1), ('posed', 1), ('Peter', 1), ('Summers/Getty', 1), ('sell', 1), ('transactional', 1), ('appreciate', 1), ('alliances', 1), ('multiplier', 1), ('power', 1), ('prefer', 1), ('company', 1), ('autocrats', 1), ('fellow', 1), ('democratic', 1), ('shape', 1), ('thinking', 1), ('arranging', 1), ('three-way', 1), ('then-US', 1), ('president-elect', 1), ('Paris', 1), ('December', 1), ('respectful', 1), ('listening', 1), ('mode', 1), ('necessity', 1), ('ends', 1), ('impress', 1), ('changed', 1), ('since', 1), ('office', 1), ('defeated', 1), ('rivals', 1), ('namely', 1), ('months', 1), ('later', 1), ('appear', 1), ('lasting', 1), ('impression', 1), ('comments', 1), ('acknowledge', 1), ('impossible', 1), ('persuade', 1), ('abandon', 1), ('erroneous', 1), ('views', 1), ('provoked', 1), ('conned', 1), ('supporting', 1), ('man', 1), ('claims', 1), ('Instead', 1), ('sit', 1), ('soon', 1), ('contours', 1), ('emerge', 1)]\n"
          ]
        }
      ]
    },
    {
      "cell_type": "code",
      "source": [
        "temp =  clean_text(text)[1]\n",
        "new_tokens = word_tokenize(temp)\n",
        "stop_words = stopwords.words('english') + [',', '.', '’', '—', '“', '”']\n",
        "new_tokens = [word for word in new_tokens if word.lower() not in stop_words]\n",
        "# 빈도수 기반 정수 인코딩\n",
        "vocab = Counter(tokens)\n",
        "print(vocab.most_common(30))\n",
        "word_to_index = { word: index+2  for index, (word,_) in enumerate(vocab.most_common(30)) }\n",
        "print(word_to_index)"
      ],
      "metadata": {
        "colab": {
          "base_uri": "https://localhost:8080/"
        },
        "id": "DpX6Zg5d6gm6",
        "outputId": "41b8c5f4-49ec-4cc5-bbba-9300a090f7c2"
      },
      "execution_count": 87,
      "outputs": [
        {
          "output_type": "stream",
          "name": "stdout",
          "text": [
            "[('Ukraine', 29), ('Trump', 29), ('Putin', 13), ('Starmer', 12), ('Russia', 11), ('Europe', 10), ('Macron', 10), ('said', 10), ('European', 9), ('US', 9), ('security', 9), ('Sunday', 9), ('war', 8), ('left', 8), ('president', 8), ('last', 7), ('Zelensky', 7), ('talks', 6), ('President', 6), ('week', 6), ('Russian', 6), ('Ukrainian', 6), ('British', 6), ('right', 6), ('leaders', 5), ('Minister', 5), ('could', 5), ('peace', 5), ('deal', 5), ('defense', 5)]\n",
            "{'Ukraine': 2, 'Trump': 3, 'Putin': 4, 'Starmer': 5, 'Russia': 6, 'Europe': 7, 'Macron': 8, 'said': 9, 'European': 10, 'US': 11, 'security': 12, 'Sunday': 13, 'war': 14, 'left': 15, 'president': 16, 'last': 17, 'Zelensky': 18, 'talks': 19, 'President': 20, 'week': 21, 'Russian': 22, 'Ukrainian': 23, 'British': 24, 'right': 25, 'leaders': 26, 'Minister': 27, 'could': 28, 'peace': 29, 'deal': 30, 'defense': 31}\n"
          ]
        }
      ]
    }
  ]
}